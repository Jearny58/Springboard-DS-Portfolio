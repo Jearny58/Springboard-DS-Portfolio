{
 "cells": [
  {
   "cell_type": "code",
   "execution_count": 1,
   "metadata": {},
   "outputs": [],
   "source": [
    "import pandas as pd\n",
    "import matplotlib.pyplot as plt\n",
    "import numpy as np\n",
    "\n",
    "%matplotlib inline\n",
    "%reload_ext autoreload\n",
    "%autoreload 2\n",
    "\n",
    "pd.set_option('display.width', 500)\n",
    "pd.set_option('display.max_columns', 100)"
   ]
  },
  {
   "cell_type": "markdown",
   "metadata": {},
   "source": [
    "# k-Nearest Neighbors\n",
    "\n",
    "## What is it?\n",
    "\n",
    "- Simple, easy-to-implement supervised machine learning algorithm\n",
    "    - Supervised machine learning algorithm: one that relies on labeled input data \n",
    "    - Used to solve classification or regression problems (more commonly used for classification though)\n",
    "        - Classification = predicting the class of given data points (ex. is an email spam or not?)\n",
    "        - Regression = predicting a continuous output variable (ex. what is the predicted price of that house?)\n",
    "- K-Nearest Neighbors essentially groups 'similar' points, i.e. points that are close together in the feature space\n",
    "    - The number of groups is based on K, which is a hyperparameter\n",
    "        - This must be determined by the designer (i.e. you!)\n",
    "        - Small K provides the most flexible fit with low bias and high variance\n",
    "        - Large K more resilient to outliers, have smoother decision boundaries with lower variance and higher bias\n",
    "        \n",
    "        \n",
    "##### Sources\n",
    "- [Machine Learning Basics](https://towardsdatascience.com/machine-learning-basics-with-the-k-nearest-neighbors-algorithm-6a6e71d01761)\n",
    "- [Machine Learning Classifiers](https://towardsdatascience.com/machine-learning-classifiers-a5cc4e1b0623)\n",
    "- [K-Nearest Neighbor Walkthrough](https://kevinzakka.github.io/2016/07/13/k-nearest-neighbor/)"
   ]
  },
  {
   "cell_type": "code",
   "execution_count": 2,
   "metadata": {},
   "outputs": [],
   "source": [
    "# read in clean df\n",
    "df = pd.read_csv('Data/combined_df_clean.csv')"
   ]
  },
  {
   "cell_type": "code",
   "execution_count": 3,
   "metadata": {},
   "outputs": [
    {
     "data": {
      "text/html": [
       "<div>\n",
       "<style scoped>\n",
       "    .dataframe tbody tr th:only-of-type {\n",
       "        vertical-align: middle;\n",
       "    }\n",
       "\n",
       "    .dataframe tbody tr th {\n",
       "        vertical-align: top;\n",
       "    }\n",
       "\n",
       "    .dataframe thead th {\n",
       "        text-align: right;\n",
       "    }\n",
       "</style>\n",
       "<table border=\"1\" class=\"dataframe\">\n",
       "  <thead>\n",
       "    <tr style=\"text-align: right;\">\n",
       "      <th></th>\n",
       "      <th>Unnamed: 0</th>\n",
       "      <th>Team</th>\n",
       "      <th>Age</th>\n",
       "      <th>W</th>\n",
       "      <th>L</th>\n",
       "      <th>PW</th>\n",
       "      <th>PL</th>\n",
       "      <th>MOV</th>\n",
       "      <th>SOS</th>\n",
       "      <th>SRS</th>\n",
       "      <th>ORtg</th>\n",
       "      <th>DRtg</th>\n",
       "      <th>NRtg</th>\n",
       "      <th>Pace</th>\n",
       "      <th>FTr</th>\n",
       "      <th>3PAr</th>\n",
       "      <th>TS%</th>\n",
       "      <th>eFG%</th>\n",
       "      <th>TOV%</th>\n",
       "      <th>ORB%</th>\n",
       "      <th>FT/FGA</th>\n",
       "      <th>Opp_eFG%</th>\n",
       "      <th>Opp_TOV%</th>\n",
       "      <th>DRB%</th>\n",
       "      <th>Opp_FT/FGA</th>\n",
       "      <th>year</th>\n",
       "      <th>playoff</th>\n",
       "    </tr>\n",
       "  </thead>\n",
       "  <tbody>\n",
       "    <tr>\n",
       "      <th>0</th>\n",
       "      <td>0</td>\n",
       "      <td>Golden State Warriors</td>\n",
       "      <td>26.6</td>\n",
       "      <td>67.0</td>\n",
       "      <td>15.0</td>\n",
       "      <td>65.0</td>\n",
       "      <td>17.0</td>\n",
       "      <td>10.10</td>\n",
       "      <td>-0.09</td>\n",
       "      <td>10.01</td>\n",
       "      <td>111.6</td>\n",
       "      <td>101.4</td>\n",
       "      <td>10.2</td>\n",
       "      <td>98.3</td>\n",
       "      <td>0.239</td>\n",
       "      <td>0.311</td>\n",
       "      <td>0.571</td>\n",
       "      <td>0.540</td>\n",
       "      <td>13.1</td>\n",
       "      <td>24.1</td>\n",
       "      <td>0.184</td>\n",
       "      <td>0.470</td>\n",
       "      <td>14.3</td>\n",
       "      <td>74.5</td>\n",
       "      <td>0.217</td>\n",
       "      <td>2015</td>\n",
       "      <td>1</td>\n",
       "    </tr>\n",
       "    <tr>\n",
       "      <th>1</th>\n",
       "      <td>1</td>\n",
       "      <td>Los Angeles Clippers</td>\n",
       "      <td>28.8</td>\n",
       "      <td>56.0</td>\n",
       "      <td>26.0</td>\n",
       "      <td>58.0</td>\n",
       "      <td>24.0</td>\n",
       "      <td>6.59</td>\n",
       "      <td>0.22</td>\n",
       "      <td>6.80</td>\n",
       "      <td>112.4</td>\n",
       "      <td>105.5</td>\n",
       "      <td>6.9</td>\n",
       "      <td>94.7</td>\n",
       "      <td>0.303</td>\n",
       "      <td>0.322</td>\n",
       "      <td>0.565</td>\n",
       "      <td>0.533</td>\n",
       "      <td>11.6</td>\n",
       "      <td>22.8</td>\n",
       "      <td>0.215</td>\n",
       "      <td>0.493</td>\n",
       "      <td>13.2</td>\n",
       "      <td>75.7</td>\n",
       "      <td>0.231</td>\n",
       "      <td>2015</td>\n",
       "      <td>1</td>\n",
       "    </tr>\n",
       "    <tr>\n",
       "      <th>2</th>\n",
       "      <td>2</td>\n",
       "      <td>San Antonio Spurs</td>\n",
       "      <td>29.8</td>\n",
       "      <td>55.0</td>\n",
       "      <td>27.0</td>\n",
       "      <td>58.0</td>\n",
       "      <td>24.0</td>\n",
       "      <td>6.20</td>\n",
       "      <td>0.14</td>\n",
       "      <td>6.34</td>\n",
       "      <td>108.5</td>\n",
       "      <td>102.0</td>\n",
       "      <td>6.5</td>\n",
       "      <td>93.8</td>\n",
       "      <td>0.256</td>\n",
       "      <td>0.269</td>\n",
       "      <td>0.555</td>\n",
       "      <td>0.517</td>\n",
       "      <td>13.1</td>\n",
       "      <td>23.4</td>\n",
       "      <td>0.200</td>\n",
       "      <td>0.484</td>\n",
       "      <td>13.3</td>\n",
       "      <td>77.3</td>\n",
       "      <td>0.190</td>\n",
       "      <td>2015</td>\n",
       "      <td>1</td>\n",
       "    </tr>\n",
       "    <tr>\n",
       "      <th>3</th>\n",
       "      <td>3</td>\n",
       "      <td>Atlanta Hawks</td>\n",
       "      <td>27.8</td>\n",
       "      <td>60.0</td>\n",
       "      <td>22.0</td>\n",
       "      <td>56.0</td>\n",
       "      <td>26.0</td>\n",
       "      <td>5.43</td>\n",
       "      <td>-0.68</td>\n",
       "      <td>4.75</td>\n",
       "      <td>108.9</td>\n",
       "      <td>103.1</td>\n",
       "      <td>5.8</td>\n",
       "      <td>93.9</td>\n",
       "      <td>0.259</td>\n",
       "      <td>0.321</td>\n",
       "      <td>0.563</td>\n",
       "      <td>0.527</td>\n",
       "      <td>13.5</td>\n",
       "      <td>21.4</td>\n",
       "      <td>0.201</td>\n",
       "      <td>0.492</td>\n",
       "      <td>14.9</td>\n",
       "      <td>73.4</td>\n",
       "      <td>0.185</td>\n",
       "      <td>2015</td>\n",
       "      <td>1</td>\n",
       "    </tr>\n",
       "    <tr>\n",
       "      <th>4</th>\n",
       "      <td>4</td>\n",
       "      <td>Portland Trail Blazers</td>\n",
       "      <td>27.0</td>\n",
       "      <td>51.0</td>\n",
       "      <td>31.0</td>\n",
       "      <td>53.0</td>\n",
       "      <td>29.0</td>\n",
       "      <td>4.23</td>\n",
       "      <td>0.18</td>\n",
       "      <td>4.41</td>\n",
       "      <td>108.2</td>\n",
       "      <td>103.7</td>\n",
       "      <td>4.5</td>\n",
       "      <td>94.2</td>\n",
       "      <td>0.225</td>\n",
       "      <td>0.316</td>\n",
       "      <td>0.544</td>\n",
       "      <td>0.508</td>\n",
       "      <td>12.6</td>\n",
       "      <td>24.2</td>\n",
       "      <td>0.180</td>\n",
       "      <td>0.476</td>\n",
       "      <td>11.3</td>\n",
       "      <td>76.2</td>\n",
       "      <td>0.182</td>\n",
       "      <td>2015</td>\n",
       "      <td>1</td>\n",
       "    </tr>\n",
       "  </tbody>\n",
       "</table>\n",
       "</div>"
      ],
      "text/plain": [
       "   Unnamed: 0                    Team   Age     W     L    PW    PL    MOV   SOS    SRS   ORtg   DRtg  NRtg  Pace    FTr   3PAr    TS%   eFG%  TOV%  ORB%  FT/FGA  Opp_eFG%  Opp_TOV%  DRB%  Opp_FT/FGA  year  playoff\n",
       "0           0   Golden State Warriors  26.6  67.0  15.0  65.0  17.0  10.10 -0.09  10.01  111.6  101.4  10.2  98.3  0.239  0.311  0.571  0.540  13.1  24.1   0.184     0.470      14.3  74.5       0.217  2015        1\n",
       "1           1    Los Angeles Clippers  28.8  56.0  26.0  58.0  24.0   6.59  0.22   6.80  112.4  105.5   6.9  94.7  0.303  0.322  0.565  0.533  11.6  22.8   0.215     0.493      13.2  75.7       0.231  2015        1\n",
       "2           2       San Antonio Spurs  29.8  55.0  27.0  58.0  24.0   6.20  0.14   6.34  108.5  102.0   6.5  93.8  0.256  0.269  0.555  0.517  13.1  23.4   0.200     0.484      13.3  77.3       0.190  2015        1\n",
       "3           3           Atlanta Hawks  27.8  60.0  22.0  56.0  26.0   5.43 -0.68   4.75  108.9  103.1   5.8  93.9  0.259  0.321  0.563  0.527  13.5  21.4   0.201     0.492      14.9  73.4       0.185  2015        1\n",
       "4           4  Portland Trail Blazers  27.0  51.0  31.0  53.0  29.0   4.23  0.18   4.41  108.2  103.7   4.5  94.2  0.225  0.316  0.544  0.508  12.6  24.2   0.180     0.476      11.3  76.2       0.182  2015        1"
      ]
     },
     "execution_count": 3,
     "metadata": {},
     "output_type": "execute_result"
    }
   ],
   "source": [
    "df.head(5)"
   ]
  },
  {
   "cell_type": "code",
   "execution_count": 4,
   "metadata": {},
   "outputs": [],
   "source": [
    "# y is what we're trying to predict, also we are dropping team, year and playoff columns (can't use the variable we're trying to predict!)\n",
    "y_knn = df['playoff'].values\n",
    "X_knn = df.drop(['Team', 'year', 'playoff'], axis = 1).values"
   ]
  },
  {
   "cell_type": "code",
   "execution_count": 6,
   "metadata": {},
   "outputs": [
    {
     "name": "stdout",
     "output_type": "stream",
     "text": [
      "0.8\n"
     ]
    }
   ],
   "source": [
    "# Import necessary modules\n",
    "from sklearn.neighbors import KNeighborsClassifier\n",
    "from sklearn.model_selection import train_test_split\n",
    "\n",
    "# Split into training and test set\n",
    "X_train, X_test, y_train, y_test = train_test_split(X_knn, y_knn, test_size = 0.2, random_state=42, stratify=y_knn)\n",
    "\n",
    "# Create a k-NN classifier with 2 neighbors: knn\n",
    "knn = KNeighborsClassifier(n_neighbors = 2)\n",
    "\n",
    "# Fit the classifier to the training data\n",
    "knn.fit(X_train, y_train)\n",
    "\n",
    "# Print the accuracy\n",
    "print(knn.score(X_test, y_test))"
   ]
  },
  {
   "cell_type": "markdown",
   "metadata": {},
   "source": [
    "### Observation\n",
    "\n",
    "- The accuracy of the model was 0.80, which means that it correctly predicted a playoff team 80% of the time. For an out-of-the box k-NN classifier this isn't bad but I think we can do better.\n",
    "\n",
    "\n",
    "### Overfitting and underfitting\n",
    "\n",
    "- Overfitting refers to a model that models the training data too well. \n",
    "    - In essence, it learns the training data so well that it performs poorly on any previously unseen data\n",
    "    - Metaphorically, overfitting would be like getting a shoe that perfectly fits your foot which is awesome but then you lend them to your buddy LeBron James for a pick-up game. They're probably not going to feel good on LeBron's feet even if they are size 15...(because they are made for YOUR feet)\n",
    "    - This is a little harder to determine, but generally if a model performs well on training data and poorly on test data, then there may be some overfitting going on.\n",
    "- Underfitting is when a model can't model the training data or generalize to new data\n",
    "    - Another metaphor, would be like buying a kid's shoe and trying to wear it; they're probably not going to fit your feet or LeBron's feet\n",
    "    - However this is easier to detect as it will be obvious from the performance on the training data\n",
    "- Let's see how it performs over a range of K (differing number of numbers)\n",
    "\n",
    "#### Sources\n",
    "\n",
    "- [Machine Learning Mastery: Overfitting and Underfitting](https://machinelearningmastery.com/overfitting-and-underfitting-with-machine-learning-algorithms/)"
   ]
  },
  {
   "cell_type": "code",
   "execution_count": 7,
   "metadata": {},
   "outputs": [
    {
     "data": {
      "image/png": "[encoded data removed]",
      "text/plain": [
       "<Figure size 864x576 with 1 Axes>"
      ]
     },
     "metadata": {
      "needs_background": "light"
     },
     "output_type": "display_data"
    }
   ],
   "source": [
    "# Setup arrays to store train and test accuracies\n",
    "neighbors = np.arange(1, 9)\n",
    "train_accuracy = np.empty(len(neighbors))\n",
    "test_accuracy = np.empty(len(neighbors))\n",
    "\n",
    "# Loop over different values of k\n",
    "for i, k in enumerate(neighbors):\n",
    "    # Setup a k-NN Classifier with k neighbors: knn\n",
    "    knn = KNeighborsClassifier(n_neighbors=k)\n",
    "\n",
    "    # Fit the classifier to the training data\n",
    "    knn.fit(X_train, y_train)\n",
    "    \n",
    "    #Compute accuracy on the training set\n",
    "    train_accuracy[i] = knn.score(X_train, y_train)\n",
    "\n",
    "    #Compute accuracy on the testing set\n",
    "    test_accuracy[i] = knn.score(X_test, y_test)\n",
    "\n",
    "# Generate plot\n",
    "plt.figure(figsize = (12, 8))\n",
    "plt.title('k-NN: Varying Number of Neighbors')\n",
    "plt.plot(neighbors, test_accuracy, label = 'Testing Accuracy')\n",
    "plt.plot(neighbors, train_accuracy, label = 'Training Accuracy')\n",
    "plt.legend()\n",
    "plt.xlabel('Number of Neighbors')\n",
    "plt.ylabel('Accuracy')\n",
    "plt.show();"
   ]
  },
  {
   "cell_type": "code",
   "execution_count": 8,
   "metadata": {},
   "outputs": [
    {
     "name": "stdout",
     "output_type": "stream",
     "text": [
      "0.9\n"
     ]
    }
   ],
   "source": [
    "# Create a k-NN classifier with 7 neighbors: knn\n",
    "knn = KNeighborsClassifier(n_neighbors = 7)\n",
    "\n",
    "# Fit the classifier to the training data\n",
    "knn.fit(X_train, y_train)\n",
    "\n",
    "y_pred = knn.predict(X_test)\n",
    "\n",
    "# Print the accuracy\n",
    "print(knn.score(X_test, y_test))"
   ]
  },
  {
   "cell_type": "markdown",
   "metadata": {},
   "source": [
    "### Feature Scaling\n",
    "\n",
    "- As we can see from the graph above, when we increase the neighbors to 7, we get a pretty significant bump in regards to accuracy (from 0.8 to 0.9) \n",
    "- However, there is one thing we've left out up until this point: feature scaling\n",
    "- What is feature scaling?\n",
    "    - Instead of me rambling, I found an article on [Wikipedia](https://en.wikipedia.org/wiki/Feature_scaling#Motivation) that does a good job at explaining it more concisely: \n",
    "        - _Since the range of values of raw data varies widely, in some machine learning algorithms, objective functions will not work properly without normalization. For example, the majority of classifiers calculate the distance between two points by the Euclidean distance. If one of the features has a broad range of values, the distance will be governed by this particular feature. Therefore, the range of all features should be normalized so that each feature contributes approximately proportionately to the final distance. Another reason why feature scaling is applied is that gradient descent converges much faster with feature scaling than without it._\n",
    "- Essentially, it takes all the variables and puts them on the same scale \n",
    "    - In this case, our values our all over the place: for example offensive rating has values in the 100's while true shooting percentage has values around 0.50\n",
    "    - What scaling would do in this case would be to 'normalize' these two features so that they are on the same scale\n",
    "- Why is this important?\n",
    "    - k-NN's default metric for calculating distance between points is Euclidean distance (i.e. straight-line distance)\n",
    "    - features with a broad range of values can govern the model\n",
    "    - by normalizing, each feature's effect will be approximately proportional\n",
    "        \n",
    "        \n",
    "#### Sources\n",
    "\n",
    "- [Wikipedia: Feature Scaling](https://en.wikipedia.org/wiki/Feature_scaling#Motivation)"
   ]
  },
  {
   "cell_type": "code",
   "execution_count": 9,
   "metadata": {},
   "outputs": [],
   "source": [
    "# import StandardScaler\n",
    "from sklearn.preprocessing import StandardScaler\n",
    "scaler = StandardScaler()\n",
    "scaler.fit(X_train)\n",
    "\n",
    "X_train = scaler.transform(X_train)\n",
    "X_test = scaler.transform(X_test)"
   ]
  },
  {
   "cell_type": "code",
   "execution_count": 10,
   "metadata": {},
   "outputs": [
    {
     "name": "stdout",
     "output_type": "stream",
     "text": [
      "0.8\n"
     ]
    }
   ],
   "source": [
    "# Create a k-NN classifier with 7 neighbors: knn\n",
    "knn = KNeighborsClassifier(n_neighbors = 7)\n",
    "\n",
    "# Fit the classifier to the training data\n",
    "knn.fit(X_train, y_train)\n",
    "\n",
    "y_pred = knn.predict(X_test)\n",
    "\n",
    "# Print the accuracy\n",
    "print(knn.score(X_test, y_test))"
   ]
  },
  {
   "cell_type": "code",
   "execution_count": 11,
   "metadata": {},
   "outputs": [
    {
     "name": "stdout",
     "output_type": "stream",
     "text": [
      "[[11  3]\n",
      " [ 3 13]]\n",
      "              precision    recall  f1-score   support\n",
      "\n",
      "           0       0.79      0.79      0.79        14\n",
      "           1       0.81      0.81      0.81        16\n",
      "\n",
      "   micro avg       0.80      0.80      0.80        30\n",
      "   macro avg       0.80      0.80      0.80        30\n",
      "weighted avg       0.80      0.80      0.80        30\n",
      "\n"
     ]
    }
   ],
   "source": [
    "from sklearn.metrics import classification_report, confusion_matrix  \n",
    "\n",
    "# generate confusion matrix and classification report\n",
    "print(confusion_matrix(y_test, y_pred))  \n",
    "print(classification_report(y_test, y_pred))"
   ]
  },
  {
   "cell_type": "markdown",
   "metadata": {},
   "source": [
    "### Observation\n",
    "\n",
    "Here we introduced a confusion matrix and a classification report. We'll start by explaining what information the confusion matrix is giving us.\n",
    "\n",
    "A confusion matrix is a table where the rows represent the actual value (or class) and the columns represent the predicted value. So in our case, the rows represent whether a team made the playoffs or not and the columns represent the predictions of whether a team made the playoffs or not. \n",
    "- If a team made the playoffs and the classifier predicted they would make the playoffs than that is a `true positive`\n",
    "- If a team made the playoffs and the classifier predicted they wouldn't, than that is a `false negative`\n",
    "- If a team did not make the playoffs but the classifier predicted they would, than that is a `false positive`\n",
    "- If a team did not make the playoffs and the classifier predicted they wouldn't, than that is a `true negative`\n",
    "\n",
    "Now you may be wondering, what is the classification report?\n",
    "- Glad you asked!\n",
    "- These metrics go a little deeper and essence help us determine the exactness and completeness of the model. \n",
    "- Precision is the exactness, i.e. it focuses on the `positives` of the model -- both true and false and asks the question: what % of your predictions were correct?\n",
    "    - We want to minimize the number of `false positives`, or in this specific case predicting a playoff team when in fact they did not make the playoffs\n",
    "- Recall is completeness, or in other words: what % of the positive cases did you catch? \n",
    "    - this focuses on the ratio of `true positives` to the sum of `true positives` and `false negatives` (i.e. teams that actually went to the playoffs but were predicted to not go)\n",
    "    \n",
    "Let's visualize the confusion matrix to get a better feel for it.  \n",
    "\n",
    "#### Sources\n",
    "\n",
    "- [Understanding the Classification Report](https://muthu.co/understanding-the-classification-report-in-sklearn/)\n",
    "- [Demystifying Confusion Matrix](https://towardsdatascience.com/demystifying-confusion-matrix-confusion-9e82201592fd)"
   ]
  },
  {
   "cell_type": "code",
   "execution_count": 12,
   "metadata": {},
   "outputs": [],
   "source": [
    "import itertools\n",
    "\n",
    "#Evaluation of Model - Confusion Matrix Plot\n",
    "def plot_confusion_matrix(cm, classes,\n",
    "                          normalize=False,\n",
    "                          title='Confusion matrix',\n",
    "                          cmap=plt.cm.Blues):\n",
    "    \"\"\"\n",
    "    This function prints and plots the confusion matrix.\n",
    "    Normalization can be applied by setting `normalize=True`.\n",
    "    \"\"\"\n",
    "    if normalize:\n",
    "        cm = cm.astype('float') / cm.sum(axis=1)[:, np.newaxis]\n",
    "        print(\"Normalized confusion matrix\")\n",
    "    else:\n",
    "        print('Confusion matrix, without normalization')\n",
    "\n",
    "    print(cm)\n",
    "\n",
    "    plt.imshow(cm, interpolation='nearest', cmap=cmap)\n",
    "    plt.title(title)\n",
    "    plt.colorbar()\n",
    "    tick_marks = np.arange(len(classes))\n",
    "    plt.xticks(tick_marks, classes, rotation=45)\n",
    "    plt.yticks(tick_marks, classes)\n",
    "\n",
    "    fmt = '.2f' if normalize else 'd'\n",
    "    thresh = cm.max() / 2.\n",
    "    for i, j in itertools.product(range(cm.shape[0]), range(cm.shape[1])):\n",
    "        plt.text(j, i, format(cm[i, j], fmt),\n",
    "                 horizontalalignment=\"center\",\n",
    "                 color=\"white\" if cm[i, j] > thresh else \"black\")\n",
    "\n",
    "    plt.ylabel('True label')\n",
    "    plt.xlabel('Predicted label')\n",
    "    plt.tight_layout()"
   ]
  },
  {
   "cell_type": "code",
   "execution_count": 13,
   "metadata": {},
   "outputs": [
    {
     "name": "stdout",
     "output_type": "stream",
     "text": [
      "Confusion matrix, without normalization\n",
      "[[11  3]\n",
      " [ 3 13]]\n"
     ]
    },
    {
     "data": {
      "image/png": "[encoded data removed]",
      "text/plain": [
       "<Figure size 576x432 with 2 Axes>"
      ]
     },
     "metadata": {
      "needs_background": "light"
     },
     "output_type": "display_data"
    }
   ],
   "source": [
    "# compute confusion matrix\n",
    "cnf_matrix = confusion_matrix(y_test, y_pred)\n",
    "np.set_printoptions(precision=2)\n",
    "\n",
    "# plot confusion matrix\n",
    "plt.figure(figsize = (8, 6))\n",
    "plot_confusion_matrix(cnf_matrix, classes=['Playoffs', 'No Playoffs'], title = 'NBA Playoff Confusion Matrix');"
   ]
  },
  {
   "cell_type": "markdown",
   "metadata": {},
   "source": [
    "### Observation\n",
    "\n",
    "Ok, unfortunately it still looks like normalizing the data _decreased_ the model's accuracy! So let's go back to the drawing board to see what the best values of K are for the normalized data."
   ]
  },
  {
   "cell_type": "code",
   "execution_count": 14,
   "metadata": {},
   "outputs": [
    {
     "data": {
      "image/png": "[encoded data removed]",
      "text/plain": [
       "<Figure size 864x576 with 1 Axes>"
      ]
     },
     "metadata": {
      "needs_background": "light"
     },
     "output_type": "display_data"
    }
   ],
   "source": [
    "# Setup arrays to store train and test accuracies\n",
    "neighbors = np.arange(1, 9)\n",
    "train_accuracy = np.empty(len(neighbors))\n",
    "test_accuracy = np.empty(len(neighbors))\n",
    "\n",
    "# Loop over different values of k\n",
    "for i, k in enumerate(neighbors):\n",
    "    # Setup a k-NN Classifier with k neighbors: knn\n",
    "    knn = KNeighborsClassifier(n_neighbors=k)\n",
    "\n",
    "    # Fit the classifier to the training data\n",
    "    knn.fit(X_train, y_train)\n",
    "    \n",
    "    #Compute accuracy on the training set\n",
    "    train_accuracy[i] = knn.score(X_train, y_train)\n",
    "\n",
    "    #Compute accuracy on the testing set\n",
    "    test_accuracy[i] = knn.score(X_test, y_test)\n",
    "\n",
    "# Generate plot\n",
    "plt.figure(figsize = (12, 8))\n",
    "plt.title('k-NN: Varying Number of Neighbors')\n",
    "plt.plot(neighbors, test_accuracy, label = 'Testing Accuracy')\n",
    "plt.plot(neighbors, train_accuracy, label = 'Training Accuracy')\n",
    "plt.legend()\n",
    "plt.xlabel('Number of Neighbors')\n",
    "plt.ylabel('Accuracy')\n",
    "plt.show();"
   ]
  },
  {
   "cell_type": "markdown",
   "metadata": {},
   "source": [
    "### Observation\n",
    "\n",
    "- Even more interesting! By normalizing the data, we've actually made it perform worse! Was not expecting that...\n",
    "- While an accuracy of 80%-90% (depending on whether or not we normalize the data) is not bad, I have a feeling that there might be another algorithm we can use that may prove to be more accurate\n",
    "- The reasoning for starting with k-NN was largely due to it being the first algorithm I learned about, and that it is easy to implement due to the fact you don't need to tune several parameters\n",
    "- However, it is flawed in that as the number of examples and/ or variables increase, the algorithm gets slower and slower\n",
    "    - Does not make it practical for larger data sets, or as is the case with our specific data, data sets with a high number of variables\n",
    "    \n",
    "#### Sources\n",
    "\n",
    "- [Machine Learning Basic: k-NN](https://towardsdatascience.com/machine-learning-basics-with-the-k-nearest-neighbors-algorithm-6a6e71d01761)"
   ]
  },
  {
   "cell_type": "markdown",
   "metadata": {},
   "source": [
    "## Logisitic Regression\n",
    "\n",
    "- What is it?\n",
    "    - Is used to solve the target variable (i.e. what we're trying to predict) is categorical\n",
    "        - in this case: did a team make the playoffs or not? \n",
    "        - also called a binary logistic regression (only 2 possible outcomes)\n",
    "    - Uses logit (log-odds) function, which is the ratio of probability of success to probability of failure\n",
    "    - taking the inverse of this gives us the `sigmoid function` (see graph below) [(1)](https://web.stanford.edu/class/archive/cs/cs109/cs109.1178/lectureHandouts/220-logistic-regression.pdf)\n",
    "    - as a result, we get a distinctive s-shaped curve, that gives a value of probability ranging from 0 to 1\n",
    "    \n",
    "![Sigmoid Function & Graph](sigmoid_func.png)\n",
    "                \n",
    "        \n",
    "#### Sources\n",
    "\n",
    "- [Logistic Regression - Stanford](https://web.stanford.edu/class/archive/cs/cs109/cs109.1178/lectureHandouts/220-logistic-regression.pdf)\n",
    "- [Logistic Regression. Simplified.](https://medium.com/data-science-group-iitr/logistic-regression-simplified-9b4efe801389)\n",
    "- [Logistic Regression - Detailed Overview](https://towardsdatascience.com/logistic-regression-detailed-overview-46c4da4303bc)"
   ]
  },
  {
   "cell_type": "code",
   "execution_count": 16,
   "metadata": {},
   "outputs": [],
   "source": [
    "# y is what we're trying to predict, also we are dropping team, year and playoff columns (can't use the variable we're trying to predict!)\n",
    "y_logreg = df['playoff'].values\n",
    "X_logreg = df.drop(['Team', 'year', 'playoff'], axis = 1).values"
   ]
  },
  {
   "cell_type": "code",
   "execution_count": 18,
   "metadata": {},
   "outputs": [
    {
     "name": "stdout",
     "output_type": "stream",
     "text": [
      "[[10  2]\n",
      " [ 0 18]]\n",
      "              precision    recall  f1-score   support\n",
      "\n",
      "           0       1.00      0.83      0.91        12\n",
      "           1       0.90      1.00      0.95        18\n",
      "\n",
      "   micro avg       0.93      0.93      0.93        30\n",
      "   macro avg       0.95      0.92      0.93        30\n",
      "weighted avg       0.94      0.93      0.93        30\n",
      "\n"
     ]
    }
   ],
   "source": [
    "# Import the necessary modules\n",
    "from sklearn.linear_model import LogisticRegression\n",
    "from sklearn.metrics import confusion_matrix, classification_report\n",
    "\n",
    "# Create training and test sets\n",
    "X_train, X_test, y_train, y_test = train_test_split(X_logreg, y_logreg, test_size = 0.2, random_state=1)\n",
    "\n",
    "# Create the classifier: logreg\n",
    "logreg = LogisticRegression(solver = 'liblinear')\n",
    "\n",
    "# Fit the classifier to the training data\n",
    "logreg.fit(X_train, y_train)\n",
    "\n",
    "# Predict the labels of the test set: y_pred\n",
    "y_pred = logreg.predict(X_test)\n",
    "\n",
    "# Compute and print the confusion matrix and classification report\n",
    "print(confusion_matrix(y_test, y_pred))\n",
    "print(classification_report(y_test, y_pred))"
   ]
  },
  {
   "cell_type": "code",
   "execution_count": 19,
   "metadata": {},
   "outputs": [],
   "source": [
    "# Plotting a ROC Curve"
   ]
  },
  {
   "cell_type": "code",
   "execution_count": 20,
   "metadata": {},
   "outputs": [
    {
     "data": {
      "image/png": "[encoded data removed]",
      "text/plain": [
       "<Figure size 864x576 with 1 Axes>"
      ]
     },
     "metadata": {
      "needs_background": "light"
     },
     "output_type": "display_data"
    }
   ],
   "source": [
    "# Import necessary modules\n",
    "from sklearn.metrics import roc_curve\n",
    "\n",
    "# Compute predicted probabilities: y_pred_prob\n",
    "y_pred_prob = logreg.predict_proba(X_test)[:,1]\n",
    "\n",
    "# Generate ROC curve values: fpr, tpr, thresholds\n",
    "fpr, tpr, thresholds = roc_curve(y_test, y_pred_prob)\n",
    "\n",
    "# Plot ROC curve\n",
    "plt.figure(figsize = (12, 8))\n",
    "plt.plot([0, 1], [0, 1], 'k--')\n",
    "plt.plot(fpr, tpr)\n",
    "plt.xlabel('False Positive Rate')\n",
    "plt.ylabel('True Positive Rate')\n",
    "plt.title('ROC Curve')\n",
    "plt.show()"
   ]
  },
  {
   "cell_type": "code",
   "execution_count": null,
   "metadata": {},
   "outputs": [],
   "source": []
  }
 ],
 "metadata": {
  "kernelspec": {
   "display_name": "Python 3",
   "language": "python",
   "name": "python3"
  },
  "language_info": {
   "codemirror_mode": {
    "name": "ipython",
    "version": 3
   },
   "file_extension": ".py",
   "mimetype": "text/x-python",
   "name": "python",
   "nbconvert_exporter": "python",
   "pygments_lexer": "ipython3",
   "version": "3.6.8"
  }
 },
 "nbformat": 4,
 "nbformat_minor": 2
}
