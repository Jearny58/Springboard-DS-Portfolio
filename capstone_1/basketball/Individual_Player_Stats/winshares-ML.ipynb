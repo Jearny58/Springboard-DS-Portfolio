{
 "cells": [
  {
   "cell_type": "code",
   "execution_count": 1,
   "metadata": {},
   "outputs": [],
   "source": [
    "import pandas as pd\n",
    "import matplotlib.pyplot as plt\n",
    "import numpy as np\n",
    "import warnings\n",
    "%matplotlib inline\n",
    "\n",
    "pd.set_option('display.width', 500)\n",
    "pd.set_option('display.max_columns', 100)"
   ]
  },
  {
   "cell_type": "code",
   "execution_count": 2,
   "metadata": {},
   "outputs": [],
   "source": [
    "# import data\n",
    "df = pd.read_csv('data/df_all.csv')"
   ]
  },
  {
   "cell_type": "code",
   "execution_count": 3,
   "metadata": {},
   "outputs": [
    {
     "data": {
      "text/html": [
       "<div>\n",
       "<style scoped>\n",
       "    .dataframe tbody tr th:only-of-type {\n",
       "        vertical-align: middle;\n",
       "    }\n",
       "\n",
       "    .dataframe tbody tr th {\n",
       "        vertical-align: top;\n",
       "    }\n",
       "\n",
       "    .dataframe thead th {\n",
       "        text-align: right;\n",
       "    }\n",
       "</style>\n",
       "<table border=\"1\" class=\"dataframe\">\n",
       "  <thead>\n",
       "    <tr style=\"text-align: right;\">\n",
       "      <th></th>\n",
       "      <th>Player</th>\n",
       "      <th>Pos</th>\n",
       "      <th>Age</th>\n",
       "      <th>Tm</th>\n",
       "      <th>G</th>\n",
       "      <th>GS</th>\n",
       "      <th>MP</th>\n",
       "      <th>FG</th>\n",
       "      <th>FGA</th>\n",
       "      <th>FG%</th>\n",
       "      <th>3P</th>\n",
       "      <th>3PA</th>\n",
       "      <th>3P%</th>\n",
       "      <th>2P</th>\n",
       "      <th>2PA</th>\n",
       "      <th>2P%</th>\n",
       "      <th>FT</th>\n",
       "      <th>FTA</th>\n",
       "      <th>FT%</th>\n",
       "      <th>ORB</th>\n",
       "      <th>DRB</th>\n",
       "      <th>TRB</th>\n",
       "      <th>AST</th>\n",
       "      <th>STL</th>\n",
       "      <th>BLK</th>\n",
       "      <th>TOV</th>\n",
       "      <th>PF</th>\n",
       "      <th>PTS</th>\n",
       "      <th>ORtg</th>\n",
       "      <th>DRtg</th>\n",
       "      <th>PER</th>\n",
       "      <th>TS%</th>\n",
       "      <th>3PAr</th>\n",
       "      <th>FTr</th>\n",
       "      <th>ORB%</th>\n",
       "      <th>DRB%</th>\n",
       "      <th>TRB%</th>\n",
       "      <th>AST%</th>\n",
       "      <th>STL%</th>\n",
       "      <th>BLK%</th>\n",
       "      <th>TOV%</th>\n",
       "      <th>USG%</th>\n",
       "      <th>OWS</th>\n",
       "      <th>DWS</th>\n",
       "      <th>WS</th>\n",
       "      <th>WS/48</th>\n",
       "      <th>OBPM</th>\n",
       "      <th>DBPM</th>\n",
       "      <th>BPM</th>\n",
       "      <th>VORP</th>\n",
       "      <th>Year</th>\n",
       "    </tr>\n",
       "  </thead>\n",
       "  <tbody>\n",
       "    <tr>\n",
       "      <th>0</th>\n",
       "      <td>Alex Abrines</td>\n",
       "      <td>SG</td>\n",
       "      <td>24</td>\n",
       "      <td>OKC</td>\n",
       "      <td>75</td>\n",
       "      <td>8</td>\n",
       "      <td>1134</td>\n",
       "      <td>5.0</td>\n",
       "      <td>12.7</td>\n",
       "      <td>0.395</td>\n",
       "      <td>3.7</td>\n",
       "      <td>9.7</td>\n",
       "      <td>0.380</td>\n",
       "      <td>1.4</td>\n",
       "      <td>3.1</td>\n",
       "      <td>0.443</td>\n",
       "      <td>1.7</td>\n",
       "      <td>2.0</td>\n",
       "      <td>0.848</td>\n",
       "      <td>1.1</td>\n",
       "      <td>3.9</td>\n",
       "      <td>5.0</td>\n",
       "      <td>1.2</td>\n",
       "      <td>1.7</td>\n",
       "      <td>0.4</td>\n",
       "      <td>1.1</td>\n",
       "      <td>5.4</td>\n",
       "      <td>15.4</td>\n",
       "      <td>116.0</td>\n",
       "      <td>110.0</td>\n",
       "      <td>9.0</td>\n",
       "      <td>0.567</td>\n",
       "      <td>0.759</td>\n",
       "      <td>0.158</td>\n",
       "      <td>2.5</td>\n",
       "      <td>8.9</td>\n",
       "      <td>5.6</td>\n",
       "      <td>3.4</td>\n",
       "      <td>1.7</td>\n",
       "      <td>0.6</td>\n",
       "      <td>7.4</td>\n",
       "      <td>12.7</td>\n",
       "      <td>1.3</td>\n",
       "      <td>1.0</td>\n",
       "      <td>2.2</td>\n",
       "      <td>0.094</td>\n",
       "      <td>-0.5</td>\n",
       "      <td>-1.7</td>\n",
       "      <td>-2.2</td>\n",
       "      <td>-0.1</td>\n",
       "      <td>2018</td>\n",
       "    </tr>\n",
       "    <tr>\n",
       "      <th>1</th>\n",
       "      <td>Quincy Acy</td>\n",
       "      <td>PF</td>\n",
       "      <td>27</td>\n",
       "      <td>BRK</td>\n",
       "      <td>70</td>\n",
       "      <td>8</td>\n",
       "      <td>1359</td>\n",
       "      <td>4.6</td>\n",
       "      <td>13.0</td>\n",
       "      <td>0.356</td>\n",
       "      <td>3.6</td>\n",
       "      <td>10.4</td>\n",
       "      <td>0.349</td>\n",
       "      <td>1.0</td>\n",
       "      <td>2.6</td>\n",
       "      <td>0.384</td>\n",
       "      <td>1.8</td>\n",
       "      <td>2.1</td>\n",
       "      <td>0.817</td>\n",
       "      <td>1.4</td>\n",
       "      <td>7.8</td>\n",
       "      <td>9.2</td>\n",
       "      <td>2.0</td>\n",
       "      <td>1.2</td>\n",
       "      <td>1.0</td>\n",
       "      <td>2.1</td>\n",
       "      <td>5.3</td>\n",
       "      <td>14.7</td>\n",
       "      <td>99.0</td>\n",
       "      <td>110.0</td>\n",
       "      <td>8.2</td>\n",
       "      <td>0.525</td>\n",
       "      <td>0.800</td>\n",
       "      <td>0.164</td>\n",
       "      <td>3.1</td>\n",
       "      <td>17.1</td>\n",
       "      <td>10.0</td>\n",
       "      <td>6.0</td>\n",
       "      <td>1.2</td>\n",
       "      <td>1.6</td>\n",
       "      <td>13.3</td>\n",
       "      <td>14.4</td>\n",
       "      <td>-0.1</td>\n",
       "      <td>1.1</td>\n",
       "      <td>1.0</td>\n",
       "      <td>0.036</td>\n",
       "      <td>-2.0</td>\n",
       "      <td>-0.2</td>\n",
       "      <td>-2.2</td>\n",
       "      <td>-0.1</td>\n",
       "      <td>2018</td>\n",
       "    </tr>\n",
       "    <tr>\n",
       "      <th>2</th>\n",
       "      <td>Steven Adams</td>\n",
       "      <td>C</td>\n",
       "      <td>24</td>\n",
       "      <td>OKC</td>\n",
       "      <td>76</td>\n",
       "      <td>76</td>\n",
       "      <td>2487</td>\n",
       "      <td>8.9</td>\n",
       "      <td>14.2</td>\n",
       "      <td>0.629</td>\n",
       "      <td>0.0</td>\n",
       "      <td>0.0</td>\n",
       "      <td>0.000</td>\n",
       "      <td>8.9</td>\n",
       "      <td>14.2</td>\n",
       "      <td>0.631</td>\n",
       "      <td>3.2</td>\n",
       "      <td>5.7</td>\n",
       "      <td>0.559</td>\n",
       "      <td>7.7</td>\n",
       "      <td>6.0</td>\n",
       "      <td>13.7</td>\n",
       "      <td>1.8</td>\n",
       "      <td>1.8</td>\n",
       "      <td>1.6</td>\n",
       "      <td>2.6</td>\n",
       "      <td>4.3</td>\n",
       "      <td>21.1</td>\n",
       "      <td>125.0</td>\n",
       "      <td>107.0</td>\n",
       "      <td>20.6</td>\n",
       "      <td>0.630</td>\n",
       "      <td>0.003</td>\n",
       "      <td>0.402</td>\n",
       "      <td>16.6</td>\n",
       "      <td>13.9</td>\n",
       "      <td>15.3</td>\n",
       "      <td>5.5</td>\n",
       "      <td>1.8</td>\n",
       "      <td>2.8</td>\n",
       "      <td>13.3</td>\n",
       "      <td>16.7</td>\n",
       "      <td>6.7</td>\n",
       "      <td>3.0</td>\n",
       "      <td>9.7</td>\n",
       "      <td>0.187</td>\n",
       "      <td>2.2</td>\n",
       "      <td>1.1</td>\n",
       "      <td>3.3</td>\n",
       "      <td>3.3</td>\n",
       "      <td>2018</td>\n",
       "    </tr>\n",
       "  </tbody>\n",
       "</table>\n",
       "</div>"
      ],
      "text/plain": [
       "         Player Pos  Age   Tm   G  GS    MP   FG   FGA    FG%   3P   3PA    3P%   2P   2PA    2P%   FT  FTA    FT%  ORB  DRB   TRB  AST  STL  BLK  TOV   PF   PTS   ORtg   DRtg   PER    TS%   3PAr    FTr  ORB%  DRB%  TRB%  AST%  STL%  BLK%  TOV%  USG%  OWS  DWS   WS  WS/48  OBPM  DBPM  BPM  VORP  Year\n",
       "0  Alex Abrines  SG   24  OKC  75   8  1134  5.0  12.7  0.395  3.7   9.7  0.380  1.4   3.1  0.443  1.7  2.0  0.848  1.1  3.9   5.0  1.2  1.7  0.4  1.1  5.4  15.4  116.0  110.0   9.0  0.567  0.759  0.158   2.5   8.9   5.6   3.4   1.7   0.6   7.4  12.7  1.3  1.0  2.2  0.094  -0.5  -1.7 -2.2  -0.1  2018\n",
       "1    Quincy Acy  PF   27  BRK  70   8  1359  4.6  13.0  0.356  3.6  10.4  0.349  1.0   2.6  0.384  1.8  2.1  0.817  1.4  7.8   9.2  2.0  1.2  1.0  2.1  5.3  14.7   99.0  110.0   8.2  0.525  0.800  0.164   3.1  17.1  10.0   6.0   1.2   1.6  13.3  14.4 -0.1  1.1  1.0  0.036  -2.0  -0.2 -2.2  -0.1  2018\n",
       "2  Steven Adams   C   24  OKC  76  76  2487  8.9  14.2  0.629  0.0   0.0  0.000  8.9  14.2  0.631  3.2  5.7  0.559  7.7  6.0  13.7  1.8  1.8  1.6  2.6  4.3  21.1  125.0  107.0  20.6  0.630  0.003  0.402  16.6  13.9  15.3   5.5   1.8   2.8  13.3  16.7  6.7  3.0  9.7  0.187   2.2   1.1  3.3   3.3  2018"
      ]
     },
     "execution_count": 3,
     "metadata": {},
     "output_type": "execute_result"
    }
   ],
   "source": [
    "df.head(3)"
   ]
  },
  {
   "cell_type": "markdown",
   "metadata": {},
   "source": [
    "# _Linear Regression: An Overview_"
   ]
  },
  {
   "cell_type": "markdown",
   "metadata": {},
   "source": [
    "For this project we are trying to determine a player's `WS/48`, i.e. how many 'wins' he contributes for every 48 minutes he plays. While statistics like total points, rebounds and assists are all important statistics when evaluating any given player, but there is something that trumps all other statistics in basketball (and pretty much all sports): winning. \n",
    "\n",
    "The statistics mentioned above only describe a particular segment of that player's contribution to his team. Luckily though this is where `WS/48` comes into play. I'm going to admit up front that it is not perfect. However, it's like the saying: \"All models are wrong, but some are useful\". In this case `WS/48` is a useful 'model' in bringing together a players offensive and defensive statistics into a single number that allows us to see his level of contribution towards a team winning. \n",
    "\n",
    "With this being said, I want to recap quickly what we've done so far up to this point for this project.\n",
    "\n",
    "1. Pulled Per Possession and Advanced statistics from [basketball-reference.com](https://www.basketball-reference.com/) for the past ten seasons (__not including the 2018-2019 season__)\n",
    "2. Cleaned up raw data into usable format\n",
    "3. Performed Exploratory Data Analysis of features of the clean data set\n",
    "\n",
    "Now we are on the fourth and final step: use machine learning to create a model that is able to approximately predict a player's `WS/48` statistic. \n",
    "\n",
    "How are we going to to this? Two words: linear regression. Or at least that's where we'll begin, with `sklearn`'s `LinearRegression` algorithm. \n",
    "\n",
    "Simply put, linear regression attempts to model the relationship between a dependent variable and one or more independent variables. If you are using one independent variable, i.e. a one-to-one relationship between the independent and dependent variable, it is called `simple linear regression`. You are not limited to just one though; you can use more than one independent variable, which is called `multiple linear regression`. In summary:\n",
    "\n",
    "- Simple = 1 independent variable\n",
    "- Multiple = 2+ independent variables\n",
    "\n",
    "Now without further ado, let's dive in!"
   ]
  },
  {
   "cell_type": "markdown",
   "metadata": {},
   "source": [
    "# _MULTIPLE LINEAR REGRESSION_"
   ]
  },
  {
   "cell_type": "markdown",
   "metadata": {},
   "source": [
    "First, we'll begin by dropping a few of the columns: \n",
    "\n",
    "- `Player`, which contained the players name\n",
    "- `Pos`, the position that that player played\n",
    "- `Tm`, the team that the player played for\n",
    "- `OWS`, `DWS`, `WS`: offensive win share, defensive win share, and (overall) win share\n",
    "    - All three of these are related to the variable we're trying to predict, so to eliminate their potential influence we're taking them out\n",
    "- `Year`, year of the season"
   ]
  },
  {
   "cell_type": "code",
   "execution_count": 4,
   "metadata": {},
   "outputs": [],
   "source": [
    "def convert_features(df, random_forest=False):\n",
    "    # labels are the values we want to predict\n",
    "    y = np.array(df['WS/48'])\n",
    "    \n",
    "    # remove the labels from the features\n",
    "    # axis 1 refers to the columns\n",
    "    if random_forest == True:\n",
    "        X = df.drop(['Player','WS/48'], axis = 1)\n",
    "    else:\n",
    "        X = df.drop(['Player', 'Pos', 'Age', 'Tm', 'OWS', 'DWS', 'WS', 'WS/48', 'Year'], axis = 1)\n",
    "    \n",
    "    # saving feature names for later use\n",
    "    feature_list = list(X.columns)\n",
    "    \n",
    "    # convert to np array\n",
    "    X = np.array(X)\n",
    "    \n",
    "    return X, y, feature_list"
   ]
  },
  {
   "cell_type": "code",
   "execution_count": 5,
   "metadata": {},
   "outputs": [],
   "source": [
    "X, y, features = convert_features(df, random_forest=False)"
   ]
  },
  {
   "cell_type": "code",
   "execution_count": 6,
   "metadata": {},
   "outputs": [],
   "source": [
    "# scale the data to be between -1 and 1\n",
    "from sklearn.preprocessing import StandardScaler\n",
    "from sklearn.model_selection import train_test_split\n",
    "\n",
    "# function that scales the data and then splits it into train and test set\n",
    "def scale_then_split(X, y):\n",
    "    \n",
    "    # scale the feature data\n",
    "    scaler = StandardScaler()\n",
    "    X = scaler.fit_transform(X)\n",
    "    \n",
    "    # split the data into training and testing sets\n",
    "    X_train, X_test, y_train, y_test = train_test_split(X, y, test_size = 0.3, random_state = 1)\n",
    "    \n",
    "    return X_train, X_test, y_train, y_test"
   ]
  },
  {
   "cell_type": "code",
   "execution_count": 7,
   "metadata": {},
   "outputs": [],
   "source": [
    "# scale then split data\n",
    "X_train, X_test, y_train, y_test = scale_then_split(X, y)"
   ]
  },
  {
   "cell_type": "code",
   "execution_count": 8,
   "metadata": {},
   "outputs": [
    {
     "name": "stdout",
     "output_type": "stream",
     "text": [
      "Regression Training Features Shape: (3331, 42)\n",
      "Regression Training Labels Shape: (3331,)\n",
      "Regression Testing Features Shape: (1428, 42)\n",
      "Regression Testing Labels Shape: (1428,)\n"
     ]
    }
   ],
   "source": [
    "print('Regression Training Features Shape:', X_train.shape)\n",
    "print('Regression Training Labels Shape:', y_train.shape)\n",
    "print('Regression Testing Features Shape:', X_test.shape)\n",
    "print('Regression Testing Labels Shape:', y_test.shape)"
   ]
  },
  {
   "cell_type": "code",
   "execution_count": null,
   "metadata": {},
   "outputs": [],
   "source": []
  },
  {
   "cell_type": "code",
   "execution_count": null,
   "metadata": {},
   "outputs": [],
   "source": []
  },
  {
   "cell_type": "code",
   "execution_count": null,
   "metadata": {},
   "outputs": [],
   "source": []
  },
  {
   "cell_type": "code",
   "execution_count": null,
   "metadata": {},
   "outputs": [],
   "source": []
  },
  {
   "cell_type": "code",
   "execution_count": null,
   "metadata": {},
   "outputs": [],
   "source": []
  },
  {
   "cell_type": "code",
   "execution_count": null,
   "metadata": {},
   "outputs": [],
   "source": []
  },
  {
   "cell_type": "code",
   "execution_count": null,
   "metadata": {},
   "outputs": [],
   "source": []
  },
  {
   "cell_type": "code",
   "execution_count": null,
   "metadata": {},
   "outputs": [],
   "source": [
    "# drop columns that are unnecessary for ML\n",
    "df_forML = df.drop(labels = ['Player', 'Pos', 'Tm', 'OWS', 'DWS', 'WS', 'Year'], axis = 1)"
   ]
  },
  {
   "cell_type": "code",
   "execution_count": null,
   "metadata": {},
   "outputs": [],
   "source": [
    "df_forML.head(5)"
   ]
  },
  {
   "cell_type": "code",
   "execution_count": null,
   "metadata": {},
   "outputs": [],
   "source": [
    "# list of features -- includes all columns except for target (WS/48)\n",
    "features = df_forML.drop(labels = 'WS/48', axis = 1).columns\n",
    "X = df_forML[features]"
   ]
  },
  {
   "cell_type": "code",
   "execution_count": null,
   "metadata": {},
   "outputs": [],
   "source": [
    "# target variables i.e. 'WS/48'\n",
    "y = df_forML['WS/48']"
   ]
  },
  {
   "cell_type": "code",
   "execution_count": null,
   "metadata": {},
   "outputs": [],
   "source": [
    "# Import necessary modules\n",
    "from sklearn.model_selection import train_test_split\n",
    "\n",
    "# create train and test sets\n",
    "X_train, X_test, y_train, y_test = train_test_split(X, y, test_size = 0.2, random_state = 1) "
   ]
  },
  {
   "cell_type": "code",
   "execution_count": null,
   "metadata": {},
   "outputs": [],
   "source": [
    "# Import LinearRegression\n",
    "from sklearn.linear_model import LinearRegression\n",
    "\n",
    "# Create the regressor: lr\n",
    "lr = LinearRegression()\n",
    "\n",
    "# Fit the model to the data\n",
    "lr.fit(X_train, y_train)"
   ]
  },
  {
   "cell_type": "code",
   "execution_count": null,
   "metadata": {},
   "outputs": [],
   "source": [
    "from sklearn.metrics import mean_squared_error\n",
    "\n",
    "# Predict on the hold out set and compute metrics\n",
    "y_pred = lr.predict(X_test)\n",
    "r2 = lr.score(X_test, y_test)\n",
    "rmse = np.sqrt(mean_squared_error(y_test, y_pred))"
   ]
  },
  {
   "cell_type": "code",
   "execution_count": null,
   "metadata": {},
   "outputs": [],
   "source": [
    "print(\"Linear Regression R squared: {}\".format(r2))\n",
    "print(\"Linear Regression RMSE: {}\".format(rmse))"
   ]
  },
  {
   "cell_type": "code",
   "execution_count": null,
   "metadata": {},
   "outputs": [],
   "source": [
    "from yellowbrick.regressor import ResidualsPlot\n",
    "\n",
    "visualizer = ResidualsPlot(lr, size=(1152, 768), alpha = 0.8)\n",
    "\n",
    "visualizer.fit(X_train, y_train)  # Fit the training data to the model\n",
    "visualizer.score(X_test, y_test)  # Evaluate the model on the test data\n",
    "visualizer.poof();                # Draw/show/poof the data"
   ]
  },
  {
   "cell_type": "markdown",
   "metadata": {},
   "source": [
    "# _ASSESSMENT: MULTIPLE LINEAR REGRESSION_"
   ]
  },
  {
   "cell_type": "markdown",
   "metadata": {},
   "source": [
    "So the performance of the model looks pretty amazing! The first statistic, the R squared, basically indicates how close the data is to the fitted regression line. The scale for this number is between 0 and 1.0, with 0 indicating that the model does not explain any of the variability of the response variable (it would basically just be a random assortment of points) and 1 indicating a 'perfect' model in that the model explains all of the variability of the response variable. With our R^2 statistic being ~0.96, this model looks nearly perfect! \n",
    "\n",
    "Next, we'll take a look at the RMSE, or root mean square error. This metric also indicates how close the observed data points are to the model's predicted values and is extremely useful in that it is presented in the same units as the response variable i.e. `WS/48`. So our RMSE is ~0.0177 which tells us that on average our predictions were this far off from the observed value.\n",
    "\n",
    "Lastly, let's look at the residual plot. For the most part it looks good; the resiudals (i.e. the difference in the predicted value and observed value) are not systematically high or low and appear to be centered on zero. Also, the histograms to the right look approximately normally distributed, which is assumed in OLS regression. There appears to be a few outliers, particularly two that severely underestimated `WS/48` which is somewhat concerning and definitely worth looking into. Overall though, this is an impressive start. \n",
    "\n",
    "Looks like we got ourselves a model then, right? __WRONG__. \n",
    "\n",
    "But before I go further I want to create the same model as before but this time with the `statsmodels` module, which is way better than `sklearn` in regards to statistical data exploration and tests."
   ]
  },
  {
   "cell_type": "code",
   "execution_count": null,
   "metadata": {},
   "outputs": [],
   "source": [
    "import statsmodels.api as sm\n",
    "\n",
    "X_stats = np.array(X) # convert to numpy array\n",
    "X_stats = sm.add_constant(X) # with statsmodels an intercept is not included by default so we need to add one\n",
    "\n",
    "model = sm.OLS(y, X).fit() # fit ordinary least squares model \n",
    "predictions = model.predict(X) # predict values from fitted model\n",
    "\n",
    "print_model = model.summary() \n",
    "print(print_model) # return a summary of the regression results"
   ]
  },
  {
   "cell_type": "markdown",
   "metadata": {},
   "source": [
    "# _Interpretation of `statsmodels` result_"
   ]
  },
  {
   "cell_type": "markdown",
   "metadata": {},
   "source": [
    "Using the same features as the model we created with `sklearn`, we were able to create a model that had an R squared of 0.989, which was slightly better (albeit we did not split the data into train/test sets, a big no-no). \n",
    "\n",
    "However, when we scroll to the bottom we see under `Warnings` a message talking about a condition number being large, indicating the possibility of strong multicollinearity. What does this mean? \n",
    "\n",
    "While I won't go to deeply into exactly what the condition number is (as it is a little above my mental pay-grade and involves the use of matrices and derivatives) but from a high level it is a measure of how sensitve a function is to changes or errors in input. For linear regression specifically, it is used as a diagnostic for multicollinearity.\n",
    "\n",
    "Now this model has a high condition number which indicates multicollinearity, but what exactly does multicollinearity mean? \n",
    "\n",
    "To start off, collinearity means there is an association between _two_ explanatory (independent) variables, which means that two of the features we're using have a relationship between each other. Now, multicollinearity is when two or more explanatory variables (i.e. features) in a multiple regression model are highly linearly related. [1](https://en.wikipedia.org/wiki/Multicollinearity)\n",
    "\n",
    "Going back to our `statsmodels` example, we can see from the features that this makes total sense. A quick example is in regards to `G` (games played) and `GS` (games started); if a player plays in more games, there is probably going to be a greater liklihood that he is going to have started in more games. In other words, these two variables have a relationship! Another example to drive home the point would be in all the shooting percentages -- `FG%`, `3P%`, `2P%`, `FT%` -- as they all depend on the number of makes and attempts which are also in the feature set! \n",
    "\n",
    "Hopefully you can see a trend with regards to our feature set and multicollinearity. With basketball statistics, and the relatedness that a lot of them have with each other, I wasn't surprised when this happened. \n",
    "\n",
    "Additionally, let's take a look at the `P>|t|` column above. This column represents the `p-values` that tests the null hypothesis that the coefficient of that particular variable (i.e. feature) has no effect on the relationship. Generally a threshold of 0.05 is set, with a number below this representing the case that we reject the null hypothesis of no effect in favor of the alternative which is that this coefficient does have an effect on the response. \n",
    "\n",
    "What is slightly confusing however is that there are some variables, like `FG` and `PTS`, that indicated a pretty signficant relationship during our exploratory data analysis (via scatter plots) but have high p-values (i.e. we cannot reject the null hypothesis that they have no effect). My hypothesis is that the high complexity (i.e. high # of total features) of the model is leading to 'noise' crowding out the relationship. \n",
    "\n",
    "At this point we've poked quite a few holes in this model but where do we go from here?\n",
    "\n",
    "The logical next step would seem to point towards feature selection, which is a very important concept in machine learning and involves selecting the most relevant variables for use in predicting the response variable, which in our case is `WS/48`. \n",
    "\n",
    "No we could begin by doing something along the lines of examing R squared value of each of the variables and `WS/48`, then use a subset of variables to create a model. However, this can be tedious and there is not guarantee that we won't encounter multicollinearity again. \n",
    "\n",
    "Which is what brings me to a new concept, called regularization..."
   ]
  },
  {
   "cell_type": "markdown",
   "metadata": {},
   "source": [
    "# L1 and L2 Regularization Methods"
   ]
  },
  {
   "cell_type": "markdown",
   "metadata": {},
   "source": [
    "First I want to begin by showing a (relatively) simple chart:\n",
    "    \n",
    "![Model Complexity](model_complexity.png)"
   ]
  },
  {
   "cell_type": "markdown",
   "metadata": {},
   "source": [
    "### What is this showing us?\n",
    "\n",
    "Three words: bias-variance tradeoff. \n",
    "\n",
    "Bias is associated with the features of the model, in that the more features you include the less likely you are to miss the relevant relations between the features and response variable. For the most part, the more features you include, the better you are able to capture the relationship and the less 'biased' the model becomes.\n",
    "\n",
    "Variance has to do with sensitivity to 'noise', which are random disturbances in the data. Overfitting can happen when an algorithm begins to model this random noise versus the features we input into it. \n",
    "\n",
    "As you can see the more complex we make a model, we decrease the bias which is a good thing. However, there is a trade-off and that is we can begin to increase the variance expnentially, which is not a good thing. This is what has happened in our case; we've made two models that have low bias but high variance. \n",
    "\n",
    "Some may be wondering though, why is this whole bias-variance tradoff a big deal to begin with? It has to do with generalizing to unseen data.\n",
    "\n",
    "When we gather data, we are essentially gathering a sample. For example, in our case we have gathered data from the past 10 NBA seasons yet the NBA's inaugural season was in 1946! So out of approximately 72 seasons we have data for only 10 of those. What we are hoping for though is to create a model with this sample that we could also use on data from the 1977 season as well, and would still do a good job. In other words, we want to be able to generalize it which means we are can confidently apply it to any NBA season (given we have the statistics from that particular season). \n",
    "\n",
    "At this point, I would not feel comfortable doing that. There might be certain patterns and/or 'noise' within this particular dataset that the model is including and if we were to test it on a new data set (which doesn't have this particular noise) it would probably fail. And why would you want to make a model that performs well in only particular context?\n",
    "\n",
    "That being said, we want to decrease the bias (i.e. model complexity) of our model in hopes that we can also decrease the variance and in turn minimize the total error. "
   ]
  },
  {
   "cell_type": "markdown",
   "metadata": {},
   "source": [
    "### Regularization, and Lasso or Ridge?\n",
    "\n",
    "What we want to do is address the issue of overfitting and regularization is one way to do this. It does this by adding penalties to the original OLS equation, as the model complexity increases. \n",
    "\n",
    "The two examples we'll look at -- Lasso and Ridge -- add the penalty in slightly different ways.\n",
    "\n",
    "Lasso Regression (Least Absolute Shrinkage and Selection Operator) adds a penalty equivalent to the absolute value of the magnitude of the coefficients. Now what is the significance of a large coefficient (i.e. how much the dependent variable is expected to increase when that independent variable increases by one)?\n",
    "\n",
    "It means that that particular feature is a good predictor for the outcome however, when it becomes too large the algortihm will begin to model the intricate relations (i.e. the 'noise') which causes overfitting. \n",
    "\n",
    "# TO BE CONTINUED (NEED TO FINISH THIS SECTION)"
   ]
  },
  {
   "cell_type": "markdown",
   "metadata": {},
   "source": [
    "# _Ridge Regression_"
   ]
  },
  {
   "cell_type": "code",
   "execution_count": 9,
   "metadata": {},
   "outputs": [],
   "source": [
    "# import necessary modules\n",
    "from sklearn.preprocessing import scale \n",
    "from sklearn.linear_model import Ridge\n",
    "from sklearn.model_selection import cross_val_score"
   ]
  },
  {
   "cell_type": "code",
   "execution_count": 10,
   "metadata": {},
   "outputs": [],
   "source": [
    "# function to plot cross-validated R squared scores and standard error for varying different alphas\n",
    "\n",
    "def display_plot(cv_scores, cv_scores_std):\n",
    "    fig = plt.figure(figsize = (12,10))\n",
    "    ax = fig.add_subplot(1,1,1)\n",
    "    ax.plot(alpha_space, cv_scores)\n",
    "\n",
    "    std_error = cv_scores_std / np.sqrt(10)\n",
    "\n",
    "    ax.fill_between(alpha_space, cv_scores + std_error, cv_scores - std_error, alpha=0.2)\n",
    "    ax.set_ylabel('CV Score +/- Std Error')\n",
    "    ax.set_xlabel('Alpha')\n",
    "    ax.axhline(np.max(cv_scores), linestyle='--', color='.5')\n",
    "    ax.set_xlim([alpha_space[0], alpha_space[-1]])\n",
    "    ax.set_xscale('log')\n",
    "    plt.show();"
   ]
  },
  {
   "cell_type": "code",
   "execution_count": 11,
   "metadata": {},
   "outputs": [],
   "source": [
    "# Setup the array of alphas and lists to store scores\n",
    "alpha_space = np.logspace(-10, 10, 200)\n",
    "ridge_scores = []\n",
    "ridge_scores_std = []"
   ]
  },
  {
   "cell_type": "code",
   "execution_count": 12,
   "metadata": {},
   "outputs": [],
   "source": [
    "X_scaled = scale(X);"
   ]
  },
  {
   "cell_type": "code",
   "execution_count": 13,
   "metadata": {},
   "outputs": [],
   "source": [
    "# Create a ridge regressor: ridge\n",
    "ridge = Ridge()"
   ]
  },
  {
   "cell_type": "code",
   "execution_count": 14,
   "metadata": {},
   "outputs": [],
   "source": [
    "# Compute scores over range of alphas\n",
    "for alpha in alpha_space:\n",
    "\n",
    "    # Specify the alpha value to use: ridge.alpha\n",
    "    ridge.alpha = alpha\n",
    "    \n",
    "    # Perform 10-fold CV: ridge_cv_scores\n",
    "    ridge_cv_scores = cross_val_score(base_model, X, y, cv=5)\n",
    "    \n",
    "    # Append the mean of ridge_cv_scores to ridge_scores\n",
    "    ridge_scores.append(np.mean(ridge_cv_scores))\n",
    "    \n",
    "    # Append the std of ridge_cv_scores to ridge_scores_std\n",
    "    ridge_scores_std.append(np.std(ridge_cv_scores))"
   ]
  },
  {
   "cell_type": "code",
   "execution_count": 15,
   "metadata": {},
   "outputs": [
    {
     "data": {
      "image/png": "[encoded data removed]",
      "text/plain": [
       "<Figure size 864x720 with 1 Axes>"
      ]
     },
     "metadata": {
      "needs_background": "light"
     },
     "output_type": "display_data"
    }
   ],
   "source": [
    "# Display the plot\n",
    "display_plot(ridge_scores, ridge_scores_std)"
   ]
  },
  {
   "cell_type": "code",
   "execution_count": 16,
   "metadata": {},
   "outputs": [],
   "source": [
    "# import necessary modules\n",
    "from sklearn.preprocessing import scale \n",
    "from sklearn.model_selection import train_test_split, GridSearchCV\n",
    "from sklearn.linear_model import Ridge, RidgeCV, Lasso, LassoCV\n",
    "from sklearn.metrics import mean_squared_error"
   ]
  },
  {
   "cell_type": "code",
   "execution_count": 17,
   "metadata": {},
   "outputs": [
    {
     "data": {
      "text/plain": [
       "(200, 42)"
      ]
     },
     "execution_count": 17,
     "metadata": {},
     "output_type": "execute_result"
    }
   ],
   "source": [
    "ridge = Ridge()\n",
    "coefs = []\n",
    "\n",
    "for a in alpha_space:\n",
    "    ridge.set_params(alpha = a)\n",
    "    ridge.fit(X_scaled, y)\n",
    "    coefs.append(ridge.coef_)\n",
    "    \n",
    "np.shape(coefs)"
   ]
  },
  {
   "cell_type": "code",
   "execution_count": null,
   "metadata": {},
   "outputs": [],
   "source": [
    "ax = plt.gca()\n",
    "ax.plot(alpha_space, coefs)\n",
    "ax.set_xscale('log')\n",
    "plt.axis('tight')\n",
    "plt.xlabel('alpha')\n",
    "plt.ylabel('weights');"
   ]
  },
  {
   "cell_type": "code",
   "execution_count": null,
   "metadata": {},
   "outputs": [],
   "source": [
    "# Create training and test sets\n",
    "Xs_train, Xs_test, y_train, y_test = train_test_split(X_scaled, y, test_size = 0.2, random_state=1) # scaled features\n",
    "# X_train, X_test, y_train, y_test = train_test_split(X, y, test_size = 0.2, random_state=1) # unscaled features"
   ]
  },
  {
   "cell_type": "code",
   "execution_count": 20,
   "metadata": {},
   "outputs": [],
   "source": [
    "# Setup the hyperparameter grid\n",
    "alpha_space = np.logspace(-10, 10, 200)\n",
    "param_grid = {'alpha': alpha_space}"
   ]
  },
  {
   "cell_type": "code",
   "execution_count": 18,
   "metadata": {},
   "outputs": [],
   "source": [
    "# Create a ridge regressor: ridge\n",
    "ridge = Ridge(random_state=1)"
   ]
  },
  {
   "cell_type": "code",
   "execution_count": 21,
   "metadata": {},
   "outputs": [],
   "source": [
    "ridge_grid = GridSearchCV(ridge, param_grid, cv=10)"
   ]
  },
  {
   "cell_type": "code",
   "execution_count": 23,
   "metadata": {},
   "outputs": [
    {
     "data": {
      "text/plain": [
       "GridSearchCV(cv=10, error_score='raise-deprecating',\n",
       "       estimator=Ridge(alpha=1.0, copy_X=True, fit_intercept=True, max_iter=None,\n",
       "   normalize=False, random_state=1, solver='auto', tol=0.001),\n",
       "       fit_params=None, iid='warn', n_jobs=None,\n",
       "       param_grid={'alpha': array([1.00000e-10, 1.26038e-10, ..., 7.93410e+09, 1.00000e+10]), 'normalize': [True, False]},\n",
       "       pre_dispatch='2*n_jobs', refit=True, return_train_score='warn',\n",
       "       scoring=None, verbose=0)"
      ]
     },
     "execution_count": 23,
     "metadata": {},
     "output_type": "execute_result"
    }
   ],
   "source": [
    "# fit the model on scaled features\n",
    "ridge_grid.fit(X_train, y_train)"
   ]
  },
  {
   "cell_type": "code",
   "execution_count": 24,
   "metadata": {},
   "outputs": [
    {
     "name": "stdout",
     "output_type": "stream",
     "text": [
      "Tuned Ridge Regression Parameters on scaled features: {'alpha': 1e-10, 'normalize': False}\n",
      "Best score is 0.9600646862978411\n"
     ]
    }
   ],
   "source": [
    "# Print the tuned parameters and score\n",
    "print(\"Tuned Ridge Regression Parameters on scaled features: {}\".format(ridge_grid.best_params_)) \n",
    "print(\"Best score is {}\".format(ridge_grid.best_score_))"
   ]
  },
  {
   "cell_type": "code",
   "execution_count": 27,
   "metadata": {},
   "outputs": [
    {
     "data": {
      "text/plain": [
       "Ridge(alpha=1e-10, copy_X=True, fit_intercept=True, max_iter=None,\n",
       "   normalize=False, random_state=None, solver='auto', tol=0.001)"
      ]
     },
     "execution_count": 27,
     "metadata": {},
     "output_type": "execute_result"
    }
   ],
   "source": [
    "ridge2 = Ridge(alpha = ridge_grid.best_params_['alpha'], normalize = False)\n",
    "ridge2.fit(X_train, y_train)"
   ]
  },
  {
   "cell_type": "code",
   "execution_count": 28,
   "metadata": {},
   "outputs": [
    {
     "name": "stdout",
     "output_type": "stream",
     "text": [
      "Ridge Regression Alpha: 1e-10\n",
      "Ridge Regression R squared: 0.9750975020907563\n",
      "Ridge Regression RMSE: 0.017308202201103632\n"
     ]
    }
   ],
   "source": [
    "# Predict on the hold out set and compute metrics\n",
    "y_pred = ridge2.predict(X_test)\n",
    "r2 = ridge2.score(X_test, y_test)\n",
    "rmse = np.sqrt(mean_squared_error(y_test, y_pred))\n",
    "\n",
    "print(\"Ridge Regression Alpha: {}\".format(ridge_grid.best_params_['alpha']))\n",
    "print(\"Ridge Regression R squared: {}\".format(r2))\n",
    "print(\"Ridge Regression RMSE: {}\".format(rmse))"
   ]
  },
  {
   "cell_type": "code",
   "execution_count": 29,
   "metadata": {},
   "outputs": [
    {
     "ename": "AttributeError",
     "evalue": "'numpy.ndarray' object has no attribute 'columns'",
     "output_type": "error",
     "traceback": [
      "\u001b[0;31m---------------------------------------------------------------------------\u001b[0m",
      "\u001b[0;31mAttributeError\u001b[0m                            Traceback (most recent call last)",
      "\u001b[0;32m<ipython-input-29-ace220653baa>\u001b[0m in \u001b[0;36m<module>\u001b[0;34m\u001b[0m\n\u001b[1;32m      1\u001b[0m \u001b[0;31m# coefficients associated with each feature of the regression model\u001b[0m\u001b[0;34m\u001b[0m\u001b[0;34m\u001b[0m\u001b[0;34m\u001b[0m\u001b[0m\n\u001b[0;32m----> 2\u001b[0;31m \u001b[0mpd\u001b[0m\u001b[0;34m.\u001b[0m\u001b[0mSeries\u001b[0m\u001b[0;34m(\u001b[0m\u001b[0mridge2\u001b[0m\u001b[0;34m.\u001b[0m\u001b[0mcoef_\u001b[0m\u001b[0;34m,\u001b[0m \u001b[0mindex\u001b[0m \u001b[0;34m=\u001b[0m \u001b[0mX\u001b[0m\u001b[0;34m.\u001b[0m\u001b[0mcolumns\u001b[0m\u001b[0;34m)\u001b[0m\u001b[0;34m\u001b[0m\u001b[0;34m\u001b[0m\u001b[0m\n\u001b[0m",
      "\u001b[0;31mAttributeError\u001b[0m: 'numpy.ndarray' object has no attribute 'columns'"
     ]
    }
   ],
   "source": [
    "# coefficients associated with each feature of the regression model\n",
    "pd.Series(ridge2.coef_, index = X.columns)"
   ]
  },
  {
   "cell_type": "code",
   "execution_count": 31,
   "metadata": {},
   "outputs": [
    {
     "data": {
      "image/png": "[encoded data removed]",
      "text/plain": [
       "<Figure size 1152x768 with 2 Axes>"
      ]
     },
     "metadata": {},
     "output_type": "display_data"
    }
   ],
   "source": [
    "from yellowbrick.regressor import ResidualsPlot\n",
    "\n",
    "visualizer = ResidualsPlot(ridge2, size=(1152, 768), alpha = 0.8)\n",
    "\n",
    "visualizer.fit(X_train, y_train)  # Fit the training data to the model\n",
    "visualizer.score(X_test, y_test)  # Evaluate the model on the test data\n",
    "visualizer.poof();                # Draw/show/poof the data"
   ]
  },
  {
   "cell_type": "markdown",
   "metadata": {},
   "source": [
    "# Testing Model On Unseen 2019 Data"
   ]
  },
  {
   "cell_type": "code",
   "execution_count": null,
   "metadata": {},
   "outputs": [],
   "source": [
    "df_2019 = pd.read_csv('data/df_2019.csv')\n",
    "\n",
    "df_2019.head(3)"
   ]
  },
  {
   "cell_type": "code",
   "execution_count": null,
   "metadata": {},
   "outputs": [],
   "source": [
    "X_2019 = df_2019[features]\n",
    "y_2019 = df_2019['WS/48']"
   ]
  },
  {
   "cell_type": "code",
   "execution_count": null,
   "metadata": {},
   "outputs": [],
   "source": [
    "# scale features\n",
    "X_2019_scaled = scale(X_2019)"
   ]
  },
  {
   "cell_type": "code",
   "execution_count": null,
   "metadata": {},
   "outputs": [],
   "source": [
    "# Split data into training and test sets\n",
    "# X_train, X_test , y_train, y_test = train_test_split(X, y, test_size=0.2, random_state=42)"
   ]
  },
  {
   "cell_type": "code",
   "execution_count": null,
   "metadata": {},
   "outputs": [],
   "source": [
    "y_pred = ridge2.predict(X_2019_scaled)\n",
    "r2 = ridge2.score(X_2019_scaled, y_2019)\n",
    "rmse = np.sqrt(mean_squared_error(y_2019, y_pred))\n",
    "\n",
    "print(\"Ridge Regression Alpha: {}\".format(ridge_grid.best_params_['alpha']))\n",
    "print(\"Ridge Regression R squared: {}\".format(r2))\n",
    "print(\"Ridge Regression RMSE: {}\".format(rmse))"
   ]
  },
  {
   "cell_type": "code",
   "execution_count": null,
   "metadata": {},
   "outputs": [],
   "source": [
    "from yellowbrick.regressor import ResidualsPlot\n",
    "\n",
    "visualizer = ResidualsPlot(ridge2, size=(1152, 768), alpha = 0.8)\n",
    "\n",
    "# visualizer.fit(X_train, y_train)  # Fit the training data to the model\n",
    "visualizer.score(X_2019_scaled, y_2019)  # Evaluate the model on the test data\n",
    "visualizer.poof();                # Draw/show/poof the data"
   ]
  },
  {
   "cell_type": "code",
   "execution_count": null,
   "metadata": {},
   "outputs": [],
   "source": [
    "df_2019['WS/48_prediction'] = y_pred"
   ]
  },
  {
   "cell_type": "code",
   "execution_count": null,
   "metadata": {},
   "outputs": [],
   "source": []
  }
 ],
 "metadata": {
  "kernelspec": {
   "display_name": "Python 3",
   "language": "python",
   "name": "python3"
  },
  "language_info": {
   "codemirror_mode": {
    "name": "ipython",
    "version": 3
   },
   "file_extension": ".py",
   "mimetype": "text/x-python",
   "name": "python",
   "nbconvert_exporter": "python",
   "pygments_lexer": "ipython3",
   "version": "3.6.8"
  }
 },
 "nbformat": 4,
 "nbformat_minor": 2
}
