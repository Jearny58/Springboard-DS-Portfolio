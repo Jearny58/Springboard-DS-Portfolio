{
 "cells": [
  {
   "cell_type": "code",
   "execution_count": 1,
   "metadata": {},
   "outputs": [],
   "source": [
    "import pandas as pd\n",
    "import matplotlib.pyplot as plt\n",
    "import numpy as np\n",
    "import warnings\n",
    "%matplotlib inline\n",
    "\n",
    "warnings.filterwarnings(action='once')\n",
    "pd.set_option('display.width', 500)\n",
    "pd.set_option('display.max_columns', 100)"
   ]
  },
  {
   "cell_type": "code",
   "execution_count": 2,
   "metadata": {},
   "outputs": [],
   "source": [
    "# import data\n",
    "df = pd.read_csv('data/df_all.csv')"
   ]
  },
  {
   "cell_type": "code",
   "execution_count": 3,
   "metadata": {},
   "outputs": [
    {
     "data": {
      "text/html": [
       "<div>\n",
       "<style scoped>\n",
       "    .dataframe tbody tr th:only-of-type {\n",
       "        vertical-align: middle;\n",
       "    }\n",
       "\n",
       "    .dataframe tbody tr th {\n",
       "        vertical-align: top;\n",
       "    }\n",
       "\n",
       "    .dataframe thead th {\n",
       "        text-align: right;\n",
       "    }\n",
       "</style>\n",
       "<table border=\"1\" class=\"dataframe\">\n",
       "  <thead>\n",
       "    <tr style=\"text-align: right;\">\n",
       "      <th></th>\n",
       "      <th>Player</th>\n",
       "      <th>Pos</th>\n",
       "      <th>Age</th>\n",
       "      <th>Tm</th>\n",
       "      <th>G</th>\n",
       "      <th>GS</th>\n",
       "      <th>MP</th>\n",
       "      <th>FG</th>\n",
       "      <th>FGA</th>\n",
       "      <th>FG%</th>\n",
       "      <th>3P</th>\n",
       "      <th>3PA</th>\n",
       "      <th>3P%</th>\n",
       "      <th>2P</th>\n",
       "      <th>2PA</th>\n",
       "      <th>2P%</th>\n",
       "      <th>FT</th>\n",
       "      <th>FTA</th>\n",
       "      <th>FT%</th>\n",
       "      <th>ORB</th>\n",
       "      <th>DRB</th>\n",
       "      <th>TRB</th>\n",
       "      <th>AST</th>\n",
       "      <th>STL</th>\n",
       "      <th>BLK</th>\n",
       "      <th>TOV</th>\n",
       "      <th>PF</th>\n",
       "      <th>PTS</th>\n",
       "      <th>ORtg</th>\n",
       "      <th>DRtg</th>\n",
       "      <th>PER</th>\n",
       "      <th>TS%</th>\n",
       "      <th>3PAr</th>\n",
       "      <th>FTr</th>\n",
       "      <th>ORB%</th>\n",
       "      <th>DRB%</th>\n",
       "      <th>TRB%</th>\n",
       "      <th>AST%</th>\n",
       "      <th>STL%</th>\n",
       "      <th>BLK%</th>\n",
       "      <th>TOV%</th>\n",
       "      <th>USG%</th>\n",
       "      <th>OWS</th>\n",
       "      <th>DWS</th>\n",
       "      <th>WS</th>\n",
       "      <th>WS/48</th>\n",
       "      <th>OBPM</th>\n",
       "      <th>DBPM</th>\n",
       "      <th>BPM</th>\n",
       "      <th>VORP</th>\n",
       "      <th>Year</th>\n",
       "    </tr>\n",
       "  </thead>\n",
       "  <tbody>\n",
       "    <tr>\n",
       "      <th>0</th>\n",
       "      <td>Alex Abrines</td>\n",
       "      <td>SG</td>\n",
       "      <td>24</td>\n",
       "      <td>OKC</td>\n",
       "      <td>75</td>\n",
       "      <td>8</td>\n",
       "      <td>1134</td>\n",
       "      <td>5.0</td>\n",
       "      <td>12.7</td>\n",
       "      <td>0.395</td>\n",
       "      <td>3.7</td>\n",
       "      <td>9.7</td>\n",
       "      <td>0.380</td>\n",
       "      <td>1.4</td>\n",
       "      <td>3.1</td>\n",
       "      <td>0.443</td>\n",
       "      <td>1.7</td>\n",
       "      <td>2.0</td>\n",
       "      <td>0.848</td>\n",
       "      <td>1.1</td>\n",
       "      <td>3.9</td>\n",
       "      <td>5.0</td>\n",
       "      <td>1.2</td>\n",
       "      <td>1.7</td>\n",
       "      <td>0.4</td>\n",
       "      <td>1.1</td>\n",
       "      <td>5.4</td>\n",
       "      <td>15.4</td>\n",
       "      <td>116.0</td>\n",
       "      <td>110.0</td>\n",
       "      <td>9.0</td>\n",
       "      <td>0.567</td>\n",
       "      <td>0.759</td>\n",
       "      <td>0.158</td>\n",
       "      <td>2.5</td>\n",
       "      <td>8.9</td>\n",
       "      <td>5.6</td>\n",
       "      <td>3.4</td>\n",
       "      <td>1.7</td>\n",
       "      <td>0.6</td>\n",
       "      <td>7.4</td>\n",
       "      <td>12.7</td>\n",
       "      <td>1.3</td>\n",
       "      <td>1.0</td>\n",
       "      <td>2.2</td>\n",
       "      <td>0.094</td>\n",
       "      <td>-0.5</td>\n",
       "      <td>-1.7</td>\n",
       "      <td>-2.2</td>\n",
       "      <td>-0.1</td>\n",
       "      <td>2018</td>\n",
       "    </tr>\n",
       "    <tr>\n",
       "      <th>1</th>\n",
       "      <td>Quincy Acy</td>\n",
       "      <td>PF</td>\n",
       "      <td>27</td>\n",
       "      <td>BRK</td>\n",
       "      <td>70</td>\n",
       "      <td>8</td>\n",
       "      <td>1359</td>\n",
       "      <td>4.6</td>\n",
       "      <td>13.0</td>\n",
       "      <td>0.356</td>\n",
       "      <td>3.6</td>\n",
       "      <td>10.4</td>\n",
       "      <td>0.349</td>\n",
       "      <td>1.0</td>\n",
       "      <td>2.6</td>\n",
       "      <td>0.384</td>\n",
       "      <td>1.8</td>\n",
       "      <td>2.1</td>\n",
       "      <td>0.817</td>\n",
       "      <td>1.4</td>\n",
       "      <td>7.8</td>\n",
       "      <td>9.2</td>\n",
       "      <td>2.0</td>\n",
       "      <td>1.2</td>\n",
       "      <td>1.0</td>\n",
       "      <td>2.1</td>\n",
       "      <td>5.3</td>\n",
       "      <td>14.7</td>\n",
       "      <td>99.0</td>\n",
       "      <td>110.0</td>\n",
       "      <td>8.2</td>\n",
       "      <td>0.525</td>\n",
       "      <td>0.800</td>\n",
       "      <td>0.164</td>\n",
       "      <td>3.1</td>\n",
       "      <td>17.1</td>\n",
       "      <td>10.0</td>\n",
       "      <td>6.0</td>\n",
       "      <td>1.2</td>\n",
       "      <td>1.6</td>\n",
       "      <td>13.3</td>\n",
       "      <td>14.4</td>\n",
       "      <td>-0.1</td>\n",
       "      <td>1.1</td>\n",
       "      <td>1.0</td>\n",
       "      <td>0.036</td>\n",
       "      <td>-2.0</td>\n",
       "      <td>-0.2</td>\n",
       "      <td>-2.2</td>\n",
       "      <td>-0.1</td>\n",
       "      <td>2018</td>\n",
       "    </tr>\n",
       "    <tr>\n",
       "      <th>2</th>\n",
       "      <td>Steven Adams</td>\n",
       "      <td>C</td>\n",
       "      <td>24</td>\n",
       "      <td>OKC</td>\n",
       "      <td>76</td>\n",
       "      <td>76</td>\n",
       "      <td>2487</td>\n",
       "      <td>8.9</td>\n",
       "      <td>14.2</td>\n",
       "      <td>0.629</td>\n",
       "      <td>0.0</td>\n",
       "      <td>0.0</td>\n",
       "      <td>0.000</td>\n",
       "      <td>8.9</td>\n",
       "      <td>14.2</td>\n",
       "      <td>0.631</td>\n",
       "      <td>3.2</td>\n",
       "      <td>5.7</td>\n",
       "      <td>0.559</td>\n",
       "      <td>7.7</td>\n",
       "      <td>6.0</td>\n",
       "      <td>13.7</td>\n",
       "      <td>1.8</td>\n",
       "      <td>1.8</td>\n",
       "      <td>1.6</td>\n",
       "      <td>2.6</td>\n",
       "      <td>4.3</td>\n",
       "      <td>21.1</td>\n",
       "      <td>125.0</td>\n",
       "      <td>107.0</td>\n",
       "      <td>20.6</td>\n",
       "      <td>0.630</td>\n",
       "      <td>0.003</td>\n",
       "      <td>0.402</td>\n",
       "      <td>16.6</td>\n",
       "      <td>13.9</td>\n",
       "      <td>15.3</td>\n",
       "      <td>5.5</td>\n",
       "      <td>1.8</td>\n",
       "      <td>2.8</td>\n",
       "      <td>13.3</td>\n",
       "      <td>16.7</td>\n",
       "      <td>6.7</td>\n",
       "      <td>3.0</td>\n",
       "      <td>9.7</td>\n",
       "      <td>0.187</td>\n",
       "      <td>2.2</td>\n",
       "      <td>1.1</td>\n",
       "      <td>3.3</td>\n",
       "      <td>3.3</td>\n",
       "      <td>2018</td>\n",
       "    </tr>\n",
       "  </tbody>\n",
       "</table>\n",
       "</div>"
      ],
      "text/plain": [
       "         Player Pos  Age   Tm   G  GS    MP   FG   FGA    FG%   3P   3PA    3P%   2P   2PA    2P%   FT  FTA    FT%  ORB  DRB   TRB  AST  STL  BLK  TOV   PF   PTS   ORtg   DRtg   PER    TS%   3PAr    FTr  ORB%  DRB%  TRB%  AST%  STL%  BLK%  TOV%  USG%  OWS  DWS   WS  WS/48  OBPM  DBPM  BPM  VORP  Year\n",
       "0  Alex Abrines  SG   24  OKC  75   8  1134  5.0  12.7  0.395  3.7   9.7  0.380  1.4   3.1  0.443  1.7  2.0  0.848  1.1  3.9   5.0  1.2  1.7  0.4  1.1  5.4  15.4  116.0  110.0   9.0  0.567  0.759  0.158   2.5   8.9   5.6   3.4   1.7   0.6   7.4  12.7  1.3  1.0  2.2  0.094  -0.5  -1.7 -2.2  -0.1  2018\n",
       "1    Quincy Acy  PF   27  BRK  70   8  1359  4.6  13.0  0.356  3.6  10.4  0.349  1.0   2.6  0.384  1.8  2.1  0.817  1.4  7.8   9.2  2.0  1.2  1.0  2.1  5.3  14.7   99.0  110.0   8.2  0.525  0.800  0.164   3.1  17.1  10.0   6.0   1.2   1.6  13.3  14.4 -0.1  1.1  1.0  0.036  -2.0  -0.2 -2.2  -0.1  2018\n",
       "2  Steven Adams   C   24  OKC  76  76  2487  8.9  14.2  0.629  0.0   0.0  0.000  8.9  14.2  0.631  3.2  5.7  0.559  7.7  6.0  13.7  1.8  1.8  1.6  2.6  4.3  21.1  125.0  107.0  20.6  0.630  0.003  0.402  16.6  13.9  15.3   5.5   1.8   2.8  13.3  16.7  6.7  3.0  9.7  0.187   2.2   1.1  3.3   3.3  2018"
      ]
     },
     "execution_count": 3,
     "metadata": {},
     "output_type": "execute_result"
    }
   ],
   "source": [
    "df.head(3)"
   ]
  },
  {
   "cell_type": "markdown",
   "metadata": {},
   "source": [
    "# _Linear Regression: An Overview_"
   ]
  },
  {
   "cell_type": "markdown",
   "metadata": {},
   "source": [
    "For this project we are trying to determine a player's `WS/48`, i.e. how many 'wins' he contributes for every 48 minutes he plays. While statistics like total points, rebounds and assists are all important statistics when evaluating any given player, but there is something that trumps all other statistics in basketball (and pretty much all sports): winning. \n",
    "\n",
    "The statistics mentioned above only describe a particular segment of that player's contribution to his team. Luckily though this is where `WS/48` comes into play. I'm going to admit up front that it is not perfect. However, it's like the saying: \"All models are wrong, but some are useful\". In this case `WS/48` is a useful 'model' in bringing together a players offensive and defensive statistics into a single number that allows us to see his level of contribution towards a team winning. \n",
    "\n",
    "With this being said, I want to recap quickly what we've done so far up to this point for this project.\n",
    "\n",
    "1. Pulled Per Possession and Advanced statistics from [basketball-reference.com](https://www.basketball-reference.com/) for the past ten seasons (__not including the 2018-2019 season__)\n",
    "2. Cleaned up raw data into usable format\n",
    "3. Performed Exploratory Data Analysis of features of the clean data set\n",
    "\n",
    "Now we are on the fourth and final step: use machine learning to create a model that is able to approximately predict a player's `WS/48` statistic. \n",
    "\n",
    "How are we going to to this? Two words: linear regression. Or at least that's where we'll begin, with `sklearn`'s `LinearRegression` algorithm. \n",
    "\n",
    "Simply put, linear regression attempts to model the relationship between a dependent variable and one or more independent variables. If you are using one independent variable, i.e. a one-to-one relationship between the independent and dependent variable, it is called `simple linear regression`. You are not limited to just one though; you can use more than one independent variable, which is called `multiple linear regression`. In summary:\n",
    "\n",
    "- Simple = 1 independent variable\n",
    "- Multiple = 2+ independent variables\n",
    "\n",
    "Now without further ado, let's dive in!"
   ]
  },
  {
   "cell_type": "markdown",
   "metadata": {},
   "source": [
    "# _MULTIPLE LINEAR REGRESSION_"
   ]
  },
  {
   "cell_type": "markdown",
   "metadata": {},
   "source": [
    "First, we'll begin by dropping a few of the columns: \n",
    "\n",
    "- `Player`, which contained the players name\n",
    "- `Pos`, the position that that player played\n",
    "- `Tm`, the team that the player played for\n",
    "- `OWS`, `DWS`, `WS`: offensive win share, defensive win share, and (overall) win share\n",
    "    - All three of these are related to the variable we're trying to predict, so to eliminate their potential influence we're taking them out\n",
    "- `Year`, year of the season"
   ]
  },
  {
   "cell_type": "code",
   "execution_count": 4,
   "metadata": {},
   "outputs": [],
   "source": [
    "# drop columns that are unnecessary for ML\n",
    "df_forML = df.drop(labels = ['Player', 'Pos', 'Tm', 'OWS', 'DWS', 'WS', 'Year'], axis = 1)"
   ]
  },
  {
   "cell_type": "code",
   "execution_count": 5,
   "metadata": {},
   "outputs": [
    {
     "data": {
      "text/html": [
       "<div>\n",
       "<style scoped>\n",
       "    .dataframe tbody tr th:only-of-type {\n",
       "        vertical-align: middle;\n",
       "    }\n",
       "\n",
       "    .dataframe tbody tr th {\n",
       "        vertical-align: top;\n",
       "    }\n",
       "\n",
       "    .dataframe thead th {\n",
       "        text-align: right;\n",
       "    }\n",
       "</style>\n",
       "<table border=\"1\" class=\"dataframe\">\n",
       "  <thead>\n",
       "    <tr style=\"text-align: right;\">\n",
       "      <th></th>\n",
       "      <th>Age</th>\n",
       "      <th>G</th>\n",
       "      <th>GS</th>\n",
       "      <th>MP</th>\n",
       "      <th>FG</th>\n",
       "      <th>FGA</th>\n",
       "      <th>FG%</th>\n",
       "      <th>3P</th>\n",
       "      <th>3PA</th>\n",
       "      <th>3P%</th>\n",
       "      <th>2P</th>\n",
       "      <th>2PA</th>\n",
       "      <th>2P%</th>\n",
       "      <th>FT</th>\n",
       "      <th>FTA</th>\n",
       "      <th>FT%</th>\n",
       "      <th>ORB</th>\n",
       "      <th>DRB</th>\n",
       "      <th>TRB</th>\n",
       "      <th>AST</th>\n",
       "      <th>STL</th>\n",
       "      <th>BLK</th>\n",
       "      <th>TOV</th>\n",
       "      <th>PF</th>\n",
       "      <th>PTS</th>\n",
       "      <th>ORtg</th>\n",
       "      <th>DRtg</th>\n",
       "      <th>PER</th>\n",
       "      <th>TS%</th>\n",
       "      <th>3PAr</th>\n",
       "      <th>FTr</th>\n",
       "      <th>ORB%</th>\n",
       "      <th>DRB%</th>\n",
       "      <th>TRB%</th>\n",
       "      <th>AST%</th>\n",
       "      <th>STL%</th>\n",
       "      <th>BLK%</th>\n",
       "      <th>TOV%</th>\n",
       "      <th>USG%</th>\n",
       "      <th>WS/48</th>\n",
       "      <th>OBPM</th>\n",
       "      <th>DBPM</th>\n",
       "      <th>BPM</th>\n",
       "      <th>VORP</th>\n",
       "    </tr>\n",
       "  </thead>\n",
       "  <tbody>\n",
       "    <tr>\n",
       "      <th>0</th>\n",
       "      <td>24</td>\n",
       "      <td>75</td>\n",
       "      <td>8</td>\n",
       "      <td>1134</td>\n",
       "      <td>5.0</td>\n",
       "      <td>12.7</td>\n",
       "      <td>0.395</td>\n",
       "      <td>3.7</td>\n",
       "      <td>9.7</td>\n",
       "      <td>0.380</td>\n",
       "      <td>1.4</td>\n",
       "      <td>3.1</td>\n",
       "      <td>0.443</td>\n",
       "      <td>1.7</td>\n",
       "      <td>2.0</td>\n",
       "      <td>0.848</td>\n",
       "      <td>1.1</td>\n",
       "      <td>3.9</td>\n",
       "      <td>5.0</td>\n",
       "      <td>1.2</td>\n",
       "      <td>1.7</td>\n",
       "      <td>0.4</td>\n",
       "      <td>1.1</td>\n",
       "      <td>5.4</td>\n",
       "      <td>15.4</td>\n",
       "      <td>116.0</td>\n",
       "      <td>110.0</td>\n",
       "      <td>9.0</td>\n",
       "      <td>0.567</td>\n",
       "      <td>0.759</td>\n",
       "      <td>0.158</td>\n",
       "      <td>2.5</td>\n",
       "      <td>8.9</td>\n",
       "      <td>5.6</td>\n",
       "      <td>3.4</td>\n",
       "      <td>1.7</td>\n",
       "      <td>0.6</td>\n",
       "      <td>7.4</td>\n",
       "      <td>12.7</td>\n",
       "      <td>0.094</td>\n",
       "      <td>-0.5</td>\n",
       "      <td>-1.7</td>\n",
       "      <td>-2.2</td>\n",
       "      <td>-0.1</td>\n",
       "    </tr>\n",
       "    <tr>\n",
       "      <th>1</th>\n",
       "      <td>27</td>\n",
       "      <td>70</td>\n",
       "      <td>8</td>\n",
       "      <td>1359</td>\n",
       "      <td>4.6</td>\n",
       "      <td>13.0</td>\n",
       "      <td>0.356</td>\n",
       "      <td>3.6</td>\n",
       "      <td>10.4</td>\n",
       "      <td>0.349</td>\n",
       "      <td>1.0</td>\n",
       "      <td>2.6</td>\n",
       "      <td>0.384</td>\n",
       "      <td>1.8</td>\n",
       "      <td>2.1</td>\n",
       "      <td>0.817</td>\n",
       "      <td>1.4</td>\n",
       "      <td>7.8</td>\n",
       "      <td>9.2</td>\n",
       "      <td>2.0</td>\n",
       "      <td>1.2</td>\n",
       "      <td>1.0</td>\n",
       "      <td>2.1</td>\n",
       "      <td>5.3</td>\n",
       "      <td>14.7</td>\n",
       "      <td>99.0</td>\n",
       "      <td>110.0</td>\n",
       "      <td>8.2</td>\n",
       "      <td>0.525</td>\n",
       "      <td>0.800</td>\n",
       "      <td>0.164</td>\n",
       "      <td>3.1</td>\n",
       "      <td>17.1</td>\n",
       "      <td>10.0</td>\n",
       "      <td>6.0</td>\n",
       "      <td>1.2</td>\n",
       "      <td>1.6</td>\n",
       "      <td>13.3</td>\n",
       "      <td>14.4</td>\n",
       "      <td>0.036</td>\n",
       "      <td>-2.0</td>\n",
       "      <td>-0.2</td>\n",
       "      <td>-2.2</td>\n",
       "      <td>-0.1</td>\n",
       "    </tr>\n",
       "    <tr>\n",
       "      <th>2</th>\n",
       "      <td>24</td>\n",
       "      <td>76</td>\n",
       "      <td>76</td>\n",
       "      <td>2487</td>\n",
       "      <td>8.9</td>\n",
       "      <td>14.2</td>\n",
       "      <td>0.629</td>\n",
       "      <td>0.0</td>\n",
       "      <td>0.0</td>\n",
       "      <td>0.000</td>\n",
       "      <td>8.9</td>\n",
       "      <td>14.2</td>\n",
       "      <td>0.631</td>\n",
       "      <td>3.2</td>\n",
       "      <td>5.7</td>\n",
       "      <td>0.559</td>\n",
       "      <td>7.7</td>\n",
       "      <td>6.0</td>\n",
       "      <td>13.7</td>\n",
       "      <td>1.8</td>\n",
       "      <td>1.8</td>\n",
       "      <td>1.6</td>\n",
       "      <td>2.6</td>\n",
       "      <td>4.3</td>\n",
       "      <td>21.1</td>\n",
       "      <td>125.0</td>\n",
       "      <td>107.0</td>\n",
       "      <td>20.6</td>\n",
       "      <td>0.630</td>\n",
       "      <td>0.003</td>\n",
       "      <td>0.402</td>\n",
       "      <td>16.6</td>\n",
       "      <td>13.9</td>\n",
       "      <td>15.3</td>\n",
       "      <td>5.5</td>\n",
       "      <td>1.8</td>\n",
       "      <td>2.8</td>\n",
       "      <td>13.3</td>\n",
       "      <td>16.7</td>\n",
       "      <td>0.187</td>\n",
       "      <td>2.2</td>\n",
       "      <td>1.1</td>\n",
       "      <td>3.3</td>\n",
       "      <td>3.3</td>\n",
       "    </tr>\n",
       "    <tr>\n",
       "      <th>3</th>\n",
       "      <td>20</td>\n",
       "      <td>69</td>\n",
       "      <td>19</td>\n",
       "      <td>1368</td>\n",
       "      <td>6.4</td>\n",
       "      <td>12.5</td>\n",
       "      <td>0.512</td>\n",
       "      <td>0.0</td>\n",
       "      <td>0.3</td>\n",
       "      <td>0.000</td>\n",
       "      <td>6.4</td>\n",
       "      <td>12.2</td>\n",
       "      <td>0.523</td>\n",
       "      <td>4.7</td>\n",
       "      <td>6.6</td>\n",
       "      <td>0.721</td>\n",
       "      <td>4.3</td>\n",
       "      <td>9.7</td>\n",
       "      <td>14.0</td>\n",
       "      <td>3.7</td>\n",
       "      <td>1.2</td>\n",
       "      <td>1.5</td>\n",
       "      <td>2.4</td>\n",
       "      <td>5.1</td>\n",
       "      <td>17.5</td>\n",
       "      <td>116.0</td>\n",
       "      <td>105.0</td>\n",
       "      <td>15.7</td>\n",
       "      <td>0.570</td>\n",
       "      <td>0.021</td>\n",
       "      <td>0.526</td>\n",
       "      <td>9.7</td>\n",
       "      <td>21.6</td>\n",
       "      <td>15.6</td>\n",
       "      <td>11.0</td>\n",
       "      <td>1.2</td>\n",
       "      <td>2.5</td>\n",
       "      <td>13.6</td>\n",
       "      <td>15.9</td>\n",
       "      <td>0.148</td>\n",
       "      <td>-1.6</td>\n",
       "      <td>1.8</td>\n",
       "      <td>0.2</td>\n",
       "      <td>0.8</td>\n",
       "    </tr>\n",
       "    <tr>\n",
       "      <th>4</th>\n",
       "      <td>32</td>\n",
       "      <td>53</td>\n",
       "      <td>3</td>\n",
       "      <td>682</td>\n",
       "      <td>4.7</td>\n",
       "      <td>11.6</td>\n",
       "      <td>0.401</td>\n",
       "      <td>1.9</td>\n",
       "      <td>5.0</td>\n",
       "      <td>0.386</td>\n",
       "      <td>2.7</td>\n",
       "      <td>6.6</td>\n",
       "      <td>0.413</td>\n",
       "      <td>1.6</td>\n",
       "      <td>1.9</td>\n",
       "      <td>0.846</td>\n",
       "      <td>0.3</td>\n",
       "      <td>4.5</td>\n",
       "      <td>4.7</td>\n",
       "      <td>2.2</td>\n",
       "      <td>0.3</td>\n",
       "      <td>0.6</td>\n",
       "      <td>1.5</td>\n",
       "      <td>4.0</td>\n",
       "      <td>12.8</td>\n",
       "      <td>98.0</td>\n",
       "      <td>115.0</td>\n",
       "      <td>5.8</td>\n",
       "      <td>0.516</td>\n",
       "      <td>0.432</td>\n",
       "      <td>0.160</td>\n",
       "      <td>0.6</td>\n",
       "      <td>10.1</td>\n",
       "      <td>5.3</td>\n",
       "      <td>6.2</td>\n",
       "      <td>0.3</td>\n",
       "      <td>1.1</td>\n",
       "      <td>10.8</td>\n",
       "      <td>12.5</td>\n",
       "      <td>0.009</td>\n",
       "      <td>-4.1</td>\n",
       "      <td>-1.8</td>\n",
       "      <td>-5.8</td>\n",
       "      <td>-0.7</td>\n",
       "    </tr>\n",
       "  </tbody>\n",
       "</table>\n",
       "</div>"
      ],
      "text/plain": [
       "   Age   G  GS    MP   FG   FGA    FG%   3P   3PA    3P%   2P   2PA    2P%   FT  FTA    FT%  ORB  DRB   TRB  AST  STL  BLK  TOV   PF   PTS   ORtg   DRtg   PER    TS%   3PAr    FTr  ORB%  DRB%  TRB%  AST%  STL%  BLK%  TOV%  USG%  WS/48  OBPM  DBPM  BPM  VORP\n",
       "0   24  75   8  1134  5.0  12.7  0.395  3.7   9.7  0.380  1.4   3.1  0.443  1.7  2.0  0.848  1.1  3.9   5.0  1.2  1.7  0.4  1.1  5.4  15.4  116.0  110.0   9.0  0.567  0.759  0.158   2.5   8.9   5.6   3.4   1.7   0.6   7.4  12.7  0.094  -0.5  -1.7 -2.2  -0.1\n",
       "1   27  70   8  1359  4.6  13.0  0.356  3.6  10.4  0.349  1.0   2.6  0.384  1.8  2.1  0.817  1.4  7.8   9.2  2.0  1.2  1.0  2.1  5.3  14.7   99.0  110.0   8.2  0.525  0.800  0.164   3.1  17.1  10.0   6.0   1.2   1.6  13.3  14.4  0.036  -2.0  -0.2 -2.2  -0.1\n",
       "2   24  76  76  2487  8.9  14.2  0.629  0.0   0.0  0.000  8.9  14.2  0.631  3.2  5.7  0.559  7.7  6.0  13.7  1.8  1.8  1.6  2.6  4.3  21.1  125.0  107.0  20.6  0.630  0.003  0.402  16.6  13.9  15.3   5.5   1.8   2.8  13.3  16.7  0.187   2.2   1.1  3.3   3.3\n",
       "3   20  69  19  1368  6.4  12.5  0.512  0.0   0.3  0.000  6.4  12.2  0.523  4.7  6.6  0.721  4.3  9.7  14.0  3.7  1.2  1.5  2.4  5.1  17.5  116.0  105.0  15.7  0.570  0.021  0.526   9.7  21.6  15.6  11.0   1.2   2.5  13.6  15.9  0.148  -1.6   1.8  0.2   0.8\n",
       "4   32  53   3   682  4.7  11.6  0.401  1.9   5.0  0.386  2.7   6.6  0.413  1.6  1.9  0.846  0.3  4.5   4.7  2.2  0.3  0.6  1.5  4.0  12.8   98.0  115.0   5.8  0.516  0.432  0.160   0.6  10.1   5.3   6.2   0.3   1.1  10.8  12.5  0.009  -4.1  -1.8 -5.8  -0.7"
      ]
     },
     "execution_count": 5,
     "metadata": {},
     "output_type": "execute_result"
    }
   ],
   "source": [
    "df_forML.head(5)"
   ]
  },
  {
   "cell_type": "code",
   "execution_count": 6,
   "metadata": {},
   "outputs": [],
   "source": [
    "# list of features -- includes all columns except for target (WS/48)\n",
    "features = df_forML.drop(labels = 'WS/48', axis = 1).columns\n",
    "X = df_forML[features]"
   ]
  },
  {
   "cell_type": "code",
   "execution_count": 7,
   "metadata": {},
   "outputs": [],
   "source": [
    "# target variables i.e. 'WS/48'\n",
    "y = df_forML['WS/48']"
   ]
  },
  {
   "cell_type": "code",
   "execution_count": 8,
   "metadata": {},
   "outputs": [
    {
     "name": "stderr",
     "output_type": "stream",
     "text": [
      "/Users/joeai/miniconda3/lib/python3.6/importlib/_bootstrap.py:219: RuntimeWarning: numpy.ufunc size changed, may indicate binary incompatibility. Expected 192 from C header, got 216 from PyObject\n",
      "  return f(*args, **kwds)\n",
      "/Users/joeai/miniconda3/lib/python3.6/importlib/_bootstrap.py:219: RuntimeWarning: numpy.ufunc size changed, may indicate binary incompatibility. Expected 216, got 192\n",
      "  return f(*args, **kwds)\n",
      "/Users/joeai/miniconda3/lib/python3.6/importlib/_bootstrap.py:219: ImportWarning: can't resolve package from __spec__ or __package__, falling back on __name__ and __path__\n",
      "  return f(*args, **kwds)\n",
      "/Users/joeai/miniconda3/lib/python3.6/importlib/_bootstrap.py:219: RuntimeWarning: numpy.ufunc size changed, may indicate binary incompatibility. Expected 192 from C header, got 216 from PyObject\n",
      "  return f(*args, **kwds)\n",
      "/Users/joeai/miniconda3/lib/python3.6/importlib/_bootstrap.py:219: RuntimeWarning: numpy.ufunc size changed, may indicate binary incompatibility. Expected 192 from C header, got 216 from PyObject\n",
      "  return f(*args, **kwds)\n",
      "/Users/joeai/miniconda3/lib/python3.6/importlib/_bootstrap.py:219: RuntimeWarning: numpy.ufunc size changed, may indicate binary incompatibility. Expected 216, got 192\n",
      "  return f(*args, **kwds)\n",
      "/Users/joeai/miniconda3/lib/python3.6/importlib/_bootstrap.py:219: ImportWarning: can't resolve package from __spec__ or __package__, falling back on __name__ and __path__\n",
      "  return f(*args, **kwds)\n",
      "/Users/joeai/miniconda3/lib/python3.6/importlib/_bootstrap.py:219: RuntimeWarning: numpy.ufunc size changed, may indicate binary incompatibility. Expected 216, got 192\n",
      "  return f(*args, **kwds)\n",
      "/Users/joeai/miniconda3/lib/python3.6/importlib/_bootstrap.py:219: ImportWarning: can't resolve package from __spec__ or __package__, falling back on __name__ and __path__\n",
      "  return f(*args, **kwds)\n"
     ]
    }
   ],
   "source": [
    "# Import necessary modules\n",
    "from sklearn.model_selection import train_test_split\n",
    "\n",
    "# create train and test sets\n",
    "X_train, X_test, y_train, y_test = train_test_split(X, y, test_size = 0.2, random_state = 1) "
   ]
  },
  {
   "cell_type": "code",
   "execution_count": 9,
   "metadata": {},
   "outputs": [
    {
     "data": {
      "text/plain": [
       "LinearRegression(copy_X=True, fit_intercept=True, n_jobs=None,\n",
       "         normalize=False)"
      ]
     },
     "execution_count": 9,
     "metadata": {},
     "output_type": "execute_result"
    }
   ],
   "source": [
    "# Import LinearRegression\n",
    "from sklearn.linear_model import LinearRegression\n",
    "\n",
    "# Create the regressor: lr\n",
    "lr = LinearRegression()\n",
    "\n",
    "# Fit the model to the data\n",
    "lr.fit(X_train, y_train)"
   ]
  },
  {
   "cell_type": "code",
   "execution_count": 10,
   "metadata": {},
   "outputs": [],
   "source": [
    "from sklearn.metrics import mean_squared_error\n",
    "\n",
    "# Predict on the hold out set and compute metrics\n",
    "y_pred = lr.predict(X_test)\n",
    "r2 = lr.score(X_test, y_test)\n",
    "rmse = np.sqrt(mean_squared_error(y_test, y_pred))"
   ]
  },
  {
   "cell_type": "code",
   "execution_count": 11,
   "metadata": {},
   "outputs": [
    {
     "name": "stdout",
     "output_type": "stream",
     "text": [
      "Linear Regression R squared: 0.970733302428696\n",
      "Linear Regression RMSE: 0.020922370447938016\n"
     ]
    }
   ],
   "source": [
    "print(\"Linear Regression R squared: {}\".format(r2))\n",
    "print(\"Linear Regression RMSE: {}\".format(rmse))"
   ]
  },
  {
   "cell_type": "code",
   "execution_count": 12,
   "metadata": {},
   "outputs": [
    {
     "data": {
      "image/png": "[encoded data removed]",
      "text/plain": [
       "<Figure size 1152x768 with 2 Axes>"
      ]
     },
     "metadata": {},
     "output_type": "display_data"
    }
   ],
   "source": [
    "from yellowbrick.regressor import ResidualsPlot\n",
    "\n",
    "visualizer = ResidualsPlot(lr, size=(1152, 768), alpha = 0.8)\n",
    "\n",
    "visualizer.fit(X_train, y_train)  # Fit the training data to the model\n",
    "visualizer.score(X_test, y_test)  # Evaluate the model on the test data\n",
    "visualizer.poof();                # Draw/show/poof the data"
   ]
  },
  {
   "cell_type": "markdown",
   "metadata": {},
   "source": [
    "# _ASSESSMENT: MULTIPLE LINEAR REGRESSION_"
   ]
  },
  {
   "cell_type": "markdown",
   "metadata": {},
   "source": [
    "So the performance of the model looks pretty amazing! The first statistic, the R squared, basically indicates how close the data is to the fitted regression line. The scale for this number is between 0 and 1.0, with 0 indicating that the model does not explain any of the variability of the response variable (it would basically just be a random assortment of points) and 1 indicating a 'perfect' model in that the model explains all of the variability of the response variable. With our R^2 statistic being ~0.96, this model looks nearly perfect! \n",
    "\n",
    "Next, we'll take a look at the RMSE, or root mean square error. This metric also indicates how close the observed data points are to the model's predicted values and is extremely useful in that it is presented in the same units as the response variable i.e. `WS/48`. So our RMSE is ~0.0177 which tells us that on average our predictions were this far off from the observed value.\n",
    "\n",
    "Lastly, let's look at the residual plot. For the most part it looks good; the resiudals (i.e. the difference in the predicted value and observed value) are not systematically high or low and appear to be centered on zero. Also, the histograms to the right look approximately normally distributed, which is assumed in OLS regression. There appears to be a few outliers, particularly two that severely underestimated `WS/48` which is somewhat concerning and definitely worth looking into. Overall though, this is an impressive start. \n",
    "\n",
    "Looks like we got ourselves a model then, right? __WRONG__. \n",
    "\n",
    "But before I go further I want to create the same model as before but this time with the `statsmodels` module, which is way better than `sklearn` in regards to statistical data exploration and tests."
   ]
  },
  {
   "cell_type": "code",
   "execution_count": 13,
   "metadata": {},
   "outputs": [
    {
     "name": "stderr",
     "output_type": "stream",
     "text": [
      "/Users/joeai/miniconda3/lib/python3.6/importlib/_bootstrap.py:219: RuntimeWarning: numpy.ufunc size changed, may indicate binary incompatibility. Expected 216, got 192\n",
      "  return f(*args, **kwds)\n",
      "/Users/joeai/miniconda3/lib/python3.6/importlib/_bootstrap.py:219: ImportWarning: can't resolve package from __spec__ or __package__, falling back on __name__ and __path__\n",
      "  return f(*args, **kwds)\n",
      "/Users/joeai/miniconda3/lib/python3.6/importlib/_bootstrap.py:219: RuntimeWarning: numpy.ufunc size changed, may indicate binary incompatibility. Expected 192 from C header, got 216 from PyObject\n",
      "  return f(*args, **kwds)\n"
     ]
    },
    {
     "name": "stdout",
     "output_type": "stream",
     "text": [
      "                            OLS Regression Results                            \n",
      "==============================================================================\n",
      "Dep. Variable:                  WS/48   R-squared:                       0.989\n",
      "Model:                            OLS   Adj. R-squared:                  0.989\n",
      "Method:                 Least Squares   F-statistic:                     9670.\n",
      "Date:                Sun, 21 Apr 2019   Prob (F-statistic):               0.00\n",
      "Time:                        16:38:02   Log-Likelihood:                 13830.\n",
      "No. Observations:                4759   AIC:                        -2.757e+04\n",
      "Df Residuals:                    4716   BIC:                        -2.730e+04\n",
      "Df Model:                          43                                         \n",
      "Covariance Type:            nonrobust                                         \n",
      "==============================================================================\n",
      "                 coef    std err          t      P>|t|      [0.025      0.975]\n",
      "------------------------------------------------------------------------------\n",
      "Age            0.0001   4.72e-05      2.936      0.003    4.61e-05       0.000\n",
      "G           9.352e-05   2.11e-05      4.435      0.000    5.22e-05       0.000\n",
      "GS          4.174e-05   1.48e-05      2.818      0.005    1.27e-05    7.08e-05\n",
      "MP         -3.928e-06   9.22e-07     -4.262      0.000   -5.74e-06   -2.12e-06\n",
      "FG          4.899e-05      0.006      0.008      0.994      -0.012       0.012\n",
      "FGA            0.0144      0.004      3.455      0.001       0.006       0.023\n",
      "FG%            0.0374      0.012      3.056      0.002       0.013       0.061\n",
      "3P             0.0055      0.006      0.970      0.332      -0.006       0.017\n",
      "3PA            0.0032      0.004      0.769      0.442      -0.005       0.011\n",
      "3P%           -0.0088      0.002     -5.303      0.000      -0.012      -0.006\n",
      "2P            -0.0077      0.005     -1.678      0.093      -0.017       0.001\n",
      "2PA            0.0020      0.004      0.478      0.633      -0.006       0.010\n",
      "2P%            0.0349      0.005      7.587      0.000       0.026       0.044\n",
      "FT             0.0018      0.003      0.680      0.496      -0.003       0.007\n",
      "FTA            0.0060      0.000     13.309      0.000       0.005       0.007\n",
      "FT%            0.0112      0.002      7.209      0.000       0.008       0.014\n",
      "ORB           -0.0259      0.004     -6.512      0.000      -0.034      -0.018\n",
      "DRB            0.0103      0.004      2.635      0.008       0.003       0.018\n",
      "TRB           -0.0130      0.004     -3.323      0.001      -0.021      -0.005\n",
      "AST           -0.0038      0.001     -5.001      0.000      -0.005      -0.002\n",
      "STL           -0.0393      0.024     -1.662      0.097      -0.086       0.007\n",
      "BLK           -0.0081      0.002     -3.835      0.000      -0.012      -0.004\n",
      "TOV            0.0062      0.001      7.058      0.000       0.004       0.008\n",
      "PF             0.0090      0.000     34.630      0.000       0.009       0.010\n",
      "PTS            0.0022      0.003      0.808      0.419      -0.003       0.007\n",
      "ORtg           0.0001   3.35e-05      3.052      0.002    3.66e-05       0.000\n",
      "DRtg          -0.0009   3.06e-05    -28.332      0.000      -0.001      -0.001\n",
      "PER            0.0261      0.001     36.765      0.000       0.025       0.028\n",
      "TS%           -0.0796      0.012     -6.639      0.000      -0.103      -0.056\n",
      "3PAr           0.0151      0.003      4.339      0.000       0.008       0.022\n",
      "FTr            0.0054      0.002      3.336      0.001       0.002       0.009\n",
      "ORB%          -0.0002      0.001     -0.328      0.743      -0.002       0.001\n",
      "DRB%          -0.0200      0.000    -40.328      0.000      -0.021      -0.019\n",
      "TRB%           0.0347      0.001     32.071      0.000       0.033       0.037\n",
      "AST%           0.0007      0.000      3.396      0.001       0.000       0.001\n",
      "STL%           0.0167      0.024      0.705      0.481      -0.030       0.063\n",
      "BLK%          -0.0122      0.001     -9.242      0.000      -0.015      -0.010\n",
      "TOV%           0.0006   8.04e-05      7.794      0.000       0.000       0.001\n",
      "USG%          -0.0245      0.001    -28.003      0.000      -0.026      -0.023\n",
      "OBPM          -0.0164      0.004     -4.186      0.000      -0.024      -0.009\n",
      "DBPM           0.0124      0.004      3.167      0.002       0.005       0.020\n",
      "BPM            0.0011      0.004      0.274      0.784      -0.007       0.009\n",
      "VORP           0.0019      0.000      7.140      0.000       0.001       0.002\n",
      "==============================================================================\n",
      "Omnibus:                     2293.895   Durbin-Watson:                   1.995\n",
      "Prob(Omnibus):                  0.000   Jarque-Bera (JB):          1525437.962\n",
      "Skew:                          -0.878   Prob(JB):                         0.00\n",
      "Kurtosis:                      90.692   Cond. No.                     2.62e+05\n",
      "==============================================================================\n",
      "\n",
      "Warnings:\n",
      "[1] Standard Errors assume that the covariance matrix of the errors is correctly specified.\n",
      "[2] The condition number is large, 2.62e+05. This might indicate that there are\n",
      "strong multicollinearity or other numerical problems.\n"
     ]
    },
    {
     "name": "stderr",
     "output_type": "stream",
     "text": [
      "/Users/joeai/miniconda3/lib/python3.6/site-packages/numpy/core/fromnumeric.py:2389: FutureWarning: Method .ptp is deprecated and will be removed in a future version. Use numpy.ptp instead.\n",
      "  return ptp(axis=axis, out=out, **kwargs)\n"
     ]
    }
   ],
   "source": [
    "import statsmodels.api as sm\n",
    "\n",
    "X_stats = np.array(X) # convert to numpy array\n",
    "X_stats = sm.add_constant(X) # with statsmodels an intercept is not included by default so we need to add one\n",
    "\n",
    "model = sm.OLS(y, X).fit() # fit ordinary least squares model \n",
    "predictions = model.predict(X) # predict values from fitted model\n",
    "\n",
    "print_model = model.summary() \n",
    "print(print_model) # return a summary of the regression results"
   ]
  },
  {
   "cell_type": "markdown",
   "metadata": {},
   "source": [
    "# _Interpretation of `statsmodels` result_"
   ]
  },
  {
   "cell_type": "markdown",
   "metadata": {},
   "source": [
    "Using the same features as the model we created with `sklearn`, we were able to create a model that had an R squared of 0.989, which was slightly better (albeit we did not split the data into train/test sets, a big no-no). \n",
    "\n",
    "However, when we scroll to the bottom we see under `Warnings` a message talking about a condition number being large, indicating the possibility of strong multicollinearity. What does this mean? \n",
    "\n",
    "While I won't go to deeply into exactly what the condition number is (as it is a little above my mental pay-grade and involves the use of matrices and derivatives) but from a high level it is a measure of how sensitve a function is to changes or errors in input. For linear regression specifically, it is used as a diagnostic for multicollinearity.\n",
    "\n",
    "Now this model has a high condition number which indicates multicollinearity, but what exactly does multicollinearity mean? \n",
    "\n",
    "To start off, collinearity means there is an association between _two_ explanatory (independent) variables, which means that two of the features we're using have a relationship between each other. Now, multicollinearity is when two or more explanatory variables (i.e. features) in a multiple regression model are highly linearly related. [1](https://en.wikipedia.org/wiki/Multicollinearity)\n",
    "\n",
    "Going back to our `statsmodels` example, we can see from the features that this makes total sense. A quick example is in regards to `G` (games played) and `GS` (games started); if a player plays in more games, there is probably going to be a greater liklihood that he is going to have started in more games. In other words, these two variables have a relationship! Another example to drive home the point would be in all the shooting percentages -- `FG%`, `3P%`, `2P%`, `FT%` -- as they all depend on the number of makes and attempts which are also in the feature set! \n",
    "\n",
    "Hopefully you can see a trend with regards to our feature set and multicollinearity. With basketball statistics, and the relatedness that a lot of them have with each other, I wasn't surprised when this happened. \n",
    "\n",
    "Additionally, let's take a look at the `P>|t|` column above. This column represents the `p-values` that tests the null hypothesis that the coefficient of that particular variable (i.e. feature) has no effect on the relationship. Generally a threshold of 0.05 is set, with a number below this representing the case that we reject the null hypothesis of no effect in favor of the alternative which is that this coefficient does have an effect on the response. \n",
    "\n",
    "What is slightly confusing however is that there are some variables, like `FG` and `PTS`, that indicated a pretty signficant relationship during our exploratory data analysis (via scatter plots) but have high p-values (i.e. we cannot reject the null hypothesis that they have no effect). My hypothesis is that the high complexity (i.e. high # of total features) of the model is leading to 'noise' crowding out the relationship. \n",
    "\n",
    "At this point we've poked quite a few holes in this model but where do we go from here?\n",
    "\n",
    "The logical next step would seem to point towards feature selection, which is a very important concept in machine learning and involves selecting the most relevant variables for use in predicting the response variable, which in our case is `WS/48`. \n",
    "\n",
    "No we could begin by doing something along the lines of examing R squared value of each of the variables and `WS/48`, then use a subset of variables to create a model. However, this can be tedious and there is not guarantee that we won't encounter multicollinearity again. \n",
    "\n",
    "Which is what brings me to a new concept, called regularization..."
   ]
  },
  {
   "cell_type": "markdown",
   "metadata": {},
   "source": [
    "# L1 and L2 Regularization Methods"
   ]
  },
  {
   "cell_type": "markdown",
   "metadata": {},
   "source": [
    "First I want to begin by showing a (relatively) simple chart:\n",
    "    \n",
    "![Model Complexity](model_complexity.png)"
   ]
  },
  {
   "cell_type": "markdown",
   "metadata": {},
   "source": [
    "### What is this showing us?\n",
    "\n",
    "Three words: bias-variance tradeoff. \n",
    "\n",
    "Bias is associated with the features of the model, in that the more features you include the less likely you are to miss the relevant relations between the features and response variable. For the most part, the more features you include, the better you are able to capture the relationship and the less 'biased' the model becomes.\n",
    "\n",
    "Variance has to do with sensitivity to 'noise', which are random disturbances in the data. Overfitting can happen when an algorithm begins to model this random noise versus the features we input into it. \n",
    "\n",
    "As you can see the more complex we make a model, we decrease the bias which is a good thing. However, there is a trade-off and that is we can begin to increase the variance expnentially, which is not a good thing. This is what has happened in our case; we've made two models that have low bias but high variance. \n",
    "\n",
    "Some may be wondering though, why is this whole bias-variance tradoff a big deal to begin with? It has to do with generalizing to unseen data.\n",
    "\n",
    "When we gather data, we are essentially gathering a sample. For example, in our case we have gathered data from the past 10 NBA seasons yet the NBA's inaugural season was in 1946! So out of approximately 72 seasons we have data for only 10 of those. What we are hoping for though is to create a model with this sample that we could also use on data from the 1977 season as well, and would still do a good job. In other words, we want to be able to generalize it which means we are can confidently apply it to any NBA season (given we have the statistics from that particular season). \n",
    "\n",
    "At this point, I would not feel comfortable doing that. There might be certain patterns and/or 'noise' within this particular dataset that the model is including and if we were to test it on a new data set (which doesn't have this particular noise) it would probably fail. And why would you want to make a model that performs well in only particular context?\n",
    "\n",
    "That being said, we want to decrease the bias (i.e. model complexity) of our model in hopes that we can also decrease the variance and in turn minimize the total error. "
   ]
  },
  {
   "cell_type": "markdown",
   "metadata": {},
   "source": [
    "### Regularization, and Lasso or Ridge?\n",
    "\n",
    "What we want to do is address the issue of overfitting and regularization is one way to do this. It does this by adding penalties to the original OLS equation, as the model complexity increases. \n",
    "\n",
    "The two examples we'll look at -- Lasso and Ridge -- add the penalty in slightly different ways.\n",
    "\n",
    "Lasso Regression (Least Absolute Shrinkage and Selection Operator) adds a penalty equivalent to the absolute value of the magnitude of the coefficients. Now what is the significance of a large coefficient (i.e. how much the dependent variable is expected to increase when that independent variable increases by one)?\n",
    "\n",
    "It means that that particular feature is a good predictor for the outcome however, when it becomes too large the algortihm will begin to model the intricate relations (i.e. the 'noise') which causes overfitting. \n",
    "\n",
    "# TO BE CONTINUED (NEED TO FINISH THIS SECTION)"
   ]
  },
  {
   "cell_type": "markdown",
   "metadata": {},
   "source": [
    "# _Ridge Regression_"
   ]
  },
  {
   "cell_type": "code",
   "execution_count": 14,
   "metadata": {},
   "outputs": [],
   "source": [
    "# import necessary modules\n",
    "from sklearn.preprocessing import scale \n",
    "from sklearn.linear_model import Ridge\n",
    "from sklearn.model_selection import cross_val_score"
   ]
  },
  {
   "cell_type": "code",
   "execution_count": 15,
   "metadata": {},
   "outputs": [],
   "source": [
    "# function to plot cross-validated R squared scores and standard error for varying different alphas\n",
    "def display_plot(cv_scores, cv_scores_std):\n",
    "    fig = plt.figure(figsize = (12,10))\n",
    "    ax = fig.add_subplot(1,1,1)\n",
    "    ax.plot(alpha_space, cv_scores)\n",
    "\n",
    "    std_error = cv_scores_std / np.sqrt(10)\n",
    "\n",
    "    ax.fill_between(alpha_space, cv_scores + std_error, cv_scores - std_error, alpha=0.2)\n",
    "    ax.set_ylabel('CV Score +/- Std Error')\n",
    "    ax.set_xlabel('Alpha')\n",
    "    ax.axhline(np.max(cv_scores), linestyle='--', color='.5')\n",
    "    ax.set_xlim([alpha_space[0], alpha_space[-1]])\n",
    "    ax.set_xscale('log')\n",
    "    plt.show();"
   ]
  },
  {
   "cell_type": "code",
   "execution_count": 16,
   "metadata": {},
   "outputs": [],
   "source": [
    "# Setup the array of alphas and lists to store scores\n",
    "alpha_space = np.logspace(-10, 10, 200)\n",
    "ridge_scores = []\n",
    "ridge_scores_std = []"
   ]
  },
  {
   "cell_type": "code",
   "execution_count": 17,
   "metadata": {},
   "outputs": [
    {
     "name": "stderr",
     "output_type": "stream",
     "text": [
      "/Users/joeai/miniconda3/lib/python3.6/site-packages/ipykernel_launcher.py:1: DataConversionWarning: Data with input dtype int64, float64 were all converted to float64 by the scale function.\n",
      "  \"\"\"Entry point for launching an IPython kernel.\n"
     ]
    }
   ],
   "source": [
    "X_scaled = scale(X);"
   ]
  },
  {
   "cell_type": "code",
   "execution_count": 18,
   "metadata": {},
   "outputs": [],
   "source": [
    "# Create a ridge regressor: ridge\n",
    "ridge = Ridge()"
   ]
  },
  {
   "cell_type": "code",
   "execution_count": 19,
   "metadata": {},
   "outputs": [],
   "source": [
    "# Compute scores over range of alphas\n",
    "for alpha in alpha_space:\n",
    "\n",
    "    # Specify the alpha value to use: ridge.alpha\n",
    "    ridge.alpha = alpha\n",
    "    \n",
    "    # Perform 10-fold CV: ridge_cv_scores\n",
    "    ridge_cv_scores = cross_val_score(ridge, X, y, cv=10)\n",
    "    \n",
    "    # Append the mean of ridge_cv_scores to ridge_scores\n",
    "    ridge_scores.append(np.mean(ridge_cv_scores))\n",
    "    \n",
    "    # Append the std of ridge_cv_scores to ridge_scores_std\n",
    "    ridge_scores_std.append(np.std(ridge_cv_scores))"
   ]
  },
  {
   "cell_type": "code",
   "execution_count": 20,
   "metadata": {},
   "outputs": [
    {
     "data": {
      "image/png": "[encoded data removed]",
      "text/plain": [
       "<Figure size 864x720 with 1 Axes>"
      ]
     },
     "metadata": {},
     "output_type": "display_data"
    }
   ],
   "source": [
    "# Display the plot\n",
    "display_plot(ridge_scores, ridge_scores_std)"
   ]
  },
  {
   "cell_type": "code",
   "execution_count": 21,
   "metadata": {},
   "outputs": [],
   "source": [
    "# import necessary modules\n",
    "from sklearn.preprocessing import scale \n",
    "from sklearn.model_selection import train_test_split, GridSearchCV\n",
    "from sklearn.linear_model import Ridge, RidgeCV, Lasso, LassoCV\n",
    "from sklearn.metrics import mean_squared_error"
   ]
  },
  {
   "cell_type": "code",
   "execution_count": 22,
   "metadata": {},
   "outputs": [
    {
     "data": {
      "text/plain": [
       "(200, 43)"
      ]
     },
     "execution_count": 22,
     "metadata": {},
     "output_type": "execute_result"
    }
   ],
   "source": [
    "ridge = Ridge()\n",
    "coefs = []\n",
    "\n",
    "for a in alpha_space:\n",
    "    ridge.set_params(alpha = a)\n",
    "    ridge.fit(X_scaled, y)\n",
    "    coefs.append(ridge.coef_)\n",
    "    \n",
    "np.shape(coefs)"
   ]
  },
  {
   "cell_type": "code",
   "execution_count": 23,
   "metadata": {},
   "outputs": [
    {
     "data": {
      "image/png": "[encoded data removed]",
      "text/plain": [
       "<Figure size 576x396 with 1 Axes>"
      ]
     },
     "metadata": {},
     "output_type": "display_data"
    }
   ],
   "source": [
    "ax = plt.gca()\n",
    "ax.plot(alpha_space, coefs)\n",
    "ax.set_xscale('log')\n",
    "plt.axis('tight')\n",
    "plt.xlabel('alpha')\n",
    "plt.ylabel('weights');"
   ]
  },
  {
   "cell_type": "code",
   "execution_count": 24,
   "metadata": {},
   "outputs": [],
   "source": [
    "# Create training and test sets\n",
    "Xs_train, Xs_test, y_train, y_test = train_test_split(X_scaled, y, test_size = 0.2, random_state=1) # scaled features\n",
    "# X_train, X_test, y_train, y_test = train_test_split(X, y, test_size = 0.2, random_state=1) # unscaled features"
   ]
  },
  {
   "cell_type": "code",
   "execution_count": 25,
   "metadata": {},
   "outputs": [],
   "source": [
    "# Setup the hyperparameter grid\n",
    "alpha_space = np.logspace(-10, 10, 200)\n",
    "param_grid = {'alpha': alpha_space,\n",
    "             'normalize': [True, False]}"
   ]
  },
  {
   "cell_type": "code",
   "execution_count": 26,
   "metadata": {},
   "outputs": [],
   "source": [
    "# Create a ridge regressor: ridge\n",
    "ridge = Ridge(random_state=1)"
   ]
  },
  {
   "cell_type": "code",
   "execution_count": 27,
   "metadata": {},
   "outputs": [],
   "source": [
    "ridge_grid = GridSearchCV(ridge, param_grid, cv=10)"
   ]
  },
  {
   "cell_type": "code",
   "execution_count": 28,
   "metadata": {},
   "outputs": [
    {
     "data": {
      "text/plain": [
       "GridSearchCV(cv=10, error_score='raise-deprecating',\n",
       "       estimator=Ridge(alpha=1.0, copy_X=True, fit_intercept=True, max_iter=None,\n",
       "   normalize=False, random_state=1, solver='auto', tol=0.001),\n",
       "       fit_params=None, iid='warn', n_jobs=None,\n",
       "       param_grid={'alpha': array([1.00000e-10, 1.26038e-10, ..., 7.93410e+09, 1.00000e+10]), 'normalize': [True, False]},\n",
       "       pre_dispatch='2*n_jobs', refit=True, return_train_score='warn',\n",
       "       scoring=None, verbose=0)"
      ]
     },
     "execution_count": 28,
     "metadata": {},
     "output_type": "execute_result"
    }
   ],
   "source": [
    "# fit the model on scaled features\n",
    "ridge_grid.fit(Xs_train, y_train)"
   ]
  },
  {
   "cell_type": "code",
   "execution_count": 29,
   "metadata": {},
   "outputs": [
    {
     "name": "stdout",
     "output_type": "stream",
     "text": [
      "Tuned Ridge Regression Parameters on scaled features: {'alpha': 0.043976036093027304, 'normalize': False}\n",
      "Best score is 0.9626597873207982\n"
     ]
    }
   ],
   "source": [
    "# Print the tuned parameters and score\n",
    "print(\"Tuned Ridge Regression Parameters on scaled features: {}\".format(ridge_grid.best_params_)) \n",
    "print(\"Best score is {}\".format(ridge_grid.best_score_))"
   ]
  },
  {
   "cell_type": "code",
   "execution_count": 30,
   "metadata": {},
   "outputs": [
    {
     "data": {
      "text/plain": [
       "Ridge(alpha=0.043976036093027304, copy_X=True, fit_intercept=True,\n",
       "   max_iter=None, normalize=False, random_state=None, solver='auto',\n",
       "   tol=0.001)"
      ]
     },
     "execution_count": 30,
     "metadata": {},
     "output_type": "execute_result"
    }
   ],
   "source": [
    "ridge2 = Ridge(alpha = ridge_grid.best_params_['alpha'], normalize = False)\n",
    "ridge2.fit(Xs_train, y_train)"
   ]
  },
  {
   "cell_type": "code",
   "execution_count": 31,
   "metadata": {},
   "outputs": [
    {
     "name": "stdout",
     "output_type": "stream",
     "text": [
      "Ridge Regression Alpha: 0.043976036093027304\n",
      "Ridge Regression R squared: 0.9705973556536002\n",
      "Ridge Regression RMSE: 0.020970907413601664\n"
     ]
    }
   ],
   "source": [
    "# Predict on the hold out set and compute metrics\n",
    "y_pred = ridge2.predict(Xs_test)\n",
    "r2 = ridge2.score(Xs_test, y_test)\n",
    "rmse = np.sqrt(mean_squared_error(y_test, y_pred))\n",
    "\n",
    "print(\"Ridge Regression Alpha: {}\".format(ridge_grid.best_params_['alpha']))\n",
    "print(\"Ridge Regression R squared: {}\".format(r2))\n",
    "print(\"Ridge Regression RMSE: {}\".format(rmse))"
   ]
  },
  {
   "cell_type": "code",
   "execution_count": 32,
   "metadata": {},
   "outputs": [
    {
     "data": {
      "text/plain": [
       "Age     0.000376\n",
       "G       0.002602\n",
       "GS      0.000657\n",
       "MP     -0.004013\n",
       "FG      0.002873\n",
       "FGA     0.053467\n",
       "FG%     0.002683\n",
       "3P      0.007670\n",
       "3PA     0.001367\n",
       "3P%    -0.000125\n",
       "2P     -0.007266\n",
       "2PA    -0.002177\n",
       "2P%     0.002134\n",
       "FT      0.010886\n",
       "FTA     0.007069\n",
       "FT%     0.001778\n",
       "ORB    -0.043929\n",
       "DRB     0.011990\n",
       "TRB    -0.036506\n",
       "AST    -0.003894\n",
       "STL    -0.011364\n",
       "BLK    -0.006382\n",
       "TOV     0.000923\n",
       "PF      0.015265\n",
       "PTS     0.025883\n",
       "ORtg    0.001389\n",
       "DRtg   -0.009696\n",
       "PER     0.120344\n",
       "TS%    -0.004300\n",
       "3PAr    0.005445\n",
       "FTr     0.001333\n",
       "ORB%   -0.014338\n",
       "DRB%   -0.111252\n",
       "TRB%    0.160337\n",
       "AST%    0.005701\n",
       "STL%   -0.003480\n",
       "BLK%   -0.014594\n",
       "TOV%    0.002673\n",
       "USG%   -0.108183\n",
       "OBPM   -0.047569\n",
       "DBPM    0.013869\n",
       "BPM     0.016532\n",
       "VORP    0.002450\n",
       "dtype: float64"
      ]
     },
     "execution_count": 32,
     "metadata": {},
     "output_type": "execute_result"
    }
   ],
   "source": [
    "# coefficients associated with each feature of the regression model\n",
    "pd.Series(ridge2.coef_, index = X.columns)"
   ]
  },
  {
   "cell_type": "code",
   "execution_count": 33,
   "metadata": {},
   "outputs": [
    {
     "data": {
      "image/png": "[encoded data removed]",
      "text/plain": [
       "<Figure size 1152x768 with 2 Axes>"
      ]
     },
     "metadata": {},
     "output_type": "display_data"
    }
   ],
   "source": [
    "from yellowbrick.regressor import ResidualsPlot\n",
    "\n",
    "visualizer = ResidualsPlot(ridge2, size=(1152, 768), alpha = 0.8)\n",
    "\n",
    "visualizer.fit(Xs_train, y_train)  # Fit the training data to the model\n",
    "visualizer.score(Xs_test, y_test)  # Evaluate the model on the test data\n",
    "visualizer.poof();                # Draw/show/poof the data"
   ]
  },
  {
   "cell_type": "markdown",
   "metadata": {},
   "source": [
    "# Testing Model On Unseen 2019 Data"
   ]
  },
  {
   "cell_type": "code",
   "execution_count": 34,
   "metadata": {},
   "outputs": [
    {
     "data": {
      "text/html": [
       "<div>\n",
       "<style scoped>\n",
       "    .dataframe tbody tr th:only-of-type {\n",
       "        vertical-align: middle;\n",
       "    }\n",
       "\n",
       "    .dataframe tbody tr th {\n",
       "        vertical-align: top;\n",
       "    }\n",
       "\n",
       "    .dataframe thead th {\n",
       "        text-align: right;\n",
       "    }\n",
       "</style>\n",
       "<table border=\"1\" class=\"dataframe\">\n",
       "  <thead>\n",
       "    <tr style=\"text-align: right;\">\n",
       "      <th></th>\n",
       "      <th>Player</th>\n",
       "      <th>Pos</th>\n",
       "      <th>Age</th>\n",
       "      <th>Tm</th>\n",
       "      <th>G</th>\n",
       "      <th>GS</th>\n",
       "      <th>MP</th>\n",
       "      <th>FG</th>\n",
       "      <th>FGA</th>\n",
       "      <th>FG%</th>\n",
       "      <th>3P</th>\n",
       "      <th>3PA</th>\n",
       "      <th>3P%</th>\n",
       "      <th>2P</th>\n",
       "      <th>2PA</th>\n",
       "      <th>2P%</th>\n",
       "      <th>FT</th>\n",
       "      <th>FTA</th>\n",
       "      <th>FT%</th>\n",
       "      <th>ORB</th>\n",
       "      <th>DRB</th>\n",
       "      <th>TRB</th>\n",
       "      <th>AST</th>\n",
       "      <th>STL</th>\n",
       "      <th>BLK</th>\n",
       "      <th>TOV</th>\n",
       "      <th>PF</th>\n",
       "      <th>PTS</th>\n",
       "      <th>ORtg</th>\n",
       "      <th>DRtg</th>\n",
       "      <th>PER</th>\n",
       "      <th>TS%</th>\n",
       "      <th>3PAr</th>\n",
       "      <th>FTr</th>\n",
       "      <th>ORB%</th>\n",
       "      <th>DRB%</th>\n",
       "      <th>TRB%</th>\n",
       "      <th>AST%</th>\n",
       "      <th>STL%</th>\n",
       "      <th>BLK%</th>\n",
       "      <th>TOV%</th>\n",
       "      <th>USG%</th>\n",
       "      <th>OWS</th>\n",
       "      <th>DWS</th>\n",
       "      <th>WS</th>\n",
       "      <th>WS/48</th>\n",
       "      <th>OBPM</th>\n",
       "      <th>DBPM</th>\n",
       "      <th>BPM</th>\n",
       "      <th>VORP</th>\n",
       "      <th>Year</th>\n",
       "    </tr>\n",
       "  </thead>\n",
       "  <tbody>\n",
       "    <tr>\n",
       "      <th>0</th>\n",
       "      <td>Alex Abrines</td>\n",
       "      <td>SG</td>\n",
       "      <td>25</td>\n",
       "      <td>OKC</td>\n",
       "      <td>31</td>\n",
       "      <td>2</td>\n",
       "      <td>588</td>\n",
       "      <td>4.4</td>\n",
       "      <td>12.5</td>\n",
       "      <td>0.357</td>\n",
       "      <td>3.3</td>\n",
       "      <td>10.1</td>\n",
       "      <td>0.323</td>\n",
       "      <td>1.2</td>\n",
       "      <td>2.4</td>\n",
       "      <td>0.500</td>\n",
       "      <td>1.0</td>\n",
       "      <td>1.0</td>\n",
       "      <td>0.923</td>\n",
       "      <td>0.4</td>\n",
       "      <td>3.4</td>\n",
       "      <td>3.8</td>\n",
       "      <td>1.6</td>\n",
       "      <td>1.3</td>\n",
       "      <td>0.5</td>\n",
       "      <td>1.1</td>\n",
       "      <td>4.2</td>\n",
       "      <td>13.1</td>\n",
       "      <td>103.0</td>\n",
       "      <td>111</td>\n",
       "      <td>6.3</td>\n",
       "      <td>0.507</td>\n",
       "      <td>0.809</td>\n",
       "      <td>0.083</td>\n",
       "      <td>0.9</td>\n",
       "      <td>7.8</td>\n",
       "      <td>4.2</td>\n",
       "      <td>4.3</td>\n",
       "      <td>1.3</td>\n",
       "      <td>0.9</td>\n",
       "      <td>7.9</td>\n",
       "      <td>12.2</td>\n",
       "      <td>0.1</td>\n",
       "      <td>0.6</td>\n",
       "      <td>0.6</td>\n",
       "      <td>0.053</td>\n",
       "      <td>-2.4</td>\n",
       "      <td>-0.9</td>\n",
       "      <td>-3.4</td>\n",
       "      <td>-0.2</td>\n",
       "      <td>2019</td>\n",
       "    </tr>\n",
       "    <tr>\n",
       "      <th>1</th>\n",
       "      <td>Quincy Acy</td>\n",
       "      <td>PF</td>\n",
       "      <td>28</td>\n",
       "      <td>PHO</td>\n",
       "      <td>10</td>\n",
       "      <td>0</td>\n",
       "      <td>123</td>\n",
       "      <td>1.6</td>\n",
       "      <td>7.0</td>\n",
       "      <td>0.222</td>\n",
       "      <td>0.8</td>\n",
       "      <td>5.8</td>\n",
       "      <td>0.133</td>\n",
       "      <td>0.8</td>\n",
       "      <td>1.2</td>\n",
       "      <td>0.667</td>\n",
       "      <td>2.7</td>\n",
       "      <td>3.9</td>\n",
       "      <td>0.700</td>\n",
       "      <td>1.2</td>\n",
       "      <td>8.5</td>\n",
       "      <td>9.7</td>\n",
       "      <td>3.1</td>\n",
       "      <td>0.4</td>\n",
       "      <td>1.6</td>\n",
       "      <td>1.6</td>\n",
       "      <td>9.3</td>\n",
       "      <td>6.6</td>\n",
       "      <td>87.0</td>\n",
       "      <td>116</td>\n",
       "      <td>2.9</td>\n",
       "      <td>0.379</td>\n",
       "      <td>0.833</td>\n",
       "      <td>0.556</td>\n",
       "      <td>2.7</td>\n",
       "      <td>20.1</td>\n",
       "      <td>11.3</td>\n",
       "      <td>8.2</td>\n",
       "      <td>0.4</td>\n",
       "      <td>2.7</td>\n",
       "      <td>15.2</td>\n",
       "      <td>9.2</td>\n",
       "      <td>-0.1</td>\n",
       "      <td>0.0</td>\n",
       "      <td>-0.1</td>\n",
       "      <td>-0.022</td>\n",
       "      <td>-5.7</td>\n",
       "      <td>-0.3</td>\n",
       "      <td>-5.9</td>\n",
       "      <td>-0.1</td>\n",
       "      <td>2019</td>\n",
       "    </tr>\n",
       "    <tr>\n",
       "      <th>2</th>\n",
       "      <td>Jaylen Adams</td>\n",
       "      <td>PG</td>\n",
       "      <td>22</td>\n",
       "      <td>ATL</td>\n",
       "      <td>34</td>\n",
       "      <td>1</td>\n",
       "      <td>428</td>\n",
       "      <td>4.1</td>\n",
       "      <td>11.9</td>\n",
       "      <td>0.345</td>\n",
       "      <td>2.7</td>\n",
       "      <td>8.0</td>\n",
       "      <td>0.338</td>\n",
       "      <td>1.4</td>\n",
       "      <td>3.9</td>\n",
       "      <td>0.361</td>\n",
       "      <td>0.8</td>\n",
       "      <td>1.0</td>\n",
       "      <td>0.778</td>\n",
       "      <td>1.2</td>\n",
       "      <td>5.3</td>\n",
       "      <td>6.5</td>\n",
       "      <td>7.0</td>\n",
       "      <td>1.5</td>\n",
       "      <td>0.5</td>\n",
       "      <td>3.0</td>\n",
       "      <td>4.9</td>\n",
       "      <td>11.7</td>\n",
       "      <td>99.0</td>\n",
       "      <td>115</td>\n",
       "      <td>7.6</td>\n",
       "      <td>0.474</td>\n",
       "      <td>0.673</td>\n",
       "      <td>0.082</td>\n",
       "      <td>2.6</td>\n",
       "      <td>12.3</td>\n",
       "      <td>7.4</td>\n",
       "      <td>19.8</td>\n",
       "      <td>1.5</td>\n",
       "      <td>1.0</td>\n",
       "      <td>19.7</td>\n",
       "      <td>13.5</td>\n",
       "      <td>-0.1</td>\n",
       "      <td>0.2</td>\n",
       "      <td>0.1</td>\n",
       "      <td>0.011</td>\n",
       "      <td>-3.1</td>\n",
       "      <td>-1.3</td>\n",
       "      <td>-4.4</td>\n",
       "      <td>-0.3</td>\n",
       "      <td>2019</td>\n",
       "    </tr>\n",
       "  </tbody>\n",
       "</table>\n",
       "</div>"
      ],
      "text/plain": [
       "         Player Pos  Age   Tm   G  GS   MP   FG   FGA    FG%   3P   3PA    3P%   2P  2PA    2P%   FT  FTA    FT%  ORB  DRB  TRB  AST  STL  BLK  TOV   PF   PTS   ORtg  DRtg  PER    TS%   3PAr    FTr  ORB%  DRB%  TRB%  AST%  STL%  BLK%  TOV%  USG%  OWS  DWS   WS  WS/48  OBPM  DBPM  BPM  VORP  Year\n",
       "0  Alex Abrines  SG   25  OKC  31   2  588  4.4  12.5  0.357  3.3  10.1  0.323  1.2  2.4  0.500  1.0  1.0  0.923  0.4  3.4  3.8  1.6  1.3  0.5  1.1  4.2  13.1  103.0   111  6.3  0.507  0.809  0.083   0.9   7.8   4.2   4.3   1.3   0.9   7.9  12.2  0.1  0.6  0.6  0.053  -2.4  -0.9 -3.4  -0.2  2019\n",
       "1    Quincy Acy  PF   28  PHO  10   0  123  1.6   7.0  0.222  0.8   5.8  0.133  0.8  1.2  0.667  2.7  3.9  0.700  1.2  8.5  9.7  3.1  0.4  1.6  1.6  9.3   6.6   87.0   116  2.9  0.379  0.833  0.556   2.7  20.1  11.3   8.2   0.4   2.7  15.2   9.2 -0.1  0.0 -0.1 -0.022  -5.7  -0.3 -5.9  -0.1  2019\n",
       "2  Jaylen Adams  PG   22  ATL  34   1  428  4.1  11.9  0.345  2.7   8.0  0.338  1.4  3.9  0.361  0.8  1.0  0.778  1.2  5.3  6.5  7.0  1.5  0.5  3.0  4.9  11.7   99.0   115  7.6  0.474  0.673  0.082   2.6  12.3   7.4  19.8   1.5   1.0  19.7  13.5 -0.1  0.2  0.1  0.011  -3.1  -1.3 -4.4  -0.3  2019"
      ]
     },
     "execution_count": 34,
     "metadata": {},
     "output_type": "execute_result"
    }
   ],
   "source": [
    "df_2019 = pd.read_csv('data/df_2019.csv')\n",
    "\n",
    "df_2019.head(3)"
   ]
  },
  {
   "cell_type": "code",
   "execution_count": 35,
   "metadata": {},
   "outputs": [],
   "source": [
    "X_2019 = df_2019[features]\n",
    "y_2019 = df_2019['WS/48']"
   ]
  },
  {
   "cell_type": "code",
   "execution_count": 36,
   "metadata": {},
   "outputs": [
    {
     "name": "stderr",
     "output_type": "stream",
     "text": [
      "/Users/joeai/miniconda3/lib/python3.6/site-packages/ipykernel_launcher.py:2: DataConversionWarning: Data with input dtype int64, float64 were all converted to float64 by the scale function.\n",
      "  \n"
     ]
    }
   ],
   "source": [
    "# scale features\n",
    "X_2019_scaled = scale(X_2019)"
   ]
  },
  {
   "cell_type": "code",
   "execution_count": 37,
   "metadata": {},
   "outputs": [],
   "source": [
    "# Split data into training and test sets\n",
    "# X_train, X_test , y_train, y_test = train_test_split(X, y, test_size=0.2, random_state=42)"
   ]
  },
  {
   "cell_type": "code",
   "execution_count": 38,
   "metadata": {},
   "outputs": [
    {
     "name": "stdout",
     "output_type": "stream",
     "text": [
      "Ridge Regression Alpha: 0.043976036093027304\n",
      "Ridge Regression R squared: 0.9583298045850593\n",
      "Ridge Regression RMSE: 0.024392283530720957\n"
     ]
    }
   ],
   "source": [
    "y_pred = ridge2.predict(X_2019_scaled)\n",
    "r2 = ridge2.score(X_2019_scaled, y_2019)\n",
    "rmse = np.sqrt(mean_squared_error(y_2019, y_pred))\n",
    "\n",
    "print(\"Ridge Regression Alpha: {}\".format(ridge_grid.best_params_['alpha']))\n",
    "print(\"Ridge Regression R squared: {}\".format(r2))\n",
    "print(\"Ridge Regression RMSE: {}\".format(rmse))"
   ]
  },
  {
   "cell_type": "code",
   "execution_count": 39,
   "metadata": {},
   "outputs": [
    {
     "data": {
      "image/png": "[encoded data removed]",
      "text/plain": [
       "<Figure size 1152x768 with 2 Axes>"
      ]
     },
     "metadata": {},
     "output_type": "display_data"
    }
   ],
   "source": [
    "from yellowbrick.regressor import ResidualsPlot\n",
    "\n",
    "visualizer = ResidualsPlot(ridge2, size=(1152, 768), alpha = 0.8)\n",
    "\n",
    "# visualizer.fit(X_train, y_train)  # Fit the training data to the model\n",
    "visualizer.score(X_2019_scaled, y_2019)  # Evaluate the model on the test data\n",
    "visualizer.poof();                # Draw/show/poof the data"
   ]
  },
  {
   "cell_type": "code",
   "execution_count": 40,
   "metadata": {},
   "outputs": [],
   "source": [
    "df_2019['WS/48_prediction'] = y_pred"
   ]
  },
  {
   "cell_type": "code",
   "execution_count": null,
   "metadata": {},
   "outputs": [],
   "source": []
  }
 ],
 "metadata": {
  "kernelspec": {
   "display_name": "Python 3",
   "language": "python",
   "name": "python3"
  },
  "language_info": {
   "codemirror_mode": {
    "name": "ipython",
    "version": 3
   },
   "file_extension": ".py",
   "mimetype": "text/x-python",
   "name": "python",
   "nbconvert_exporter": "python",
   "pygments_lexer": "ipython3",
   "version": "3.6.8"
  }
 },
 "nbformat": 4,
 "nbformat_minor": 2
}
