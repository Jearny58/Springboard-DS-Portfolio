{
 "cells": [
  {
   "cell_type": "code",
   "execution_count": 9,
   "metadata": {},
   "outputs": [],
   "source": [
    "import pandas as pd\n",
    "import matplotlib.pyplot as plt\n",
    "import numpy as np\n",
    "%matplotlib inline\n",
    "\n",
    "pd.set_option('display.width', 500)\n",
    "pd.set_option('display.max_columns', 100)"
   ]
  },
  {
   "cell_type": "code",
   "execution_count": 81,
   "metadata": {},
   "outputs": [],
   "source": [
    "# import data\n",
    "df = pd.read_csv('data/df_all.csv')"
   ]
  },
  {
   "cell_type": "code",
   "execution_count": 82,
   "metadata": {},
   "outputs": [],
   "source": [
    "df_threshold = pd.read_csv('data/df_threshold.csv')"
   ]
  },
  {
   "cell_type": "code",
   "execution_count": 83,
   "metadata": {},
   "outputs": [
    {
     "data": {
      "text/html": [
       "<div>\n",
       "<style scoped>\n",
       "    .dataframe tbody tr th:only-of-type {\n",
       "        vertical-align: middle;\n",
       "    }\n",
       "\n",
       "    .dataframe tbody tr th {\n",
       "        vertical-align: top;\n",
       "    }\n",
       "\n",
       "    .dataframe thead th {\n",
       "        text-align: right;\n",
       "    }\n",
       "</style>\n",
       "<table border=\"1\" class=\"dataframe\">\n",
       "  <thead>\n",
       "    <tr style=\"text-align: right;\">\n",
       "      <th></th>\n",
       "      <th>Player</th>\n",
       "      <th>Pos</th>\n",
       "      <th>Age</th>\n",
       "      <th>Tm</th>\n",
       "      <th>G</th>\n",
       "      <th>GS</th>\n",
       "      <th>MP</th>\n",
       "      <th>FG</th>\n",
       "      <th>FGA</th>\n",
       "      <th>FG%</th>\n",
       "      <th>3P</th>\n",
       "      <th>3PA</th>\n",
       "      <th>3P%</th>\n",
       "      <th>2P</th>\n",
       "      <th>2PA</th>\n",
       "      <th>2P%</th>\n",
       "      <th>FT</th>\n",
       "      <th>FTA</th>\n",
       "      <th>FT%</th>\n",
       "      <th>ORB</th>\n",
       "      <th>DRB</th>\n",
       "      <th>TRB</th>\n",
       "      <th>AST</th>\n",
       "      <th>STL</th>\n",
       "      <th>BLK</th>\n",
       "      <th>TOV</th>\n",
       "      <th>PF</th>\n",
       "      <th>PTS</th>\n",
       "      <th>ORtg</th>\n",
       "      <th>DRtg</th>\n",
       "      <th>PER</th>\n",
       "      <th>TS%</th>\n",
       "      <th>3PAr</th>\n",
       "      <th>FTr</th>\n",
       "      <th>ORB%</th>\n",
       "      <th>DRB%</th>\n",
       "      <th>TRB%</th>\n",
       "      <th>AST%</th>\n",
       "      <th>STL%</th>\n",
       "      <th>BLK%</th>\n",
       "      <th>TOV%</th>\n",
       "      <th>USG%</th>\n",
       "      <th>OWS</th>\n",
       "      <th>DWS</th>\n",
       "      <th>WS</th>\n",
       "      <th>WS/48</th>\n",
       "      <th>OBPM</th>\n",
       "      <th>DBPM</th>\n",
       "      <th>BPM</th>\n",
       "      <th>VORP</th>\n",
       "      <th>Year</th>\n",
       "    </tr>\n",
       "  </thead>\n",
       "  <tbody>\n",
       "    <tr>\n",
       "      <th>0</th>\n",
       "      <td>Alex Abrines</td>\n",
       "      <td>SG</td>\n",
       "      <td>24</td>\n",
       "      <td>OKC</td>\n",
       "      <td>75</td>\n",
       "      <td>8</td>\n",
       "      <td>1134</td>\n",
       "      <td>5.0</td>\n",
       "      <td>12.7</td>\n",
       "      <td>0.395</td>\n",
       "      <td>3.7</td>\n",
       "      <td>9.7</td>\n",
       "      <td>0.380</td>\n",
       "      <td>1.4</td>\n",
       "      <td>3.1</td>\n",
       "      <td>0.443</td>\n",
       "      <td>1.7</td>\n",
       "      <td>2.0</td>\n",
       "      <td>0.848</td>\n",
       "      <td>1.1</td>\n",
       "      <td>3.9</td>\n",
       "      <td>5.0</td>\n",
       "      <td>1.2</td>\n",
       "      <td>1.7</td>\n",
       "      <td>0.4</td>\n",
       "      <td>1.1</td>\n",
       "      <td>5.4</td>\n",
       "      <td>15.4</td>\n",
       "      <td>116.0</td>\n",
       "      <td>110.0</td>\n",
       "      <td>9.0</td>\n",
       "      <td>0.567</td>\n",
       "      <td>0.759</td>\n",
       "      <td>0.158</td>\n",
       "      <td>2.5</td>\n",
       "      <td>8.9</td>\n",
       "      <td>5.6</td>\n",
       "      <td>3.4</td>\n",
       "      <td>1.7</td>\n",
       "      <td>0.6</td>\n",
       "      <td>7.4</td>\n",
       "      <td>12.7</td>\n",
       "      <td>1.3</td>\n",
       "      <td>1.0</td>\n",
       "      <td>2.2</td>\n",
       "      <td>0.094</td>\n",
       "      <td>-0.5</td>\n",
       "      <td>-1.7</td>\n",
       "      <td>-2.2</td>\n",
       "      <td>-0.1</td>\n",
       "      <td>2018</td>\n",
       "    </tr>\n",
       "    <tr>\n",
       "      <th>1</th>\n",
       "      <td>Quincy Acy</td>\n",
       "      <td>PF</td>\n",
       "      <td>27</td>\n",
       "      <td>BRK</td>\n",
       "      <td>70</td>\n",
       "      <td>8</td>\n",
       "      <td>1359</td>\n",
       "      <td>4.6</td>\n",
       "      <td>13.0</td>\n",
       "      <td>0.356</td>\n",
       "      <td>3.6</td>\n",
       "      <td>10.4</td>\n",
       "      <td>0.349</td>\n",
       "      <td>1.0</td>\n",
       "      <td>2.6</td>\n",
       "      <td>0.384</td>\n",
       "      <td>1.8</td>\n",
       "      <td>2.1</td>\n",
       "      <td>0.817</td>\n",
       "      <td>1.4</td>\n",
       "      <td>7.8</td>\n",
       "      <td>9.2</td>\n",
       "      <td>2.0</td>\n",
       "      <td>1.2</td>\n",
       "      <td>1.0</td>\n",
       "      <td>2.1</td>\n",
       "      <td>5.3</td>\n",
       "      <td>14.7</td>\n",
       "      <td>99.0</td>\n",
       "      <td>110.0</td>\n",
       "      <td>8.2</td>\n",
       "      <td>0.525</td>\n",
       "      <td>0.800</td>\n",
       "      <td>0.164</td>\n",
       "      <td>3.1</td>\n",
       "      <td>17.1</td>\n",
       "      <td>10.0</td>\n",
       "      <td>6.0</td>\n",
       "      <td>1.2</td>\n",
       "      <td>1.6</td>\n",
       "      <td>13.3</td>\n",
       "      <td>14.4</td>\n",
       "      <td>-0.1</td>\n",
       "      <td>1.1</td>\n",
       "      <td>1.0</td>\n",
       "      <td>0.036</td>\n",
       "      <td>-2.0</td>\n",
       "      <td>-0.2</td>\n",
       "      <td>-2.2</td>\n",
       "      <td>-0.1</td>\n",
       "      <td>2018</td>\n",
       "    </tr>\n",
       "    <tr>\n",
       "      <th>2</th>\n",
       "      <td>Steven Adams</td>\n",
       "      <td>C</td>\n",
       "      <td>24</td>\n",
       "      <td>OKC</td>\n",
       "      <td>76</td>\n",
       "      <td>76</td>\n",
       "      <td>2487</td>\n",
       "      <td>8.9</td>\n",
       "      <td>14.2</td>\n",
       "      <td>0.629</td>\n",
       "      <td>0.0</td>\n",
       "      <td>0.0</td>\n",
       "      <td>0.000</td>\n",
       "      <td>8.9</td>\n",
       "      <td>14.2</td>\n",
       "      <td>0.631</td>\n",
       "      <td>3.2</td>\n",
       "      <td>5.7</td>\n",
       "      <td>0.559</td>\n",
       "      <td>7.7</td>\n",
       "      <td>6.0</td>\n",
       "      <td>13.7</td>\n",
       "      <td>1.8</td>\n",
       "      <td>1.8</td>\n",
       "      <td>1.6</td>\n",
       "      <td>2.6</td>\n",
       "      <td>4.3</td>\n",
       "      <td>21.1</td>\n",
       "      <td>125.0</td>\n",
       "      <td>107.0</td>\n",
       "      <td>20.6</td>\n",
       "      <td>0.630</td>\n",
       "      <td>0.003</td>\n",
       "      <td>0.402</td>\n",
       "      <td>16.6</td>\n",
       "      <td>13.9</td>\n",
       "      <td>15.3</td>\n",
       "      <td>5.5</td>\n",
       "      <td>1.8</td>\n",
       "      <td>2.8</td>\n",
       "      <td>13.3</td>\n",
       "      <td>16.7</td>\n",
       "      <td>6.7</td>\n",
       "      <td>3.0</td>\n",
       "      <td>9.7</td>\n",
       "      <td>0.187</td>\n",
       "      <td>2.2</td>\n",
       "      <td>1.1</td>\n",
       "      <td>3.3</td>\n",
       "      <td>3.3</td>\n",
       "      <td>2018</td>\n",
       "    </tr>\n",
       "  </tbody>\n",
       "</table>\n",
       "</div>"
      ],
      "text/plain": [
       "         Player Pos  Age   Tm   G  GS    MP   FG   FGA    FG%   3P   3PA    3P%   2P   2PA    2P%   FT  FTA    FT%  ORB  DRB   TRB  AST  STL  BLK  TOV   PF   PTS   ORtg   DRtg   PER    TS%   3PAr    FTr  ORB%  DRB%  TRB%  AST%  STL%  BLK%  TOV%  USG%  OWS  DWS   WS  WS/48  OBPM  DBPM  BPM  VORP  Year\n",
       "0  Alex Abrines  SG   24  OKC  75   8  1134  5.0  12.7  0.395  3.7   9.7  0.380  1.4   3.1  0.443  1.7  2.0  0.848  1.1  3.9   5.0  1.2  1.7  0.4  1.1  5.4  15.4  116.0  110.0   9.0  0.567  0.759  0.158   2.5   8.9   5.6   3.4   1.7   0.6   7.4  12.7  1.3  1.0  2.2  0.094  -0.5  -1.7 -2.2  -0.1  2018\n",
       "1    Quincy Acy  PF   27  BRK  70   8  1359  4.6  13.0  0.356  3.6  10.4  0.349  1.0   2.6  0.384  1.8  2.1  0.817  1.4  7.8   9.2  2.0  1.2  1.0  2.1  5.3  14.7   99.0  110.0   8.2  0.525  0.800  0.164   3.1  17.1  10.0   6.0   1.2   1.6  13.3  14.4 -0.1  1.1  1.0  0.036  -2.0  -0.2 -2.2  -0.1  2018\n",
       "2  Steven Adams   C   24  OKC  76  76  2487  8.9  14.2  0.629  0.0   0.0  0.000  8.9  14.2  0.631  3.2  5.7  0.559  7.7  6.0  13.7  1.8  1.8  1.6  2.6  4.3  21.1  125.0  107.0  20.6  0.630  0.003  0.402  16.6  13.9  15.3   5.5   1.8   2.8  13.3  16.7  6.7  3.0  9.7  0.187   2.2   1.1  3.3   3.3  2018"
      ]
     },
     "execution_count": 83,
     "metadata": {},
     "output_type": "execute_result"
    }
   ],
   "source": [
    "df.head(3)"
   ]
  },
  {
   "cell_type": "code",
   "execution_count": 84,
   "metadata": {},
   "outputs": [
    {
     "data": {
      "text/html": [
       "<div>\n",
       "<style scoped>\n",
       "    .dataframe tbody tr th:only-of-type {\n",
       "        vertical-align: middle;\n",
       "    }\n",
       "\n",
       "    .dataframe tbody tr th {\n",
       "        vertical-align: top;\n",
       "    }\n",
       "\n",
       "    .dataframe thead th {\n",
       "        text-align: right;\n",
       "    }\n",
       "</style>\n",
       "<table border=\"1\" class=\"dataframe\">\n",
       "  <thead>\n",
       "    <tr style=\"text-align: right;\">\n",
       "      <th></th>\n",
       "      <th>Age</th>\n",
       "      <th>G</th>\n",
       "      <th>GS</th>\n",
       "      <th>MP</th>\n",
       "      <th>FG</th>\n",
       "      <th>FGA</th>\n",
       "      <th>FG%</th>\n",
       "      <th>3P</th>\n",
       "      <th>3PA</th>\n",
       "      <th>3P%</th>\n",
       "      <th>2P</th>\n",
       "      <th>2PA</th>\n",
       "      <th>2P%</th>\n",
       "      <th>FT</th>\n",
       "      <th>FTA</th>\n",
       "      <th>FT%</th>\n",
       "      <th>ORB</th>\n",
       "      <th>DRB</th>\n",
       "      <th>TRB</th>\n",
       "      <th>AST</th>\n",
       "      <th>STL</th>\n",
       "      <th>BLK</th>\n",
       "      <th>TOV</th>\n",
       "      <th>PF</th>\n",
       "      <th>PTS</th>\n",
       "      <th>ORtg</th>\n",
       "      <th>DRtg</th>\n",
       "      <th>PER</th>\n",
       "      <th>TS%</th>\n",
       "      <th>3PAr</th>\n",
       "      <th>FTr</th>\n",
       "      <th>ORB%</th>\n",
       "      <th>DRB%</th>\n",
       "      <th>TRB%</th>\n",
       "      <th>AST%</th>\n",
       "      <th>STL%</th>\n",
       "      <th>BLK%</th>\n",
       "      <th>TOV%</th>\n",
       "      <th>USG%</th>\n",
       "      <th>OWS</th>\n",
       "      <th>DWS</th>\n",
       "      <th>WS</th>\n",
       "      <th>WS/48</th>\n",
       "      <th>OBPM</th>\n",
       "      <th>DBPM</th>\n",
       "      <th>BPM</th>\n",
       "      <th>VORP</th>\n",
       "    </tr>\n",
       "  </thead>\n",
       "  <tbody>\n",
       "    <tr>\n",
       "      <th>0</th>\n",
       "      <td>24</td>\n",
       "      <td>75</td>\n",
       "      <td>8</td>\n",
       "      <td>1134</td>\n",
       "      <td>5.0</td>\n",
       "      <td>12.7</td>\n",
       "      <td>0.395</td>\n",
       "      <td>3.7</td>\n",
       "      <td>9.7</td>\n",
       "      <td>0.380</td>\n",
       "      <td>1.4</td>\n",
       "      <td>3.1</td>\n",
       "      <td>0.443</td>\n",
       "      <td>1.7</td>\n",
       "      <td>2.0</td>\n",
       "      <td>0.848</td>\n",
       "      <td>1.1</td>\n",
       "      <td>3.9</td>\n",
       "      <td>5.0</td>\n",
       "      <td>1.2</td>\n",
       "      <td>1.7</td>\n",
       "      <td>0.4</td>\n",
       "      <td>1.1</td>\n",
       "      <td>5.4</td>\n",
       "      <td>15.4</td>\n",
       "      <td>116.0</td>\n",
       "      <td>110.0</td>\n",
       "      <td>9.0</td>\n",
       "      <td>0.567</td>\n",
       "      <td>0.759</td>\n",
       "      <td>0.158</td>\n",
       "      <td>2.5</td>\n",
       "      <td>8.9</td>\n",
       "      <td>5.6</td>\n",
       "      <td>3.4</td>\n",
       "      <td>1.7</td>\n",
       "      <td>0.6</td>\n",
       "      <td>7.4</td>\n",
       "      <td>12.7</td>\n",
       "      <td>1.3</td>\n",
       "      <td>1.0</td>\n",
       "      <td>2.2</td>\n",
       "      <td>0.094</td>\n",
       "      <td>-0.5</td>\n",
       "      <td>-1.7</td>\n",
       "      <td>-2.2</td>\n",
       "      <td>-0.1</td>\n",
       "    </tr>\n",
       "    <tr>\n",
       "      <th>1</th>\n",
       "      <td>27</td>\n",
       "      <td>70</td>\n",
       "      <td>8</td>\n",
       "      <td>1359</td>\n",
       "      <td>4.6</td>\n",
       "      <td>13.0</td>\n",
       "      <td>0.356</td>\n",
       "      <td>3.6</td>\n",
       "      <td>10.4</td>\n",
       "      <td>0.349</td>\n",
       "      <td>1.0</td>\n",
       "      <td>2.6</td>\n",
       "      <td>0.384</td>\n",
       "      <td>1.8</td>\n",
       "      <td>2.1</td>\n",
       "      <td>0.817</td>\n",
       "      <td>1.4</td>\n",
       "      <td>7.8</td>\n",
       "      <td>9.2</td>\n",
       "      <td>2.0</td>\n",
       "      <td>1.2</td>\n",
       "      <td>1.0</td>\n",
       "      <td>2.1</td>\n",
       "      <td>5.3</td>\n",
       "      <td>14.7</td>\n",
       "      <td>99.0</td>\n",
       "      <td>110.0</td>\n",
       "      <td>8.2</td>\n",
       "      <td>0.525</td>\n",
       "      <td>0.800</td>\n",
       "      <td>0.164</td>\n",
       "      <td>3.1</td>\n",
       "      <td>17.1</td>\n",
       "      <td>10.0</td>\n",
       "      <td>6.0</td>\n",
       "      <td>1.2</td>\n",
       "      <td>1.6</td>\n",
       "      <td>13.3</td>\n",
       "      <td>14.4</td>\n",
       "      <td>-0.1</td>\n",
       "      <td>1.1</td>\n",
       "      <td>1.0</td>\n",
       "      <td>0.036</td>\n",
       "      <td>-2.0</td>\n",
       "      <td>-0.2</td>\n",
       "      <td>-2.2</td>\n",
       "      <td>-0.1</td>\n",
       "    </tr>\n",
       "    <tr>\n",
       "      <th>2</th>\n",
       "      <td>24</td>\n",
       "      <td>76</td>\n",
       "      <td>76</td>\n",
       "      <td>2487</td>\n",
       "      <td>8.9</td>\n",
       "      <td>14.2</td>\n",
       "      <td>0.629</td>\n",
       "      <td>0.0</td>\n",
       "      <td>0.0</td>\n",
       "      <td>0.000</td>\n",
       "      <td>8.9</td>\n",
       "      <td>14.2</td>\n",
       "      <td>0.631</td>\n",
       "      <td>3.2</td>\n",
       "      <td>5.7</td>\n",
       "      <td>0.559</td>\n",
       "      <td>7.7</td>\n",
       "      <td>6.0</td>\n",
       "      <td>13.7</td>\n",
       "      <td>1.8</td>\n",
       "      <td>1.8</td>\n",
       "      <td>1.6</td>\n",
       "      <td>2.6</td>\n",
       "      <td>4.3</td>\n",
       "      <td>21.1</td>\n",
       "      <td>125.0</td>\n",
       "      <td>107.0</td>\n",
       "      <td>20.6</td>\n",
       "      <td>0.630</td>\n",
       "      <td>0.003</td>\n",
       "      <td>0.402</td>\n",
       "      <td>16.6</td>\n",
       "      <td>13.9</td>\n",
       "      <td>15.3</td>\n",
       "      <td>5.5</td>\n",
       "      <td>1.8</td>\n",
       "      <td>2.8</td>\n",
       "      <td>13.3</td>\n",
       "      <td>16.7</td>\n",
       "      <td>6.7</td>\n",
       "      <td>3.0</td>\n",
       "      <td>9.7</td>\n",
       "      <td>0.187</td>\n",
       "      <td>2.2</td>\n",
       "      <td>1.1</td>\n",
       "      <td>3.3</td>\n",
       "      <td>3.3</td>\n",
       "    </tr>\n",
       "    <tr>\n",
       "      <th>3</th>\n",
       "      <td>20</td>\n",
       "      <td>69</td>\n",
       "      <td>19</td>\n",
       "      <td>1368</td>\n",
       "      <td>6.4</td>\n",
       "      <td>12.5</td>\n",
       "      <td>0.512</td>\n",
       "      <td>0.0</td>\n",
       "      <td>0.3</td>\n",
       "      <td>0.000</td>\n",
       "      <td>6.4</td>\n",
       "      <td>12.2</td>\n",
       "      <td>0.523</td>\n",
       "      <td>4.7</td>\n",
       "      <td>6.6</td>\n",
       "      <td>0.721</td>\n",
       "      <td>4.3</td>\n",
       "      <td>9.7</td>\n",
       "      <td>14.0</td>\n",
       "      <td>3.7</td>\n",
       "      <td>1.2</td>\n",
       "      <td>1.5</td>\n",
       "      <td>2.4</td>\n",
       "      <td>5.1</td>\n",
       "      <td>17.5</td>\n",
       "      <td>116.0</td>\n",
       "      <td>105.0</td>\n",
       "      <td>15.7</td>\n",
       "      <td>0.570</td>\n",
       "      <td>0.021</td>\n",
       "      <td>0.526</td>\n",
       "      <td>9.7</td>\n",
       "      <td>21.6</td>\n",
       "      <td>15.6</td>\n",
       "      <td>11.0</td>\n",
       "      <td>1.2</td>\n",
       "      <td>2.5</td>\n",
       "      <td>13.6</td>\n",
       "      <td>15.9</td>\n",
       "      <td>2.3</td>\n",
       "      <td>1.9</td>\n",
       "      <td>4.2</td>\n",
       "      <td>0.148</td>\n",
       "      <td>-1.6</td>\n",
       "      <td>1.8</td>\n",
       "      <td>0.2</td>\n",
       "      <td>0.8</td>\n",
       "    </tr>\n",
       "    <tr>\n",
       "      <th>4</th>\n",
       "      <td>32</td>\n",
       "      <td>53</td>\n",
       "      <td>3</td>\n",
       "      <td>682</td>\n",
       "      <td>4.7</td>\n",
       "      <td>11.6</td>\n",
       "      <td>0.401</td>\n",
       "      <td>1.9</td>\n",
       "      <td>5.0</td>\n",
       "      <td>0.386</td>\n",
       "      <td>2.7</td>\n",
       "      <td>6.6</td>\n",
       "      <td>0.413</td>\n",
       "      <td>1.6</td>\n",
       "      <td>1.9</td>\n",
       "      <td>0.846</td>\n",
       "      <td>0.3</td>\n",
       "      <td>4.5</td>\n",
       "      <td>4.7</td>\n",
       "      <td>2.2</td>\n",
       "      <td>0.3</td>\n",
       "      <td>0.6</td>\n",
       "      <td>1.5</td>\n",
       "      <td>4.0</td>\n",
       "      <td>12.8</td>\n",
       "      <td>98.0</td>\n",
       "      <td>115.0</td>\n",
       "      <td>5.8</td>\n",
       "      <td>0.516</td>\n",
       "      <td>0.432</td>\n",
       "      <td>0.160</td>\n",
       "      <td>0.6</td>\n",
       "      <td>10.1</td>\n",
       "      <td>5.3</td>\n",
       "      <td>6.2</td>\n",
       "      <td>0.3</td>\n",
       "      <td>1.1</td>\n",
       "      <td>10.8</td>\n",
       "      <td>12.5</td>\n",
       "      <td>-0.1</td>\n",
       "      <td>0.2</td>\n",
       "      <td>0.1</td>\n",
       "      <td>0.009</td>\n",
       "      <td>-4.1</td>\n",
       "      <td>-1.8</td>\n",
       "      <td>-5.8</td>\n",
       "      <td>-0.7</td>\n",
       "    </tr>\n",
       "  </tbody>\n",
       "</table>\n",
       "</div>"
      ],
      "text/plain": [
       "   Age   G  GS    MP   FG   FGA    FG%   3P   3PA    3P%   2P   2PA    2P%   FT  FTA    FT%  ORB  DRB   TRB  AST  STL  BLK  TOV   PF   PTS   ORtg   DRtg   PER    TS%   3PAr    FTr  ORB%  DRB%  TRB%  AST%  STL%  BLK%  TOV%  USG%  OWS  DWS   WS  WS/48  OBPM  DBPM  BPM  VORP\n",
       "0   24  75   8  1134  5.0  12.7  0.395  3.7   9.7  0.380  1.4   3.1  0.443  1.7  2.0  0.848  1.1  3.9   5.0  1.2  1.7  0.4  1.1  5.4  15.4  116.0  110.0   9.0  0.567  0.759  0.158   2.5   8.9   5.6   3.4   1.7   0.6   7.4  12.7  1.3  1.0  2.2  0.094  -0.5  -1.7 -2.2  -0.1\n",
       "1   27  70   8  1359  4.6  13.0  0.356  3.6  10.4  0.349  1.0   2.6  0.384  1.8  2.1  0.817  1.4  7.8   9.2  2.0  1.2  1.0  2.1  5.3  14.7   99.0  110.0   8.2  0.525  0.800  0.164   3.1  17.1  10.0   6.0   1.2   1.6  13.3  14.4 -0.1  1.1  1.0  0.036  -2.0  -0.2 -2.2  -0.1\n",
       "2   24  76  76  2487  8.9  14.2  0.629  0.0   0.0  0.000  8.9  14.2  0.631  3.2  5.7  0.559  7.7  6.0  13.7  1.8  1.8  1.6  2.6  4.3  21.1  125.0  107.0  20.6  0.630  0.003  0.402  16.6  13.9  15.3   5.5   1.8   2.8  13.3  16.7  6.7  3.0  9.7  0.187   2.2   1.1  3.3   3.3\n",
       "3   20  69  19  1368  6.4  12.5  0.512  0.0   0.3  0.000  6.4  12.2  0.523  4.7  6.6  0.721  4.3  9.7  14.0  3.7  1.2  1.5  2.4  5.1  17.5  116.0  105.0  15.7  0.570  0.021  0.526   9.7  21.6  15.6  11.0   1.2   2.5  13.6  15.9  2.3  1.9  4.2  0.148  -1.6   1.8  0.2   0.8\n",
       "4   32  53   3   682  4.7  11.6  0.401  1.9   5.0  0.386  2.7   6.6  0.413  1.6  1.9  0.846  0.3  4.5   4.7  2.2  0.3  0.6  1.5  4.0  12.8   98.0  115.0   5.8  0.516  0.432  0.160   0.6  10.1   5.3   6.2   0.3   1.1  10.8  12.5 -0.1  0.2  0.1  0.009  -4.1  -1.8 -5.8  -0.7"
      ]
     },
     "execution_count": 84,
     "metadata": {},
     "output_type": "execute_result"
    }
   ],
   "source": [
    "df.drop(labels = ['Player', 'Pos', 'Tm', 'Year'], axis = 1).head(5)"
   ]
  },
  {
   "cell_type": "code",
   "execution_count": 85,
   "metadata": {},
   "outputs": [],
   "source": [
    "# feature = minutes played\n",
    "x_mp = df['MP']\n",
    "\n",
    "# target value = win shares per 48 minutes\n",
    "y = df['WS/48']"
   ]
  },
  {
   "cell_type": "code",
   "execution_count": 86,
   "metadata": {},
   "outputs": [],
   "source": [
    "# reshape x_mp and y\n",
    "y = y.values.reshape(-1, 1)\n",
    "x_mp = x_mp.values.reshape(-1, 1)"
   ]
  },
  {
   "cell_type": "markdown",
   "metadata": {},
   "source": [
    "[Help with reshape](https://stackoverflow.com/questions/53723928/attributeerror-series-object-has-no-attribute-reshape)"
   ]
  },
  {
   "cell_type": "code",
   "execution_count": 87,
   "metadata": {},
   "outputs": [],
   "source": [
    "# Import LinearRegression\n",
    "from sklearn.linear_model import LinearRegression\n",
    "\n",
    "# Create the regressor: reg\n",
    "reg = LinearRegression()"
   ]
  },
  {
   "cell_type": "code",
   "execution_count": 88,
   "metadata": {},
   "outputs": [
    {
     "data": {
      "text/plain": [
       "LinearRegression(copy_X=True, fit_intercept=True, n_jobs=None,\n",
       "         normalize=False)"
      ]
     },
     "execution_count": 88,
     "metadata": {},
     "output_type": "execute_result"
    }
   ],
   "source": [
    "# fit the minutes played model\n",
    "reg.fit(x_mp, y)"
   ]
  },
  {
   "cell_type": "code",
   "execution_count": 89,
   "metadata": {},
   "outputs": [
    {
     "name": "stdout",
     "output_type": "stream",
     "text": [
      "0.09241227045368533\n"
     ]
    }
   ],
   "source": [
    "# predict WS/48 using MP\n",
    "mp_predict = reg.predict(x_mp)\n",
    "\n",
    "from sklearn.metrics import mean_squared_error\n",
    "mp_rmse = np.sqrt(mean_squared_error(mp_predict, y))\n",
    "\n",
    "print(mp_rmse)"
   ]
  },
  {
   "cell_type": "code",
   "execution_count": 90,
   "metadata": {},
   "outputs": [
    {
     "name": "stdout",
     "output_type": "stream",
     "text": [
      "[[4.22921729e-05]]\n",
      "[0.02390261]\n"
     ]
    }
   ],
   "source": [
    "print(reg.coef_)\n",
    "print(reg.intercept_)"
   ]
  },
  {
   "cell_type": "code",
   "execution_count": 91,
   "metadata": {},
   "outputs": [
    {
     "data": {
      "image/png": "[encoded data removed]",
      "text/plain": [
       "<Figure size 432x288 with 1 Axes>"
      ]
     },
     "metadata": {
      "needs_background": "light"
     },
     "output_type": "display_data"
    }
   ],
   "source": [
    "plt.scatter(x_mp, y, color = 'red')\n",
    "plt.plot(x_mp, reg.predict(x_mp), color = 'blue')\n",
    "plt.show();"
   ]
  },
  {
   "cell_type": "markdown",
   "metadata": {},
   "source": [
    "# `statsmodels`"
   ]
  },
  {
   "cell_type": "code",
   "execution_count": 92,
   "metadata": {},
   "outputs": [
    {
     "data": {
      "text/plain": [
       "Age      False\n",
       "G        False\n",
       "GS       False\n",
       "MP       False\n",
       "FG        True\n",
       "FGA      False\n",
       "FG%       True\n",
       "3P       False\n",
       "3PA      False\n",
       "3P%      False\n",
       "2P       False\n",
       "2PA      False\n",
       "2P%      False\n",
       "FT       False\n",
       "FTA      False\n",
       "FT%      False\n",
       "ORB      False\n",
       "DRB      False\n",
       "TRB      False\n",
       "AST      False\n",
       "STL      False\n",
       "BLK      False\n",
       "TOV      False\n",
       "PF       False\n",
       "PTS       True\n",
       "ORtg      True\n",
       "DRtg     False\n",
       "PER       True\n",
       "TS%       True\n",
       "3PAr     False\n",
       "FTr      False\n",
       "ORB%     False\n",
       "DRB%     False\n",
       "TRB%     False\n",
       "AST%     False\n",
       "STL%     False\n",
       "BLK%     False\n",
       "TOV%     False\n",
       "USG%     False\n",
       "OWS       True\n",
       "DWS      False\n",
       "WS        True\n",
       "WS/48     True\n",
       "OBPM      True\n",
       "DBPM     False\n",
       "BPM       True\n",
       "VORP     False\n",
       "Year     False\n",
       "dtype: bool"
      ]
     },
     "execution_count": 92,
     "metadata": {},
     "output_type": "execute_result"
    }
   ],
   "source": [
    "df.corrwith(df['WS/48']) > 0.50"
   ]
  },
  {
   "cell_type": "code",
   "execution_count": 93,
   "metadata": {},
   "outputs": [],
   "source": [
    "import statsmodels.api as sm"
   ]
  },
  {
   "cell_type": "code",
   "execution_count": 94,
   "metadata": {},
   "outputs": [
    {
     "name": "stdout",
     "output_type": "stream",
     "text": [
      "                            OLS Regression Results                            \n",
      "==============================================================================\n",
      "Dep. Variable:                  WS/48   R-squared:                       0.573\n",
      "Model:                            OLS   Adj. R-squared:                  0.573\n",
      "Method:                 Least Squares   F-statistic:                     3189.\n",
      "Date:                Tue, 16 Apr 2019   Prob (F-statistic):               0.00\n",
      "Time:                        18:13:13   Log-Likelihood:                 6257.8\n",
      "No. Observations:                4759   AIC:                        -1.251e+04\n",
      "Df Residuals:                    4756   BIC:                        -1.249e+04\n",
      "Df Model:                           2                                         \n",
      "Covariance Type:            nonrobust                                         \n",
      "==============================================================================\n",
      "                 coef    std err          t      P>|t|      [0.025      0.975]\n",
      "------------------------------------------------------------------------------\n",
      "const         -0.3039      0.005    -59.171      0.000      -0.314      -0.294\n",
      "PTS            0.0035      0.000     21.995      0.000       0.003       0.004\n",
      "TS%            0.6045      0.012     51.335      0.000       0.581       0.628\n",
      "==============================================================================\n",
      "Omnibus:                     5197.236   Durbin-Watson:                   1.987\n",
      "Prob(Omnibus):                  0.000   Jarque-Bera (JB):          3741674.897\n",
      "Skew:                           4.707   Prob(JB):                         0.00\n",
      "Kurtosis:                     140.044   Cond. No.                         273.\n",
      "==============================================================================\n",
      "\n",
      "Warnings:\n",
      "[1] Standard Errors assume that the covariance matrix of the errors is correctly specified.\n"
     ]
    },
    {
     "name": "stderr",
     "output_type": "stream",
     "text": [
      "/Users/joeai/miniconda3/lib/python3.6/site-packages/numpy/core/fromnumeric.py:2389: FutureWarning: Method .ptp is deprecated and will be removed in a future version. Use numpy.ptp instead.\n",
      "  return ptp(axis=axis, out=out, **kwargs)\n"
     ]
    }
   ],
   "source": [
    "x = df[['PTS', 'TS%']]\n",
    "y = df['WS/48']\n",
    "\n",
    "x = sm.add_constant(x)\n",
    "\n",
    "model = sm.OLS(y, x).fit()\n",
    "predictions = model.predict(x)\n",
    "\n",
    "print_model = model.summary()\n",
    "print(print_model)"
   ]
  },
  {
   "cell_type": "code",
   "execution_count": 95,
   "metadata": {},
   "outputs": [
    {
     "data": {
      "text/plain": [
       "Age      False\n",
       "G        False\n",
       "GS       False\n",
       "MP       False\n",
       "FG        True\n",
       "FGA      False\n",
       "FG%       True\n",
       "3P       False\n",
       "3PA      False\n",
       "3P%      False\n",
       "2P       False\n",
       "2PA      False\n",
       "2P%      False\n",
       "FT       False\n",
       "FTA      False\n",
       "FT%      False\n",
       "ORB      False\n",
       "DRB      False\n",
       "TRB      False\n",
       "AST      False\n",
       "STL      False\n",
       "BLK      False\n",
       "TOV      False\n",
       "PF       False\n",
       "PTS       True\n",
       "ORtg      True\n",
       "DRtg     False\n",
       "PER       True\n",
       "TS%       True\n",
       "3PAr     False\n",
       "FTr      False\n",
       "ORB%     False\n",
       "DRB%     False\n",
       "TRB%     False\n",
       "AST%     False\n",
       "STL%     False\n",
       "BLK%     False\n",
       "TOV%     False\n",
       "USG%     False\n",
       "OWS       True\n",
       "DWS      False\n",
       "WS        True\n",
       "WS/48     True\n",
       "OBPM      True\n",
       "DBPM     False\n",
       "BPM       True\n",
       "VORP     False\n",
       "Year     False\n",
       "dtype: bool"
      ]
     },
     "execution_count": 95,
     "metadata": {},
     "output_type": "execute_result"
    }
   ],
   "source": [
    "df.corrwith(df['WS/48']) > 0.5"
   ]
  },
  {
   "cell_type": "code",
   "execution_count": 96,
   "metadata": {},
   "outputs": [
    {
     "name": "stdout",
     "output_type": "stream",
     "text": [
      "                            OLS Regression Results                            \n",
      "==============================================================================\n",
      "Dep. Variable:                  WS/48   R-squared:                       0.877\n",
      "Model:                            OLS   Adj. R-squared:                  0.877\n",
      "Method:                 Least Squares   F-statistic:                     5631.\n",
      "Date:                Tue, 16 Apr 2019   Prob (F-statistic):               0.00\n",
      "Time:                        18:13:13   Log-Likelihood:                 9214.3\n",
      "No. Observations:                4759   AIC:                        -1.841e+04\n",
      "Df Residuals:                    4752   BIC:                        -1.837e+04\n",
      "Df Model:                           6                                         \n",
      "Covariance Type:            nonrobust                                         \n",
      "==============================================================================\n",
      "                 coef    std err          t      P>|t|      [0.025      0.975]\n",
      "------------------------------------------------------------------------------\n",
      "const         -0.1708      0.004    -39.534      0.000      -0.179      -0.162\n",
      "FG            -0.0040      0.001     -4.588      0.000      -0.006      -0.002\n",
      "FG%           -0.1442      0.016     -9.088      0.000      -0.175      -0.113\n",
      "PTS           -0.0038      0.000    -10.507      0.000      -0.004      -0.003\n",
      "ORtg           0.0010   6.88e-05     13.907      0.000       0.001       0.001\n",
      "PER            0.0161      0.000     81.348      0.000       0.016       0.016\n",
      "TS%            0.2020      0.018     11.063      0.000       0.166       0.238\n",
      "==============================================================================\n",
      "Omnibus:                     6352.914   Durbin-Watson:                   1.964\n",
      "Prob(Omnibus):                  0.000   Jarque-Bera (JB):          8027462.717\n",
      "Skew:                           6.809   Prob(JB):                         0.00\n",
      "Kurtosis:                     203.743   Cond. No.                     4.90e+03\n",
      "==============================================================================\n",
      "\n",
      "Warnings:\n",
      "[1] Standard Errors assume that the covariance matrix of the errors is correctly specified.\n",
      "[2] The condition number is large, 4.9e+03. This might indicate that there are\n",
      "strong multicollinearity or other numerical problems.\n"
     ]
    }
   ],
   "source": [
    "x = df[['FG', 'FG%', 'PTS', 'ORtg', 'PER', 'TS%']]\n",
    "y = df['WS/48']\n",
    "\n",
    "x = sm.add_constant(x)\n",
    "\n",
    "model = sm.OLS(y, x).fit()\n",
    "predictions = model.predict(x)\n",
    "\n",
    "print_model = model.summary()\n",
    "print(print_model)"
   ]
  },
  {
   "cell_type": "code",
   "execution_count": 97,
   "metadata": {},
   "outputs": [
    {
     "name": "stdout",
     "output_type": "stream",
     "text": [
      "                            OLS Regression Results                            \n",
      "==============================================================================\n",
      "Dep. Variable:                  WS/48   R-squared:                       0.868\n",
      "Model:                            OLS   Adj. R-squared:                  0.868\n",
      "Method:                 Least Squares   F-statistic:                     7832.\n",
      "Date:                Tue, 16 Apr 2019   Prob (F-statistic):               0.00\n",
      "Time:                        18:13:13   Log-Likelihood:                 9056.7\n",
      "No. Observations:                4759   AIC:                        -1.810e+04\n",
      "Df Residuals:                    4754   BIC:                        -1.807e+04\n",
      "Df Model:                           4                                         \n",
      "Covariance Type:            nonrobust                                         \n",
      "==============================================================================\n",
      "                 coef    std err          t      P>|t|      [0.025      0.975]\n",
      "------------------------------------------------------------------------------\n",
      "const         -0.1307      0.003    -39.372      0.000      -0.137      -0.124\n",
      "FG            -0.0111      0.001    -17.196      0.000      -0.012      -0.010\n",
      "PTS           -0.0015      0.000     -5.987      0.000      -0.002      -0.001\n",
      "PER            0.0171      0.000    102.979      0.000       0.017       0.017\n",
      "TS%            0.1820      0.008     23.584      0.000       0.167       0.197\n",
      "==============================================================================\n",
      "Omnibus:                     6038.622   Durbin-Watson:                   1.966\n",
      "Prob(Omnibus):                  0.000   Jarque-Bera (JB):          6525138.457\n",
      "Skew:                           6.188   Prob(JB):                         0.00\n",
      "Kurtosis:                     183.980   Cond. No.                         411.\n",
      "==============================================================================\n",
      "\n",
      "Warnings:\n",
      "[1] Standard Errors assume that the covariance matrix of the errors is correctly specified.\n"
     ]
    }
   ],
   "source": [
    "x = df[['FG', 'PTS', 'PER', 'TS%']]\n",
    "y = df['WS/48']\n",
    "\n",
    "x = sm.add_constant(x)\n",
    "\n",
    "model = sm.OLS(y, x).fit()\n",
    "predictions = model.predict(x)\n",
    "\n",
    "print_model = model.summary()\n",
    "print(print_model)"
   ]
  },
  {
   "cell_type": "code",
   "execution_count": 98,
   "metadata": {},
   "outputs": [
    {
     "data": {
      "text/plain": [
       "Unnamed: 0    False\n",
       "Age           False\n",
       "G             False\n",
       "GS            False\n",
       "MP             True\n",
       "FG             True\n",
       "FGA            True\n",
       "FG%           False\n",
       "3P            False\n",
       "3PA           False\n",
       "3P%           False\n",
       "2P             True\n",
       "2PA            True\n",
       "2P%           False\n",
       "FT             True\n",
       "FTA            True\n",
       "FT%           False\n",
       "ORB           False\n",
       "DRB           False\n",
       "TRB           False\n",
       "AST           False\n",
       "STL           False\n",
       "BLK           False\n",
       "TOV           False\n",
       "PF            False\n",
       "PTS            True\n",
       "ORtg           True\n",
       "DRtg          False\n",
       "PER            True\n",
       "TS%            True\n",
       "3PAr          False\n",
       "FTr           False\n",
       "ORB%          False\n",
       "DRB%          False\n",
       "TRB%          False\n",
       "AST%          False\n",
       "STL%          False\n",
       "BLK%          False\n",
       "TOV%          False\n",
       "USG%           True\n",
       "OWS            True\n",
       "DWS            True\n",
       "WS             True\n",
       "WS/48          True\n",
       "OBPM           True\n",
       "DBPM          False\n",
       "BPM            True\n",
       "VORP           True\n",
       "Year          False\n",
       "dtype: bool"
      ]
     },
     "execution_count": 98,
     "metadata": {},
     "output_type": "execute_result"
    }
   ],
   "source": [
    "df_threshold.corrwith(df_threshold['PER']) > 0.5"
   ]
  },
  {
   "cell_type": "code",
   "execution_count": 99,
   "metadata": {},
   "outputs": [
    {
     "data": {
      "text/html": [
       "<div>\n",
       "<style scoped>\n",
       "    .dataframe tbody tr th:only-of-type {\n",
       "        vertical-align: middle;\n",
       "    }\n",
       "\n",
       "    .dataframe tbody tr th {\n",
       "        vertical-align: top;\n",
       "    }\n",
       "\n",
       "    .dataframe thead th {\n",
       "        text-align: right;\n",
       "    }\n",
       "</style>\n",
       "<table border=\"1\" class=\"dataframe\">\n",
       "  <thead>\n",
       "    <tr style=\"text-align: right;\">\n",
       "      <th></th>\n",
       "      <th>Player</th>\n",
       "      <th>Pos</th>\n",
       "      <th>Age</th>\n",
       "      <th>Tm</th>\n",
       "      <th>G</th>\n",
       "      <th>GS</th>\n",
       "      <th>MP</th>\n",
       "      <th>FG</th>\n",
       "      <th>FGA</th>\n",
       "      <th>FG%</th>\n",
       "      <th>3P</th>\n",
       "      <th>3PA</th>\n",
       "      <th>3P%</th>\n",
       "      <th>2P</th>\n",
       "      <th>2PA</th>\n",
       "      <th>2P%</th>\n",
       "      <th>FT</th>\n",
       "      <th>FTA</th>\n",
       "      <th>FT%</th>\n",
       "      <th>ORB</th>\n",
       "      <th>DRB</th>\n",
       "      <th>TRB</th>\n",
       "      <th>AST</th>\n",
       "      <th>STL</th>\n",
       "      <th>BLK</th>\n",
       "      <th>TOV</th>\n",
       "      <th>PF</th>\n",
       "      <th>PTS</th>\n",
       "      <th>ORtg</th>\n",
       "      <th>DRtg</th>\n",
       "      <th>PER</th>\n",
       "      <th>TS%</th>\n",
       "      <th>3PAr</th>\n",
       "      <th>FTr</th>\n",
       "      <th>ORB%</th>\n",
       "      <th>DRB%</th>\n",
       "      <th>TRB%</th>\n",
       "      <th>AST%</th>\n",
       "      <th>STL%</th>\n",
       "      <th>BLK%</th>\n",
       "      <th>TOV%</th>\n",
       "      <th>USG%</th>\n",
       "      <th>OWS</th>\n",
       "      <th>DWS</th>\n",
       "      <th>WS</th>\n",
       "      <th>WS/48</th>\n",
       "      <th>OBPM</th>\n",
       "      <th>DBPM</th>\n",
       "      <th>BPM</th>\n",
       "      <th>VORP</th>\n",
       "      <th>Year</th>\n",
       "    </tr>\n",
       "  </thead>\n",
       "  <tbody>\n",
       "    <tr>\n",
       "      <th>0</th>\n",
       "      <td>Alex Abrines</td>\n",
       "      <td>SG</td>\n",
       "      <td>24</td>\n",
       "      <td>OKC</td>\n",
       "      <td>75</td>\n",
       "      <td>8</td>\n",
       "      <td>1134</td>\n",
       "      <td>5.0</td>\n",
       "      <td>12.7</td>\n",
       "      <td>0.395</td>\n",
       "      <td>3.7</td>\n",
       "      <td>9.7</td>\n",
       "      <td>0.38</td>\n",
       "      <td>1.4</td>\n",
       "      <td>3.1</td>\n",
       "      <td>0.443</td>\n",
       "      <td>1.7</td>\n",
       "      <td>2.0</td>\n",
       "      <td>0.848</td>\n",
       "      <td>1.1</td>\n",
       "      <td>3.9</td>\n",
       "      <td>5.0</td>\n",
       "      <td>1.2</td>\n",
       "      <td>1.7</td>\n",
       "      <td>0.4</td>\n",
       "      <td>1.1</td>\n",
       "      <td>5.4</td>\n",
       "      <td>15.4</td>\n",
       "      <td>116.0</td>\n",
       "      <td>110.0</td>\n",
       "      <td>9.0</td>\n",
       "      <td>0.567</td>\n",
       "      <td>0.759</td>\n",
       "      <td>0.158</td>\n",
       "      <td>2.5</td>\n",
       "      <td>8.9</td>\n",
       "      <td>5.6</td>\n",
       "      <td>3.4</td>\n",
       "      <td>1.7</td>\n",
       "      <td>0.6</td>\n",
       "      <td>7.4</td>\n",
       "      <td>12.7</td>\n",
       "      <td>1.3</td>\n",
       "      <td>1.0</td>\n",
       "      <td>2.2</td>\n",
       "      <td>0.094</td>\n",
       "      <td>-0.5</td>\n",
       "      <td>-1.7</td>\n",
       "      <td>-2.2</td>\n",
       "      <td>-0.1</td>\n",
       "      <td>2018</td>\n",
       "    </tr>\n",
       "  </tbody>\n",
       "</table>\n",
       "</div>"
      ],
      "text/plain": [
       "         Player Pos  Age   Tm   G  GS    MP   FG   FGA    FG%   3P  3PA   3P%   2P  2PA    2P%   FT  FTA    FT%  ORB  DRB  TRB  AST  STL  BLK  TOV   PF   PTS   ORtg   DRtg  PER    TS%   3PAr    FTr  ORB%  DRB%  TRB%  AST%  STL%  BLK%  TOV%  USG%  OWS  DWS   WS  WS/48  OBPM  DBPM  BPM  VORP  Year\n",
       "0  Alex Abrines  SG   24  OKC  75   8  1134  5.0  12.7  0.395  3.7  9.7  0.38  1.4  3.1  0.443  1.7  2.0  0.848  1.1  3.9  5.0  1.2  1.7  0.4  1.1  5.4  15.4  116.0  110.0  9.0  0.567  0.759  0.158   2.5   8.9   5.6   3.4   1.7   0.6   7.4  12.7  1.3  1.0  2.2  0.094  -0.5  -1.7 -2.2  -0.1  2018"
      ]
     },
     "execution_count": 99,
     "metadata": {},
     "output_type": "execute_result"
    }
   ],
   "source": [
    "df.head(1)"
   ]
  },
  {
   "cell_type": "code",
   "execution_count": 100,
   "metadata": {},
   "outputs": [
    {
     "data": {
      "text/html": [
       "<div>\n",
       "<style scoped>\n",
       "    .dataframe tbody tr th:only-of-type {\n",
       "        vertical-align: middle;\n",
       "    }\n",
       "\n",
       "    .dataframe tbody tr th {\n",
       "        vertical-align: top;\n",
       "    }\n",
       "\n",
       "    .dataframe thead th {\n",
       "        text-align: right;\n",
       "    }\n",
       "</style>\n",
       "<table border=\"1\" class=\"dataframe\">\n",
       "  <thead>\n",
       "    <tr style=\"text-align: right;\">\n",
       "      <th></th>\n",
       "      <th>G</th>\n",
       "      <th>GS</th>\n",
       "      <th>MP</th>\n",
       "      <th>FG</th>\n",
       "      <th>FGA</th>\n",
       "      <th>FG%</th>\n",
       "      <th>3P</th>\n",
       "      <th>3PA</th>\n",
       "      <th>3P%</th>\n",
       "      <th>2P</th>\n",
       "      <th>2PA</th>\n",
       "      <th>2P%</th>\n",
       "      <th>FT</th>\n",
       "      <th>FTA</th>\n",
       "      <th>FT%</th>\n",
       "      <th>ORB</th>\n",
       "      <th>DRB</th>\n",
       "      <th>TRB</th>\n",
       "      <th>AST</th>\n",
       "      <th>STL</th>\n",
       "      <th>BLK</th>\n",
       "      <th>TOV</th>\n",
       "      <th>PF</th>\n",
       "      <th>PTS</th>\n",
       "      <th>ORtg</th>\n",
       "      <th>DRtg</th>\n",
       "      <th>PER</th>\n",
       "      <th>TS%</th>\n",
       "      <th>3PAr</th>\n",
       "      <th>FTr</th>\n",
       "      <th>ORB%</th>\n",
       "      <th>DRB%</th>\n",
       "      <th>TRB%</th>\n",
       "      <th>AST%</th>\n",
       "      <th>STL%</th>\n",
       "      <th>BLK%</th>\n",
       "      <th>TOV%</th>\n",
       "      <th>USG%</th>\n",
       "      <th>OBPM</th>\n",
       "      <th>DBPM</th>\n",
       "      <th>BPM</th>\n",
       "      <th>VORP</th>\n",
       "    </tr>\n",
       "  </thead>\n",
       "  <tbody>\n",
       "    <tr>\n",
       "      <th>0</th>\n",
       "      <td>75</td>\n",
       "      <td>8</td>\n",
       "      <td>1134</td>\n",
       "      <td>5.0</td>\n",
       "      <td>12.7</td>\n",
       "      <td>0.395</td>\n",
       "      <td>3.7</td>\n",
       "      <td>9.7</td>\n",
       "      <td>0.380</td>\n",
       "      <td>1.4</td>\n",
       "      <td>3.1</td>\n",
       "      <td>0.443</td>\n",
       "      <td>1.7</td>\n",
       "      <td>2.0</td>\n",
       "      <td>0.848</td>\n",
       "      <td>1.1</td>\n",
       "      <td>3.9</td>\n",
       "      <td>5.0</td>\n",
       "      <td>1.2</td>\n",
       "      <td>1.7</td>\n",
       "      <td>0.4</td>\n",
       "      <td>1.1</td>\n",
       "      <td>5.4</td>\n",
       "      <td>15.4</td>\n",
       "      <td>116.0</td>\n",
       "      <td>110.0</td>\n",
       "      <td>9.0</td>\n",
       "      <td>0.567</td>\n",
       "      <td>0.759</td>\n",
       "      <td>0.158</td>\n",
       "      <td>2.5</td>\n",
       "      <td>8.9</td>\n",
       "      <td>5.6</td>\n",
       "      <td>3.4</td>\n",
       "      <td>1.7</td>\n",
       "      <td>0.6</td>\n",
       "      <td>7.4</td>\n",
       "      <td>12.7</td>\n",
       "      <td>-0.5</td>\n",
       "      <td>-1.7</td>\n",
       "      <td>-2.2</td>\n",
       "      <td>-0.1</td>\n",
       "    </tr>\n",
       "    <tr>\n",
       "      <th>1</th>\n",
       "      <td>70</td>\n",
       "      <td>8</td>\n",
       "      <td>1359</td>\n",
       "      <td>4.6</td>\n",
       "      <td>13.0</td>\n",
       "      <td>0.356</td>\n",
       "      <td>3.6</td>\n",
       "      <td>10.4</td>\n",
       "      <td>0.349</td>\n",
       "      <td>1.0</td>\n",
       "      <td>2.6</td>\n",
       "      <td>0.384</td>\n",
       "      <td>1.8</td>\n",
       "      <td>2.1</td>\n",
       "      <td>0.817</td>\n",
       "      <td>1.4</td>\n",
       "      <td>7.8</td>\n",
       "      <td>9.2</td>\n",
       "      <td>2.0</td>\n",
       "      <td>1.2</td>\n",
       "      <td>1.0</td>\n",
       "      <td>2.1</td>\n",
       "      <td>5.3</td>\n",
       "      <td>14.7</td>\n",
       "      <td>99.0</td>\n",
       "      <td>110.0</td>\n",
       "      <td>8.2</td>\n",
       "      <td>0.525</td>\n",
       "      <td>0.800</td>\n",
       "      <td>0.164</td>\n",
       "      <td>3.1</td>\n",
       "      <td>17.1</td>\n",
       "      <td>10.0</td>\n",
       "      <td>6.0</td>\n",
       "      <td>1.2</td>\n",
       "      <td>1.6</td>\n",
       "      <td>13.3</td>\n",
       "      <td>14.4</td>\n",
       "      <td>-2.0</td>\n",
       "      <td>-0.2</td>\n",
       "      <td>-2.2</td>\n",
       "      <td>-0.1</td>\n",
       "    </tr>\n",
       "  </tbody>\n",
       "</table>\n",
       "</div>"
      ],
      "text/plain": [
       "    G  GS    MP   FG   FGA    FG%   3P   3PA    3P%   2P  2PA    2P%   FT  FTA    FT%  ORB  DRB  TRB  AST  STL  BLK  TOV   PF   PTS   ORtg   DRtg  PER    TS%   3PAr    FTr  ORB%  DRB%  TRB%  AST%  STL%  BLK%  TOV%  USG%  OBPM  DBPM  BPM  VORP\n",
       "0  75   8  1134  5.0  12.7  0.395  3.7   9.7  0.380  1.4  3.1  0.443  1.7  2.0  0.848  1.1  3.9  5.0  1.2  1.7  0.4  1.1  5.4  15.4  116.0  110.0  9.0  0.567  0.759  0.158   2.5   8.9   5.6   3.4   1.7   0.6   7.4  12.7  -0.5  -1.7 -2.2  -0.1\n",
       "1  70   8  1359  4.6  13.0  0.356  3.6  10.4  0.349  1.0  2.6  0.384  1.8  2.1  0.817  1.4  7.8  9.2  2.0  1.2  1.0  2.1  5.3  14.7   99.0  110.0  8.2  0.525  0.800  0.164   3.1  17.1  10.0   6.0   1.2   1.6  13.3  14.4  -2.0  -0.2 -2.2  -0.1"
      ]
     },
     "execution_count": 100,
     "metadata": {},
     "output_type": "execute_result"
    }
   ],
   "source": [
    "df.drop(labels = ['Player', 'Age', 'Pos', 'Tm', 'Year', 'WS/48', 'WS', 'OWS', 'DWS'], axis = 1).head(2)"
   ]
  },
  {
   "cell_type": "code",
   "execution_count": 101,
   "metadata": {},
   "outputs": [
    {
     "name": "stdout",
     "output_type": "stream",
     "text": [
      "                            OLS Regression Results                            \n",
      "==============================================================================\n",
      "Dep. Variable:                      y   R-squared:                       0.983\n",
      "Model:                            OLS   Adj. R-squared:                  0.982\n",
      "Method:                 Least Squares   F-statistic:                     6354.\n",
      "Date:                Tue, 16 Apr 2019   Prob (F-statistic):               0.00\n",
      "Time:                        18:13:14   Log-Likelihood:                 13879.\n",
      "No. Observations:                4759   AIC:                        -2.767e+04\n",
      "Df Residuals:                    4716   BIC:                        -2.739e+04\n",
      "Df Model:                          42                                         \n",
      "Covariance Type:            nonrobust                                         \n",
      "==============================================================================\n",
      "                 coef    std err          t      P>|t|      [0.025      0.975]\n",
      "------------------------------------------------------------------------------\n",
      "const          0.0916      0.009     10.307      0.000       0.074       0.109\n",
      "x1          9.247e-05   2.08e-05      4.436      0.000    5.16e-05       0.000\n",
      "x2          4.031e-05   1.47e-05      2.749      0.006    1.16e-05    6.91e-05\n",
      "x3         -4.354e-06   9.13e-07     -4.767      0.000   -6.14e-06   -2.56e-06\n",
      "x4             0.0007      0.006      0.116      0.908      -0.012       0.013\n",
      "x5             0.0114      0.004      2.757      0.006       0.003       0.019\n",
      "x6             0.0356      0.012      2.940      0.003       0.012       0.059\n",
      "x7             0.0053      0.006      0.953      0.341      -0.006       0.016\n",
      "x8             0.0025      0.004      0.598      0.550      -0.006       0.010\n",
      "x9            -0.0092      0.002     -5.588      0.000      -0.012      -0.006\n",
      "x10           -0.0074      0.005     -1.627      0.104      -0.016       0.002\n",
      "x11            0.0019      0.004      0.462      0.644      -0.006       0.010\n",
      "x12            0.0336      0.005      7.366      0.000       0.025       0.042\n",
      "x13            0.0024      0.003      0.921      0.357      -0.003       0.008\n",
      "x14            0.0044      0.000      9.492      0.000       0.004       0.005\n",
      "x15            0.0109      0.002      7.111      0.000       0.008       0.014\n",
      "x16           -0.0230      0.004     -5.825      0.000      -0.031      -0.015\n",
      "x17            0.0081      0.004      2.073      0.038       0.000       0.016\n",
      "x18           -0.0112      0.004     -2.871      0.004      -0.019      -0.004\n",
      "x19           -0.0017      0.001     -2.153      0.031      -0.003      -0.000\n",
      "x20           -0.0363      0.023     -1.554      0.120      -0.082       0.010\n",
      "x21           -0.0076      0.002     -3.670      0.000      -0.012      -0.004\n",
      "x22            0.0034      0.001      3.751      0.000       0.002       0.005\n",
      "x23            0.0078      0.000     27.451      0.000       0.007       0.008\n",
      "x24            0.0042      0.003      1.569      0.117      -0.001       0.009\n",
      "x25            0.0001   3.31e-05      3.117      0.002    3.83e-05       0.000\n",
      "x26           -0.0015   6.62e-05    -22.032      0.000      -0.002      -0.001\n",
      "x27            0.0228      0.001     29.108      0.000       0.021       0.024\n",
      "x28           -0.0876      0.012     -7.371      0.000      -0.111      -0.064\n",
      "x29            0.0132      0.003      3.844      0.000       0.006       0.020\n",
      "x30            0.0055      0.002      3.445      0.001       0.002       0.009\n",
      "x31           -0.0011      0.001     -1.641      0.101      -0.002       0.000\n",
      "x32           -0.0185      0.001    -36.021      0.000      -0.020      -0.017\n",
      "x33            0.0331      0.001     30.576      0.000       0.031       0.035\n",
      "x34            0.0004      0.000      1.839      0.066   -2.59e-05       0.001\n",
      "x35            0.0164      0.023      0.701      0.483      -0.029       0.062\n",
      "x36           -0.0101      0.001     -7.655      0.000      -0.013      -0.008\n",
      "x37            0.0006   7.93e-05      7.764      0.000       0.000       0.001\n",
      "x38           -0.0227      0.001    -25.772      0.000      -0.024      -0.021\n",
      "x39           -0.0139      0.004     -3.581      0.000      -0.022      -0.006\n",
      "x40            0.0104      0.004      2.690      0.007       0.003       0.018\n",
      "x41            0.0014      0.004      0.365      0.715      -0.006       0.009\n",
      "x42            0.0016      0.000      5.866      0.000       0.001       0.002\n",
      "==============================================================================\n",
      "Omnibus:                     3007.787   Durbin-Watson:                   2.015\n",
      "Prob(Omnibus):                  0.000   Jarque-Bera (JB):          2280225.310\n",
      "Skew:                          -1.624   Prob(JB):                         0.00\n",
      "Kurtosis:                     110.186   Cond. No.                     2.61e+05\n",
      "==============================================================================\n",
      "\n",
      "Warnings:\n",
      "[1] Standard Errors assume that the covariance matrix of the errors is correctly specified.\n",
      "[2] The condition number is large, 2.61e+05. This might indicate that there are\n",
      "strong multicollinearity or other numerical problems.\n"
     ]
    }
   ],
   "source": [
    "x = df.drop(labels = ['Player', 'Age', 'Pos', 'Tm', 'Year', 'WS/48', 'WS', 'OWS', 'DWS'], axis = 1).values\n",
    "y = df['WS/48'].values\n",
    "\n",
    "x = sm.add_constant(x)\n",
    "\n",
    "model = sm.OLS(y, x).fit()\n",
    "predictions = model.predict(x)\n",
    "\n",
    "print_model = model.summary()\n",
    "print(print_model)"
   ]
  },
  {
   "cell_type": "markdown",
   "metadata": {},
   "source": [
    "# List of Resources So Far...\n",
    "\n",
    "- [Linear Regression in Python using Scikit Learn](https://medium.com/@contactsunny/linear-regression-in-python-using-scikit-learn-f0f7b125a204)\n",
    "- [pandas.DataFrane.corrwith](https://pandas.pydata.org/pandas-docs/stable/reference/api/pandas.DataFrame.corrwith.html#pandas.DataFrame.corrwith)\n",
    "- [statsmodels](https://datatofish.com/statsmodels-linear-regression/)\n",
    "- [Predicting Win Shares](https://towardsdatascience.com/basketball-analytics-predicting-win-shares-7c155651e7cc)"
   ]
  },
  {
   "cell_type": "markdown",
   "metadata": {},
   "source": [
    "## Linear Regression w/ scikit-learn"
   ]
  },
  {
   "cell_type": "markdown",
   "metadata": {},
   "source": [
    "#### Features = `FG`, `PTS`, `PER`, `TS%`"
   ]
  },
  {
   "cell_type": "code",
   "execution_count": 102,
   "metadata": {},
   "outputs": [],
   "source": [
    "# Import necessary modules\n",
    "from sklearn.linear_model import LinearRegression\n",
    "from sklearn.metrics import mean_squared_error\n",
    "from sklearn.model_selection import train_test_split"
   ]
  },
  {
   "cell_type": "code",
   "execution_count": 103,
   "metadata": {},
   "outputs": [],
   "source": [
    "X = df[['FG', 'PTS', 'PER', 'TS%']]\n",
    "y = df['WS/48']\n",
    "\n",
    "# Create training and test sets\n",
    "X_train, X_test, y_train, y_test = train_test_split(X, y, test_size = 0.3, random_state=42)"
   ]
  },
  {
   "cell_type": "code",
   "execution_count": 104,
   "metadata": {},
   "outputs": [
    {
     "name": "stdout",
     "output_type": "stream",
     "text": [
      "R^2: 0.8417508299586505\n",
      "Root Mean Squared Error: 0.03424965026512049\n"
     ]
    }
   ],
   "source": [
    "# Create the regressor: reg_all\n",
    "reg_all = LinearRegression()\n",
    "\n",
    "# Fit the regressor to the training data\n",
    "reg_all.fit(X_train, y_train)\n",
    "\n",
    "# Predict on the test data: y_pred\n",
    "y_pred = reg_all.predict(X_test)\n",
    "\n",
    "# Compute and print R^2 and RMSE\n",
    "print(\"R^2: {}\".format(reg_all.score(X_test, y_test)))\n",
    "rmse = np.sqrt(mean_squared_error(y_test, y_pred))\n",
    "print(\"Root Mean Squared Error: {}\".format(rmse))"
   ]
  },
  {
   "cell_type": "code",
   "execution_count": 105,
   "metadata": {},
   "outputs": [
    {
     "name": "stdout",
     "output_type": "stream",
     "text": [
      "[0.85829477 0.87380938 0.87969391 0.84483544 0.78828467]\n",
      "Average 5-Fold CV Score: 0.8489836358465839\n"
     ]
    }
   ],
   "source": [
    "# 5-fold cross validation\n",
    "from sklearn.model_selection import cross_val_score\n",
    "\n",
    "# Create a linear regression object: reg\n",
    "reg = LinearRegression()\n",
    "\n",
    "# Compute 5-fold cross-validation scores: cv_scores\n",
    "cv_scores = cross_val_score(reg, X, y, cv=5)\n",
    "\n",
    "# Print the 5-fold cross-validation scores\n",
    "print(cv_scores)\n",
    "\n",
    "print(\"Average 5-Fold CV Score: {}\".format(np.mean(cv_scores)))"
   ]
  },
  {
   "cell_type": "markdown",
   "metadata": {},
   "source": [
    "#### Regularization I: Lasso Regression"
   ]
  },
  {
   "cell_type": "code",
   "execution_count": 106,
   "metadata": {},
   "outputs": [],
   "source": [
    "from sklearn.linear_model import Lasso"
   ]
  },
  {
   "cell_type": "code",
   "execution_count": 107,
   "metadata": {},
   "outputs": [
    {
     "data": {
      "image/png": "[encoded data removed]",
      "text/plain": [
       "<Figure size 1008x720 with 1 Axes>"
      ]
     },
     "metadata": {
      "needs_background": "light"
     },
     "output_type": "display_data"
    }
   ],
   "source": [
    "X = df.drop(labels = ['Player', 'Age', 'Pos', 'Tm', 'Year', 'WS/48', 'WS', 'OWS', 'DWS'], axis = 1).values\n",
    "y = df['WS/48'].values\n",
    "\n",
    "# Create training and test sets\n",
    "# X_train, X_test, y_train, y_test = train_test_split(X, y, test_size = 0.3, random_state=42)\n",
    "\n",
    "names = df.drop(labels = ['Player', 'Age', 'Pos', 'Tm', 'Year', 'WS/48', 'WS', 'OWS', 'DWS'], axis = 1).columns\n",
    "\n",
    "lasso = Lasso(alpha = 0.1)\n",
    "lasso_coef = lasso.fit(X, y).coef_\n",
    "\n",
    "plt.figure(figsize = (14, 10))\n",
    "_ = plt.plot(range(len(names)), lasso_coef)\n",
    "_ = plt.xticks(range(len(names)), names, rotation = 60)\n",
    "_ = plt.ylabel('Coefficients')\n",
    "plt.show();"
   ]
  },
  {
   "cell_type": "code",
   "execution_count": 108,
   "metadata": {},
   "outputs": [],
   "source": [
    "X = df[['FG', 'PTS', 'PER', 'TS%']]\n",
    "y = df['WS/48']\n",
    "\n",
    "# Create training and test sets\n",
    "X_train, X_test, y_train, y_test = train_test_split(X, y, test_size = 0.3, random_state=42)"
   ]
  },
  {
   "cell_type": "code",
   "execution_count": 109,
   "metadata": {},
   "outputs": [
    {
     "data": {
      "image/png": "[encoded data removed]",
      "text/plain": [
       "<Figure size 1008x720 with 1 Axes>"
      ]
     },
     "metadata": {
      "needs_background": "light"
     },
     "output_type": "display_data"
    }
   ],
   "source": [
    "names = df[['FG', 'PTS', 'PER', 'TS%']].columns\n",
    "\n",
    "lasso = Lasso(alpha = 0.1)\n",
    "lasso_coef = lasso.fit(X, y).coef_\n",
    "\n",
    "plt.figure(figsize = (14, 10))\n",
    "_ = plt.plot(range(len(names)), lasso_coef)\n",
    "_ = plt.xticks(range(len(names)), names, rotation = 60)\n",
    "_ = plt.ylabel('Coefficients')\n",
    "plt.show();"
   ]
  },
  {
   "cell_type": "markdown",
   "metadata": {},
   "source": [
    "#### Regularization II: Ridge Regression\n",
    "\n",
    "#### W/ `FG`, `PTS`, `PER`, `TS%`"
   ]
  },
  {
   "cell_type": "code",
   "execution_count": 110,
   "metadata": {},
   "outputs": [],
   "source": [
    "X = df[['FG', 'PTS', 'PER', 'TS%']]\n",
    "y = df['WS/48']\n",
    "\n",
    "# Create training and test sets\n",
    "X_train, X_test, y_train, y_test = train_test_split(X, y, test_size = 0.3, random_state=42)"
   ]
  },
  {
   "cell_type": "code",
   "execution_count": 111,
   "metadata": {},
   "outputs": [],
   "source": [
    "# Import necessary modules\n",
    "from sklearn.linear_model import Ridge\n",
    "from sklearn.model_selection import cross_val_score"
   ]
  },
  {
   "cell_type": "code",
   "execution_count": 112,
   "metadata": {},
   "outputs": [],
   "source": [
    "def display_plot(cv_scores, cv_scores_std):\n",
    "    fig = plt.figure(figsize = (12, 10))\n",
    "    ax = fig.add_subplot(1,1,1)\n",
    "    ax.plot(alpha_space, cv_scores)\n",
    "\n",
    "    std_error = cv_scores_std / np.sqrt(10)\n",
    "\n",
    "    ax.fill_between(alpha_space, cv_scores + std_error, cv_scores - std_error, alpha=0.2)\n",
    "    ax.set_ylabel('CV Score +/- Std Error')\n",
    "    ax.set_xlabel('Alpha')\n",
    "    ax.axhline(np.max(cv_scores), linestyle='--', color='.5')\n",
    "    ax.set_xlim([alpha_space[0], alpha_space[-1]])\n",
    "    ax.set_xscale('log')\n",
    "    plt.show()"
   ]
  },
  {
   "cell_type": "code",
   "execution_count": 113,
   "metadata": {},
   "outputs": [],
   "source": [
    "# Setup the array of alphas and lists to store scores\n",
    "alpha_space = np.logspace(-4, 0, 50)\n",
    "ridge_scores = []\n",
    "ridge_scores_std = []"
   ]
  },
  {
   "cell_type": "code",
   "execution_count": 114,
   "metadata": {},
   "outputs": [],
   "source": [
    "# Create a ridge regressor: ridge\n",
    "ridge = Ridge(normalize=True)"
   ]
  },
  {
   "cell_type": "code",
   "execution_count": 115,
   "metadata": {},
   "outputs": [],
   "source": [
    "# Compute scores over range of alphas\n",
    "for alpha in alpha_space:\n",
    "\n",
    "    # Specify the alpha value to use: ridge.alpha\n",
    "    ridge.alpha = alpha\n",
    "    \n",
    "    # Perform 10-fold CV: ridge_cv_scores\n",
    "    ridge_cv_scores = cross_val_score(ridge, X, y, cv=10)\n",
    "    \n",
    "    # Append the mean of ridge_cv_scores to ridge_scores\n",
    "    ridge_scores.append(np.mean(ridge_cv_scores))\n",
    "    \n",
    "    # Append the std of ridge_cv_scores to ridge_scores_std\n",
    "    ridge_scores_std.append(np.std(ridge_cv_scores))"
   ]
  },
  {
   "cell_type": "code",
   "execution_count": 116,
   "metadata": {},
   "outputs": [
    {
     "data": {
      "image/png": "[encoded data removed]",
      "text/plain": [
       "<Figure size 864x720 with 1 Axes>"
      ]
     },
     "metadata": {
      "needs_background": "light"
     },
     "output_type": "display_data"
    }
   ],
   "source": [
    "# Display the plot\n",
    "display_plot(ridge_scores, ridge_scores_std)"
   ]
  },
  {
   "cell_type": "markdown",
   "metadata": {},
   "source": [
    "#### Regularization II: Ridge Regression\n",
    "\n",
    "#### W/ All features"
   ]
  },
  {
   "cell_type": "code",
   "execution_count": 117,
   "metadata": {},
   "outputs": [],
   "source": [
    "X = df.drop(labels = ['Player', 'Age', 'Pos', 'Tm', 'Year', 'WS/48', 'WS', 'OWS', 'DWS'], axis = 1).values\n",
    "y = df['WS/48'].values"
   ]
  },
  {
   "cell_type": "code",
   "execution_count": 118,
   "metadata": {},
   "outputs": [],
   "source": [
    "# Create training and test sets\n",
    "X_train, X_test, y_train, y_test = train_test_split(X, y, test_size = 0.3, random_state=42)"
   ]
  },
  {
   "cell_type": "code",
   "execution_count": 119,
   "metadata": {},
   "outputs": [],
   "source": [
    "# Setup the array of alphas and lists to store scores\n",
    "alpha_space = np.logspace(-4, 0, 50)\n",
    "ridge_scores = []\n",
    "ridge_scores_std = []"
   ]
  },
  {
   "cell_type": "code",
   "execution_count": 120,
   "metadata": {},
   "outputs": [],
   "source": [
    "# Create a ridge regressor: ridge\n",
    "ridge = Ridge(normalize=True)"
   ]
  },
  {
   "cell_type": "code",
   "execution_count": 121,
   "metadata": {},
   "outputs": [],
   "source": [
    "# Compute scores over range of alphas\n",
    "for alpha in alpha_space:\n",
    "\n",
    "    # Specify the alpha value to use: ridge.alpha\n",
    "    ridge.alpha = alpha\n",
    "    \n",
    "    # Perform 10-fold CV: ridge_cv_scores\n",
    "    ridge_cv_scores = cross_val_score(ridge, X, y, cv=10)\n",
    "    \n",
    "    # Append the mean of ridge_cv_scores to ridge_scores\n",
    "    ridge_scores.append(np.mean(ridge_cv_scores))\n",
    "    \n",
    "    # Append the std of ridge_cv_scores to ridge_scores_std\n",
    "    ridge_scores_std.append(np.std(ridge_cv_scores))"
   ]
  },
  {
   "cell_type": "code",
   "execution_count": 122,
   "metadata": {},
   "outputs": [
    {
     "data": {
      "image/png": "[encoded data removed]",
      "text/plain": [
       "<Figure size 864x720 with 1 Axes>"
      ]
     },
     "metadata": {
      "needs_background": "light"
     },
     "output_type": "display_data"
    }
   ],
   "source": [
    "# Display the plot\n",
    "display_plot(ridge_scores, ridge_scores_std)"
   ]
  },
  {
   "cell_type": "markdown",
   "metadata": {},
   "source": [
    "#### Hyperparameter tuning with GridSearchCV"
   ]
  },
  {
   "cell_type": "code",
   "execution_count": 123,
   "metadata": {},
   "outputs": [],
   "source": [
    "X = df.drop(labels = ['Player', 'Age', 'Pos', 'Tm', 'Year', 'WS/48', 'WS', 'OWS', 'DWS'], axis = 1)\n",
    "y = df['WS/48']\n",
    "\n",
    "# Create training and test sets\n",
    "X_train, X_test, y_train, y_test = train_test_split(X, y, test_size = 0.3, random_state=42)"
   ]
  },
  {
   "cell_type": "code",
   "execution_count": 124,
   "metadata": {},
   "outputs": [],
   "source": [
    "# import necessary modules\n",
    "from sklearn.model_selection import GridSearchCV"
   ]
  },
  {
   "cell_type": "code",
   "execution_count": 125,
   "metadata": {},
   "outputs": [],
   "source": [
    "# Setup the hyperparameter grid\n",
    "alpha_space = np.logspace(-4, 0, 50)\n",
    "param_grid = {'alpha': alpha_space}"
   ]
  },
  {
   "cell_type": "code",
   "execution_count": 126,
   "metadata": {},
   "outputs": [],
   "source": [
    "# Create a ridge regressor: ridge\n",
    "ridge = Ridge()"
   ]
  },
  {
   "cell_type": "code",
   "execution_count": 127,
   "metadata": {},
   "outputs": [],
   "source": [
    "ridge_cv = GridSearchCV(ridge, param_grid, cv=5)"
   ]
  },
  {
   "cell_type": "code",
   "execution_count": 128,
   "metadata": {},
   "outputs": [
    {
     "data": {
      "text/plain": [
       "GridSearchCV(cv=5, error_score='raise-deprecating',\n",
       "       estimator=Ridge(alpha=1.0, copy_X=True, fit_intercept=True, max_iter=None,\n",
       "   normalize=True, random_state=None, solver='auto', tol=0.001),\n",
       "       fit_params=None, iid='warn', n_jobs=None,\n",
       "       param_grid={'alpha': array([1.00000e-04, 1.20679e-04, 1.45635e-04, 1.75751e-04, 2.12095e-04,\n",
       "       2.55955e-04, 3.08884e-04, 3.72759e-04, 4.49843e-04, 5.42868e-04,\n",
       "       6.55129e-04, 7.90604e-04, 9.54095e-04, 1.15140e-03, 1.38950e-03,\n",
       "       1.67683e-03, 2.02359e-03, 2.44205e-03, 2.94705e-03, 3.55... 3.23746e-01, 3.90694e-01,\n",
       "       4.71487e-01, 5.68987e-01, 6.86649e-01, 8.28643e-01, 1.00000e+00])},\n",
       "       pre_dispatch='2*n_jobs', refit=True, return_train_score='warn',\n",
       "       scoring=None, verbose=0)"
      ]
     },
     "execution_count": 128,
     "metadata": {},
     "output_type": "execute_result"
    }
   ],
   "source": [
    "ridge_cv.fit(X, y)"
   ]
  },
  {
   "cell_type": "code",
   "execution_count": 129,
   "metadata": {},
   "outputs": [
    {
     "name": "stdout",
     "output_type": "stream",
     "text": [
      "Tuned Ridge Regression Parameters: {'alpha': 0.0001}\n",
      "Best score is 0.9645906131374419\n"
     ]
    }
   ],
   "source": [
    "# Print the tuned parameters and score\n",
    "print(\"Tuned Ridge Regression Parameters: {}\".format(ridge_cv.best_params_)) \n",
    "print(\"Best score is {}\".format(ridge_cv.best_score_))"
   ]
  },
  {
   "cell_type": "markdown",
   "metadata": {},
   "source": [
    "### Pull Data from 2018-2019 Data to test model on"
   ]
  },
  {
   "cell_type": "code",
   "execution_count": 10,
   "metadata": {},
   "outputs": [],
   "source": [
    "# define function that will scrap information from basketball-reference.com and return information as a dataframe\n",
    "\n",
    "def basketball_reference_scrap(year, statistic):\n",
    "    # URL page we will be scraping \n",
    "    url = 'https://www.basketball-reference.com/leagues/NBA_{}_{}.html'.format(year, statistic)\n",
    "    html = urlopen(url)\n",
    "    soup = BeautifulSoup(html)\n",
    "    headers = [th.getText() for th in soup.findAll('tr', limit=2)[0].findAll('th')]\n",
    "    # exclude the first column as we will not need the ranking order\n",
    "    headers = headers[1:]\n",
    "    rows = soup.findAll('tr')[1:]\n",
    "    player_stats = [[td.getText() for td in rows[i].findAll('td')] for i in range(len(rows))]\n",
    "    # create new dataframe\n",
    "    df = pd.DataFrame(player_stats, columns = headers)\n",
    "    df['Year'] = year\n",
    "    return df\n"
   ]
  },
  {
   "cell_type": "code",
   "execution_count": 11,
   "metadata": {},
   "outputs": [],
   "source": [
    "def drop_duplicate_players(df):\n",
    "    df.drop_duplicates(subset = 'Player', inplace=True)\n",
    "    return df"
   ]
  },
  {
   "cell_type": "code",
   "execution_count": 12,
   "metadata": {},
   "outputs": [],
   "source": [
    "# function that cleans per possession data from web scrape\n",
    "\n",
    "def clean_per_poss(df):\n",
    "    '''function that accepts raw per possession data and cleans it into usable DataFrame'''\n",
    "    # 1: drop duplicate players\n",
    "    drop_duplicate_players(df)\n",
    "    # 2: replace 'None' rows with 'NaN'\n",
    "    df.fillna(value=pd.np.nan, inplace = True)\n",
    "    # 3: drop rows with na\n",
    "    df.dropna(axis = 0, inplace = True)\n",
    "    # 4: drop blank column\n",
    "    df.drop(labels = '', axis = 1, inplace = True)\n",
    "    # 5: variable that contains columns to convert to numerics\n",
    "    cols_to_numeric = df.columns.drop(['Player', 'Pos', 'Age', 'Tm', 'Year'])\n",
    "    # 6: convert selected columns to numeric dtypes\n",
    "    df[cols_to_numeric] = df[cols_to_numeric].apply(pd.to_numeric, errors = 'coerce')\n",
    "    # 7: reset index\n",
    "    df.reset_index(drop = True, inplace = True)\n",
    "    return df\n"
   ]
  },
  {
   "cell_type": "code",
   "execution_count": 13,
   "metadata": {},
   "outputs": [],
   "source": [
    "# function that cleans raw advanced stats pulled from web scrape \n",
    "\n",
    "def clean_advanced(df):\n",
    "    '''function that takes in raw advanced data and cleans it into usable DataFrame'''\n",
    "    #1: drop duplicate players\n",
    "    drop_duplicate_players(df)\n",
    "    #2: replace 'None' row with 'NaN'\n",
    "    df.fillna(value=pd.np.nan, inplace = True)\n",
    "    #3: dropna row\n",
    "    df.dropna(axis=0, inplace=True)\n",
    "    #4: drop blank columns\n",
    "    df.drop(df.columns[[18, 23]], axis=1, inplace = True)\n",
    "    #7: create list of columns to convert to numerics\n",
    "    cols_to_numeric = df.columns.drop(['Player', 'Pos', 'Age', 'Tm', 'Year'])\n",
    "    #8: convert selected columns to numeric dtypes\n",
    "    df[cols_to_numeric] = df[cols_to_numeric].apply(pd.to_numeric, errors = 'coerce')\n",
    "    #9: reset_index\n",
    "    df.reset_index(drop=True, inplace=True)\n",
    "    #9: return updated df\n",
    "    return df\n"
   ]
  },
  {
   "cell_type": "code",
   "execution_count": 14,
   "metadata": {},
   "outputs": [],
   "source": [
    "# function to merge and clean per possession and advanced dataframe\n",
    "\n",
    "def merge_df(df1, df2):\n",
    "    '''function to merge clean per_poss and advanced dataframe'''\n",
    "    #1: merge df1 and df2\n",
    "    df = pd.merge(df1, df2, left_index=True, right_index=True, how='outer')\n",
    "    #2: drop duplicate columns\n",
    "    df.drop(labels = ['Year_x', 'Player_y', 'Pos_y', 'Age_y', 'Tm_y', 'G_y', 'MP_y'], axis = 1, inplace = True)\n",
    "    #3: replace columns that still have '_x' and '_y'\n",
    "    df.columns = df.columns.str.replace('_x', '').str.replace('_y', '')\n",
    "    #4: print to confirm that all three df's have same number of rows\n",
    "    print('Do all three DataFrames have the same number of rows? ',\n",
    "         df1.shape[0] == df2.shape[0] == df.shape[0])\n",
    "    #5: return merged df\n",
    "    return df\n"
   ]
  },
  {
   "cell_type": "code",
   "execution_count": 15,
   "metadata": {},
   "outputs": [],
   "source": [
    "# import necessary modules\n",
    "from urllib.request import urlopen\n",
    "from bs4 import BeautifulSoup"
   ]
  },
  {
   "cell_type": "code",
   "execution_count": 16,
   "metadata": {},
   "outputs": [
    {
     "name": "stdout",
     "output_type": "stream",
     "text": [
      "Shape of original DataFrames, Per_poss:  (734, 32) Advanced:  (734, 29)\n"
     ]
    }
   ],
   "source": [
    "# scrap per_poss and advanced stats for year 2019\n",
    "per_poss2019 = basketball_reference_scrap(2019, 'per_poss')\n",
    "advanced2019 = basketball_reference_scrap(2019, 'advanced')\n",
    "\n",
    "print('Shape of original DataFrames, Per_poss: ', per_poss2019.shape, 'Advanced: ', advanced2019.shape)"
   ]
  },
  {
   "cell_type": "code",
   "execution_count": 17,
   "metadata": {},
   "outputs": [],
   "source": [
    "clean_per_poss(per_poss2019);"
   ]
  },
  {
   "cell_type": "code",
   "execution_count": 18,
   "metadata": {},
   "outputs": [],
   "source": [
    "# clean up advanced 2019 stats\n",
    "clean_advanced(advanced2019);"
   ]
  },
  {
   "cell_type": "code",
   "execution_count": 19,
   "metadata": {},
   "outputs": [
    {
     "name": "stdout",
     "output_type": "stream",
     "text": [
      "Do all three DataFrames have the same number of rows?  True\n"
     ]
    },
    {
     "data": {
      "text/html": [
       "<div>\n",
       "<style scoped>\n",
       "    .dataframe tbody tr th:only-of-type {\n",
       "        vertical-align: middle;\n",
       "    }\n",
       "\n",
       "    .dataframe tbody tr th {\n",
       "        vertical-align: top;\n",
       "    }\n",
       "\n",
       "    .dataframe thead th {\n",
       "        text-align: right;\n",
       "    }\n",
       "</style>\n",
       "<table border=\"1\" class=\"dataframe\">\n",
       "  <thead>\n",
       "    <tr style=\"text-align: right;\">\n",
       "      <th></th>\n",
       "      <th>Player</th>\n",
       "      <th>Pos</th>\n",
       "      <th>Age</th>\n",
       "      <th>Tm</th>\n",
       "      <th>G</th>\n",
       "      <th>GS</th>\n",
       "      <th>MP</th>\n",
       "      <th>FG</th>\n",
       "      <th>FGA</th>\n",
       "      <th>FG%</th>\n",
       "      <th>3P</th>\n",
       "      <th>3PA</th>\n",
       "      <th>3P%</th>\n",
       "      <th>2P</th>\n",
       "      <th>2PA</th>\n",
       "      <th>2P%</th>\n",
       "      <th>FT</th>\n",
       "      <th>FTA</th>\n",
       "      <th>FT%</th>\n",
       "      <th>ORB</th>\n",
       "      <th>DRB</th>\n",
       "      <th>TRB</th>\n",
       "      <th>AST</th>\n",
       "      <th>STL</th>\n",
       "      <th>BLK</th>\n",
       "      <th>TOV</th>\n",
       "      <th>PF</th>\n",
       "      <th>PTS</th>\n",
       "      <th>ORtg</th>\n",
       "      <th>DRtg</th>\n",
       "      <th>PER</th>\n",
       "      <th>TS%</th>\n",
       "      <th>3PAr</th>\n",
       "      <th>FTr</th>\n",
       "      <th>ORB%</th>\n",
       "      <th>DRB%</th>\n",
       "      <th>TRB%</th>\n",
       "      <th>AST%</th>\n",
       "      <th>STL%</th>\n",
       "      <th>BLK%</th>\n",
       "      <th>TOV%</th>\n",
       "      <th>USG%</th>\n",
       "      <th>OWS</th>\n",
       "      <th>DWS</th>\n",
       "      <th>WS</th>\n",
       "      <th>WS/48</th>\n",
       "      <th>OBPM</th>\n",
       "      <th>DBPM</th>\n",
       "      <th>BPM</th>\n",
       "      <th>VORP</th>\n",
       "      <th>Year</th>\n",
       "    </tr>\n",
       "  </thead>\n",
       "  <tbody>\n",
       "    <tr>\n",
       "      <th>0</th>\n",
       "      <td>Alex Abrines</td>\n",
       "      <td>SG</td>\n",
       "      <td>25</td>\n",
       "      <td>OKC</td>\n",
       "      <td>31</td>\n",
       "      <td>2</td>\n",
       "      <td>588</td>\n",
       "      <td>4.4</td>\n",
       "      <td>12.5</td>\n",
       "      <td>0.357</td>\n",
       "      <td>3.3</td>\n",
       "      <td>10.1</td>\n",
       "      <td>0.323</td>\n",
       "      <td>1.2</td>\n",
       "      <td>2.4</td>\n",
       "      <td>0.500</td>\n",
       "      <td>1.0</td>\n",
       "      <td>1.0</td>\n",
       "      <td>0.923</td>\n",
       "      <td>0.4</td>\n",
       "      <td>3.4</td>\n",
       "      <td>3.8</td>\n",
       "      <td>1.6</td>\n",
       "      <td>1.3</td>\n",
       "      <td>0.5</td>\n",
       "      <td>1.1</td>\n",
       "      <td>4.2</td>\n",
       "      <td>13.1</td>\n",
       "      <td>103.0</td>\n",
       "      <td>111</td>\n",
       "      <td>6.3</td>\n",
       "      <td>0.507</td>\n",
       "      <td>0.809</td>\n",
       "      <td>0.083</td>\n",
       "      <td>0.9</td>\n",
       "      <td>7.8</td>\n",
       "      <td>4.2</td>\n",
       "      <td>4.3</td>\n",
       "      <td>1.3</td>\n",
       "      <td>0.9</td>\n",
       "      <td>7.9</td>\n",
       "      <td>12.2</td>\n",
       "      <td>0.1</td>\n",
       "      <td>0.6</td>\n",
       "      <td>0.6</td>\n",
       "      <td>0.053</td>\n",
       "      <td>-2.4</td>\n",
       "      <td>-0.9</td>\n",
       "      <td>-3.4</td>\n",
       "      <td>-0.2</td>\n",
       "      <td>2019</td>\n",
       "    </tr>\n",
       "    <tr>\n",
       "      <th>1</th>\n",
       "      <td>Quincy Acy</td>\n",
       "      <td>PF</td>\n",
       "      <td>28</td>\n",
       "      <td>PHO</td>\n",
       "      <td>10</td>\n",
       "      <td>0</td>\n",
       "      <td>123</td>\n",
       "      <td>1.6</td>\n",
       "      <td>7.0</td>\n",
       "      <td>0.222</td>\n",
       "      <td>0.8</td>\n",
       "      <td>5.8</td>\n",
       "      <td>0.133</td>\n",
       "      <td>0.8</td>\n",
       "      <td>1.2</td>\n",
       "      <td>0.667</td>\n",
       "      <td>2.7</td>\n",
       "      <td>3.9</td>\n",
       "      <td>0.700</td>\n",
       "      <td>1.2</td>\n",
       "      <td>8.5</td>\n",
       "      <td>9.7</td>\n",
       "      <td>3.1</td>\n",
       "      <td>0.4</td>\n",
       "      <td>1.6</td>\n",
       "      <td>1.6</td>\n",
       "      <td>9.3</td>\n",
       "      <td>6.6</td>\n",
       "      <td>87.0</td>\n",
       "      <td>116</td>\n",
       "      <td>2.9</td>\n",
       "      <td>0.379</td>\n",
       "      <td>0.833</td>\n",
       "      <td>0.556</td>\n",
       "      <td>2.7</td>\n",
       "      <td>20.1</td>\n",
       "      <td>11.3</td>\n",
       "      <td>8.2</td>\n",
       "      <td>0.4</td>\n",
       "      <td>2.7</td>\n",
       "      <td>15.2</td>\n",
       "      <td>9.2</td>\n",
       "      <td>-0.1</td>\n",
       "      <td>0.0</td>\n",
       "      <td>-0.1</td>\n",
       "      <td>-0.022</td>\n",
       "      <td>-5.7</td>\n",
       "      <td>-0.3</td>\n",
       "      <td>-5.9</td>\n",
       "      <td>-0.1</td>\n",
       "      <td>2019</td>\n",
       "    </tr>\n",
       "    <tr>\n",
       "      <th>2</th>\n",
       "      <td>Jaylen Adams</td>\n",
       "      <td>PG</td>\n",
       "      <td>22</td>\n",
       "      <td>ATL</td>\n",
       "      <td>34</td>\n",
       "      <td>1</td>\n",
       "      <td>428</td>\n",
       "      <td>4.1</td>\n",
       "      <td>11.9</td>\n",
       "      <td>0.345</td>\n",
       "      <td>2.7</td>\n",
       "      <td>8.0</td>\n",
       "      <td>0.338</td>\n",
       "      <td>1.4</td>\n",
       "      <td>3.9</td>\n",
       "      <td>0.361</td>\n",
       "      <td>0.8</td>\n",
       "      <td>1.0</td>\n",
       "      <td>0.778</td>\n",
       "      <td>1.2</td>\n",
       "      <td>5.3</td>\n",
       "      <td>6.5</td>\n",
       "      <td>7.0</td>\n",
       "      <td>1.5</td>\n",
       "      <td>0.5</td>\n",
       "      <td>3.0</td>\n",
       "      <td>4.9</td>\n",
       "      <td>11.7</td>\n",
       "      <td>99.0</td>\n",
       "      <td>115</td>\n",
       "      <td>7.6</td>\n",
       "      <td>0.474</td>\n",
       "      <td>0.673</td>\n",
       "      <td>0.082</td>\n",
       "      <td>2.6</td>\n",
       "      <td>12.3</td>\n",
       "      <td>7.4</td>\n",
       "      <td>19.8</td>\n",
       "      <td>1.5</td>\n",
       "      <td>1.0</td>\n",
       "      <td>19.7</td>\n",
       "      <td>13.5</td>\n",
       "      <td>-0.1</td>\n",
       "      <td>0.2</td>\n",
       "      <td>0.1</td>\n",
       "      <td>0.011</td>\n",
       "      <td>-3.1</td>\n",
       "      <td>-1.3</td>\n",
       "      <td>-4.4</td>\n",
       "      <td>-0.3</td>\n",
       "      <td>2019</td>\n",
       "    </tr>\n",
       "    <tr>\n",
       "      <th>3</th>\n",
       "      <td>Steven Adams</td>\n",
       "      <td>C</td>\n",
       "      <td>25</td>\n",
       "      <td>OKC</td>\n",
       "      <td>80</td>\n",
       "      <td>80</td>\n",
       "      <td>2669</td>\n",
       "      <td>8.4</td>\n",
       "      <td>14.1</td>\n",
       "      <td>0.595</td>\n",
       "      <td>0.0</td>\n",
       "      <td>0.0</td>\n",
       "      <td>0.000</td>\n",
       "      <td>8.4</td>\n",
       "      <td>14.1</td>\n",
       "      <td>0.596</td>\n",
       "      <td>2.6</td>\n",
       "      <td>5.1</td>\n",
       "      <td>0.500</td>\n",
       "      <td>6.8</td>\n",
       "      <td>6.5</td>\n",
       "      <td>13.3</td>\n",
       "      <td>2.2</td>\n",
       "      <td>2.0</td>\n",
       "      <td>1.3</td>\n",
       "      <td>2.4</td>\n",
       "      <td>3.6</td>\n",
       "      <td>19.4</td>\n",
       "      <td>120.0</td>\n",
       "      <td>106</td>\n",
       "      <td>18.5</td>\n",
       "      <td>0.591</td>\n",
       "      <td>0.002</td>\n",
       "      <td>0.361</td>\n",
       "      <td>14.7</td>\n",
       "      <td>14.8</td>\n",
       "      <td>14.7</td>\n",
       "      <td>6.6</td>\n",
       "      <td>2.0</td>\n",
       "      <td>2.4</td>\n",
       "      <td>12.6</td>\n",
       "      <td>16.4</td>\n",
       "      <td>5.1</td>\n",
       "      <td>4.0</td>\n",
       "      <td>9.1</td>\n",
       "      <td>0.163</td>\n",
       "      <td>0.6</td>\n",
       "      <td>2.1</td>\n",
       "      <td>2.7</td>\n",
       "      <td>3.2</td>\n",
       "      <td>2019</td>\n",
       "    </tr>\n",
       "    <tr>\n",
       "      <th>4</th>\n",
       "      <td>Bam Adebayo</td>\n",
       "      <td>C</td>\n",
       "      <td>21</td>\n",
       "      <td>MIA</td>\n",
       "      <td>82</td>\n",
       "      <td>28</td>\n",
       "      <td>1913</td>\n",
       "      <td>7.2</td>\n",
       "      <td>12.4</td>\n",
       "      <td>0.576</td>\n",
       "      <td>0.1</td>\n",
       "      <td>0.4</td>\n",
       "      <td>0.200</td>\n",
       "      <td>7.1</td>\n",
       "      <td>12.0</td>\n",
       "      <td>0.588</td>\n",
       "      <td>4.2</td>\n",
       "      <td>5.8</td>\n",
       "      <td>0.735</td>\n",
       "      <td>4.2</td>\n",
       "      <td>11.0</td>\n",
       "      <td>15.2</td>\n",
       "      <td>4.7</td>\n",
       "      <td>1.8</td>\n",
       "      <td>1.7</td>\n",
       "      <td>3.1</td>\n",
       "      <td>5.2</td>\n",
       "      <td>18.6</td>\n",
       "      <td>120.0</td>\n",
       "      <td>104</td>\n",
       "      <td>17.9</td>\n",
       "      <td>0.623</td>\n",
       "      <td>0.031</td>\n",
       "      <td>0.465</td>\n",
       "      <td>9.2</td>\n",
       "      <td>24.0</td>\n",
       "      <td>16.6</td>\n",
       "      <td>14.2</td>\n",
       "      <td>1.8</td>\n",
       "      <td>3.0</td>\n",
       "      <td>17.1</td>\n",
       "      <td>15.8</td>\n",
       "      <td>3.4</td>\n",
       "      <td>3.4</td>\n",
       "      <td>6.8</td>\n",
       "      <td>0.171</td>\n",
       "      <td>-0.6</td>\n",
       "      <td>3.6</td>\n",
       "      <td>3.0</td>\n",
       "      <td>2.4</td>\n",
       "      <td>2019</td>\n",
       "    </tr>\n",
       "  </tbody>\n",
       "</table>\n",
       "</div>"
      ],
      "text/plain": [
       "         Player Pos Age   Tm   G  GS    MP   FG   FGA    FG%   3P   3PA    3P%   2P   2PA    2P%   FT  FTA    FT%  ORB   DRB   TRB  AST  STL  BLK  TOV   PF   PTS   ORtg  DRtg   PER    TS%   3PAr    FTr  ORB%  DRB%  TRB%  AST%  STL%  BLK%  TOV%  USG%  OWS  DWS   WS  WS/48  OBPM  DBPM  BPM  VORP  Year\n",
       "0  Alex Abrines  SG  25  OKC  31   2   588  4.4  12.5  0.357  3.3  10.1  0.323  1.2   2.4  0.500  1.0  1.0  0.923  0.4   3.4   3.8  1.6  1.3  0.5  1.1  4.2  13.1  103.0   111   6.3  0.507  0.809  0.083   0.9   7.8   4.2   4.3   1.3   0.9   7.9  12.2  0.1  0.6  0.6  0.053  -2.4  -0.9 -3.4  -0.2  2019\n",
       "1    Quincy Acy  PF  28  PHO  10   0   123  1.6   7.0  0.222  0.8   5.8  0.133  0.8   1.2  0.667  2.7  3.9  0.700  1.2   8.5   9.7  3.1  0.4  1.6  1.6  9.3   6.6   87.0   116   2.9  0.379  0.833  0.556   2.7  20.1  11.3   8.2   0.4   2.7  15.2   9.2 -0.1  0.0 -0.1 -0.022  -5.7  -0.3 -5.9  -0.1  2019\n",
       "2  Jaylen Adams  PG  22  ATL  34   1   428  4.1  11.9  0.345  2.7   8.0  0.338  1.4   3.9  0.361  0.8  1.0  0.778  1.2   5.3   6.5  7.0  1.5  0.5  3.0  4.9  11.7   99.0   115   7.6  0.474  0.673  0.082   2.6  12.3   7.4  19.8   1.5   1.0  19.7  13.5 -0.1  0.2  0.1  0.011  -3.1  -1.3 -4.4  -0.3  2019\n",
       "3  Steven Adams   C  25  OKC  80  80  2669  8.4  14.1  0.595  0.0   0.0  0.000  8.4  14.1  0.596  2.6  5.1  0.500  6.8   6.5  13.3  2.2  2.0  1.3  2.4  3.6  19.4  120.0   106  18.5  0.591  0.002  0.361  14.7  14.8  14.7   6.6   2.0   2.4  12.6  16.4  5.1  4.0  9.1  0.163   0.6   2.1  2.7   3.2  2019\n",
       "4   Bam Adebayo   C  21  MIA  82  28  1913  7.2  12.4  0.576  0.1   0.4  0.200  7.1  12.0  0.588  4.2  5.8  0.735  4.2  11.0  15.2  4.7  1.8  1.7  3.1  5.2  18.6  120.0   104  17.9  0.623  0.031  0.465   9.2  24.0  16.6  14.2   1.8   3.0  17.1  15.8  3.4  3.4  6.8  0.171  -0.6   3.6  3.0   2.4  2019"
      ]
     },
     "execution_count": 19,
     "metadata": {},
     "output_type": "execute_result"
    }
   ],
   "source": [
    "df_2019 = merge_df(per_poss2019, advanced2019)\n",
    "\n",
    "df_2019.head(5)"
   ]
  },
  {
   "cell_type": "code",
   "execution_count": 20,
   "metadata": {},
   "outputs": [
    {
     "name": "stdout",
     "output_type": "stream",
     "text": [
      "<class 'pandas.core.frame.DataFrame'>\n",
      "Int64Index: 530 entries, 0 to 529\n",
      "Data columns (total 51 columns):\n",
      "Player    530 non-null object\n",
      "Pos       530 non-null object\n",
      "Age       530 non-null object\n",
      "Tm        530 non-null object\n",
      "G         530 non-null int64\n",
      "GS        530 non-null int64\n",
      "MP        530 non-null int64\n",
      "FG        530 non-null float64\n",
      "FGA       530 non-null float64\n",
      "FG%       526 non-null float64\n",
      "3P        530 non-null float64\n",
      "3PA       530 non-null float64\n",
      "3P%       494 non-null float64\n",
      "2P        530 non-null float64\n",
      "2PA       530 non-null float64\n",
      "2P%       520 non-null float64\n",
      "FT        530 non-null float64\n",
      "FTA       530 non-null float64\n",
      "FT%       503 non-null float64\n",
      "ORB       530 non-null float64\n",
      "DRB       530 non-null float64\n",
      "TRB       530 non-null float64\n",
      "AST       530 non-null float64\n",
      "STL       530 non-null float64\n",
      "BLK       530 non-null float64\n",
      "TOV       530 non-null float64\n",
      "PF        530 non-null float64\n",
      "PTS       530 non-null float64\n",
      "ORtg      526 non-null float64\n",
      "DRtg      530 non-null int64\n",
      "PER       530 non-null float64\n",
      "TS%       526 non-null float64\n",
      "3PAr      526 non-null float64\n",
      "FTr       526 non-null float64\n",
      "ORB%      530 non-null float64\n",
      "DRB%      530 non-null float64\n",
      "TRB%      530 non-null float64\n",
      "AST%      530 non-null float64\n",
      "STL%      530 non-null float64\n",
      "BLK%      530 non-null float64\n",
      "TOV%      526 non-null float64\n",
      "USG%      530 non-null float64\n",
      "OWS       530 non-null float64\n",
      "DWS       530 non-null float64\n",
      "WS        530 non-null float64\n",
      "WS/48     530 non-null float64\n",
      "OBPM      530 non-null float64\n",
      "DBPM      530 non-null float64\n",
      "BPM       530 non-null float64\n",
      "VORP      530 non-null float64\n",
      "Year      530 non-null int64\n",
      "dtypes: float64(42), int64(5), object(4)\n",
      "memory usage: 235.3+ KB\n"
     ]
    }
   ],
   "source": [
    "df_2019.info()"
   ]
  },
  {
   "cell_type": "code",
   "execution_count": 21,
   "metadata": {},
   "outputs": [
    {
     "data": {
      "text/plain": [
       "Player    0.000000\n",
       "Pos       0.000000\n",
       "Age       0.000000\n",
       "Tm        0.000000\n",
       "G         0.000000\n",
       "GS        0.000000\n",
       "MP        0.000000\n",
       "FG        0.000000\n",
       "FGA       0.000000\n",
       "FG%       0.754717\n",
       "3P        0.000000\n",
       "3PA       0.000000\n",
       "3P%       6.792453\n",
       "2P        0.000000\n",
       "2PA       0.000000\n",
       "2P%       1.886792\n",
       "FT        0.000000\n",
       "FTA       0.000000\n",
       "FT%       5.094340\n",
       "ORB       0.000000\n",
       "DRB       0.000000\n",
       "TRB       0.000000\n",
       "AST       0.000000\n",
       "STL       0.000000\n",
       "BLK       0.000000\n",
       "TOV       0.000000\n",
       "PF        0.000000\n",
       "PTS       0.000000\n",
       "ORtg      0.754717\n",
       "DRtg      0.000000\n",
       "PER       0.000000\n",
       "TS%       0.754717\n",
       "3PAr      0.754717\n",
       "FTr       0.754717\n",
       "ORB%      0.000000\n",
       "DRB%      0.000000\n",
       "TRB%      0.000000\n",
       "AST%      0.000000\n",
       "STL%      0.000000\n",
       "BLK%      0.000000\n",
       "TOV%      0.754717\n",
       "USG%      0.000000\n",
       "OWS       0.000000\n",
       "DWS       0.000000\n",
       "WS        0.000000\n",
       "WS/48     0.000000\n",
       "OBPM      0.000000\n",
       "DBPM      0.000000\n",
       "BPM       0.000000\n",
       "VORP      0.000000\n",
       "Year      0.000000\n",
       "dtype: float64"
      ]
     },
     "execution_count": 21,
     "metadata": {},
     "output_type": "execute_result"
    }
   ],
   "source": [
    "# percentage of the column with a missing value\n",
    "df_2019.isnull().sum() / len(df_2019) * 100"
   ]
  },
  {
   "cell_type": "code",
   "execution_count": 23,
   "metadata": {},
   "outputs": [],
   "source": [
    "df_2019_test = df_2019.fillna(0)\n",
    "\n",
    "df_2019_test.to_csv('data/df_2019.csv')"
   ]
  },
  {
   "cell_type": "code",
   "execution_count": 143,
   "metadata": {},
   "outputs": [
    {
     "data": {
      "text/plain": [
       "Player    0.0\n",
       "Pos       0.0\n",
       "Age       0.0\n",
       "Tm        0.0\n",
       "G         0.0\n",
       "GS        0.0\n",
       "MP        0.0\n",
       "FG        0.0\n",
       "FGA       0.0\n",
       "FG%       0.0\n",
       "3P        0.0\n",
       "3PA       0.0\n",
       "3P%       0.0\n",
       "2P        0.0\n",
       "2PA       0.0\n",
       "2P%       0.0\n",
       "FT        0.0\n",
       "FTA       0.0\n",
       "FT%       0.0\n",
       "ORB       0.0\n",
       "DRB       0.0\n",
       "TRB       0.0\n",
       "AST       0.0\n",
       "STL       0.0\n",
       "BLK       0.0\n",
       "TOV       0.0\n",
       "PF        0.0\n",
       "PTS       0.0\n",
       "ORtg      0.0\n",
       "DRtg      0.0\n",
       "PER       0.0\n",
       "TS%       0.0\n",
       "3PAr      0.0\n",
       "FTr       0.0\n",
       "ORB%      0.0\n",
       "DRB%      0.0\n",
       "TRB%      0.0\n",
       "AST%      0.0\n",
       "STL%      0.0\n",
       "BLK%      0.0\n",
       "TOV%      0.0\n",
       "USG%      0.0\n",
       "OWS       0.0\n",
       "DWS       0.0\n",
       "WS        0.0\n",
       "WS/48     0.0\n",
       "OBPM      0.0\n",
       "DBPM      0.0\n",
       "BPM       0.0\n",
       "VORP      0.0\n",
       "Year      0.0\n",
       "dtype: float64"
      ]
     },
     "execution_count": 143,
     "metadata": {},
     "output_type": "execute_result"
    }
   ],
   "source": [
    "# percentage of the column with a missing value\n",
    "df_2019_test.isnull().sum() / len(df_2019_test) * 100"
   ]
  },
  {
   "cell_type": "code",
   "execution_count": 144,
   "metadata": {},
   "outputs": [],
   "source": [
    "per_qualify = df_2019_test['MP'] / df_2019_test['G'] >= 6.09"
   ]
  },
  {
   "cell_type": "code",
   "execution_count": 145,
   "metadata": {},
   "outputs": [
    {
     "name": "stdout",
     "output_type": "stream",
     "text": [
      "This is the shape of the original data frame:  (530, 51)\n",
      "This is the shape of the data frame with players that averaged at least 6.09 min/ game:  (487, 51)\n",
      "We eliminated  8.11320754716981 % of the observations.\n"
     ]
    }
   ],
   "source": [
    "# create dataframe that includes players that averaged at least 6.09 minutes per game\n",
    "df_per_qualify = df_2019_test[per_qualify]\n",
    "print('This is the shape of the original data frame: ', df_2019_test.shape)\n",
    "print('This is the shape of the data frame with players that averaged at least 6.09 min/ game: ', df_per_qualify.shape)\n",
    "print('We eliminated ', abs(df_2019_test.shape[0] - df_per_qualify.shape[0]) / (df_2019_test.shape[0]) * 100, '% of the observations.' )"
   ]
  },
  {
   "cell_type": "markdown",
   "metadata": {},
   "source": [
    "## Ridge Regression w/ GridSearchCV & hold out set"
   ]
  },
  {
   "cell_type": "code",
   "execution_count": 168,
   "metadata": {},
   "outputs": [],
   "source": [
    "X = df.drop(labels = ['Player', 'Age', 'Pos', 'Tm', 'Year', 'WS/48', 'WS', 'OWS', 'DWS'], axis = 1)\n",
    "y = df['WS/48']\n",
    "\n",
    "# Create training and test sets\n",
    "X_train, X_test, y_train, y_test = train_test_split(X, y, test_size = 0.1, random_state=42)"
   ]
  },
  {
   "cell_type": "code",
   "execution_count": 169,
   "metadata": {},
   "outputs": [],
   "source": [
    "# Setup the hyperparameter grid\n",
    "alpha_space = np.logspace(-4, 0, 50)\n",
    "param_grid = {'alpha': alpha_space}"
   ]
  },
  {
   "cell_type": "code",
   "execution_count": 170,
   "metadata": {},
   "outputs": [],
   "source": [
    "# Create a ridge regressor: ridge\n",
    "ridge = Ridge()"
   ]
  },
  {
   "cell_type": "code",
   "execution_count": 171,
   "metadata": {},
   "outputs": [],
   "source": [
    "ridge_cv = GridSearchCV(ridge, param_grid, cv=5)"
   ]
  },
  {
   "cell_type": "code",
   "execution_count": 172,
   "metadata": {},
   "outputs": [
    {
     "data": {
      "text/plain": [
       "GridSearchCV(cv=5, error_score='raise-deprecating',\n",
       "       estimator=Ridge(alpha=1.0, copy_X=True, fit_intercept=True, max_iter=None,\n",
       "   normalize=False, random_state=None, solver='auto', tol=0.001),\n",
       "       fit_params=None, iid='warn', n_jobs=None,\n",
       "       param_grid={'alpha': array([1.00000e-04, 1.20679e-04, 1.45635e-04, 1.75751e-04, 2.12095e-04,\n",
       "       2.55955e-04, 3.08884e-04, 3.72759e-04, 4.49843e-04, 5.42868e-04,\n",
       "       6.55129e-04, 7.90604e-04, 9.54095e-04, 1.15140e-03, 1.38950e-03,\n",
       "       1.67683e-03, 2.02359e-03, 2.44205e-03, 2.94705e-03, 3.55... 3.23746e-01, 3.90694e-01,\n",
       "       4.71487e-01, 5.68987e-01, 6.86649e-01, 8.28643e-01, 1.00000e+00])},\n",
       "       pre_dispatch='2*n_jobs', refit=True, return_train_score='warn',\n",
       "       scoring=None, verbose=0)"
      ]
     },
     "execution_count": 172,
     "metadata": {},
     "output_type": "execute_result"
    }
   ],
   "source": [
    "ridge_cv.fit(X_train, y_train)"
   ]
  },
  {
   "cell_type": "code",
   "execution_count": 173,
   "metadata": {},
   "outputs": [
    {
     "name": "stdout",
     "output_type": "stream",
     "text": [
      "Tuned test Ridge Regression Parameters: {'alpha': 1.0}\n",
      "Best score is 0.9657380196727273\n"
     ]
    }
   ],
   "source": [
    "# Print the tuned parameters and score\n",
    "print(\"Tuned test Ridge Regression Parameters: {}\".format(ridge_cv.best_params_)) \n",
    "print(\"Best score is {}\".format(ridge_cv.best_score_))"
   ]
  },
  {
   "cell_type": "code",
   "execution_count": 174,
   "metadata": {},
   "outputs": [],
   "source": [
    "# Predict on the hold out set and compute metrics\n",
    "y_pred = ridge_cv.predict(X_test)\n",
    "r2 = ridge_cv.score(X_test, y_test)\n",
    "rmse = np.sqrt(mean_squared_error(y_test, y_pred))"
   ]
  },
  {
   "cell_type": "code",
   "execution_count": 175,
   "metadata": {},
   "outputs": [
    {
     "name": "stdout",
     "output_type": "stream",
     "text": [
      "Tuned Ridge Regression Parameters: {'alpha': 1.0}\n",
      "Tuned Ridge Regression R squared: 0.9369749546957753\n",
      "Tuned Ridge Regression RMSE: 0.018461926568291386\n"
     ]
    }
   ],
   "source": [
    "print(\"Tuned Ridge Regression Parameters: {}\".format(ridge_cv.best_params_))\n",
    "print(\"Tuned Ridge Regression R squared: {}\".format(r2))\n",
    "print(\"Tuned Ridge Regression RMSE: {}\".format(rmse))"
   ]
  },
  {
   "cell_type": "code",
   "execution_count": 176,
   "metadata": {},
   "outputs": [
    {
     "data": {
      "image/png": "[encoded data removed]",
      "text/plain": [
       "<Figure size 576x396 with 2 Axes>"
      ]
     },
     "metadata": {},
     "output_type": "display_data"
    }
   ],
   "source": [
    "from yellowbrick.regressor import ResidualsPlot\n",
    "\n",
    "visualizer = ResidualsPlot(ridge_cv)\n",
    "\n",
    "visualizer.fit(X_train, y_train)  # Fit the training data to the model\n",
    "visualizer.score(X_test, y_test)  # Evaluate the model on the test data\n",
    "visualizer.poof()                 # Draw/show/poof the data"
   ]
  },
  {
   "cell_type": "code",
   "execution_count": null,
   "metadata": {},
   "outputs": [],
   "source": []
  },
  {
   "cell_type": "markdown",
   "metadata": {},
   "source": [
    "## ElasticNet Regression w/ GridSearchCV & train/test sets"
   ]
  },
  {
   "cell_type": "code",
   "execution_count": 166,
   "metadata": {},
   "outputs": [],
   "source": [
    "# Create training and test sets\n",
    "X_train, X_test, y_train, y_test = train_test_split(X, y, test_size = 0.1, random_state=42)"
   ]
  },
  {
   "cell_type": "code",
   "execution_count": 167,
   "metadata": {},
   "outputs": [],
   "source": [
    "def visual_gridsearch(model, X, y):\n",
    "    alpha_space = np.logspace(-4, 0, 50)\n",
    "    param_grid = {'alpha': alpha_space}\n",
    "    ridge = Ridge()\n",
    "    grid = GridSearchCV(ridge, param_grid=param_grid)\n",
    "    grid.fit(X, y)\n",
    "\n",
    "    scores = [x[1] for x in grid.grid_scores_]\n",
    "    scores = np.array(scores).reshape(len(alpha_space))\n",
    "\n",
    "    plt.figure(figsize=(8, 6))\n",
    "    plt.subplots_adjust(left=.2, right=0.95, bottom=0.15, top=0.95)\n",
    "    plt.imshow(scores, interpolation='nearest', cmap=ddlheatmap)\n",
    "    plt.xlabel('gamma')\n",
    "    plt.ylabel('C')\n",
    "    plt.colorbar()\n",
    "    plt.xticks(np.arange(len(gamma_range)), gamma_range, rotation=45)\n",
    "    plt.yticks(np.arange(len(C_range)), C_range)\n",
    "    plt.title(\n",
    "        \"The best parameters are {} with a score of {:0.2f}.\".format(\n",
    "        grid.best_params_, grid.best_score_)\n",
    "    )\n",
    "    plt.show()"
   ]
  },
  {
   "cell_type": "code",
   "execution_count": null,
   "metadata": {},
   "outputs": [],
   "source": [
    "visual_gridsearch()"
   ]
  },
  {
   "cell_type": "code",
   "execution_count": null,
   "metadata": {},
   "outputs": [],
   "source": []
  },
  {
   "cell_type": "code",
   "execution_count": null,
   "metadata": {},
   "outputs": [],
   "source": []
  },
  {
   "cell_type": "code",
   "execution_count": null,
   "metadata": {},
   "outputs": [],
   "source": [
    "X_2019 = df_per_qualify.drop(labels = ['Player', 'Age', 'Pos', 'Tm', 'Year', 'WS/48', 'WS', 'OWS', 'DWS'], axis = 1)"
   ]
  },
  {
   "cell_type": "code",
   "execution_count": null,
   "metadata": {},
   "outputs": [],
   "source": [
    "y_pred = ridge_cv.predict(X_2019)"
   ]
  },
  {
   "cell_type": "code",
   "execution_count": null,
   "metadata": {},
   "outputs": [],
   "source": [
    "r2 = ridge_cv.score()"
   ]
  },
  {
   "cell_type": "code",
   "execution_count": null,
   "metadata": {},
   "outputs": [],
   "source": []
  },
  {
   "cell_type": "code",
   "execution_count": null,
   "metadata": {},
   "outputs": [],
   "source": []
  },
  {
   "cell_type": "code",
   "execution_count": null,
   "metadata": {},
   "outputs": [],
   "source": []
  },
  {
   "cell_type": "code",
   "execution_count": null,
   "metadata": {},
   "outputs": [],
   "source": []
  },
  {
   "cell_type": "code",
   "execution_count": null,
   "metadata": {},
   "outputs": [],
   "source": []
  },
  {
   "cell_type": "code",
   "execution_count": null,
   "metadata": {},
   "outputs": [],
   "source": []
  },
  {
   "cell_type": "code",
   "execution_count": null,
   "metadata": {},
   "outputs": [],
   "source": []
  },
  {
   "cell_type": "code",
   "execution_count": null,
   "metadata": {},
   "outputs": [],
   "source": [
    "from yellowbrick.regressor import ResidualsPlot"
   ]
  },
  {
   "cell_type": "code",
   "execution_count": null,
   "metadata": {},
   "outputs": [],
   "source": [
    "visualizer = ResidualsPlot(ridge_cv, hist=False)\n",
    "visualizer.score(X, df_per_qualify['WS/48'])"
   ]
  },
  {
   "cell_type": "code",
   "execution_count": null,
   "metadata": {},
   "outputs": [],
   "source": []
  }
 ],
 "metadata": {
  "kernelspec": {
   "display_name": "Python 3",
   "language": "python",
   "name": "python3"
  },
  "language_info": {
   "codemirror_mode": {
    "name": "ipython",
    "version": 3
   },
   "file_extension": ".py",
   "mimetype": "text/x-python",
   "name": "python",
   "nbconvert_exporter": "python",
   "pygments_lexer": "ipython3",
   "version": "3.6.8"
  }
 },
 "nbformat": 4,
 "nbformat_minor": 2
}
