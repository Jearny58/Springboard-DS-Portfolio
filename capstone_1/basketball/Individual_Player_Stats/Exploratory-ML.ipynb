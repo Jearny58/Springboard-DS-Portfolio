{
 "cells": [
  {
   "cell_type": "code",
   "execution_count": 3,
   "metadata": {},
   "outputs": [],
   "source": [
    "import pandas as pd\n",
    "import matplotlib.pyplot as plt\n",
    "import numpy as np\n",
    "%matplotlib inline\n",
    "\n",
    "pd.set_option('display.width', 500)\n",
    "pd.set_option('display.max_columns', 100)"
   ]
  },
  {
   "cell_type": "code",
   "execution_count": 4,
   "metadata": {},
   "outputs": [],
   "source": [
    "from fastai.imports import*"
   ]
  },
  {
   "cell_type": "code",
   "execution_count": 5,
   "metadata": {},
   "outputs": [],
   "source": [
    "from sklearn.ensemble import RandomForestRegressor, RandomForestClassifier\n",
    "from IPython.display import display\n",
    "from sklearn import metrics"
   ]
  },
  {
   "cell_type": "code",
   "execution_count": 6,
   "metadata": {},
   "outputs": [],
   "source": [
    "# import data\n",
    "df = pd.read_csv('data/df_all.csv')"
   ]
  },
  {
   "cell_type": "code",
   "execution_count": 7,
   "metadata": {},
   "outputs": [],
   "source": [
    "df_threshold = pd.read_csv('data/df_threshold.csv')"
   ]
  },
  {
   "cell_type": "code",
   "execution_count": 4,
   "metadata": {},
   "outputs": [
    {
     "data": {
      "text/html": [
       "<div>\n",
       "<style scoped>\n",
       "    .dataframe tbody tr th:only-of-type {\n",
       "        vertical-align: middle;\n",
       "    }\n",
       "\n",
       "    .dataframe tbody tr th {\n",
       "        vertical-align: top;\n",
       "    }\n",
       "\n",
       "    .dataframe thead th {\n",
       "        text-align: right;\n",
       "    }\n",
       "</style>\n",
       "<table border=\"1\" class=\"dataframe\">\n",
       "  <thead>\n",
       "    <tr style=\"text-align: right;\">\n",
       "      <th></th>\n",
       "      <th>Player</th>\n",
       "      <th>Pos</th>\n",
       "      <th>Age</th>\n",
       "      <th>Tm</th>\n",
       "      <th>G</th>\n",
       "      <th>GS</th>\n",
       "      <th>MP</th>\n",
       "      <th>FG</th>\n",
       "      <th>FGA</th>\n",
       "      <th>FG%</th>\n",
       "      <th>3P</th>\n",
       "      <th>3PA</th>\n",
       "      <th>3P%</th>\n",
       "      <th>2P</th>\n",
       "      <th>2PA</th>\n",
       "      <th>2P%</th>\n",
       "      <th>FT</th>\n",
       "      <th>FTA</th>\n",
       "      <th>FT%</th>\n",
       "      <th>ORB</th>\n",
       "      <th>DRB</th>\n",
       "      <th>TRB</th>\n",
       "      <th>AST</th>\n",
       "      <th>STL</th>\n",
       "      <th>BLK</th>\n",
       "      <th>TOV</th>\n",
       "      <th>PF</th>\n",
       "      <th>PTS</th>\n",
       "      <th>ORtg</th>\n",
       "      <th>DRtg</th>\n",
       "      <th>PER</th>\n",
       "      <th>TS%</th>\n",
       "      <th>3PAr</th>\n",
       "      <th>FTr</th>\n",
       "      <th>ORB%</th>\n",
       "      <th>DRB%</th>\n",
       "      <th>TRB%</th>\n",
       "      <th>AST%</th>\n",
       "      <th>STL%</th>\n",
       "      <th>BLK%</th>\n",
       "      <th>TOV%</th>\n",
       "      <th>USG%</th>\n",
       "      <th>OWS</th>\n",
       "      <th>DWS</th>\n",
       "      <th>WS</th>\n",
       "      <th>WS/48</th>\n",
       "      <th>OBPM</th>\n",
       "      <th>DBPM</th>\n",
       "      <th>BPM</th>\n",
       "      <th>VORP</th>\n",
       "      <th>Year</th>\n",
       "    </tr>\n",
       "  </thead>\n",
       "  <tbody>\n",
       "    <tr>\n",
       "      <th>0</th>\n",
       "      <td>Alex Abrines</td>\n",
       "      <td>SG</td>\n",
       "      <td>24</td>\n",
       "      <td>OKC</td>\n",
       "      <td>75</td>\n",
       "      <td>8</td>\n",
       "      <td>1134</td>\n",
       "      <td>5.0</td>\n",
       "      <td>12.7</td>\n",
       "      <td>0.395</td>\n",
       "      <td>3.7</td>\n",
       "      <td>9.7</td>\n",
       "      <td>0.380</td>\n",
       "      <td>1.4</td>\n",
       "      <td>3.1</td>\n",
       "      <td>0.443</td>\n",
       "      <td>1.7</td>\n",
       "      <td>2.0</td>\n",
       "      <td>0.848</td>\n",
       "      <td>1.1</td>\n",
       "      <td>3.9</td>\n",
       "      <td>5.0</td>\n",
       "      <td>1.2</td>\n",
       "      <td>1.7</td>\n",
       "      <td>0.4</td>\n",
       "      <td>1.1</td>\n",
       "      <td>5.4</td>\n",
       "      <td>15.4</td>\n",
       "      <td>116.0</td>\n",
       "      <td>110.0</td>\n",
       "      <td>9.0</td>\n",
       "      <td>0.567</td>\n",
       "      <td>0.759</td>\n",
       "      <td>0.158</td>\n",
       "      <td>2.5</td>\n",
       "      <td>8.9</td>\n",
       "      <td>5.6</td>\n",
       "      <td>3.4</td>\n",
       "      <td>1.7</td>\n",
       "      <td>0.6</td>\n",
       "      <td>7.4</td>\n",
       "      <td>12.7</td>\n",
       "      <td>1.3</td>\n",
       "      <td>1.0</td>\n",
       "      <td>2.2</td>\n",
       "      <td>0.094</td>\n",
       "      <td>-0.5</td>\n",
       "      <td>-1.7</td>\n",
       "      <td>-2.2</td>\n",
       "      <td>-0.1</td>\n",
       "      <td>2018</td>\n",
       "    </tr>\n",
       "    <tr>\n",
       "      <th>1</th>\n",
       "      <td>Quincy Acy</td>\n",
       "      <td>PF</td>\n",
       "      <td>27</td>\n",
       "      <td>BRK</td>\n",
       "      <td>70</td>\n",
       "      <td>8</td>\n",
       "      <td>1359</td>\n",
       "      <td>4.6</td>\n",
       "      <td>13.0</td>\n",
       "      <td>0.356</td>\n",
       "      <td>3.6</td>\n",
       "      <td>10.4</td>\n",
       "      <td>0.349</td>\n",
       "      <td>1.0</td>\n",
       "      <td>2.6</td>\n",
       "      <td>0.384</td>\n",
       "      <td>1.8</td>\n",
       "      <td>2.1</td>\n",
       "      <td>0.817</td>\n",
       "      <td>1.4</td>\n",
       "      <td>7.8</td>\n",
       "      <td>9.2</td>\n",
       "      <td>2.0</td>\n",
       "      <td>1.2</td>\n",
       "      <td>1.0</td>\n",
       "      <td>2.1</td>\n",
       "      <td>5.3</td>\n",
       "      <td>14.7</td>\n",
       "      <td>99.0</td>\n",
       "      <td>110.0</td>\n",
       "      <td>8.2</td>\n",
       "      <td>0.525</td>\n",
       "      <td>0.800</td>\n",
       "      <td>0.164</td>\n",
       "      <td>3.1</td>\n",
       "      <td>17.1</td>\n",
       "      <td>10.0</td>\n",
       "      <td>6.0</td>\n",
       "      <td>1.2</td>\n",
       "      <td>1.6</td>\n",
       "      <td>13.3</td>\n",
       "      <td>14.4</td>\n",
       "      <td>-0.1</td>\n",
       "      <td>1.1</td>\n",
       "      <td>1.0</td>\n",
       "      <td>0.036</td>\n",
       "      <td>-2.0</td>\n",
       "      <td>-0.2</td>\n",
       "      <td>-2.2</td>\n",
       "      <td>-0.1</td>\n",
       "      <td>2018</td>\n",
       "    </tr>\n",
       "    <tr>\n",
       "      <th>2</th>\n",
       "      <td>Steven Adams</td>\n",
       "      <td>C</td>\n",
       "      <td>24</td>\n",
       "      <td>OKC</td>\n",
       "      <td>76</td>\n",
       "      <td>76</td>\n",
       "      <td>2487</td>\n",
       "      <td>8.9</td>\n",
       "      <td>14.2</td>\n",
       "      <td>0.629</td>\n",
       "      <td>0.0</td>\n",
       "      <td>0.0</td>\n",
       "      <td>0.000</td>\n",
       "      <td>8.9</td>\n",
       "      <td>14.2</td>\n",
       "      <td>0.631</td>\n",
       "      <td>3.2</td>\n",
       "      <td>5.7</td>\n",
       "      <td>0.559</td>\n",
       "      <td>7.7</td>\n",
       "      <td>6.0</td>\n",
       "      <td>13.7</td>\n",
       "      <td>1.8</td>\n",
       "      <td>1.8</td>\n",
       "      <td>1.6</td>\n",
       "      <td>2.6</td>\n",
       "      <td>4.3</td>\n",
       "      <td>21.1</td>\n",
       "      <td>125.0</td>\n",
       "      <td>107.0</td>\n",
       "      <td>20.6</td>\n",
       "      <td>0.630</td>\n",
       "      <td>0.003</td>\n",
       "      <td>0.402</td>\n",
       "      <td>16.6</td>\n",
       "      <td>13.9</td>\n",
       "      <td>15.3</td>\n",
       "      <td>5.5</td>\n",
       "      <td>1.8</td>\n",
       "      <td>2.8</td>\n",
       "      <td>13.3</td>\n",
       "      <td>16.7</td>\n",
       "      <td>6.7</td>\n",
       "      <td>3.0</td>\n",
       "      <td>9.7</td>\n",
       "      <td>0.187</td>\n",
       "      <td>2.2</td>\n",
       "      <td>1.1</td>\n",
       "      <td>3.3</td>\n",
       "      <td>3.3</td>\n",
       "      <td>2018</td>\n",
       "    </tr>\n",
       "  </tbody>\n",
       "</table>\n",
       "</div>"
      ],
      "text/plain": [
       "         Player Pos  Age   Tm   G  GS    MP   FG   FGA    FG%   3P   3PA    3P%   2P   2PA    2P%   FT  FTA    FT%  ORB  DRB   TRB  AST  STL  BLK  TOV   PF   PTS   ORtg   DRtg   PER    TS%   3PAr    FTr  ORB%  DRB%  TRB%  AST%  STL%  BLK%  TOV%  USG%  OWS  DWS   WS  WS/48  OBPM  DBPM  BPM  VORP  Year\n",
       "0  Alex Abrines  SG   24  OKC  75   8  1134  5.0  12.7  0.395  3.7   9.7  0.380  1.4   3.1  0.443  1.7  2.0  0.848  1.1  3.9   5.0  1.2  1.7  0.4  1.1  5.4  15.4  116.0  110.0   9.0  0.567  0.759  0.158   2.5   8.9   5.6   3.4   1.7   0.6   7.4  12.7  1.3  1.0  2.2  0.094  -0.5  -1.7 -2.2  -0.1  2018\n",
       "1    Quincy Acy  PF   27  BRK  70   8  1359  4.6  13.0  0.356  3.6  10.4  0.349  1.0   2.6  0.384  1.8  2.1  0.817  1.4  7.8   9.2  2.0  1.2  1.0  2.1  5.3  14.7   99.0  110.0   8.2  0.525  0.800  0.164   3.1  17.1  10.0   6.0   1.2   1.6  13.3  14.4 -0.1  1.1  1.0  0.036  -2.0  -0.2 -2.2  -0.1  2018\n",
       "2  Steven Adams   C   24  OKC  76  76  2487  8.9  14.2  0.629  0.0   0.0  0.000  8.9  14.2  0.631  3.2  5.7  0.559  7.7  6.0  13.7  1.8  1.8  1.6  2.6  4.3  21.1  125.0  107.0  20.6  0.630  0.003  0.402  16.6  13.9  15.3   5.5   1.8   2.8  13.3  16.7  6.7  3.0  9.7  0.187   2.2   1.1  3.3   3.3  2018"
      ]
     },
     "execution_count": 4,
     "metadata": {},
     "output_type": "execute_result"
    }
   ],
   "source": [
    "df.head(3)"
   ]
  },
  {
   "cell_type": "code",
   "execution_count": 5,
   "metadata": {},
   "outputs": [
    {
     "name": "stdout",
     "output_type": "stream",
     "text": [
      "<class 'pandas.core.frame.DataFrame'>\n",
      "Int64Index: 4759 entries, 0 to 4758\n",
      "Data columns (total 51 columns):\n",
      "Player    4759 non-null object\n",
      "Pos       4759 non-null object\n",
      "Age       4759 non-null int64\n",
      "Tm        4759 non-null object\n",
      "G         4759 non-null int64\n",
      "GS        4759 non-null int64\n",
      "MP        4759 non-null int64\n",
      "FG        4759 non-null float64\n",
      "FGA       4759 non-null float64\n",
      "FG%       4759 non-null float64\n",
      "3P        4759 non-null float64\n",
      "3PA       4759 non-null float64\n",
      "3P%       4759 non-null float64\n",
      "2P        4759 non-null float64\n",
      "2PA       4759 non-null float64\n",
      "2P%       4759 non-null float64\n",
      "FT        4759 non-null float64\n",
      "FTA       4759 non-null float64\n",
      "FT%       4759 non-null float64\n",
      "ORB       4759 non-null float64\n",
      "DRB       4759 non-null float64\n",
      "TRB       4759 non-null float64\n",
      "AST       4759 non-null float64\n",
      "STL       4759 non-null float64\n",
      "BLK       4759 non-null float64\n",
      "TOV       4759 non-null float64\n",
      "PF        4759 non-null float64\n",
      "PTS       4759 non-null float64\n",
      "ORtg      4759 non-null float64\n",
      "DRtg      4759 non-null float64\n",
      "PER       4759 non-null float64\n",
      "TS%       4759 non-null float64\n",
      "3PAr      4759 non-null float64\n",
      "FTr       4759 non-null float64\n",
      "ORB%      4759 non-null float64\n",
      "DRB%      4759 non-null float64\n",
      "TRB%      4759 non-null float64\n",
      "AST%      4759 non-null float64\n",
      "STL%      4759 non-null float64\n",
      "BLK%      4759 non-null float64\n",
      "TOV%      4759 non-null float64\n",
      "USG%      4759 non-null float64\n",
      "OWS       4759 non-null float64\n",
      "DWS       4759 non-null float64\n",
      "WS        4759 non-null float64\n",
      "WS/48     4759 non-null float64\n",
      "OBPM      4759 non-null float64\n",
      "DBPM      4759 non-null float64\n",
      "BPM       4759 non-null float64\n",
      "VORP      4759 non-null float64\n",
      "Year      4759 non-null int64\n",
      "dtypes: float64(43), int64(5), object(3)\n",
      "memory usage: 1.9+ MB\n"
     ]
    }
   ],
   "source": [
    "df.info()"
   ]
  },
  {
   "cell_type": "code",
   "execution_count": 8,
   "metadata": {},
   "outputs": [],
   "source": [
    "# change position, team, and year columns to categorical variables\n",
    "df[['Pos', 'Tm', 'Year']] = df[['Pos', 'Tm', 'Year']].astype('category')"
   ]
  },
  {
   "cell_type": "code",
   "execution_count": 9,
   "metadata": {},
   "outputs": [
    {
     "name": "stdout",
     "output_type": "stream",
     "text": [
      "<class 'pandas.core.frame.DataFrame'>\n",
      "Int64Index: 4759 entries, 0 to 4758\n",
      "Data columns (total 51 columns):\n",
      "Player    4759 non-null object\n",
      "Pos       4759 non-null category\n",
      "Age       4759 non-null int64\n",
      "Tm        4759 non-null category\n",
      "G         4759 non-null int64\n",
      "GS        4759 non-null int64\n",
      "MP        4759 non-null int64\n",
      "FG        4759 non-null float64\n",
      "FGA       4759 non-null float64\n",
      "FG%       4759 non-null float64\n",
      "3P        4759 non-null float64\n",
      "3PA       4759 non-null float64\n",
      "3P%       4759 non-null float64\n",
      "2P        4759 non-null float64\n",
      "2PA       4759 non-null float64\n",
      "2P%       4759 non-null float64\n",
      "FT        4759 non-null float64\n",
      "FTA       4759 non-null float64\n",
      "FT%       4759 non-null float64\n",
      "ORB       4759 non-null float64\n",
      "DRB       4759 non-null float64\n",
      "TRB       4759 non-null float64\n",
      "AST       4759 non-null float64\n",
      "STL       4759 non-null float64\n",
      "BLK       4759 non-null float64\n",
      "TOV       4759 non-null float64\n",
      "PF        4759 non-null float64\n",
      "PTS       4759 non-null float64\n",
      "ORtg      4759 non-null float64\n",
      "DRtg      4759 non-null float64\n",
      "PER       4759 non-null float64\n",
      "TS%       4759 non-null float64\n",
      "3PAr      4759 non-null float64\n",
      "FTr       4759 non-null float64\n",
      "ORB%      4759 non-null float64\n",
      "DRB%      4759 non-null float64\n",
      "TRB%      4759 non-null float64\n",
      "AST%      4759 non-null float64\n",
      "STL%      4759 non-null float64\n",
      "BLK%      4759 non-null float64\n",
      "TOV%      4759 non-null float64\n",
      "USG%      4759 non-null float64\n",
      "OWS       4759 non-null float64\n",
      "DWS       4759 non-null float64\n",
      "WS        4759 non-null float64\n",
      "WS/48     4759 non-null float64\n",
      "OBPM      4759 non-null float64\n",
      "DBPM      4759 non-null float64\n",
      "BPM       4759 non-null float64\n",
      "VORP      4759 non-null float64\n",
      "Year      4759 non-null category\n",
      "dtypes: category(3), float64(43), int64(4), object(1)\n",
      "memory usage: 1.8+ MB\n"
     ]
    }
   ],
   "source": [
    "df.info()"
   ]
  },
  {
   "cell_type": "code",
   "execution_count": 10,
   "metadata": {},
   "outputs": [],
   "source": [
    "# one-hot encode the data using pandas get_dummies\n",
    "df = pd.get_dummies(df, columns = ['Pos', 'Tm', 'Year'])"
   ]
  },
  {
   "cell_type": "code",
   "execution_count": 11,
   "metadata": {},
   "outputs": [
    {
     "name": "stdout",
     "output_type": "stream",
     "text": [
      "<class 'pandas.core.frame.DataFrame'>\n",
      "Int64Index: 4759 entries, 0 to 4758\n",
      "Columns: 106 entries, Player to Year_2018\n",
      "dtypes: float64(43), int64(4), object(1), uint8(58)\n",
      "memory usage: 2.0+ MB\n"
     ]
    }
   ],
   "source": [
    "df.info()"
   ]
  },
  {
   "cell_type": "code",
   "execution_count": 12,
   "metadata": {},
   "outputs": [],
   "source": [
    "# use numpy to convert to arrays\n",
    "import numpy as np\n",
    "\n",
    "# labels are the values we want to predict\n",
    "y = np.array(df['WS/48'])\n",
    "\n",
    "# remove the labels from the features\n",
    "# axis 1 refers to the columns\n",
    "X = df.drop(['Player','WS/48'], axis = 1)\n",
    "\n",
    "# saving feature names for later use\n",
    "feature_list = list(X.columns)\n",
    "\n",
    "# convert to np array\n",
    "X = np.array(X)"
   ]
  },
  {
   "cell_type": "markdown",
   "metadata": {},
   "source": [
    "## Training and Testing Sets"
   ]
  },
  {
   "cell_type": "code",
   "execution_count": 13,
   "metadata": {},
   "outputs": [],
   "source": [
    "# using Scikit-Learn to split data into train and test sets\n",
    "from sklearn.model_selection import train_test_split\n",
    "\n",
    "# splot the data into training and testing sets\n",
    "X_train, X_test, y_train, y_test = train_test_split(X, y, test_size = 0.3, random_state = 1)"
   ]
  },
  {
   "cell_type": "code",
   "execution_count": 15,
   "metadata": {},
   "outputs": [
    {
     "name": "stdout",
     "output_type": "stream",
     "text": [
      "Training Features Shape: (3331, 104)\n",
      "Training Labels Shape: (3331,)\n",
      "Testing Features Shape: (1428, 104)\n",
      "Testing Labels Shape: (1428,)\n"
     ]
    }
   ],
   "source": [
    "print('Training Features Shape:', X_train.shape)\n",
    "print('Training Labels Shape:', y_train.shape)\n",
    "print('Testing Features Shape:', X_test.shape)\n",
    "print('Testing Labels Shape:', y_test.shape)"
   ]
  },
  {
   "cell_type": "markdown",
   "metadata": {},
   "source": [
    "## Scaling the Data"
   ]
  },
  {
   "cell_type": "code",
   "execution_count": 75,
   "metadata": {},
   "outputs": [],
   "source": [
    "# scale the data to be between -1 and 1\n",
    "from sklearn.preprocessing import StandardScaler\n",
    "\n",
    "scaler = StandardScaler()\n",
    "scaler.fit(X_train)\n",
    "X_train = scaler.transform(X_train)\n",
    "X_test = scaler.transform(X_test)"
   ]
  },
  {
   "cell_type": "markdown",
   "metadata": {},
   "source": [
    "## Random Forest Regressor via Kaggle (see [here](https://www.kaggle.com/nsrose7224/random-forest-regressor-accuracy-0-91))"
   ]
  },
  {
   "cell_type": "code",
   "execution_count": 76,
   "metadata": {},
   "outputs": [],
   "source": [
    "# Establish model\n",
    "model = RandomForestRegressor(n_jobs=-1)"
   ]
  },
  {
   "cell_type": "code",
   "execution_count": 77,
   "metadata": {},
   "outputs": [
    {
     "data": {
      "image/png": "[encoded data removed]",
      "text/plain": [
       "<Figure size 432x288 with 1 Axes>"
      ]
     },
     "metadata": {
      "needs_background": "light"
     },
     "output_type": "display_data"
    }
   ],
   "source": [
    "# try different number of n_estimators\n",
    "estimators = np.arange(10, 200, 10)\n",
    "scores = []\n",
    "\n",
    "for n in estimators:\n",
    "    model.set_params(n_estimators = n)\n",
    "    model.fit(X_train, y_train)\n",
    "    scores.append(model.score(X_test, y_test))\n",
    "    \n",
    "plt.title('Effect of n_estimators')\n",
    "plt.xlabel('n_estimator')\n",
    "plt.ylabel('score')\n",
    "plt.plot(estimators, scores);"
   ]
  },
  {
   "cell_type": "code",
   "execution_count": null,
   "metadata": {},
   "outputs": [],
   "source": []
  },
  {
   "cell_type": "code",
   "execution_count": null,
   "metadata": {},
   "outputs": [],
   "source": []
  },
  {
   "cell_type": "code",
   "execution_count": null,
   "metadata": {},
   "outputs": [],
   "source": []
  },
  {
   "cell_type": "code",
   "execution_count": null,
   "metadata": {},
   "outputs": [],
   "source": []
  },
  {
   "cell_type": "code",
   "execution_count": null,
   "metadata": {},
   "outputs": [],
   "source": []
  },
  {
   "cell_type": "markdown",
   "metadata": {},
   "source": [
    "## fast.AI Random Forest Walkthrough"
   ]
  },
  {
   "cell_type": "code",
   "execution_count": 20,
   "metadata": {},
   "outputs": [],
   "source": [
    "# define a function to check rmse value\n",
    "def rmse(x, y):\n",
    "    return np.sqrt(((x-y)**2).mean())"
   ]
  },
  {
   "cell_type": "code",
   "execution_count": 21,
   "metadata": {},
   "outputs": [],
   "source": [
    "# def function to compare score from train and test sets, returning RMSE value and score for both data sets\n",
    "def print_score(m):\n",
    "    res = [rmse(m.predict(X_train), y_train),\n",
    "          rmse(m.predict(X_test), y_test), \n",
    "          m.score(X_train, y_train), m.score(X_test, y_test)]\n",
    "    if hasattr(m, 'oob_score_'): res.append(m.oob_score_)\n",
    "    print(res)"
   ]
  },
  {
   "cell_type": "code",
   "execution_count": 24,
   "metadata": {},
   "outputs": [
    {
     "name": "stdout",
     "output_type": "stream",
     "text": [
      "CPU times: user 670 ms, sys: 6.83 ms, total: 677 ms\n",
      "Wall time: 317 ms\n",
      "[0.009759764323595353, 0.03598556764323847, 0.9893664843807654, 0.8923545426064394]\n"
     ]
    }
   ],
   "source": [
    "m = RandomForestRegressor(n_jobs=-1, n_estimators=10)\n",
    "%time m.fit(X_train, y_train)\n",
    "print_score(m)"
   ]
  },
  {
   "cell_type": "markdown",
   "metadata": {},
   "source": [
    "## fast.AI Introduction to Bagging"
   ]
  },
  {
   "cell_type": "code",
   "execution_count": 65,
   "metadata": {},
   "outputs": [
    {
     "name": "stdout",
     "output_type": "stream",
     "text": [
      "CPU times: user 2.62 s, sys: 16.4 ms, total: 2.64 s\n",
      "Wall time: 838 ms\n",
      "[0.010162318902733994, 0.041273043335523375, 0.9884712067498946, 0.8583971550247604]\n"
     ]
    }
   ],
   "source": [
    "m = RandomForestRegressor(n_jobs=-1, n_estimators = 40)\n",
    "%time m.fit(X_train, y_train)\n",
    "print_score(m)"
   ]
  },
  {
   "cell_type": "code",
   "execution_count": 66,
   "metadata": {},
   "outputs": [],
   "source": [
    "preds = np.stack([t.predict(X_test) for t in m.estimators_])"
   ]
  },
  {
   "cell_type": "code",
   "execution_count": 67,
   "metadata": {},
   "outputs": [
    {
     "data": {
      "text/plain": [
       "(40, 1428)"
      ]
     },
     "execution_count": 67,
     "metadata": {},
     "output_type": "execute_result"
    }
   ],
   "source": [
    "preds.shape"
   ]
  },
  {
   "cell_type": "code",
   "execution_count": 68,
   "metadata": {},
   "outputs": [
    {
     "data": {
      "text/plain": [
       "(array([0.1  , 0.084, 0.076, 0.076, 0.087, 0.082, 0.076, 0.084, 0.076,\n",
       "        0.076, 0.066, 0.095, 0.097, 0.087, 0.082, 0.082, 0.069, 0.08 ,\n",
       "        0.1  , 0.071, 0.101, 0.086, 0.086, 0.078, 0.08 , 0.084, 0.079,\n",
       "        0.078, 0.087, 0.082, 0.068, 0.095, 0.084, 0.071, 0.091, 0.083,\n",
       "        0.083, 0.087, 0.089, 0.083]), 0.083025, 0.085)"
      ]
     },
     "execution_count": 68,
     "metadata": {},
     "output_type": "execute_result"
    }
   ],
   "source": [
    "# returns 10 predictions for first row, mean of those predictions and the actual value from test set\n",
    "preds[:,0], np.mean(preds[:,0]), y_test[0]"
   ]
  },
  {
   "cell_type": "code",
   "execution_count": 69,
   "metadata": {},
   "outputs": [
    {
     "data": {
      "image/png": "[encoded data removed]",
      "text/plain": [
       "<Figure size 432x288 with 1 Axes>"
      ]
     },
     "metadata": {
      "needs_background": "light"
     },
     "output_type": "display_data"
    }
   ],
   "source": [
    "plt.plot([metrics.r2_score(y_test, np.mean(preds[:i+1], axis=0)) for i in range(40)]);"
   ]
  },
  {
   "cell_type": "markdown",
   "metadata": {},
   "source": [
    "## Out-of-Bag (OOB) Score"
   ]
  },
  {
   "cell_type": "code",
   "execution_count": 71,
   "metadata": {},
   "outputs": [
    {
     "name": "stdout",
     "output_type": "stream",
     "text": [
      "CPU times: user 2.65 s, sys: 19.2 ms, total: 2.67 s\n",
      "Wall time: 960 ms\n",
      "[0.009764085563116698, 0.04130540448118656, 0.9893570660917904, 0.8581750135781538, 0.8860553111162294]\n"
     ]
    }
   ],
   "source": [
    "# set oob_score = True to use data points which tree was not trained on\n",
    "m = RandomForestRegressor(n_estimators=40, n_jobs=-1, oob_score=True)\n",
    "%time m.fit(X_train, y_train)\n",
    "print_score(m)"
   ]
  },
  {
   "cell_type": "markdown",
   "metadata": {},
   "source": [
    "## fast.ai `Min Sample Leaf`\n",
    "\n",
    "- can be treated as stopping criteria for tree; stops splitting when number of samples in the leaf node is less than specified"
   ]
  },
  {
   "cell_type": "code",
   "execution_count": 73,
   "metadata": {},
   "outputs": [
    {
     "name": "stdout",
     "output_type": "stream",
     "text": [
      "CPU times: user 2.14 s, sys: 14.2 ms, total: 2.15 s\n",
      "Wall time: 745 ms\n",
      "[0.022410298800599877, 0.05007329316447374, 0.9439347831298421, 0.7915742844911418, 0.8743495224335299]\n"
     ]
    }
   ],
   "source": [
    "m = RandomForestRegressor(n_estimators=40, min_samples_leaf=3, n_jobs=-1, oob_score=True)\n",
    "%time m.fit(X_train, y_train)\n",
    "print_score(m)"
   ]
  },
  {
   "cell_type": "markdown",
   "metadata": {},
   "source": [
    "## fast.ai `Max feature`\n",
    "\n",
    "- can use a subset of columns (features instead of using all the features, achieved by tweaking the `max_features` parameter"
   ]
  },
  {
   "cell_type": "code",
   "execution_count": 74,
   "metadata": {},
   "outputs": [
    {
     "name": "stdout",
     "output_type": "stream",
     "text": [
      "CPU times: user 1.13 s, sys: 11.1 ms, total: 1.14 s\n",
      "Wall time: 451 ms\n",
      "[0.02514990776642982, 0.05472256423437796, 0.9293892205459569, 0.7510730766435607, 0.8711608814532273]\n"
     ]
    }
   ],
   "source": [
    "m = RandomForestRegressor(n_estimators=40, min_samples_leaf=3, max_features=0.5, n_jobs=-1, oob_score=True) \n",
    "%time m.fit(X_train, y_train)\n",
    "print_score(m)"
   ]
  },
  {
   "cell_type": "code",
   "execution_count": null,
   "metadata": {},
   "outputs": [],
   "source": []
  },
  {
   "cell_type": "code",
   "execution_count": null,
   "metadata": {},
   "outputs": [],
   "source": []
  },
  {
   "cell_type": "code",
   "execution_count": null,
   "metadata": {},
   "outputs": [],
   "source": []
  },
  {
   "cell_type": "code",
   "execution_count": null,
   "metadata": {},
   "outputs": [],
   "source": []
  },
  {
   "cell_type": "code",
   "execution_count": null,
   "metadata": {},
   "outputs": [],
   "source": []
  },
  {
   "cell_type": "markdown",
   "metadata": {},
   "source": [
    "## Gradient Boosting in sklearn"
   ]
  },
  {
   "cell_type": "code",
   "execution_count": 37,
   "metadata": {},
   "outputs": [
    {
     "name": "stdout",
     "output_type": "stream",
     "text": [
      "Test set RMSE:  0.03651\n"
     ]
    }
   ],
   "source": [
    "# import the model we are using \n",
    "from sklearn.ensemble import GradientBoostingRegressor\n",
    "from sklearn.metrics import mean_squared_error as MSE\n",
    "\n",
    "# instantiate a GradientBoostingRegressor 'gbt'\n",
    "gbt = GradientBoostingRegressor(n_estimators = 300, max_depth = 1, random_state = 1)\n",
    "\n",
    "# fit gbt to the training set\n",
    "gbt.fit(X_train, y_train)\n",
    "\n",
    "# predict the test set labels\n",
    "y_pred = gbt.predict(X_test)\n",
    "\n",
    "# evaluate the test set RMSE\n",
    "rmse_test = np.sqrt(MSE(y_test, y_pred))\n",
    "\n",
    "# print the test set RMSE\n",
    "print('Test set RMSE: ', round(rmse_test, 5))"
   ]
  },
  {
   "cell_type": "markdown",
   "metadata": {},
   "source": [
    "## Stochastic Gradient Boosting"
   ]
  },
  {
   "cell_type": "code",
   "execution_count": 38,
   "metadata": {},
   "outputs": [],
   "source": [
    "# instantiate stochastic GradientBoostingRegressor\n",
    "sgbt = GradientBoostingRegressor(max_depth=1, subsample=0.8, max_features=0.2, n_estimators=300, random_state = 1)\n",
    "\n",
    "# fit sgbt to training set\n",
    "sgbt.fit(X_train, y_train)\n",
    "\n",
    "# predict the test set labels\n",
    "y_pred_sgbt = sgbt.predict(X_test)"
   ]
  },
  {
   "cell_type": "code",
   "execution_count": 40,
   "metadata": {},
   "outputs": [
    {
     "name": "stdout",
     "output_type": "stream",
     "text": [
      "Test Set RMSE (SGBT):  0.05891\n"
     ]
    }
   ],
   "source": [
    "# evaluate test set RMSE\n",
    "rmse_test_sgbt = np.sqrt(MSE(y_test, y_pred_sgbt))\n",
    "\n",
    "print('Test Set RMSE (SGBT): ', round(rmse_test_sgbt, 5))"
   ]
  },
  {
   "cell_type": "code",
   "execution_count": 41,
   "metadata": {},
   "outputs": [
    {
     "data": {
      "image/png": "[encoded data removed]",
      "text/plain": [
       "<Figure size 576x396 with 2 Axes>"
      ]
     },
     "metadata": {},
     "output_type": "display_data"
    }
   ],
   "source": [
    "from yellowbrick.regressor import ResidualsPlot\n",
    "\n",
    "visualizer = ResidualsPlot(sgbt)\n",
    "\n",
    "visualizer.fit(X_train, y_train)  # Fit the training data to the model\n",
    "visualizer.score(X_test, y_test)  # Evaluate the model on the test data\n",
    "visualizer.poof()                 # Draw/show/poof the data"
   ]
  },
  {
   "cell_type": "code",
   "execution_count": null,
   "metadata": {},
   "outputs": [],
   "source": []
  },
  {
   "cell_type": "code",
   "execution_count": null,
   "metadata": {},
   "outputs": [],
   "source": []
  },
  {
   "cell_type": "code",
   "execution_count": null,
   "metadata": {},
   "outputs": [],
   "source": [
    "df.head(3)"
   ]
  },
  {
   "cell_type": "code",
   "execution_count": null,
   "metadata": {},
   "outputs": [],
   "source": [
    "df.drop(labels = ['Player', 'Pos', 'Tm', 'Year'], axis = 1).head(5)"
   ]
  },
  {
   "cell_type": "code",
   "execution_count": null,
   "metadata": {},
   "outputs": [],
   "source": [
    "# feature = minutes played\n",
    "x_mp = df['MP']\n",
    "\n",
    "# target value = win shares per 48 minutes\n",
    "y = df['WS/48']"
   ]
  },
  {
   "cell_type": "code",
   "execution_count": null,
   "metadata": {},
   "outputs": [],
   "source": [
    "# reshape x_mp and y\n",
    "y = y.values.reshape(-1, 1)\n",
    "x_mp = x_mp.values.reshape(-1, 1)"
   ]
  },
  {
   "cell_type": "markdown",
   "metadata": {},
   "source": [
    "[Help with reshape](https://stackoverflow.com/questions/53723928/attributeerror-series-object-has-no-attribute-reshape)"
   ]
  },
  {
   "cell_type": "code",
   "execution_count": null,
   "metadata": {},
   "outputs": [],
   "source": [
    "# Import LinearRegression\n",
    "from sklearn.linear_model import LinearRegression\n",
    "\n",
    "# Create the regressor: reg\n",
    "reg = LinearRegression()"
   ]
  },
  {
   "cell_type": "code",
   "execution_count": null,
   "metadata": {},
   "outputs": [],
   "source": [
    "# fit the minutes played model\n",
    "reg.fit(x_mp, y)"
   ]
  },
  {
   "cell_type": "code",
   "execution_count": null,
   "metadata": {},
   "outputs": [],
   "source": [
    "# predict WS/48 using MP\n",
    "mp_predict = reg.predict(x_mp)\n",
    "\n",
    "from sklearn.metrics import mean_squared_error\n",
    "mp_rmse = np.sqrt(mean_squared_error(mp_predict, y))\n",
    "\n",
    "print(mp_rmse)"
   ]
  },
  {
   "cell_type": "code",
   "execution_count": null,
   "metadata": {},
   "outputs": [],
   "source": [
    "print(reg.coef_)\n",
    "print(reg.intercept_)"
   ]
  },
  {
   "cell_type": "code",
   "execution_count": null,
   "metadata": {},
   "outputs": [],
   "source": [
    "plt.scatter(x_mp, y, color = 'red')\n",
    "plt.plot(x_mp, reg.predict(x_mp), color = 'blue')\n",
    "plt.show();"
   ]
  },
  {
   "cell_type": "markdown",
   "metadata": {},
   "source": [
    "# `statsmodels`"
   ]
  },
  {
   "cell_type": "code",
   "execution_count": null,
   "metadata": {},
   "outputs": [],
   "source": [
    "df.corrwith(df['WS/48']) > 0.50"
   ]
  },
  {
   "cell_type": "code",
   "execution_count": null,
   "metadata": {},
   "outputs": [],
   "source": [
    "import statsmodels.api as sm"
   ]
  },
  {
   "cell_type": "code",
   "execution_count": null,
   "metadata": {},
   "outputs": [],
   "source": [
    "x = df[['PTS', 'TS%']]\n",
    "y = df['WS/48']\n",
    "\n",
    "x = sm.add_constant(x)\n",
    "\n",
    "model = sm.OLS(y, x).fit()\n",
    "predictions = model.predict(x)\n",
    "\n",
    "print_model = model.summary()\n",
    "print(print_model)"
   ]
  },
  {
   "cell_type": "code",
   "execution_count": null,
   "metadata": {},
   "outputs": [],
   "source": [
    "df.corrwith(df['WS/48']) > 0.5"
   ]
  },
  {
   "cell_type": "code",
   "execution_count": null,
   "metadata": {},
   "outputs": [],
   "source": [
    "x = df[['FG', 'FG%', 'PTS', 'ORtg', 'PER', 'TS%']]\n",
    "y = df['WS/48']\n",
    "\n",
    "x = sm.add_constant(x)\n",
    "\n",
    "model = sm.OLS(y, x).fit()\n",
    "predictions = model.predict(x)\n",
    "\n",
    "print_model = model.summary()\n",
    "print(print_model)"
   ]
  },
  {
   "cell_type": "code",
   "execution_count": null,
   "metadata": {},
   "outputs": [],
   "source": [
    "x = df[['FG', 'PTS', 'PER', 'TS%']]\n",
    "y = df['WS/48']\n",
    "\n",
    "x = sm.add_constant(x)\n",
    "\n",
    "model = sm.OLS(y, x).fit()\n",
    "predictions = model.predict(x)\n",
    "\n",
    "print_model = model.summary()\n",
    "print(print_model)"
   ]
  },
  {
   "cell_type": "code",
   "execution_count": null,
   "metadata": {},
   "outputs": [],
   "source": [
    "df_threshold.corrwith(df_threshold['PER']) > 0.5"
   ]
  },
  {
   "cell_type": "code",
   "execution_count": null,
   "metadata": {},
   "outputs": [],
   "source": [
    "df.head(1)"
   ]
  },
  {
   "cell_type": "code",
   "execution_count": null,
   "metadata": {},
   "outputs": [],
   "source": [
    "df.drop(labels = ['Player', 'Age', 'Pos', 'Tm', 'Year', 'WS/48', 'WS', 'OWS', 'DWS'], axis = 1).head(2)"
   ]
  },
  {
   "cell_type": "code",
   "execution_count": null,
   "metadata": {},
   "outputs": [],
   "source": [
    "x = df.drop(labels = ['Player', 'Age', 'Pos', 'Tm', 'Year', 'WS/48', 'WS', 'OWS', 'DWS'], axis = 1).values\n",
    "y = df['WS/48'].values\n",
    "\n",
    "x = sm.add_constant(x)\n",
    "\n",
    "model = sm.OLS(y, x).fit()\n",
    "predictions = model.predict(x)\n",
    "\n",
    "print_model = model.summary()\n",
    "print(print_model)"
   ]
  },
  {
   "cell_type": "markdown",
   "metadata": {},
   "source": [
    "# List of Resources So Far...\n",
    "\n",
    "- [Linear Regression in Python using Scikit Learn](https://medium.com/@contactsunny/linear-regression-in-python-using-scikit-learn-f0f7b125a204)\n",
    "- [pandas.DataFrane.corrwith](https://pandas.pydata.org/pandas-docs/stable/reference/api/pandas.DataFrame.corrwith.html#pandas.DataFrame.corrwith)\n",
    "- [statsmodels](https://datatofish.com/statsmodels-linear-regression/)\n",
    "- [Predicting Win Shares](https://towardsdatascience.com/basketball-analytics-predicting-win-shares-7c155651e7cc)"
   ]
  },
  {
   "cell_type": "markdown",
   "metadata": {},
   "source": [
    "## Linear Regression w/ scikit-learn"
   ]
  },
  {
   "cell_type": "markdown",
   "metadata": {},
   "source": [
    "#### Features = `FG`, `PTS`, `PER`, `TS%`"
   ]
  },
  {
   "cell_type": "code",
   "execution_count": null,
   "metadata": {},
   "outputs": [],
   "source": [
    "# Import necessary modules\n",
    "from sklearn.linear_model import LinearRegression\n",
    "from sklearn.metrics import mean_squared_error\n",
    "from sklearn.model_selection import train_test_split"
   ]
  },
  {
   "cell_type": "code",
   "execution_count": null,
   "metadata": {},
   "outputs": [],
   "source": [
    "X = df[['FG', 'PTS', 'PER', 'TS%']]\n",
    "y = df['WS/48']\n",
    "\n",
    "# Create training and test sets\n",
    "X_train, X_test, y_train, y_test = train_test_split(X, y, test_size = 0.3, random_state=42)"
   ]
  },
  {
   "cell_type": "code",
   "execution_count": null,
   "metadata": {},
   "outputs": [],
   "source": [
    "# Create the regressor: reg_all\n",
    "reg_all = LinearRegression()\n",
    "\n",
    "# Fit the regressor to the training data\n",
    "reg_all.fit(X_train, y_train)\n",
    "\n",
    "# Predict on the test data: y_pred\n",
    "y_pred = reg_all.predict(X_test)\n",
    "\n",
    "# Compute and print R^2 and RMSE\n",
    "print(\"R^2: {}\".format(reg_all.score(X_test, y_test)))\n",
    "rmse = np.sqrt(mean_squared_error(y_test, y_pred))\n",
    "print(\"Root Mean Squared Error: {}\".format(rmse))"
   ]
  },
  {
   "cell_type": "code",
   "execution_count": null,
   "metadata": {},
   "outputs": [],
   "source": [
    "# 5-fold cross validation\n",
    "from sklearn.model_selection import cross_val_score\n",
    "\n",
    "# Create a linear regression object: reg\n",
    "reg = LinearRegression()\n",
    "\n",
    "# Compute 5-fold cross-validation scores: cv_scores\n",
    "cv_scores = cross_val_score(reg, X, y, cv=5)\n",
    "\n",
    "# Print the 5-fold cross-validation scores\n",
    "print(cv_scores)\n",
    "\n",
    "print(\"Average 5-Fold CV Score: {}\".format(np.mean(cv_scores)))"
   ]
  },
  {
   "cell_type": "markdown",
   "metadata": {},
   "source": [
    "#### Regularization I: Lasso Regression"
   ]
  },
  {
   "cell_type": "code",
   "execution_count": null,
   "metadata": {},
   "outputs": [],
   "source": [
    "from sklearn.linear_model import Lasso"
   ]
  },
  {
   "cell_type": "code",
   "execution_count": null,
   "metadata": {},
   "outputs": [],
   "source": [
    "X = df.drop(labels = ['Player', 'Age', 'Pos', 'Tm', 'Year', 'WS/48', 'WS', 'OWS', 'DWS'], axis = 1).values\n",
    "y = df['WS/48'].values\n",
    "\n",
    "# Create training and test sets\n",
    "# X_train, X_test, y_train, y_test = train_test_split(X, y, test_size = 0.3, random_state=42)\n",
    "\n",
    "names = df.drop(labels = ['Player', 'Age', 'Pos', 'Tm', 'Year', 'WS/48', 'WS', 'OWS', 'DWS'], axis = 1).columns\n",
    "\n",
    "lasso = Lasso(alpha = 0.1)\n",
    "lasso_coef = lasso.fit(X, y).coef_\n",
    "\n",
    "plt.figure(figsize = (14, 10))\n",
    "_ = plt.plot(range(len(names)), lasso_coef)\n",
    "_ = plt.xticks(range(len(names)), names, rotation = 60)\n",
    "_ = plt.ylabel('Coefficients')\n",
    "plt.show();"
   ]
  },
  {
   "cell_type": "code",
   "execution_count": null,
   "metadata": {},
   "outputs": [],
   "source": [
    "X = df[['FG', 'PTS', 'PER', 'TS%']]\n",
    "y = df['WS/48']\n",
    "\n",
    "# Create training and test sets\n",
    "X_train, X_test, y_train, y_test = train_test_split(X, y, test_size = 0.3, random_state=42)"
   ]
  },
  {
   "cell_type": "code",
   "execution_count": null,
   "metadata": {},
   "outputs": [],
   "source": [
    "names = df[['FG', 'PTS', 'PER', 'TS%']].columns\n",
    "\n",
    "lasso = Lasso(alpha = 0.1)\n",
    "lasso_coef = lasso.fit(X, y).coef_\n",
    "\n",
    "plt.figure(figsize = (14, 10))\n",
    "_ = plt.plot(range(len(names)), lasso_coef)\n",
    "_ = plt.xticks(range(len(names)), names, rotation = 60)\n",
    "_ = plt.ylabel('Coefficients')\n",
    "plt.show();"
   ]
  },
  {
   "cell_type": "markdown",
   "metadata": {},
   "source": [
    "#### Regularization II: Ridge Regression\n",
    "\n",
    "#### W/ `FG`, `PTS`, `PER`, `TS%`"
   ]
  },
  {
   "cell_type": "code",
   "execution_count": null,
   "metadata": {},
   "outputs": [],
   "source": [
    "X = df[['FG', 'PTS', 'PER', 'TS%']]\n",
    "y = df['WS/48']\n",
    "\n",
    "# Create training and test sets\n",
    "X_train, X_test, y_train, y_test = train_test_split(X, y, test_size = 0.3, random_state=42)"
   ]
  },
  {
   "cell_type": "code",
   "execution_count": null,
   "metadata": {},
   "outputs": [],
   "source": [
    "# Import necessary modules\n",
    "from sklearn.linear_model import Ridge\n",
    "from sklearn.model_selection import cross_val_score"
   ]
  },
  {
   "cell_type": "code",
   "execution_count": null,
   "metadata": {},
   "outputs": [],
   "source": [
    "def display_plot(cv_scores, cv_scores_std):\n",
    "    fig = plt.figure(figsize = (12, 10))\n",
    "    ax = fig.add_subplot(1,1,1)\n",
    "    ax.plot(alpha_space, cv_scores)\n",
    "\n",
    "    std_error = cv_scores_std / np.sqrt(10)\n",
    "\n",
    "    ax.fill_between(alpha_space, cv_scores + std_error, cv_scores - std_error, alpha=0.2)\n",
    "    ax.set_ylabel('CV Score +/- Std Error')\n",
    "    ax.set_xlabel('Alpha')\n",
    "    ax.axhline(np.max(cv_scores), linestyle='--', color='.5')\n",
    "    ax.set_xlim([alpha_space[0], alpha_space[-1]])\n",
    "    ax.set_xscale('log')\n",
    "    plt.show()"
   ]
  },
  {
   "cell_type": "code",
   "execution_count": null,
   "metadata": {},
   "outputs": [],
   "source": [
    "# Setup the array of alphas and lists to store scores\n",
    "alpha_space = np.logspace(-4, 0, 50)\n",
    "ridge_scores = []\n",
    "ridge_scores_std = []"
   ]
  },
  {
   "cell_type": "code",
   "execution_count": null,
   "metadata": {},
   "outputs": [],
   "source": [
    "# Create a ridge regressor: ridge\n",
    "ridge = Ridge(normalize=True)"
   ]
  },
  {
   "cell_type": "code",
   "execution_count": null,
   "metadata": {},
   "outputs": [],
   "source": [
    "# Compute scores over range of alphas\n",
    "for alpha in alpha_space:\n",
    "\n",
    "    # Specify the alpha value to use: ridge.alpha\n",
    "    ridge.alpha = alpha\n",
    "    \n",
    "    # Perform 10-fold CV: ridge_cv_scores\n",
    "    ridge_cv_scores = cross_val_score(ridge, X, y, cv=10)\n",
    "    \n",
    "    # Append the mean of ridge_cv_scores to ridge_scores\n",
    "    ridge_scores.append(np.mean(ridge_cv_scores))\n",
    "    \n",
    "    # Append the std of ridge_cv_scores to ridge_scores_std\n",
    "    ridge_scores_std.append(np.std(ridge_cv_scores))"
   ]
  },
  {
   "cell_type": "code",
   "execution_count": null,
   "metadata": {},
   "outputs": [],
   "source": [
    "# Display the plot\n",
    "display_plot(ridge_scores, ridge_scores_std)"
   ]
  },
  {
   "cell_type": "markdown",
   "metadata": {},
   "source": [
    "#### Regularization II: Ridge Regression\n",
    "\n",
    "#### W/ All features"
   ]
  },
  {
   "cell_type": "code",
   "execution_count": null,
   "metadata": {},
   "outputs": [],
   "source": [
    "X = df.drop(labels = ['Player', 'Age', 'Pos', 'Tm', 'Year', 'WS/48', 'WS', 'OWS', 'DWS'], axis = 1).values\n",
    "y = df['WS/48'].values"
   ]
  },
  {
   "cell_type": "code",
   "execution_count": null,
   "metadata": {},
   "outputs": [],
   "source": [
    "# Create training and test sets\n",
    "X_train, X_test, y_train, y_test = train_test_split(X, y, test_size = 0.3, random_state=42)"
   ]
  },
  {
   "cell_type": "code",
   "execution_count": null,
   "metadata": {},
   "outputs": [],
   "source": [
    "# Setup the array of alphas and lists to store scores\n",
    "alpha_space = np.logspace(-4, 0, 50)\n",
    "ridge_scores = []\n",
    "ridge_scores_std = []"
   ]
  },
  {
   "cell_type": "code",
   "execution_count": null,
   "metadata": {},
   "outputs": [],
   "source": [
    "# Create a ridge regressor: ridge\n",
    "ridge = Ridge(normalize=True)"
   ]
  },
  {
   "cell_type": "code",
   "execution_count": null,
   "metadata": {},
   "outputs": [],
   "source": [
    "# Compute scores over range of alphas\n",
    "for alpha in alpha_space:\n",
    "\n",
    "    # Specify the alpha value to use: ridge.alpha\n",
    "    ridge.alpha = alpha\n",
    "    \n",
    "    # Perform 10-fold CV: ridge_cv_scores\n",
    "    ridge_cv_scores = cross_val_score(ridge, X, y, cv=10)\n",
    "    \n",
    "    # Append the mean of ridge_cv_scores to ridge_scores\n",
    "    ridge_scores.append(np.mean(ridge_cv_scores))\n",
    "    \n",
    "    # Append the std of ridge_cv_scores to ridge_scores_std\n",
    "    ridge_scores_std.append(np.std(ridge_cv_scores))"
   ]
  },
  {
   "cell_type": "code",
   "execution_count": null,
   "metadata": {},
   "outputs": [],
   "source": [
    "# Display the plot\n",
    "display_plot(ridge_scores, ridge_scores_std)"
   ]
  },
  {
   "cell_type": "markdown",
   "metadata": {},
   "source": [
    "#### Hyperparameter tuning with GridSearchCV"
   ]
  },
  {
   "cell_type": "code",
   "execution_count": null,
   "metadata": {},
   "outputs": [],
   "source": [
    "X = df.drop(labels = ['Player', 'Age', 'Pos', 'Tm', 'Year', 'WS/48', 'WS', 'OWS', 'DWS'], axis = 1)\n",
    "y = df['WS/48']\n",
    "\n",
    "# Create training and test sets\n",
    "X_train, X_test, y_train, y_test = train_test_split(X, y, test_size = 0.3, random_state=42)"
   ]
  },
  {
   "cell_type": "code",
   "execution_count": null,
   "metadata": {},
   "outputs": [],
   "source": [
    "# import necessary modules\n",
    "from sklearn.model_selection import GridSearchCV"
   ]
  },
  {
   "cell_type": "code",
   "execution_count": null,
   "metadata": {},
   "outputs": [],
   "source": [
    "# Setup the hyperparameter grid\n",
    "alpha_space = np.logspace(-4, 0, 50)\n",
    "param_grid = {'alpha': alpha_space}"
   ]
  },
  {
   "cell_type": "code",
   "execution_count": null,
   "metadata": {},
   "outputs": [],
   "source": [
    "# Create a ridge regressor: ridge\n",
    "ridge = Ridge()"
   ]
  },
  {
   "cell_type": "code",
   "execution_count": null,
   "metadata": {},
   "outputs": [],
   "source": [
    "ridge_cv = GridSearchCV(ridge, param_grid, cv=5)"
   ]
  },
  {
   "cell_type": "code",
   "execution_count": null,
   "metadata": {},
   "outputs": [],
   "source": [
    "ridge_cv.fit(X, y)"
   ]
  },
  {
   "cell_type": "code",
   "execution_count": null,
   "metadata": {},
   "outputs": [],
   "source": [
    "# Print the tuned parameters and score\n",
    "print(\"Tuned Ridge Regression Parameters: {}\".format(ridge_cv.best_params_)) \n",
    "print(\"Best score is {}\".format(ridge_cv.best_score_))"
   ]
  },
  {
   "cell_type": "markdown",
   "metadata": {},
   "source": [
    "### Pull Data from 2018-2019 Data to test model on"
   ]
  },
  {
   "cell_type": "code",
   "execution_count": null,
   "metadata": {},
   "outputs": [],
   "source": [
    "# define function that will scrap information from basketball-reference.com and return information as a dataframe\n",
    "\n",
    "def basketball_reference_scrap(year, statistic):\n",
    "    # URL page we will be scraping \n",
    "    url = 'https://www.basketball-reference.com/leagues/NBA_{}_{}.html'.format(year, statistic)\n",
    "    html = urlopen(url)\n",
    "    soup = BeautifulSoup(html)\n",
    "    headers = [th.getText() for th in soup.findAll('tr', limit=2)[0].findAll('th')]\n",
    "    # exclude the first column as we will not need the ranking order\n",
    "    headers = headers[1:]\n",
    "    rows = soup.findAll('tr')[1:]\n",
    "    player_stats = [[td.getText() for td in rows[i].findAll('td')] for i in range(len(rows))]\n",
    "    # create new dataframe\n",
    "    df = pd.DataFrame(player_stats, columns = headers)\n",
    "    df['Year'] = year\n",
    "    return df\n"
   ]
  },
  {
   "cell_type": "code",
   "execution_count": null,
   "metadata": {},
   "outputs": [],
   "source": [
    "def drop_duplicate_players(df):\n",
    "    df.drop_duplicates(subset = 'Player', inplace=True)\n",
    "    return df"
   ]
  },
  {
   "cell_type": "code",
   "execution_count": null,
   "metadata": {},
   "outputs": [],
   "source": [
    "# function that cleans per possession data from web scrape\n",
    "\n",
    "def clean_per_poss(df):\n",
    "    '''function that accepts raw per possession data and cleans it into usable DataFrame'''\n",
    "    # 1: drop duplicate players\n",
    "    drop_duplicate_players(df)\n",
    "    # 2: replace 'None' rows with 'NaN'\n",
    "    df.fillna(value=pd.np.nan, inplace = True)\n",
    "    # 3: drop rows with na\n",
    "    df.dropna(axis = 0, inplace = True)\n",
    "    # 4: drop blank column\n",
    "    df.drop(labels = '', axis = 1, inplace = True)\n",
    "    # 5: variable that contains columns to convert to numerics\n",
    "    cols_to_numeric = df.columns.drop(['Player', 'Pos', 'Age', 'Tm', 'Year'])\n",
    "    # 6: convert selected columns to numeric dtypes\n",
    "    df[cols_to_numeric] = df[cols_to_numeric].apply(pd.to_numeric, errors = 'coerce')\n",
    "    # 7: reset index\n",
    "    df.reset_index(drop = True, inplace = True)\n",
    "    return df\n"
   ]
  },
  {
   "cell_type": "code",
   "execution_count": null,
   "metadata": {},
   "outputs": [],
   "source": [
    "# function that cleans raw advanced stats pulled from web scrape \n",
    "\n",
    "def clean_advanced(df):\n",
    "    '''function that takes in raw advanced data and cleans it into usable DataFrame'''\n",
    "    #1: drop duplicate players\n",
    "    drop_duplicate_players(df)\n",
    "    #2: replace 'None' row with 'NaN'\n",
    "    df.fillna(value=pd.np.nan, inplace = True)\n",
    "    #3: dropna row\n",
    "    df.dropna(axis=0, inplace=True)\n",
    "    #4: drop blank columns\n",
    "    df.drop(df.columns[[18, 23]], axis=1, inplace = True)\n",
    "    #7: create list of columns to convert to numerics\n",
    "    cols_to_numeric = df.columns.drop(['Player', 'Pos', 'Age', 'Tm', 'Year'])\n",
    "    #8: convert selected columns to numeric dtypes\n",
    "    df[cols_to_numeric] = df[cols_to_numeric].apply(pd.to_numeric, errors = 'coerce')\n",
    "    #9: reset_index\n",
    "    df.reset_index(drop=True, inplace=True)\n",
    "    #9: return updated df\n",
    "    return df\n"
   ]
  },
  {
   "cell_type": "code",
   "execution_count": null,
   "metadata": {},
   "outputs": [],
   "source": [
    "# function to merge and clean per possession and advanced dataframe\n",
    "\n",
    "def merge_df(df1, df2):\n",
    "    '''function to merge clean per_poss and advanced dataframe'''\n",
    "    #1: merge df1 and df2\n",
    "    df = pd.merge(df1, df2, left_index=True, right_index=True, how='outer')\n",
    "    #2: drop duplicate columns\n",
    "    df.drop(labels = ['Year_x', 'Player_y', 'Pos_y', 'Age_y', 'Tm_y', 'G_y', 'MP_y'], axis = 1, inplace = True)\n",
    "    #3: replace columns that still have '_x' and '_y'\n",
    "    df.columns = df.columns.str.replace('_x', '').str.replace('_y', '')\n",
    "    #4: print to confirm that all three df's have same number of rows\n",
    "    print('Do all three DataFrames have the same number of rows? ',\n",
    "         df1.shape[0] == df2.shape[0] == df.shape[0])\n",
    "    #5: return merged df\n",
    "    return df\n"
   ]
  },
  {
   "cell_type": "code",
   "execution_count": null,
   "metadata": {},
   "outputs": [],
   "source": [
    "# import necessary modules\n",
    "from urllib.request import urlopen\n",
    "from bs4 import BeautifulSoup"
   ]
  },
  {
   "cell_type": "code",
   "execution_count": null,
   "metadata": {},
   "outputs": [],
   "source": [
    "# scrap per_poss and advanced stats for year 2019\n",
    "per_poss2019 = basketball_reference_scrap(2019, 'per_poss')\n",
    "advanced2019 = basketball_reference_scrap(2019, 'advanced')\n",
    "\n",
    "print('Shape of original DataFrames, Per_poss: ', per_poss2019.shape, 'Advanced: ', advanced2019.shape)"
   ]
  },
  {
   "cell_type": "code",
   "execution_count": null,
   "metadata": {},
   "outputs": [],
   "source": [
    "clean_per_poss(per_poss2019);"
   ]
  },
  {
   "cell_type": "code",
   "execution_count": null,
   "metadata": {},
   "outputs": [],
   "source": [
    "# clean up advanced 2019 stats\n",
    "clean_advanced(advanced2019);"
   ]
  },
  {
   "cell_type": "code",
   "execution_count": null,
   "metadata": {},
   "outputs": [],
   "source": [
    "df_2019 = merge_df(per_poss2019, advanced2019)\n",
    "\n",
    "df_2019.head(5)"
   ]
  },
  {
   "cell_type": "code",
   "execution_count": null,
   "metadata": {},
   "outputs": [],
   "source": [
    "df_2019.info()"
   ]
  },
  {
   "cell_type": "code",
   "execution_count": null,
   "metadata": {},
   "outputs": [],
   "source": [
    "# percentage of the column with a missing value\n",
    "df_2019.isnull().sum() / len(df_2019) * 100"
   ]
  },
  {
   "cell_type": "code",
   "execution_count": null,
   "metadata": {},
   "outputs": [],
   "source": [
    "df_2019_test = df_2019.fillna(0)\n",
    "\n",
    "df_2019_test.to_csv('data/df_2019.csv')"
   ]
  },
  {
   "cell_type": "code",
   "execution_count": null,
   "metadata": {},
   "outputs": [],
   "source": [
    "# percentage of the column with a missing value\n",
    "df_2019_test.isnull().sum() / len(df_2019_test) * 100"
   ]
  },
  {
   "cell_type": "code",
   "execution_count": null,
   "metadata": {},
   "outputs": [],
   "source": [
    "per_qualify = df_2019_test['MP'] / df_2019_test['G'] >= 6.09"
   ]
  },
  {
   "cell_type": "code",
   "execution_count": null,
   "metadata": {},
   "outputs": [],
   "source": [
    "# create dataframe that includes players that averaged at least 6.09 minutes per game\n",
    "df_per_qualify = df_2019_test[per_qualify]\n",
    "print('This is the shape of the original data frame: ', df_2019_test.shape)\n",
    "print('This is the shape of the data frame with players that averaged at least 6.09 min/ game: ', df_per_qualify.shape)\n",
    "print('We eliminated ', abs(df_2019_test.shape[0] - df_per_qualify.shape[0]) / (df_2019_test.shape[0]) * 100, '% of the observations.' )"
   ]
  },
  {
   "cell_type": "markdown",
   "metadata": {},
   "source": [
    "## Ridge Regression w/ GridSearchCV & hold out set"
   ]
  },
  {
   "cell_type": "code",
   "execution_count": null,
   "metadata": {},
   "outputs": [],
   "source": [
    "X = df.drop(labels = ['Player', 'Age', 'Pos', 'Tm', 'Year', 'WS/48', 'WS', 'OWS', 'DWS'], axis = 1)\n",
    "y = df['WS/48']\n",
    "\n",
    "# Create training and test sets\n",
    "X_train, X_test, y_train, y_test = train_test_split(X, y, test_size = 0.1, random_state=42)"
   ]
  },
  {
   "cell_type": "code",
   "execution_count": null,
   "metadata": {},
   "outputs": [],
   "source": [
    "# Setup the hyperparameter grid\n",
    "alpha_space = np.logspace(-4, 0, 50)\n",
    "param_grid = {'alpha': alpha_space}"
   ]
  },
  {
   "cell_type": "code",
   "execution_count": null,
   "metadata": {},
   "outputs": [],
   "source": [
    "# Create a ridge regressor: ridge\n",
    "ridge = Ridge()"
   ]
  },
  {
   "cell_type": "code",
   "execution_count": null,
   "metadata": {},
   "outputs": [],
   "source": [
    "ridge_cv = GridSearchCV(ridge, param_grid, cv=5)"
   ]
  },
  {
   "cell_type": "code",
   "execution_count": null,
   "metadata": {},
   "outputs": [],
   "source": [
    "ridge_cv.fit(X_train, y_train)"
   ]
  },
  {
   "cell_type": "code",
   "execution_count": null,
   "metadata": {},
   "outputs": [],
   "source": [
    "# Print the tuned parameters and score\n",
    "print(\"Tuned test Ridge Regression Parameters: {}\".format(ridge_cv.best_params_)) \n",
    "print(\"Best score is {}\".format(ridge_cv.best_score_))"
   ]
  },
  {
   "cell_type": "code",
   "execution_count": null,
   "metadata": {},
   "outputs": [],
   "source": [
    "# Predict on the hold out set and compute metrics\n",
    "y_pred = ridge_cv.predict(X_test)\n",
    "r2 = ridge_cv.score(X_test, y_test)\n",
    "rmse = np.sqrt(mean_squared_error(y_test, y_pred))"
   ]
  },
  {
   "cell_type": "code",
   "execution_count": null,
   "metadata": {},
   "outputs": [],
   "source": [
    "print(\"Tuned Ridge Regression Parameters: {}\".format(ridge_cv.best_params_))\n",
    "print(\"Tuned Ridge Regression R squared: {}\".format(r2))\n",
    "print(\"Tuned Ridge Regression RMSE: {}\".format(rmse))"
   ]
  },
  {
   "cell_type": "code",
   "execution_count": null,
   "metadata": {},
   "outputs": [],
   "source": [
    "from yellowbrick.regressor import ResidualsPlot\n",
    "\n",
    "visualizer = ResidualsPlot(ridge_cv)\n",
    "\n",
    "visualizer.fit(X_train, y_train)  # Fit the training data to the model\n",
    "visualizer.score(X_test, y_test)  # Evaluate the model on the test data\n",
    "visualizer.poof()                 # Draw/show/poof the data"
   ]
  },
  {
   "cell_type": "code",
   "execution_count": null,
   "metadata": {},
   "outputs": [],
   "source": []
  },
  {
   "cell_type": "markdown",
   "metadata": {},
   "source": [
    "## ElasticNet Regression w/ GridSearchCV & train/test sets"
   ]
  },
  {
   "cell_type": "code",
   "execution_count": null,
   "metadata": {},
   "outputs": [],
   "source": [
    "# Create training and test sets\n",
    "X_train, X_test, y_train, y_test = train_test_split(X, y, test_size = 0.1, random_state=42)"
   ]
  },
  {
   "cell_type": "code",
   "execution_count": null,
   "metadata": {},
   "outputs": [],
   "source": [
    "def visual_gridsearch(model, X, y):\n",
    "    alpha_space = np.logspace(-4, 0, 50)\n",
    "    param_grid = {'alpha': alpha_space}\n",
    "    ridge = Ridge()\n",
    "    grid = GridSearchCV(ridge, param_grid=param_grid)\n",
    "    grid.fit(X, y)\n",
    "\n",
    "    scores = [x[1] for x in grid.grid_scores_]\n",
    "    scores = np.array(scores).reshape(len(alpha_space))\n",
    "\n",
    "    plt.figure(figsize=(8, 6))\n",
    "    plt.subplots_adjust(left=.2, right=0.95, bottom=0.15, top=0.95)\n",
    "    plt.imshow(scores, interpolation='nearest', cmap=ddlheatmap)\n",
    "    plt.xlabel('gamma')\n",
    "    plt.ylabel('C')\n",
    "    plt.colorbar()\n",
    "    plt.xticks(np.arange(len(gamma_range)), gamma_range, rotation=45)\n",
    "    plt.yticks(np.arange(len(C_range)), C_range)\n",
    "    plt.title(\n",
    "        \"The best parameters are {} with a score of {:0.2f}.\".format(\n",
    "        grid.best_params_, grid.best_score_)\n",
    "    )\n",
    "    plt.show()"
   ]
  },
  {
   "cell_type": "code",
   "execution_count": null,
   "metadata": {},
   "outputs": [],
   "source": [
    "visual_gridsearch()"
   ]
  },
  {
   "cell_type": "code",
   "execution_count": null,
   "metadata": {},
   "outputs": [],
   "source": []
  },
  {
   "cell_type": "code",
   "execution_count": null,
   "metadata": {},
   "outputs": [],
   "source": []
  },
  {
   "cell_type": "code",
   "execution_count": null,
   "metadata": {},
   "outputs": [],
   "source": [
    "X_2019 = df_per_qualify.drop(labels = ['Player', 'Age', 'Pos', 'Tm', 'Year', 'WS/48', 'WS', 'OWS', 'DWS'], axis = 1)"
   ]
  },
  {
   "cell_type": "code",
   "execution_count": null,
   "metadata": {},
   "outputs": [],
   "source": [
    "y_pred = ridge_cv.predict(X_2019)"
   ]
  },
  {
   "cell_type": "code",
   "execution_count": null,
   "metadata": {},
   "outputs": [],
   "source": [
    "r2 = ridge_cv.score()"
   ]
  },
  {
   "cell_type": "code",
   "execution_count": null,
   "metadata": {},
   "outputs": [],
   "source": []
  },
  {
   "cell_type": "code",
   "execution_count": null,
   "metadata": {},
   "outputs": [],
   "source": []
  },
  {
   "cell_type": "code",
   "execution_count": null,
   "metadata": {},
   "outputs": [],
   "source": []
  },
  {
   "cell_type": "code",
   "execution_count": null,
   "metadata": {},
   "outputs": [],
   "source": []
  },
  {
   "cell_type": "code",
   "execution_count": null,
   "metadata": {},
   "outputs": [],
   "source": []
  },
  {
   "cell_type": "code",
   "execution_count": null,
   "metadata": {},
   "outputs": [],
   "source": []
  },
  {
   "cell_type": "code",
   "execution_count": null,
   "metadata": {},
   "outputs": [],
   "source": []
  },
  {
   "cell_type": "code",
   "execution_count": null,
   "metadata": {},
   "outputs": [],
   "source": [
    "from yellowbrick.regressor import ResidualsPlot"
   ]
  },
  {
   "cell_type": "code",
   "execution_count": null,
   "metadata": {},
   "outputs": [],
   "source": [
    "visualizer = ResidualsPlot(ridge_cv, hist=False)\n",
    "visualizer.score(X, df_per_qualify['WS/48'])"
   ]
  },
  {
   "cell_type": "code",
   "execution_count": null,
   "metadata": {},
   "outputs": [],
   "source": []
  }
 ],
 "metadata": {
  "kernelspec": {
   "display_name": "Python 3",
   "language": "python",
   "name": "python3"
  },
  "language_info": {
   "codemirror_mode": {
    "name": "ipython",
    "version": 3
   },
   "file_extension": ".py",
   "mimetype": "text/x-python",
   "name": "python",
   "nbconvert_exporter": "python",
   "pygments_lexer": "ipython3",
   "version": "3.6.8"
  }
 },
 "nbformat": 4,
 "nbformat_minor": 2
}
