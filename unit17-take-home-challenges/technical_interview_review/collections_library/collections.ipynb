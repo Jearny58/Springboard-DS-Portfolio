{
 "cells": [
  {
   "cell_type": "markdown",
   "metadata": {},
   "source": [
    "# [`collections`](https://docs.python.org/3.7/library/collections.html#module-collections)\n",
    "\n",
    "Module implements specialized container datatypes providing alternatives to Python's general purpose built-in containers [`dict`](https://docs.python.org/3.7/library/stdtypes.html#dict), [`list`](https://docs.python.org/3.7/library/stdtypes.html#list), [`set`](https://docs.python.org/3.7/library/stdtypes.html#set), and [`tuple`](https://docs.python.org/3.7/library/stdtypes.html#tuple)."
   ]
  },
  {
   "cell_type": "markdown",
   "metadata": {},
   "source": [
    "### [`ChainMap`](https://docs.python.org/3.7/library/collections.html#collections.ChainMap)\n",
    "\n",
    "Groups multiple dicts or other mappings together to create a single, updateable view; if no maps are specified, a single empty dictionary is provided so that a new chain always has at least one mapping."
   ]
  },
  {
   "cell_type": "code",
   "execution_count": 2,
   "metadata": {},
   "outputs": [
    {
     "data": {
      "text/plain": [
       "['music', 'art', 'opera']"
      ]
     },
     "execution_count": 2,
     "metadata": {},
     "output_type": "execute_result"
    }
   ],
   "source": [
    "import collections\n",
    "# example 1\n",
    "baseline = {'music': 'bach', 'art': 'rembrandt'}\n",
    "adjustments = {'art': 'van gogh', 'opera': 'carmen'}\n",
    "list(collections.ChainMap(adjustments, baseline))"
   ]
  },
  {
   "cell_type": "code",
   "execution_count": 3,
   "metadata": {},
   "outputs": [
    {
     "data": {
      "text/plain": [
       "['music', 'art', 'opera']"
      ]
     },
     "execution_count": 3,
     "metadata": {},
     "output_type": "execute_result"
    }
   ],
   "source": [
    "# example 2 - gives the same ordering as series of dict.update()\n",
    "combined = baseline.copy()\n",
    "combined.update(adjustments)\n",
    "list(combined)"
   ]
  },
  {
   "cell_type": "markdown",
   "metadata": {},
   "source": [
    "### [`Counter` objects](https://docs.python.org/3.7/library/collections.html#collections.Counter)\n",
    "\n",
    "A counter tool is provided to support convenient and rapid tallies."
   ]
  },
  {
   "cell_type": "code",
   "execution_count": 6,
   "metadata": {},
   "outputs": [
    {
     "name": "stdout",
     "output_type": "stream",
     "text": [
      "Counter({'blue': 3, 'red': 2, 'green': 1})\n"
     ]
    }
   ],
   "source": [
    "# Tally occurrences of words in a list\n",
    "cnt = collections.Counter()\n",
    "for word in ['red', 'blue', 'red', 'green', 'blue', 'blue']:\n",
    "    cnt[word] += 1\n",
    "print(cnt)"
   ]
  },
  {
   "cell_type": "code",
   "execution_count": 30,
   "metadata": {},
   "outputs": [
    {
     "data": {
      "text/plain": [
       "[('the', 1091),\n",
       " ('and', 969),\n",
       " ('to', 767),\n",
       " ('of', 675),\n",
       " ('i', 633),\n",
       " ('a', 571),\n",
       " ('you', 558),\n",
       " ('my', 520),\n",
       " ('in', 451),\n",
       " ('it', 421)]"
      ]
     },
     "execution_count": 30,
     "metadata": {},
     "output_type": "execute_result"
    }
   ],
   "source": [
    "words = re.findall(r'\\w+', open('collections_library/hamlet.txt').read().lower())\n",
    "collections.Counter(words).most_common(10)"
   ]
  },
  {
   "cell_type": "code",
   "execution_count": 31,
   "metadata": {},
   "outputs": [],
   "source": [
    "c = collections.Counter()    # new, empty counter\n",
    "c = collections.Counter('gallahad')    # new counter with an iterable\n",
    "c = collections.Counter({'red': 4, 'blue': 2})    # new counter from a mapping\n",
    "c = collections.Counter(cats=4, dogs=8)    # new counter from keyword args"
   ]
  },
  {
   "cell_type": "code",
   "execution_count": 32,
   "metadata": {},
   "outputs": [
    {
     "data": {
      "text/plain": [
       "0"
      ]
     },
     "execution_count": 32,
     "metadata": {},
     "output_type": "execute_result"
    }
   ],
   "source": [
    "# count og a missing element is zero\n",
    "c = collections.Counter(['eggs', 'ham'])\n",
    "c['bacon']"
   ]
  },
  {
   "cell_type": "code",
   "execution_count": 33,
   "metadata": {},
   "outputs": [
    {
     "data": {
      "text/plain": [
       "Counter({'eggs': 1, 'ham': 1, 'sausage': 0})"
      ]
     },
     "execution_count": 33,
     "metadata": {},
     "output_type": "execute_result"
    }
   ],
   "source": [
    "c['sausage'] = 0\n",
    "c"
   ]
  },
  {
   "cell_type": "code",
   "execution_count": 34,
   "metadata": {},
   "outputs": [
    {
     "data": {
      "text/plain": [
       "Counter({'eggs': 1, 'ham': 1})"
      ]
     },
     "execution_count": 34,
     "metadata": {},
     "output_type": "execute_result"
    }
   ],
   "source": [
    "del c['sausage']\n",
    "c"
   ]
  },
  {
   "cell_type": "code",
   "execution_count": 35,
   "metadata": {},
   "outputs": [
    {
     "data": {
      "text/plain": [
       "['a', 'a', 'a', 'a', 'b', 'b']"
      ]
     },
     "execution_count": 35,
     "metadata": {},
     "output_type": "execute_result"
    }
   ],
   "source": [
    "# return an iterator over elements repeating each as many times as its count\n",
    "c = collections.Counter(a=4, b=2, c=0, d=-2)\n",
    "sorted(c.elements())"
   ]
  },
  {
   "cell_type": "code",
   "execution_count": 37,
   "metadata": {},
   "outputs": [
    {
     "data": {
      "text/plain": [
       "[('a', 5), ('b', 2), ('r', 2), ('c', 1)]"
      ]
     },
     "execution_count": 37,
     "metadata": {},
     "output_type": "execute_result"
    }
   ],
   "source": [
    "# return list of n most common elements and their counts \n",
    "collections.Counter('abracadabra').most_common(4)"
   ]
  },
  {
   "cell_type": "code",
   "execution_count": 38,
   "metadata": {},
   "outputs": [
    {
     "data": {
      "text/plain": [
       "Counter({'a': 3, 'b': 0, 'c': -3, 'd': -6})"
      ]
     },
     "execution_count": 38,
     "metadata": {},
     "output_type": "execute_result"
    }
   ],
   "source": [
    "# subtract from an iterable or from another mapping (or counter)\n",
    "from collections import Counter\n",
    "\n",
    "c = Counter(a=4, b=2, c=0, d=-2)\n",
    "d = Counter(a=1, b=2, c=3, d=4)\n",
    "c.subtract(d)\n",
    "c"
   ]
  },
  {
   "cell_type": "code",
   "execution_count": 39,
   "metadata": {},
   "outputs": [
    {
     "name": "stdout",
     "output_type": "stream",
     "text": [
      "Counter({'a': 4, 'b': 3})\n",
      "Counter({'a': 2})\n",
      "Counter({'a': 1, 'b': 1})\n",
      "Counter({'a': 3, 'b': 2})\n"
     ]
    }
   ],
   "source": [
    "# some further examples\n",
    "c = Counter(a=3, b=1)\n",
    "d = Counter(a=1, b=2)\n",
    "print(c + d)\n",
    "print(c - d)\n",
    "print(c & d)\n",
    "print(c | d)"
   ]
  },
  {
   "cell_type": "markdown",
   "metadata": {},
   "source": [
    "### [`deque`](https://docs.python.org/3.7/library/collections.html#collections.deque)\n",
    "\n",
    "Deques are a generalization of stacks and queues; they support thread-safe, memory-efficient appends and pops from either side of the deque."
   ]
  },
  {
   "cell_type": "code",
   "execution_count": 42,
   "metadata": {},
   "outputs": [
    {
     "name": "stdout",
     "output_type": "stream",
     "text": [
      "G\n",
      "H\n",
      "I\n"
     ]
    }
   ],
   "source": [
    "# example\n",
    "from collections import deque\n",
    "\n",
    "# deque with three items\n",
    "d = deque('ghi')\n",
    "for elem in d:\n",
    "    print(elem.upper())"
   ]
  },
  {
   "cell_type": "code",
   "execution_count": 43,
   "metadata": {},
   "outputs": [
    {
     "name": "stdout",
     "output_type": "stream",
     "text": [
      "deque(['g', 'h', 'i', 'j'])\n",
      "deque(['f', 'g', 'h', 'i', 'j'])\n",
      "deque(['f', 'g', 'h', 'i'])\n",
      "deque(['g', 'h', 'i'])\n",
      "['g', 'h', 'i']\n",
      "g\n",
      "i\n"
     ]
    }
   ],
   "source": [
    "# add new entry to the right side\n",
    "d.append('j')\n",
    "print(d)\n",
    "\n",
    "# add new entry to left side\n",
    "d.appendleft('f')\n",
    "print(d)\n",
    "\n",
    "# return and remove the rightmost item\n",
    "d.pop()\n",
    "print(d)\n",
    "\n",
    "# return and remove leftmost item\n",
    "d.popleft()\n",
    "print(d)\n",
    "\n",
    "# list of contents in deque\n",
    "print(list(d))\n",
    "\n",
    "# leftmost item\n",
    "print(d[0])\n",
    "\n",
    "# rightmost item\n",
    "print(d[-1])"
   ]
  },
  {
   "cell_type": "code",
   "execution_count": 44,
   "metadata": {},
   "outputs": [
    {
     "name": "stdout",
     "output_type": "stream",
     "text": [
      "['i', 'h', 'g']\n",
      "True\n",
      "deque(['g', 'h', 'i', 'j', 'k', 'l'])\n",
      "deque(['l', 'g', 'h', 'i', 'j', 'k'])\n",
      "deque(['g', 'h', 'i', 'j', 'k', 'l'])\n"
     ]
    }
   ],
   "source": [
    "# list contents of deque in reverse\n",
    "print(list(reversed(d)))\n",
    "\n",
    "# search the deque\n",
    "print('h' in d)\n",
    "\n",
    "# add multiple elements at once\n",
    "d.extend('jkl')\n",
    "print(d)\n",
    "\n",
    "# right rotation\n",
    "d.rotate(1)\n",
    "print(d)\n",
    "\n",
    "# left rotation\n",
    "d.rotate(-1)\n",
    "print(d)"
   ]
  },
  {
   "cell_type": "code",
   "execution_count": 45,
   "metadata": {},
   "outputs": [
    {
     "name": "stdout",
     "output_type": "stream",
     "text": [
      "deque(['l', 'k', 'j', 'i', 'h', 'g'])\n"
     ]
    }
   ],
   "source": [
    "# make a new deque in reverse order\n",
    "print(deque(reversed(d)))\n",
    "\n",
    "# empty deque\n",
    "d.clear()"
   ]
  },
  {
   "cell_type": "code",
   "execution_count": 46,
   "metadata": {},
   "outputs": [
    {
     "ename": "IndexError",
     "evalue": "pop from an empty deque",
     "output_type": "error",
     "traceback": [
      "\u001b[0;31m---------------------------------------------------------------------------\u001b[0m",
      "\u001b[0;31mIndexError\u001b[0m                                Traceback (most recent call last)",
      "\u001b[0;32m<ipython-input-46-c7ca6bc715c1>\u001b[0m in \u001b[0;36m<module>\u001b[0;34m\u001b[0m\n\u001b[1;32m      1\u001b[0m \u001b[0;31m# cannot pop from an empty deque\u001b[0m\u001b[0;34m\u001b[0m\u001b[0;34m\u001b[0m\u001b[0;34m\u001b[0m\u001b[0m\n\u001b[0;32m----> 2\u001b[0;31m \u001b[0md\u001b[0m\u001b[0;34m.\u001b[0m\u001b[0mpop\u001b[0m\u001b[0;34m(\u001b[0m\u001b[0;34m)\u001b[0m\u001b[0;34m\u001b[0m\u001b[0;34m\u001b[0m\u001b[0m\n\u001b[0m",
      "\u001b[0;31mIndexError\u001b[0m: pop from an empty deque"
     ]
    }
   ],
   "source": [
    "# cannot pop from an empty deque\n",
    "d.pop()"
   ]
  },
  {
   "cell_type": "code",
   "execution_count": 47,
   "metadata": {},
   "outputs": [
    {
     "name": "stdout",
     "output_type": "stream",
     "text": [
      "deque(['c', 'b', 'a'])\n"
     ]
    }
   ],
   "source": [
    "# extendleft reverses the input order\n",
    "d.extendleft('abc')\n",
    "print(d)"
   ]
  },
  {
   "cell_type": "markdown",
   "metadata": {},
   "source": [
    "### [`defaultdict`](https://docs.python.org/3.7/library/collections.html#collections.defaultdict)\n",
    "\n",
    "Returns a new dictionary-like object; is a subclass of `dict` class with remaining functionality being the same as `dict` as well."
   ]
  },
  {
   "cell_type": "code",
   "execution_count": 48,
   "metadata": {},
   "outputs": [
    {
     "data": {
      "text/plain": [
       "[('blue', [2, 4]), ('red', [1]), ('yellow', [1, 3])]"
      ]
     },
     "execution_count": 48,
     "metadata": {},
     "output_type": "execute_result"
    }
   ],
   "source": [
    "from collections import defaultdict\n",
    "\n",
    "# using list as default_factory, easy to group a sequence of key-value pairs \n",
    "s = [('yellow', 1), ('blue', 2), ('yellow', 3), ('blue', 4), ('red', 1)]\n",
    "d = defaultdict(list)\n",
    "\n",
    "for k, v in s:\n",
    "    d[k].append(v)\n",
    "    \n",
    "sorted(d.items())"
   ]
  },
  {
   "cell_type": "code",
   "execution_count": 49,
   "metadata": {},
   "outputs": [
    {
     "data": {
      "text/plain": [
       "[('i', 4), ('m', 1), ('p', 2), ('s', 4)]"
      ]
     },
     "execution_count": 49,
     "metadata": {},
     "output_type": "execute_result"
    }
   ],
   "source": [
    "# setting default factory to in makes defaultdict useful for counting\n",
    "s = 'mississippi'\n",
    "d = defaultdict(int)\n",
    "\n",
    "for k in s:\n",
    "    d[k] += 1\n",
    "    \n",
    "sorted(d.items())"
   ]
  },
  {
   "cell_type": "code",
   "execution_count": 50,
   "metadata": {},
   "outputs": [
    {
     "data": {
      "text/plain": [
       "[('blue', {2, 4}), ('red', {1, 3})]"
      ]
     },
     "execution_count": 50,
     "metadata": {},
     "output_type": "execute_result"
    }
   ],
   "source": [
    "# setting the default_factory to set makes defaultdict useful for building a dictionary\n",
    "# of sets\n",
    "s = [('red', 1), ('blue', 2), ('red', 3), ('blue', 4), ('red', 1), ('blue', 4)]\n",
    "d = defaultdict(set)\n",
    "\n",
    "for k, v in s:\n",
    "    d[k].add(v)\n",
    "    \n",
    "sorted(d.items())"
   ]
  },
  {
   "cell_type": "markdown",
   "metadata": {},
   "source": [
    "### [`namedtuple()`](https://docs.python.org/3.7/library/collections.html#collections.namedtuple)\n",
    "\n",
    "Named tuples assign meaning to each position in a tuple and allow for more readable, self-documenting code; can be used wherever regular tuples are used, and they add the ability to access fields by name instead of position index."
   ]
  },
  {
   "cell_type": "code",
   "execution_count": 51,
   "metadata": {},
   "outputs": [
    {
     "name": "stdout",
     "output_type": "stream",
     "text": [
      "33\n",
      "11 22\n",
      "33\n",
      "Point(x=11, y=22)\n"
     ]
    }
   ],
   "source": [
    "from collections import namedtuple\n",
    "\n",
    "# basic example\n",
    "Point = namedtuple('Point', ['x', 'y'])\n",
    "p = Point(11, y=22)    # instantiate with position or keyword arguments\n",
    "print(p[0] + p[1])\n",
    "\n",
    "# unpack like a regular tuple\n",
    "x, y = p\n",
    "print(x, y)\n",
    "\n",
    "# fields also accessible by name\n",
    "print(p.x + p.y)\n",
    "\n",
    "print(p)"
   ]
  },
  {
   "cell_type": "code",
   "execution_count": 52,
   "metadata": {},
   "outputs": [
    {
     "data": {
      "text/plain": [
       "Point(x=11, y=22)"
      ]
     },
     "execution_count": 52,
     "metadata": {},
     "output_type": "execute_result"
    }
   ],
   "source": [
    "# class method that makes a new instance from an existing sequence or iterable\n",
    "t = [11, 22]\n",
    "Point._make(t)"
   ]
  },
  {
   "cell_type": "code",
   "execution_count": 53,
   "metadata": {},
   "outputs": [
    {
     "data": {
      "text/plain": [
       "OrderedDict([('x', 11), ('y', 22)])"
      ]
     },
     "execution_count": 53,
     "metadata": {},
     "output_type": "execute_result"
    }
   ],
   "source": [
    "# return a new dict which maps field names to their corresponding values\n",
    "p = Point(x=11, y=22)\n",
    "p._asdict()"
   ]
  },
  {
   "cell_type": "code",
   "execution_count": 54,
   "metadata": {},
   "outputs": [
    {
     "data": {
      "text/plain": [
       "Point(x=33, y=22)"
      ]
     },
     "execution_count": 54,
     "metadata": {},
     "output_type": "execute_result"
    }
   ],
   "source": [
    "# return a new instance of the named tuple replacing specified fields with new values\n",
    "p = Point(x=11, y=22)\n",
    "p._replace(x=33)"
   ]
  },
  {
   "cell_type": "code",
   "execution_count": 55,
   "metadata": {},
   "outputs": [
    {
     "data": {
      "text/plain": [
       "('x', 'y')"
      ]
     },
     "execution_count": 55,
     "metadata": {},
     "output_type": "execute_result"
    }
   ],
   "source": [
    "# view the field names\n",
    "p._fields"
   ]
  },
  {
   "cell_type": "code",
   "execution_count": 56,
   "metadata": {},
   "outputs": [
    {
     "data": {
      "text/plain": [
       "Pixel(x=11, y=22, red=128, green=255, blue=0)"
      ]
     },
     "execution_count": 56,
     "metadata": {},
     "output_type": "execute_result"
    }
   ],
   "source": [
    "Color = namedtuple('Color', 'red green blue')\n",
    "Pixel = namedtuple('Pixel', Point._fields + Color._fields)\n",
    "Pixel(11, 22, 128, 255, 0)"
   ]
  },
  {
   "cell_type": "markdown",
   "metadata": {},
   "source": [
    "### [`OrderedDict`](https://docs.python.org/3.7/library/collections.html#collections.OrderedDict)\n",
    "\n",
    "Ordered dictionaries are just like regular dictionaries but have some extra capabilities relating to ordering operations; have become less important since `dict` class gained ability to remember insertion order"
   ]
  },
  {
   "cell_type": "code",
   "execution_count": 60,
   "metadata": {},
   "outputs": [
    {
     "name": "stdout",
     "output_type": "stream",
     "text": [
      "OrderedDict([('a', None), ('b', None), ('c', None), ('d', None), ('e', None)])\n"
     ]
    }
   ],
   "source": [
    "from collections import OrderedDict\n",
    "\n",
    "d = OrderedDict.fromkeys('abcde')\n",
    "print(d)"
   ]
  },
  {
   "cell_type": "code",
   "execution_count": 61,
   "metadata": {},
   "outputs": [
    {
     "data": {
      "text/plain": [
       "'acdeb'"
      ]
     },
     "execution_count": 61,
     "metadata": {},
     "output_type": "execute_result"
    }
   ],
   "source": [
    "d.move_to_end('b')\n",
    "''.join(d.keys())"
   ]
  },
  {
   "cell_type": "code",
   "execution_count": 62,
   "metadata": {},
   "outputs": [
    {
     "data": {
      "text/plain": [
       "'bacde'"
      ]
     },
     "execution_count": 62,
     "metadata": {},
     "output_type": "execute_result"
    }
   ],
   "source": [
    "d.move_to_end('b', last=False)\n",
    "''.join(d.keys())"
   ]
  }
 ],
 "metadata": {
  "kernelspec": {
   "display_name": "Python 3",
   "language": "python",
   "name": "python3"
  },
  "language_info": {
   "codemirror_mode": {
    "name": "ipython",
    "version": 3
   },
   "file_extension": ".py",
   "mimetype": "text/x-python",
   "name": "python",
   "nbconvert_exporter": "python",
   "pygments_lexer": "ipython3",
   "version": "3.7.3"
  }
 },
 "nbformat": 4,
 "nbformat_minor": 2
}
