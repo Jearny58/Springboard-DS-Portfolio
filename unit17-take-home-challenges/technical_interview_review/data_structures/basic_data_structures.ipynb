{
 "cells": [
  {
   "cell_type": "markdown",
   "metadata": {},
   "source": [
    "# _The Technical Interview_\n",
    "\n",
    "This notebook will provide a review of the following Python concepts: Basic Python data structures (lists, tuples, dictionaries, etc.)\n",
    "\n",
    "There are four collection data types in the Python programming language:\n",
    "\n",
    "- **List** is a collection which is ordered and changeable. Allows duplicate members.\n",
    "- **Tuple** is a collection which is ordered and unchangeable. Allows duplicate members.\n",
    "- **Set** is a collection which is unordered and unindexed. No duplicate members.\n",
    "- **Dictionary** is a collection which is unordered, changeable and indexed. No duplicate members."
   ]
  },
  {
   "cell_type": "markdown",
   "metadata": {},
   "source": [
    "# _Python List_"
   ]
  },
  {
   "cell_type": "code",
   "execution_count": 2,
   "metadata": {},
   "outputs": [
    {
     "name": "stdout",
     "output_type": "stream",
     "text": [
      "['apple', 'banana', 'cherry']\n"
     ]
    }
   ],
   "source": [
    "# create a list\n",
    "newlist = ['apple', 'banana', 'cherry']\n",
    "print(newlist)"
   ]
  },
  {
   "cell_type": "code",
   "execution_count": 3,
   "metadata": {},
   "outputs": [
    {
     "name": "stdout",
     "output_type": "stream",
     "text": [
      "apple\n"
     ]
    }
   ],
   "source": [
    "# access items by referring to the index number\n",
    "newlist = ['apple', 'banana', 'cherry']\n",
    "print(newlist[0])"
   ]
  },
  {
   "cell_type": "code",
   "execution_count": 4,
   "metadata": {},
   "outputs": [
    {
     "name": "stdout",
     "output_type": "stream",
     "text": [
      "['apple', 'grapefruit', 'cherry']\n"
     ]
    }
   ],
   "source": [
    "# to change a value of a specific item, refer to the index number\n",
    "newlist = ['apple', 'banana', 'cherry']\n",
    "newlist[1] = 'grapefruit'\n",
    "print(newlist)"
   ]
  },
  {
   "cell_type": "markdown",
   "metadata": {},
   "source": [
    "## _Loop Through A List_"
   ]
  },
  {
   "cell_type": "code",
   "execution_count": 5,
   "metadata": {},
   "outputs": [
    {
     "name": "stdout",
     "output_type": "stream",
     "text": [
      "apple\n",
      "banana\n",
      "cherry\n"
     ]
    }
   ],
   "source": [
    "# can loop through list items by using `for` loop\n",
    "newlist = ['apple', 'banana', 'cherry']\n",
    "for fruit in newlist:\n",
    "    print(fruit)"
   ]
  },
  {
   "cell_type": "markdown",
   "metadata": {},
   "source": [
    "## _Check if Item Exists_"
   ]
  },
  {
   "cell_type": "code",
   "execution_count": 6,
   "metadata": {},
   "outputs": [
    {
     "name": "stdout",
     "output_type": "stream",
     "text": [
      "Yes, 'banana' is in the fruit list.\n"
     ]
    }
   ],
   "source": [
    "# to determine if item is present in a list use the `in` keyword\n",
    "newlist = ['apple', 'banana', 'cherry']\n",
    "if 'banana' in newlist:\n",
    "    print(\"Yes, 'banana' is in the fruit list.\")"
   ]
  },
  {
   "cell_type": "code",
   "execution_count": 7,
   "metadata": {},
   "outputs": [
    {
     "name": "stdout",
     "output_type": "stream",
     "text": [
      "3\n"
     ]
    }
   ],
   "source": [
    "# use the len() method to determine how many items a list has\n",
    "newlist = ['apple', 'banana', 'cherry']\n",
    "print(len(newlist))"
   ]
  },
  {
   "cell_type": "markdown",
   "metadata": {},
   "source": [
    "## _Add Items_"
   ]
  },
  {
   "cell_type": "code",
   "execution_count": 8,
   "metadata": {},
   "outputs": [
    {
     "name": "stdout",
     "output_type": "stream",
     "text": [
      "['apple', 'banana', 'cherry', 'grapefruit']\n"
     ]
    }
   ],
   "source": [
    "# use append() method to add item to end of the list\n",
    "newlist = ['apple', 'banana', 'cherry']\n",
    "newlist.append('grapefruit')\n",
    "print(newlist)"
   ]
  },
  {
   "cell_type": "code",
   "execution_count": 11,
   "metadata": {},
   "outputs": [
    {
     "name": "stdout",
     "output_type": "stream",
     "text": [
      "['apple', 'grape', 'banana', 'cherry']\n"
     ]
    }
   ],
   "source": [
    "# to add at specific index, use insert() method\n",
    "newlist = ['apple', 'banana', 'cherry']\n",
    "newlist.insert(1, 'grape')\n",
    "print(newlist)"
   ]
  },
  {
   "cell_type": "markdown",
   "metadata": {},
   "source": [
    "## _Remove Item_"
   ]
  },
  {
   "cell_type": "code",
   "execution_count": 12,
   "metadata": {},
   "outputs": [
    {
     "name": "stdout",
     "output_type": "stream",
     "text": [
      "['apple', 'banana']\n"
     ]
    }
   ],
   "source": [
    "# remove() method removes specified item\n",
    "newlist = ['apple', 'banana', 'cherry']\n",
    "newlist.remove('cherry')\n",
    "print(newlist)"
   ]
  },
  {
   "cell_type": "code",
   "execution_count": 13,
   "metadata": {},
   "outputs": [
    {
     "name": "stdout",
     "output_type": "stream",
     "text": [
      "['apple', 'cherry']\n"
     ]
    }
   ],
   "source": [
    "# del keyword removes specified index\n",
    "newlist = ['apple', 'banana', 'cherry']\n",
    "del newlist[1]\n",
    "print(newlist)"
   ]
  },
  {
   "cell_type": "code",
   "execution_count": 14,
   "metadata": {},
   "outputs": [],
   "source": [
    "# del keyword can also delete list completely\n",
    "newlist = ['apple', 'banana', 'cherry']\n",
    "del newlist"
   ]
  },
  {
   "cell_type": "code",
   "execution_count": 15,
   "metadata": {},
   "outputs": [
    {
     "name": "stdout",
     "output_type": "stream",
     "text": [
      "[]\n"
     ]
    }
   ],
   "source": [
    "# clear() method empties the list\n",
    "newlist = ['apple', 'banana', 'cherry']\n",
    "newlist.clear()\n",
    "print(newlist)"
   ]
  },
  {
   "cell_type": "markdown",
   "metadata": {},
   "source": [
    "## _The `list()` Constructor_"
   ]
  },
  {
   "cell_type": "code",
   "execution_count": 16,
   "metadata": {},
   "outputs": [
    {
     "name": "stdout",
     "output_type": "stream",
     "text": [
      "['apple', 'banana', 'cherry']\n"
     ]
    }
   ],
   "source": [
    "# can use the list() constructor to make a list\n",
    "newlist = list(('apple', 'banana', 'cherry')) # note the double round brackets\n",
    "print(newlist)"
   ]
  },
  {
   "cell_type": "markdown",
   "metadata": {},
   "source": [
    "## _Other List Methods_"
   ]
  },
  {
   "cell_type": "code",
   "execution_count": 17,
   "metadata": {},
   "outputs": [
    {
     "name": "stdout",
     "output_type": "stream",
     "text": [
      "['apple', 'banana', 'cherry']\n"
     ]
    }
   ],
   "source": [
    "# copy() returns a copy of the list\n",
    "newlist = ['apple', 'banana', 'cherry']\n",
    "copylist = newlist.copy()\n",
    "print(copylist)"
   ]
  },
  {
   "cell_type": "code",
   "execution_count": 19,
   "metadata": {},
   "outputs": [
    {
     "name": "stdout",
     "output_type": "stream",
     "text": [
      "1\n"
     ]
    }
   ],
   "source": [
    "# count() returns the number of elements with the specified value\n",
    "newlist = ['apple', 'banana', 'cherry']\n",
    "apple_count = newlist.count('apple')\n",
    "print(apple_count)"
   ]
  },
  {
   "cell_type": "code",
   "execution_count": 20,
   "metadata": {},
   "outputs": [
    {
     "name": "stdout",
     "output_type": "stream",
     "text": [
      "['apple', 'banana', 'cherry', 'Ford', 'BMW', 'Volvo']\n"
     ]
    }
   ],
   "source": [
    "# extend() method adds the specified list elements (or any iterable) to the end of the current list\n",
    "newlist = ['apple', 'banana', 'cherry']\n",
    "cars = ['Ford', 'BMW', 'Volvo']\n",
    "newlist.extend(cars)\n",
    "print(newlist)"
   ]
  },
  {
   "cell_type": "code",
   "execution_count": 23,
   "metadata": {},
   "outputs": [
    {
     "name": "stdout",
     "output_type": "stream",
     "text": [
      "1\n"
     ]
    }
   ],
   "source": [
    "# index() returns the index of the first element with the specified value\n",
    "newlist = ['apple', 'banana', 'cherry']\n",
    "x = newlist.index('banana')\n",
    "print(x)"
   ]
  },
  {
   "cell_type": "code",
   "execution_count": 24,
   "metadata": {},
   "outputs": [
    {
     "name": "stdout",
     "output_type": "stream",
     "text": [
      "['apple', 'cherry']\n"
     ]
    }
   ],
   "source": [
    "# pop() removes the element at the specified position\n",
    "newlist = ['apple', 'banana', 'cherry']\n",
    "newlist.pop(1)\n",
    "print(newlist)"
   ]
  },
  {
   "cell_type": "code",
   "execution_count": 25,
   "metadata": {},
   "outputs": [
    {
     "name": "stdout",
     "output_type": "stream",
     "text": [
      "['cherry', 'banana', 'apple']\n"
     ]
    }
   ],
   "source": [
    "# reverse() method reverses order of the list\n",
    "newlist = ['apple', 'banana', 'cherry']\n",
    "newlist.reverse()\n",
    "print(newlist)"
   ]
  },
  {
   "cell_type": "code",
   "execution_count": 26,
   "metadata": {},
   "outputs": [
    {
     "name": "stdout",
     "output_type": "stream",
     "text": [
      "[0, 1, 2, 3, 5, 10, 20]\n"
     ]
    }
   ],
   "source": [
    "# sort() method sorts the list\n",
    "newlist = [5, 3, 0, 1, 2, 10, 20]\n",
    "newlist.sort()\n",
    "print(newlist)"
   ]
  },
  {
   "cell_type": "markdown",
   "metadata": {},
   "source": [
    "# _Python Tuple_\n",
    "\n",
    "A collection which is ordered and unchangeable. In Python tuples are written with round brackets.\n",
    "\n",
    "## CONTINUE [HERE](https://www.w3schools.com/python/python_tuples.asp) AUG 7"
   ]
  },
  {
   "cell_type": "code",
   "execution_count": null,
   "metadata": {},
   "outputs": [],
   "source": []
  }
 ],
 "metadata": {
  "kernelspec": {
   "display_name": "Python 3",
   "language": "python",
   "name": "python3"
  },
  "language_info": {
   "codemirror_mode": {
    "name": "ipython",
    "version": 3
   },
   "file_extension": ".py",
   "mimetype": "text/x-python",
   "name": "python",
   "nbconvert_exporter": "python",
   "pygments_lexer": "ipython3",
   "version": "3.7.3"
  }
 },
 "nbformat": 4,
 "nbformat_minor": 2
}
