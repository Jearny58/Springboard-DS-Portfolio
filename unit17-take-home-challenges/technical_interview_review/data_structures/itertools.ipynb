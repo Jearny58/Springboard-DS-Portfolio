{
 "cells": [
  {
   "cell_type": "markdown",
   "metadata": {},
   "source": [
    "# [`itertools`](https://pymotw.com/3/itertools/) - Iterator Functions\n",
    "\n",
    "**Purpose**: itertools module includes a set of functions for working with sequence data sets\n",
    "\n",
    "- iterator-based code offers better memory consumption characteristics than code that uses lists\n",
    "    - data is not produced from the iterator until it is needed\n",
    "    - as a result, data does not need to be stored in memory at the same time"
   ]
  },
  {
   "cell_type": "markdown",
   "metadata": {},
   "source": [
    "### _Merging and Splitting Iterators_\n",
    "\n",
    "`chain()` functions takes several iterators as arguments and returns a single iterator "
   ]
  },
  {
   "cell_type": "code",
   "execution_count": 3,
   "metadata": {},
   "outputs": [],
   "source": [
    "from itertools import *"
   ]
  },
  {
   "cell_type": "code",
   "execution_count": 4,
   "metadata": {},
   "outputs": [
    {
     "name": "stdout",
     "output_type": "stream",
     "text": [
      "1 2 3 a b c \n"
     ]
    }
   ],
   "source": [
    "for i in chain([1, 2, 3], ['a', 'b', 'c']):\n",
    "    print(i, end=' ')\n",
    "print()"
   ]
  },
  {
   "cell_type": "markdown",
   "metadata": {},
   "source": [
    "`chain()` makes it easy to process several sequences without constructing one large list.\n",
    "\n",
    "If iterables to be combined are not all known in advance, `chain.from_iterable()` can be used to construct the chain instead."
   ]
  },
  {
   "cell_type": "code",
   "execution_count": 5,
   "metadata": {},
   "outputs": [
    {
     "name": "stdout",
     "output_type": "stream",
     "text": [
      "1 2 3 a b c \n"
     ]
    }
   ],
   "source": [
    "def make_iterables_to_chain():\n",
    "    yield [1, 2, 3]\n",
    "    yield ['a', 'b', 'c']\n",
    "    \n",
    "for i in chain.from_iterable(make_iterables_to_chain()):\n",
    "    print(i, end=' ')\n",
    "print()"
   ]
  },
  {
   "cell_type": "markdown",
   "metadata": {},
   "source": [
    "The built-in function `zip()` returns an iterator that combines the elements of several iterators into tuples."
   ]
  },
  {
   "cell_type": "code",
   "execution_count": 6,
   "metadata": {},
   "outputs": [
    {
     "name": "stdout",
     "output_type": "stream",
     "text": [
      "(1, 'a')\n",
      "(2, 'b')\n",
      "(3, 'c')\n"
     ]
    }
   ],
   "source": [
    "for i in zip([1, 2, 3], ['a', 'b', 'c']):\n",
    "    print(i)"
   ]
  },
  {
   "cell_type": "markdown",
   "metadata": {},
   "source": [
    "As with the other functions in this module, the return value is an iterable object that produces values one at a time.\n",
    "\n",
    "`zip()` stops when the first input iterator is exhausted. To process all of the inputs, even if the iterators produce different numbers of values, use `zip_longest()`."
   ]
  },
  {
   "cell_type": "code",
   "execution_count": 8,
   "metadata": {},
   "outputs": [
    {
     "name": "stdout",
     "output_type": "stream",
     "text": [
      "Zip stops early:\n",
      "[(0, 0), (1, 1)]\n",
      "\n",
      "zip_longest processes all fo the values:\n",
      "[(0, 0), (1, 1), (2, None)]\n"
     ]
    }
   ],
   "source": [
    "from itertools import *\n",
    "\n",
    "r1 = range(3)\n",
    "r2 = range(2)\n",
    "\n",
    "print('Zip stops early:')\n",
    "print(list(zip(r1, r2)))\n",
    "\n",
    "r1 = range(3)\n",
    "r2 = range(2)\n",
    "\n",
    "print('\\nzip_longest processes all fo the values:')\n",
    "print(list(zip_longest(r1, r2)))"
   ]
  },
  {
   "cell_type": "markdown",
   "metadata": {},
   "source": [
    "By default, `zip_longest` subs `None` for any missing values. Use the `fillvalue` argument to use a different sub value. "
   ]
  },
  {
   "cell_type": "code",
   "execution_count": 9,
   "metadata": {},
   "outputs": [
    {
     "name": "stdout",
     "output_type": "stream",
     "text": [
      "Zip stops early:\n",
      "[(0, 0), (1, 1)]\n",
      "\n",
      "zip_longest processes all fo the values:\n",
      "[(0, 0), (1, 1), (2, '-')]\n"
     ]
    }
   ],
   "source": [
    "from itertools import *\n",
    "\n",
    "r1 = range(3)\n",
    "r2 = range(2)\n",
    "\n",
    "print('Zip stops early:')\n",
    "print(list(zip(r1, r2)))\n",
    "\n",
    "r1 = range(3)\n",
    "r2 = range(2)\n",
    "\n",
    "print('\\nzip_longest processes all fo the values:')\n",
    "print(list(zip_longest(r1, r2, fillvalue='-')))"
   ]
  },
  {
   "cell_type": "markdown",
   "metadata": {},
   "source": [
    "The `islice()` function returns an iterator which returns selected items from input iterator, by index."
   ]
  },
  {
   "cell_type": "code",
   "execution_count": 11,
   "metadata": {},
   "outputs": [
    {
     "name": "stdout",
     "output_type": "stream",
     "text": [
      "Stop at 5:\n",
      "0 1 2 3 4 \n",
      "\n",
      "Start at 5, Stop at 10:\n",
      "5 6 7 8 9 \n",
      "\n",
      "By tens to 100:\n",
      "0 10 20 30 40 50 60 70 80 90 \n",
      "\n"
     ]
    }
   ],
   "source": [
    "from itertools import *\n",
    "\n",
    "print('Stop at 5:')\n",
    "for i in islice(range(100), 5):\n",
    "    print(i, end=' ')\n",
    "print('\\n')\n",
    "\n",
    "print('Start at 5, Stop at 10:')\n",
    "for i in islice(range(100), 5, 10):\n",
    "    print(i, end=' ')\n",
    "print('\\n')\n",
    "\n",
    "print('By tens to 100:')\n",
    "for i in islice(range(100), 0, 100, 10):\n",
    "    print(i, end=' ')\n",
    "print('\\n')"
   ]
  },
  {
   "cell_type": "markdown",
   "metadata": {},
   "source": [
    "`islice()` takes the same arguments as the slice operator for lists: `start`, `stop`, and `step`. The start and step arguments are optional.\n",
    "\n",
    "The `tee()` function returns several independent iterators (default = 2) based on a single original input."
   ]
  },
  {
   "cell_type": "code",
   "execution_count": 13,
   "metadata": {},
   "outputs": [
    {
     "name": "stdout",
     "output_type": "stream",
     "text": [
      "i1: [0, 1, 2, 3, 4]\n",
      "i2: [0, 1, 2, 3, 4]\n"
     ]
    }
   ],
   "source": [
    "from itertools import *\n",
    "\n",
    "r = islice(count(), 5)\n",
    "i1, i2 = tee(r)\n",
    "\n",
    "print('i1:', list(i1))\n",
    "print('i2:', list(i2))"
   ]
  },
  {
   "cell_type": "markdown",
   "metadata": {},
   "source": [
    "Iterators returned by `tee()` can be used to feed the same set of data into multiple algorithms to be processed in parallel.\n",
    "\n",
    "Also, new iterators created by `tee()` share their input, so the original iterator should not be used after the new ones are created."
   ]
  },
  {
   "cell_type": "code",
   "execution_count": 14,
   "metadata": {},
   "outputs": [
    {
     "name": "stdout",
     "output_type": "stream",
     "text": [
      "r: 0 1 2 \n",
      "i1: [3, 4]\n",
      "i2: [3, 4]\n"
     ]
    }
   ],
   "source": [
    "from itertools import *\n",
    "\n",
    "r = islice(count(), 5)\n",
    "i1, i2 = tee(r)\n",
    "\n",
    "print('r:', end=' ')\n",
    "for i in r:\n",
    "    print(i, end=' ')\n",
    "    if i > 1:\n",
    "        break\n",
    "print()\n",
    "\n",
    "print('i1:', list(i1))\n",
    "print('i2:', list(i2))"
   ]
  },
  {
   "cell_type": "markdown",
   "metadata": {},
   "source": [
    "### _Converting Inputs_\n",
    "\n",
    "Built-in `map()` function returns an iterator that calls a function on the values in the input iterators and returns the results. It stops when any input iterator is exhausted."
   ]
  },
  {
   "cell_type": "code",
   "execution_count": 15,
   "metadata": {},
   "outputs": [
    {
     "name": "stdout",
     "output_type": "stream",
     "text": [
      "Doubles:\n",
      "0\n",
      "2\n",
      "4\n",
      "6\n",
      "8\n",
      "\n",
      "Multiples:\n",
      "0 * 5 = 0\n",
      "1 * 6 = 6\n",
      "2 * 7 = 14\n",
      "3 * 8 = 24\n",
      "4 * 9 = 36\n",
      "\n",
      "Stopping:\n",
      "(0, 0, 0)\n",
      "(1, 1, 1)\n"
     ]
    }
   ],
   "source": [
    "def times_two(x):\n",
    "    return 2 * x\n",
    "\n",
    "def multiply(x, y):\n",
    "    return (x, y, x*y)\n",
    "\n",
    "print('Doubles:')\n",
    "for i in map(times_two, range(5)):\n",
    "    print(i)\n",
    "    \n",
    "print('\\nMultiples:')\n",
    "r1 = range(5)\n",
    "r2 = range(5, 10)\n",
    "for i in map(multiply, r1, r2):\n",
    "    print('{:d} * {:d} = {:d}'.format(*i))\n",
    "    \n",
    "print('\\nStopping:')\n",
    "r1 = range(5)\n",
    "r2 = range(2)\n",
    "for i in map(multiply, r1, r2):\n",
    "    print(i)"
   ]
  },
  {
   "cell_type": "markdown",
   "metadata": {},
   "source": [
    "- 1st Example: lambda function multiples the input values by 2\n",
    "- 2nd Example: lambda function multiplies two arguments, taken from separate iterators, and returns a tuple with the original arguments and the computed value\n",
    "- 3rd Example: stops after producing two tuples because the second range is exhausted\n",
    "\n",
    "`starmap()` function is similar to `map()` but instead of constructing a tuple from multiple iterators, it splits up the items in a single iterator as arguments to the mapping function using the `*` syntax."
   ]
  },
  {
   "cell_type": "code",
   "execution_count": 17,
   "metadata": {},
   "outputs": [
    {
     "name": "stdout",
     "output_type": "stream",
     "text": [
      "0 * 5 = 0\n",
      "1 * 6 = 6\n",
      "2 * 7 = 14\n",
      "3 * 8 = 24\n",
      "4 * 9 = 36\n"
     ]
    }
   ],
   "source": [
    "from itertools import *\n",
    "\n",
    "values = [(0, 5), (1, 6), (2, 7), (3, 8), (4, 9)]\n",
    "\n",
    "for i in starmap(lambda x, y: (x, y, x * y), values):\n",
    "    print('{} * {} = {}'.format(*i))"
   ]
  },
  {
   "cell_type": "markdown",
   "metadata": {},
   "source": [
    "### _Producing New Values_\n",
    "\n",
    "`count()` function returns an iterator that produces consecutive integers, indefinitely. First number can be passed as an argument (default: 0). No upper bound argument."
   ]
  },
  {
   "cell_type": "code",
   "execution_count": 18,
   "metadata": {},
   "outputs": [
    {
     "name": "stdout",
     "output_type": "stream",
     "text": [
      "(1, 'a')\n",
      "(2, 'b')\n",
      "(3, 'c')\n"
     ]
    }
   ],
   "source": [
    "from itertools import *\n",
    "\n",
    "for i in zip(count(1), ['a', 'b', 'c']):\n",
    "    print(i)"
   ]
  },
  {
   "cell_type": "markdown",
   "metadata": {},
   "source": [
    "The start and step arguments to `count()` can be any numerical values that can be added together."
   ]
  },
  {
   "cell_type": "code",
   "execution_count": 20,
   "metadata": {},
   "outputs": [
    {
     "name": "stdout",
     "output_type": "stream",
     "text": [
      "1/3: a\n",
      "2/3: b\n",
      "1: c\n"
     ]
    }
   ],
   "source": [
    "import fractions\n",
    "from itertools import *\n",
    "\n",
    "# start and steps are Fraction objects from fraction module\n",
    "start = fractions.Fraction(1, 3)\n",
    "step = fractions.Fraction(1, 3)\n",
    "\n",
    "for i in zip(count(start, step), ['a', 'b', 'c']):\n",
    "    print('{}: {}'.format(*i))"
   ]
  },
  {
   "cell_type": "markdown",
   "metadata": {},
   "source": [
    "`cycle()` function returns an iterator that repeats the contents of the arguments it is given indefinitely. Since it has to remember the entire contents of the input iterator, it may consume quite a bit of memory if the iterator is long."
   ]
  },
  {
   "cell_type": "code",
   "execution_count": 21,
   "metadata": {},
   "outputs": [
    {
     "name": "stdout",
     "output_type": "stream",
     "text": [
      "(0, 'a')\n",
      "(1, 'b')\n",
      "(2, 'c')\n",
      "(3, 'a')\n",
      "(4, 'b')\n",
      "(5, 'c')\n",
      "(6, 'a')\n"
     ]
    }
   ],
   "source": [
    "from itertools import *\n",
    "\n",
    "for i in zip(range(7), cycle(['a', 'b', 'c'])):\n",
    "    print(i)"
   ]
  },
  {
   "cell_type": "markdown",
   "metadata": {},
   "source": [
    "The `repeat()` function returns an iterator that produces the same value each time it is accessed."
   ]
  },
  {
   "cell_type": "code",
   "execution_count": 22,
   "metadata": {},
   "outputs": [
    {
     "name": "stdout",
     "output_type": "stream",
     "text": [
      "over-and-over\n",
      "over-and-over\n",
      "over-and-over\n",
      "over-and-over\n",
      "over-and-over\n"
     ]
    }
   ],
   "source": [
    "from itertools import *\n",
    "\n",
    "for i in repeat('over-and-over', 5):\n",
    "    print(i)"
   ]
  },
  {
   "cell_type": "markdown",
   "metadata": {},
   "source": [
    "`repeat()` keeps returning data forever, unless the optional `times` argument is provided to limit it.\n",
    "\n",
    "It is useful to combine `repeat()` with `zip()` or `map()` when invariant values need to be included with the values from the other iterators."
   ]
  },
  {
   "cell_type": "code",
   "execution_count": 23,
   "metadata": {},
   "outputs": [
    {
     "name": "stdout",
     "output_type": "stream",
     "text": [
      "0 over-and-over\n",
      "1 over-and-over\n",
      "2 over-and-over\n",
      "3 over-and-over\n",
      "4 over-and-over\n"
     ]
    }
   ],
   "source": [
    "from itertools import *\n",
    "\n",
    "for i, s in zip(count(), repeat('over-and-over', 5)):\n",
    "    print(i, s)"
   ]
  },
  {
   "cell_type": "code",
   "execution_count": 24,
   "metadata": {},
   "outputs": [
    {
     "name": "stdout",
     "output_type": "stream",
     "text": [
      "2 * 0 = 0\n",
      "2 * 1 = 2\n",
      "2 * 2 = 4\n",
      "2 * 3 = 6\n",
      "2 * 4 = 8\n"
     ]
    }
   ],
   "source": [
    "# this example use map() to multiply the numbers in the 0 through 4 by 2\n",
    "from itertools import *\n",
    "\n",
    "for i in map(lambda x, y: (x, y, x * y), repeat(2), range(5)):\n",
    "    print('{:d} * {:d} = {:d}'.format(*i))"
   ]
  },
  {
   "cell_type": "markdown",
   "metadata": {},
   "source": [
    "### _Filtering_\n",
    "\n",
    "`dropwhile()` function returns an iterator that produces elements of the input iterator after a condition becomes false for the first time."
   ]
  },
  {
   "cell_type": "code",
   "execution_count": 25,
   "metadata": {},
   "outputs": [
    {
     "name": "stdout",
     "output_type": "stream",
     "text": [
      "Testing: -1\n",
      "Testing: 0\n",
      "Testing: 1\n",
      "Yielding: 1\n",
      "Yielding: 2\n",
      "Yielding: -2\n"
     ]
    }
   ],
   "source": [
    "from itertools import *\n",
    "\n",
    "def should_drop(x):\n",
    "    print('Testing:', x)\n",
    "    return x < 1\n",
    "\n",
    "for i in dropwhile(should_drop, [-1, 0, 1, 2, -2]):\n",
    "    print('Yielding:', i)"
   ]
  },
  {
   "cell_type": "markdown",
   "metadata": {},
   "source": [
    "`dropwhile()` does not filter every item of the input; after the condition is false the first time, all of the remaining items in the input are returned.\n",
    "\n",
    "Opposite of `dropwhile()` is `takewhile()`, and returns an iterator that returns items from the input iterator as long as the test function returns `True`."
   ]
  },
  {
   "cell_type": "code",
   "execution_count": 26,
   "metadata": {},
   "outputs": [
    {
     "name": "stdout",
     "output_type": "stream",
     "text": [
      "Testing: -1\n",
      "Yielding: -1\n",
      "Testing: 0\n",
      "Yielding: 0\n",
      "Testing: 1\n",
      "Yielding: 1\n",
      "Testing: 2\n"
     ]
    }
   ],
   "source": [
    "from itertools import *\n",
    "\n",
    "def should_take(x):\n",
    "    print('Testing:', x)\n",
    "    return x < 2\n",
    "\n",
    "for i in takewhile(should_take, [-1, 0, 1, 2, -2]):\n",
    "    print('Yielding:', i)"
   ]
  },
  {
   "cell_type": "code",
   "execution_count": null,
   "metadata": {},
   "outputs": [],
   "source": []
  }
 ],
 "metadata": {
  "kernelspec": {
   "display_name": "Python 3",
   "language": "python",
   "name": "python3"
  },
  "language_info": {
   "codemirror_mode": {
    "name": "ipython",
    "version": 3
   },
   "file_extension": ".py",
   "mimetype": "text/x-python",
   "name": "python",
   "nbconvert_exporter": "python",
   "pygments_lexer": "ipython3",
   "version": "3.7.3"
  }
 },
 "nbformat": 4,
 "nbformat_minor": 2
}
