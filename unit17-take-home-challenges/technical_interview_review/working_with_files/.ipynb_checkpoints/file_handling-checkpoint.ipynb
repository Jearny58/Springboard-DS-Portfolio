{
 "cells": [
  {
   "cell_type": "markdown",
   "metadata": {},
   "source": [
    "# _Python File Handling_\n",
    "\n",
    "File handling is an important part of any web application. Python has several functions for creating, reading, updating, and deleting files.\n",
    "\n",
    "The key function for working with files in Python is the `open()` function, which takes two parameters: _filename_ and _mode_.\n",
    "\n",
    "There are four different modes for opening a file:\n",
    "\n",
    "1. `\"r\"`: Read; default value, opens a file for reading, error if file does not exist\n",
    "2. `\"a\"`: Append; opens a file for appending, creates the file if it does not exists\n",
    "3. `\"w\"`: Write; opens a file for writing, creates the file if it does not exist\n",
    "4. `\"x\"`: Create; creates the specified file, returns an error if the file exists\n",
    "\n",
    "In addition, you can specify if the file should be handled as binary or text mode\n",
    "\n",
    "1. `\"t\"`: Text; default value, text mode\n",
    "2. `\"b\"`: Binary; binary mode (e.g. images)"
   ]
  },
  {
   "cell_type": "markdown",
   "metadata": {},
   "source": [
    "### _Syntax_"
   ]
  },
  {
   "cell_type": "code",
   "execution_count": 1,
   "metadata": {},
   "outputs": [],
   "source": [
    "# to open a file for reading it is enough to specify the name of the file\n",
    "f = open('demofile.txt')"
   ]
  },
  {
   "cell_type": "code",
   "execution_count": 2,
   "metadata": {},
   "outputs": [],
   "source": [
    "# the code above is the same as \n",
    "f = open('demofile.txt', 'rt')"
   ]
  },
  {
   "cell_type": "markdown",
   "metadata": {},
   "source": [
    "`r` for read and `t` for text are the default values, so you do not need to specify them."
   ]
  },
  {
   "cell_type": "markdown",
   "metadata": {},
   "source": [
    "### _Open a File on the Server_\n",
    "\n",
    "To open the file, use the built-in `open()` function.\n",
    "\n",
    "The `open()` function returns a file object, which has a `read()` method for reading the content of the file."
   ]
  },
  {
   "cell_type": "code",
   "execution_count": 3,
   "metadata": {},
   "outputs": [
    {
     "name": "stdout",
     "output_type": "stream",
     "text": [
      "This is a demo text file for the File Handling notebook.\n",
      "\n",
      "Hello! Welcome to demofile.txt\n",
      "This file is for testing purposes.\n",
      "Good Luck!\n"
     ]
    }
   ],
   "source": [
    "f = open('demofile.txt', 'r')\n",
    "print(f.read())"
   ]
  },
  {
   "cell_type": "code",
   "execution_count": 4,
   "metadata": {},
   "outputs": [
    {
     "name": "stdout",
     "output_type": "stream",
     "text": [
      "This \n"
     ]
    }
   ],
   "source": [
    "# by default read() method returns the whole text, but you can specify how many characters you want to return\n",
    "f = open('demofile.txt', 'r')\n",
    "print(f.read(5))"
   ]
  },
  {
   "cell_type": "code",
   "execution_count": 5,
   "metadata": {},
   "outputs": [
    {
     "name": "stdout",
     "output_type": "stream",
     "text": [
      "This is a demo text file for the File Handling notebook.\n",
      "\n"
     ]
    }
   ],
   "source": [
    "# can return one line using the readline() method\n",
    "f = open('demofile.txt', 'r')\n",
    "print(f.readline())"
   ]
  },
  {
   "cell_type": "code",
   "execution_count": 7,
   "metadata": {},
   "outputs": [
    {
     "name": "stdout",
     "output_type": "stream",
     "text": [
      "This is a demo text file for the File Handling notebook.\n",
      "\n",
      "\n",
      "\n",
      "Hello! Welcome to demofile.txt\n",
      "\n"
     ]
    }
   ],
   "source": [
    "# by calling readline() two times, you can read the first two lines\n",
    "f = open('demofile.txt', 'r')\n",
    "print(f.readline())\n",
    "print(f.readline())\n",
    "print(f.readline())"
   ]
  },
  {
   "cell_type": "code",
   "execution_count": 9,
   "metadata": {},
   "outputs": [
    {
     "name": "stdout",
     "output_type": "stream",
     "text": [
      "This is a demo text file for the File Handling notebook.\n",
      "\n",
      "\n",
      "\n",
      "Hello! Welcome to demofile.txt\n",
      "\n",
      "This file is for testing purposes.\n",
      "\n",
      "Good Luck!\n"
     ]
    }
   ],
   "source": [
    "# by looping through the lines of the file, you can read the whole file, line by line\n",
    "f = open(\"demofile.txt\", \"r\")\n",
    "for line in f:\n",
    "    print(line)"
   ]
  },
  {
   "cell_type": "code",
   "execution_count": 10,
   "metadata": {},
   "outputs": [
    {
     "name": "stdout",
     "output_type": "stream",
     "text": [
      "This is a demo text file for the File Handling notebook.\n",
      "\n"
     ]
    }
   ],
   "source": [
    "# it is good practice to always close the file when you are done with it\n",
    "f = open('demofile.txt', 'r')\n",
    "print(f.readline())\n",
    "f.close()"
   ]
  },
  {
   "cell_type": "markdown",
   "metadata": {},
   "source": [
    "Note: You should always close your files, in some cases, due to buffering, changes made to a file may not show until you close the file."
   ]
  },
  {
   "cell_type": "markdown",
   "metadata": {},
   "source": [
    "# _Python File Write_\n",
    "\n",
    "To write to an existing file, you must add a parameter to the `open()` function:\n",
    "- `\"a\"`: Append, will append to the end of the file\n",
    "- `\"w\"`: Write, will overwrite any existing content"
   ]
  },
  {
   "cell_type": "code",
   "execution_count": 12,
   "metadata": {},
   "outputs": [
    {
     "name": "stdout",
     "output_type": "stream",
     "text": [
      "This is a demo text file for the File Handling notebook.\n",
      "\n",
      "Hello! Welcome to demofile.txt\n",
      "This file is for testing purposes.\n",
      "Good Luck!Now the file has more content!\n",
      "Now the file has more content!\n"
     ]
    }
   ],
   "source": [
    "# open the demofile2.txt file and append content to the file\n",
    "f = open('demofile2.txt', 'a')\n",
    "f.write('\\nNow the file has more content!')\n",
    "f.close()\n",
    "\n",
    "# open and read the file after the appending\n",
    "f = open('demofile2.txt', 'r')\n",
    "print(f.read())"
   ]
  },
  {
   "cell_type": "code",
   "execution_count": 13,
   "metadata": {},
   "outputs": [
    {
     "name": "stdout",
     "output_type": "stream",
     "text": [
      "Woops! I have deleted the content\n"
     ]
    }
   ],
   "source": [
    "# open the demofile3.txt and overwrite the content\n",
    "f = open('demofile3.txt', 'w')\n",
    "f.write('Woops! I have deleted the content')\n",
    "f.close()\n",
    "\n",
    "# open and read the file after the appending\n",
    "f = open('demofile3.txt', 'r')\n",
    "print(f.read())"
   ]
  },
  {
   "cell_type": "markdown",
   "metadata": {},
   "source": [
    "Note: the `w` method will overwrite the entire file."
   ]
  },
  {
   "cell_type": "markdown",
   "metadata": {},
   "source": [
    "### _Create a New File_\n",
    "\n",
    "To create a new file in Python, use the `open()` method, with one of the following parameters:\n",
    "1. `\"x\"`: Create; will create a file, returns an error if the file already exists\n",
    "2. `\"a\"`: Append; will create a file if the specified file does not exist\n",
    "3. `\"w\"`: Write; will create a file if the specified file does not exist"
   ]
  },
  {
   "cell_type": "code",
   "execution_count": 17,
   "metadata": {},
   "outputs": [],
   "source": [
    "# create a file called 'myfile.txt'\n",
    "c = open('myfile.txt', 'x')"
   ]
  },
  {
   "cell_type": "code",
   "execution_count": 18,
   "metadata": {},
   "outputs": [],
   "source": [
    "# create a new file if it does not exist\n",
    "f = open('myfile.txt', 'w')"
   ]
  },
  {
   "cell_type": "markdown",
   "metadata": {},
   "source": [
    "# _Python Delete File_\n",
    "\n",
    "To delete a file, you must import the OS module, and run its `os.remove()` function"
   ]
  },
  {
   "cell_type": "code",
   "execution_count": 16,
   "metadata": {},
   "outputs": [],
   "source": [
    "# remove the file 'myfile.txt'\n",
    "import os\n",
    "os.remove('myfile.txt')"
   ]
  },
  {
   "cell_type": "markdown",
   "metadata": {},
   "source": [
    "### _Check if File exist_\n",
    "\n",
    "To avoid getting an error, you might want to check if the file exists before you try to delete it"
   ]
  },
  {
   "cell_type": "code",
   "execution_count": 20,
   "metadata": {},
   "outputs": [
    {
     "name": "stdout",
     "output_type": "stream",
     "text": [
      "The file does not exist\n"
     ]
    }
   ],
   "source": [
    "# check if file exists, then delete it\n",
    "import os\n",
    "\n",
    "if os.path.exists('myfile.txt'):\n",
    "    os.remove('myfile.txt')\n",
    "else:\n",
    "    print('The file does not exist')"
   ]
  },
  {
   "cell_type": "code",
   "execution_count": 21,
   "metadata": {},
   "outputs": [],
   "source": [
    "# to delete an entire folder, use the `os.rmdir()` method\n",
    "import os\n",
    "os.rmdir('myfolder')"
   ]
  },
  {
   "cell_type": "markdown",
   "metadata": {},
   "source": [
    "Note: you can only remove empty folders."
   ]
  }
 ],
 "metadata": {
  "kernelspec": {
   "display_name": "Python 3",
   "language": "python",
   "name": "python3"
  },
  "language_info": {
   "codemirror_mode": {
    "name": "ipython",
    "version": 3
   },
   "file_extension": ".py",
   "mimetype": "text/x-python",
   "name": "python",
   "nbconvert_exporter": "python",
   "pygments_lexer": "ipython3",
   "version": "3.7.3"
  }
 },
 "nbformat": 4,
 "nbformat_minor": 2
}
