{
 "cells": [
  {
   "cell_type": "markdown",
   "metadata": {},
   "source": [
    "This exercise will require you to pull some data from the Qunadl API. Qaundl is currently the most widely used aggregator of financial market data."
   ]
  },
  {
   "cell_type": "markdown",
   "metadata": {},
   "source": [
    "As a first step, you will need to register a free account on the http://www.quandl.com website."
   ]
  },
  {
   "cell_type": "markdown",
   "metadata": {},
   "source": [
    "After you register, you will be provided with a unique API key, that you should store:"
   ]
  },
  {
   "cell_type": "code",
   "execution_count": 8,
   "metadata": {},
   "outputs": [],
   "source": [
    "# Store the API key as a string - according to PEP8, constants are always named in all upper case\n",
    "API_KEY = ''"
   ]
  },
  {
   "cell_type": "markdown",
   "metadata": {},
   "source": [
    "Qaundl has a large number of data sources, but, unfortunately, most of them require a Premium subscription. Still, there are also a good number of free datasets."
   ]
  },
  {
   "cell_type": "markdown",
   "metadata": {},
   "source": [
    "For this mini project, we will focus on equities data from the Frankfurt Stock Exhange (FSE), which is available for free. We'll try and analyze the stock prices of a company called Carl Zeiss Meditec, which manufactures tools for eye examinations, as well as medical lasers for laser eye surgery: https://www.zeiss.com/meditec/int/home.html. The company is listed under the stock ticker AFX_X."
   ]
  },
  {
   "cell_type": "markdown",
   "metadata": {},
   "source": [
    "You can find the detailed Quandl API instructions here: https://docs.quandl.com/docs/time-series"
   ]
  },
  {
   "cell_type": "markdown",
   "metadata": {},
   "source": [
    "While there is a dedicated Python package for connecting to the Quandl API, we would prefer that you use the *requests* package, which can be easily downloaded using *pip* or *conda*. You can find the documentation for the package here: http://docs.python-requests.org/en/master/ "
   ]
  },
  {
   "cell_type": "markdown",
   "metadata": {},
   "source": [
    "Finally, apart from the *requests* package, you are encouraged to not use any third party Python packages, such as *pandas*, and instead focus on what's available in the Python Standard Library (the *collections* module might come in handy: https://pymotw.com/3/collections/).\n",
    "Also, since you won't have access to DataFrames, you are encouraged to us Python's native data structures - preferably dictionaries, though some questions can also be answered using lists.\n",
    "You can read more on these data structures here: https://docs.python.org/3/tutorial/datastructures.html"
   ]
  },
  {
   "cell_type": "markdown",
   "metadata": {},
   "source": [
    "Keep in mind that the JSON responses you will be getting from the API map almost one-to-one to Python's dictionaries. Unfortunately, they can be very nested, so make sure you read up on indexing dictionaries in the documentation provided above."
   ]
  },
  {
   "cell_type": "code",
   "execution_count": 9,
   "metadata": {},
   "outputs": [],
   "source": [
    "# First, import the relevant modules\n",
    "import requests \n",
    "import collections\n",
    "import json"
   ]
  },
  {
   "cell_type": "code",
   "execution_count": 20,
   "metadata": {},
   "outputs": [],
   "source": [
    "# Now, call the Quandl API and pull out a small sample of the data (only one day) to get a glimpse\n",
    "# into the JSON structure that will be returned\n",
    "r = requests.get(\"https://www.quandl.com/api/v3/datasets/FSE/AFX_X.json?column_index=4&start_date=2019-01-01&end_date=2019-01-02&collapse=daily&transform=none&api_key=<API>\")\n"
   ]
  },
  {
   "cell_type": "code",
   "execution_count": 21,
   "metadata": {},
   "outputs": [
    {
     "data": {
      "text/plain": [
       "{'dataset': {'id': 10095370,\n",
       "  'dataset_code': 'AFX_X',\n",
       "  'database_code': 'FSE',\n",
       "  'name': 'Carl Zeiss Meditec (AFX_X)',\n",
       "  'description': 'Stock Prices for Carl Zeiss Meditec (AFX) from the Frankfurt Stock Exchange.<br><br>Trading System: Xetra<br><br>ISIN: DE0005313704',\n",
       "  'refreshed_at': '2019-01-07T22:33:25.175Z',\n",
       "  'newest_available_date': '2019-01-07',\n",
       "  'oldest_available_date': '2000-06-07',\n",
       "  'column_names': ['Date', 'Close'],\n",
       "  'frequency': 'daily',\n",
       "  'type': 'Time Series',\n",
       "  'premium': False,\n",
       "  'limit': None,\n",
       "  'transform': None,\n",
       "  'column_index': 4,\n",
       "  'start_date': '2019-01-01',\n",
       "  'end_date': '2019-01-02',\n",
       "  'data': [['2019-01-02', 69.85]],\n",
       "  'collapse': 'daily',\n",
       "  'order': None,\n",
       "  'database_id': 6129}}"
      ]
     },
     "execution_count": 21,
     "metadata": {},
     "output_type": "execute_result"
    }
   ],
   "source": [
    "# Inspect the JSON structure of the object you created, and take note of how nested it is,\n",
    "# as well as the overall structure\n",
    "r.json()"
   ]
  },
  {
   "cell_type": "markdown",
   "metadata": {},
   "source": [
    "These are your tasks for this mini project:\n",
    "\n",
    "1. Collect data from the Franfurt Stock Exchange, for the ticker AFX_X, for the whole year 2017 (keep in mind that the date format is YYYY-MM-DD).\n",
    "2. Convert the returned JSON object into a Python dictionary.\n",
    "3. Calculate what the highest and lowest opening prices were for the stock in this period.\n",
    "4. What was the largest change in any one day (based on High and Low price)?\n",
    "5. What was the largest change between any two days (based on Closing Price)?\n",
    "6. What was the average daily trading volume during this year?\n",
    "7. (Optional) What was the median trading volume during this year. (Note: you may need to implement your own function for calculating the median.)"
   ]
  },
  {
   "cell_type": "markdown",
   "metadata": {
    "collapsed": true
   },
   "source": [
    "### 1. Collect data from the Franfurt Stock Exchange, for the ticker AFX_X, for the whole year 2017 (keep in mind that the date format is YYYY-MM-DD)."
   ]
  },
  {
   "cell_type": "code",
   "execution_count": 33,
   "metadata": {},
   "outputs": [],
   "source": [
    "# request AFX_X data for 2017\n",
    "r_2017 = requests.get('https://www.quandl.com/api/v3/datasets/FSE/AFX_X.json?column_index=0&start_date=2017-01-01&end_date=2017-12-31&order=asc&collapse=daily&transform=none&api_key=<API>')\n"
   ]
  },
  {
   "cell_type": "code",
   "execution_count": 34,
   "metadata": {},
   "outputs": [
    {
     "data": {
      "text/plain": [
       "requests.models.Response"
      ]
     },
     "execution_count": 34,
     "metadata": {},
     "output_type": "execute_result"
    }
   ],
   "source": [
    "# check type of r_2017\n",
    "type(r_2017)"
   ]
  },
  {
   "cell_type": "markdown",
   "metadata": {},
   "source": [
    "### 2. Convert the returned JSON object into a Python dictionary."
   ]
  },
  {
   "cell_type": "code",
   "execution_count": 39,
   "metadata": {},
   "outputs": [
    {
     "data": {
      "text/plain": [
       "{'dataset': {'id': 10095370,\n",
       "  'dataset_code': 'AFX_X',\n",
       "  'database_code': 'FSE',\n",
       "  'name': 'Carl Zeiss Meditec (AFX_X)',\n",
       "  'description': 'Stock Prices for Carl Zeiss Meditec (AFX) from the Frankfurt Stock Exchange.<br><br>Trading System: Xetra<br><br>ISIN: DE0005313704',\n",
       "  'refreshed_at': '2019-01-07T22:33:25.175Z',\n",
       "  'newest_available_date': '2019-01-07',\n",
       "  'oldest_available_date': '2000-06-07',\n",
       "  'column_names': ['Date'],\n",
       "  'frequency': 'daily',\n",
       "  'type': 'Time Series',\n",
       "  'premium': False,\n",
       "  'limit': None,\n",
       "  'transform': None,\n",
       "  'column_index': 0,\n",
       "  'start_date': '2017-01-01',\n",
       "  'end_date': '2017-12-31',\n",
       "  'data': [['2017-01-02'],\n",
       "   ['2017-01-03'],\n",
       "   ['2017-01-04'],\n",
       "   ['2017-01-05'],\n",
       "   ['2017-01-06'],\n",
       "   ['2017-01-09'],\n",
       "   ['2017-01-10'],\n",
       "   ['2017-01-11'],\n",
       "   ['2017-01-12'],\n",
       "   ['2017-01-13'],\n",
       "   ['2017-01-16'],\n",
       "   ['2017-01-17'],\n",
       "   ['2017-01-18'],\n",
       "   ['2017-01-19'],\n",
       "   ['2017-01-20'],\n",
       "   ['2017-01-23'],\n",
       "   ['2017-01-24'],\n",
       "   ['2017-01-25'],\n",
       "   ['2017-01-26'],\n",
       "   ['2017-01-27'],\n",
       "   ['2017-01-30'],\n",
       "   ['2017-01-31'],\n",
       "   ['2017-02-01'],\n",
       "   ['2017-02-02'],\n",
       "   ['2017-02-03'],\n",
       "   ['2017-02-06'],\n",
       "   ['2017-02-07'],\n",
       "   ['2017-02-08'],\n",
       "   ['2017-02-09'],\n",
       "   ['2017-02-10'],\n",
       "   ['2017-02-13'],\n",
       "   ['2017-02-14'],\n",
       "   ['2017-02-15'],\n",
       "   ['2017-02-16'],\n",
       "   ['2017-02-17'],\n",
       "   ['2017-02-20'],\n",
       "   ['2017-02-21'],\n",
       "   ['2017-02-22'],\n",
       "   ['2017-02-23'],\n",
       "   ['2017-02-24'],\n",
       "   ['2017-02-27'],\n",
       "   ['2017-02-28'],\n",
       "   ['2017-03-01'],\n",
       "   ['2017-03-02'],\n",
       "   ['2017-03-03'],\n",
       "   ['2017-03-06'],\n",
       "   ['2017-03-07'],\n",
       "   ['2017-03-08'],\n",
       "   ['2017-03-09'],\n",
       "   ['2017-03-10'],\n",
       "   ['2017-03-13'],\n",
       "   ['2017-03-14'],\n",
       "   ['2017-03-15'],\n",
       "   ['2017-03-16'],\n",
       "   ['2017-03-17'],\n",
       "   ['2017-03-20'],\n",
       "   ['2017-03-21'],\n",
       "   ['2017-03-22'],\n",
       "   ['2017-03-23'],\n",
       "   ['2017-03-24'],\n",
       "   ['2017-03-27'],\n",
       "   ['2017-03-28'],\n",
       "   ['2017-03-29'],\n",
       "   ['2017-03-30'],\n",
       "   ['2017-03-31'],\n",
       "   ['2017-04-03'],\n",
       "   ['2017-04-04'],\n",
       "   ['2017-04-05'],\n",
       "   ['2017-04-06'],\n",
       "   ['2017-04-07'],\n",
       "   ['2017-04-10'],\n",
       "   ['2017-04-11'],\n",
       "   ['2017-04-12'],\n",
       "   ['2017-04-13'],\n",
       "   ['2017-04-14'],\n",
       "   ['2017-04-17'],\n",
       "   ['2017-04-18'],\n",
       "   ['2017-04-19'],\n",
       "   ['2017-04-20'],\n",
       "   ['2017-04-21'],\n",
       "   ['2017-04-24'],\n",
       "   ['2017-04-25'],\n",
       "   ['2017-04-26'],\n",
       "   ['2017-04-27'],\n",
       "   ['2017-04-28'],\n",
       "   ['2017-05-01'],\n",
       "   ['2017-05-02'],\n",
       "   ['2017-05-03'],\n",
       "   ['2017-05-04'],\n",
       "   ['2017-05-05'],\n",
       "   ['2017-05-08'],\n",
       "   ['2017-05-09'],\n",
       "   ['2017-05-10'],\n",
       "   ['2017-05-11'],\n",
       "   ['2017-05-12'],\n",
       "   ['2017-05-15'],\n",
       "   ['2017-05-16'],\n",
       "   ['2017-05-17'],\n",
       "   ['2017-05-18'],\n",
       "   ['2017-05-19'],\n",
       "   ['2017-05-22'],\n",
       "   ['2017-05-23'],\n",
       "   ['2017-05-24'],\n",
       "   ['2017-05-25'],\n",
       "   ['2017-05-26'],\n",
       "   ['2017-05-29'],\n",
       "   ['2017-05-30'],\n",
       "   ['2017-05-31'],\n",
       "   ['2017-06-01'],\n",
       "   ['2017-06-02'],\n",
       "   ['2017-06-06'],\n",
       "   ['2017-06-07'],\n",
       "   ['2017-06-08'],\n",
       "   ['2017-06-09'],\n",
       "   ['2017-06-12'],\n",
       "   ['2017-06-13'],\n",
       "   ['2017-06-14'],\n",
       "   ['2017-06-15'],\n",
       "   ['2017-06-16'],\n",
       "   ['2017-06-19'],\n",
       "   ['2017-06-20'],\n",
       "   ['2017-06-21'],\n",
       "   ['2017-06-22'],\n",
       "   ['2017-06-23'],\n",
       "   ['2017-06-26'],\n",
       "   ['2017-06-27'],\n",
       "   ['2017-06-28'],\n",
       "   ['2017-06-29'],\n",
       "   ['2017-06-30'],\n",
       "   ['2017-07-03'],\n",
       "   ['2017-07-04'],\n",
       "   ['2017-07-05'],\n",
       "   ['2017-07-06'],\n",
       "   ['2017-07-07'],\n",
       "   ['2017-07-10'],\n",
       "   ['2017-07-11'],\n",
       "   ['2017-07-12'],\n",
       "   ['2017-07-13'],\n",
       "   ['2017-07-14'],\n",
       "   ['2017-07-17'],\n",
       "   ['2017-07-18'],\n",
       "   ['2017-07-19'],\n",
       "   ['2017-07-20'],\n",
       "   ['2017-07-21'],\n",
       "   ['2017-07-24'],\n",
       "   ['2017-07-25'],\n",
       "   ['2017-07-26'],\n",
       "   ['2017-07-27'],\n",
       "   ['2017-07-28'],\n",
       "   ['2017-07-31'],\n",
       "   ['2017-08-01'],\n",
       "   ['2017-08-02'],\n",
       "   ['2017-08-03'],\n",
       "   ['2017-08-04'],\n",
       "   ['2017-08-07'],\n",
       "   ['2017-08-08'],\n",
       "   ['2017-08-09'],\n",
       "   ['2017-08-10'],\n",
       "   ['2017-08-11'],\n",
       "   ['2017-08-14'],\n",
       "   ['2017-08-15'],\n",
       "   ['2017-08-16'],\n",
       "   ['2017-08-17'],\n",
       "   ['2017-08-18'],\n",
       "   ['2017-08-21'],\n",
       "   ['2017-08-22'],\n",
       "   ['2017-08-23'],\n",
       "   ['2017-08-24'],\n",
       "   ['2017-08-25'],\n",
       "   ['2017-08-28'],\n",
       "   ['2017-08-29'],\n",
       "   ['2017-08-30'],\n",
       "   ['2017-08-31'],\n",
       "   ['2017-09-01'],\n",
       "   ['2017-09-04'],\n",
       "   ['2017-09-05'],\n",
       "   ['2017-09-06'],\n",
       "   ['2017-09-07'],\n",
       "   ['2017-09-08'],\n",
       "   ['2017-09-11'],\n",
       "   ['2017-09-12'],\n",
       "   ['2017-09-13'],\n",
       "   ['2017-09-14'],\n",
       "   ['2017-09-15'],\n",
       "   ['2017-09-18'],\n",
       "   ['2017-09-19'],\n",
       "   ['2017-09-20'],\n",
       "   ['2017-09-21'],\n",
       "   ['2017-09-22'],\n",
       "   ['2017-09-25'],\n",
       "   ['2017-09-26'],\n",
       "   ['2017-09-27'],\n",
       "   ['2017-09-28'],\n",
       "   ['2017-09-29'],\n",
       "   ['2017-10-02'],\n",
       "   ['2017-10-04'],\n",
       "   ['2017-10-05'],\n",
       "   ['2017-10-06'],\n",
       "   ['2017-10-09'],\n",
       "   ['2017-10-10'],\n",
       "   ['2017-10-11'],\n",
       "   ['2017-10-12'],\n",
       "   ['2017-10-13'],\n",
       "   ['2017-10-16'],\n",
       "   ['2017-10-17'],\n",
       "   ['2017-10-18'],\n",
       "   ['2017-10-19'],\n",
       "   ['2017-10-20'],\n",
       "   ['2017-10-23'],\n",
       "   ['2017-10-24'],\n",
       "   ['2017-10-25'],\n",
       "   ['2017-10-26'],\n",
       "   ['2017-10-27'],\n",
       "   ['2017-10-30'],\n",
       "   ['2017-11-01'],\n",
       "   ['2017-11-02'],\n",
       "   ['2017-11-03'],\n",
       "   ['2017-11-06'],\n",
       "   ['2017-11-07'],\n",
       "   ['2017-11-08'],\n",
       "   ['2017-11-09'],\n",
       "   ['2017-11-10'],\n",
       "   ['2017-11-13'],\n",
       "   ['2017-11-14'],\n",
       "   ['2017-11-15'],\n",
       "   ['2017-11-16'],\n",
       "   ['2017-11-17'],\n",
       "   ['2017-11-20'],\n",
       "   ['2017-11-21'],\n",
       "   ['2017-11-22'],\n",
       "   ['2017-11-23'],\n",
       "   ['2017-11-24'],\n",
       "   ['2017-11-27'],\n",
       "   ['2017-11-28'],\n",
       "   ['2017-11-29'],\n",
       "   ['2017-11-30'],\n",
       "   ['2017-12-01'],\n",
       "   ['2017-12-04'],\n",
       "   ['2017-12-05'],\n",
       "   ['2017-12-06'],\n",
       "   ['2017-12-07'],\n",
       "   ['2017-12-08'],\n",
       "   ['2017-12-11'],\n",
       "   ['2017-12-12'],\n",
       "   ['2017-12-13'],\n",
       "   ['2017-12-14'],\n",
       "   ['2017-12-15'],\n",
       "   ['2017-12-18'],\n",
       "   ['2017-12-19'],\n",
       "   ['2017-12-20'],\n",
       "   ['2017-12-21'],\n",
       "   ['2017-12-22'],\n",
       "   ['2017-12-27'],\n",
       "   ['2017-12-28'],\n",
       "   ['2017-12-29']],\n",
       "  'collapse': 'daily',\n",
       "  'order': 'asc',\n",
       "  'database_id': 6129}}"
      ]
     },
     "execution_count": 39,
     "metadata": {},
     "output_type": "execute_result"
    }
   ],
   "source": [
    "r1 = r_2017.json()\n",
    "r1"
   ]
  },
  {
   "cell_type": "code",
   "execution_count": 40,
   "metadata": {},
   "outputs": [
    {
     "data": {
      "text/plain": [
       "dict"
      ]
     },
     "execution_count": 40,
     "metadata": {},
     "output_type": "execute_result"
    }
   ],
   "source": [
    "type(r1)"
   ]
  },
  {
   "cell_type": "markdown",
   "metadata": {},
   "source": [
    "### 3. Calculate what the highest and lowest opening prices were for the stock in this period."
   ]
  },
  {
   "cell_type": "code",
   "execution_count": null,
   "metadata": {},
   "outputs": [],
   "source": []
  }
 ],
 "metadata": {
  "kernelspec": {
   "display_name": "Python 3",
   "language": "python",
   "name": "python3"
  },
  "language_info": {
   "codemirror_mode": {
    "name": "ipython",
    "version": 3
   },
   "file_extension": ".py",
   "mimetype": "text/x-python",
   "name": "python",
   "nbconvert_exporter": "python",
   "pygments_lexer": "ipython3",
   "version": "3.6.7"
  }
 },
 "nbformat": 4,
 "nbformat_minor": 2
}
