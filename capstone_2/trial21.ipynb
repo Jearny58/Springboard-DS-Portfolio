{
 "cells": [
  {
   "cell_type": "markdown",
   "metadata": {},
   "source": [
    "# _Set Up: Trial 21_\n",
    "\n",
    "__July 4, 2019__"
   ]
  },
  {
   "cell_type": "code",
   "execution_count": 1,
   "metadata": {},
   "outputs": [],
   "source": [
    "%reload_ext autoreload\n",
    "%autoreload 2\n",
    "%matplotlib inline"
   ]
  },
  {
   "cell_type": "code",
   "execution_count": 2,
   "metadata": {},
   "outputs": [],
   "source": [
    "# fastai libraries\n",
    "from fastai.vision import *\n",
    "from fastai.callbacks.hooks import *\n",
    "from fastai.utils.mem import *\n",
    "from fastai.callbacks import EarlyStoppingCallback"
   ]
  },
  {
   "cell_type": "code",
   "execution_count": 3,
   "metadata": {},
   "outputs": [],
   "source": [
    "# import libraries\n",
    "import pandas as pd\n",
    "pd.options.display.max_columns = None\n",
    "import numpy as np\n",
    "import random\n",
    "import os\n",
    "from pathlib import Path\n",
    "\n",
    "# Matplotlib\n",
    "%matplotlib inline\n",
    "%config InlineBackend.figure_format='retina'\n",
    "import matplotlib as mpl\n",
    "import matplotlib.pyplot as plt\n",
    "import seaborn as sns\n",
    "plt.style.use('ggplot')"
   ]
  },
  {
   "cell_type": "code",
   "execution_count": 4,
   "metadata": {},
   "outputs": [
    {
     "data": {
      "text/plain": [
       "PosixPath('/home/jupyter/springboard-capstone-2/data')"
      ]
     },
     "execution_count": 4,
     "metadata": {},
     "output_type": "execute_result"
    }
   ],
   "source": [
    "path = Config.data_path()\n",
    "path"
   ]
  },
  {
   "cell_type": "markdown",
   "metadata": {},
   "source": [
    "# _Load in Data_"
   ]
  },
  {
   "cell_type": "code",
   "execution_count": 5,
   "metadata": {},
   "outputs": [
    {
     "name": "stdout",
     "output_type": "stream",
     "text": [
      "Added valid column\n",
      "------------------------------\n",
      "Extracted Patient ID from Path column and created new column named Patient_id\n",
      "------------------------------\n",
      "Concatenated train_df and valid_df, resulting shape = (223648, 21)\n",
      "------------------------------\n",
      "Created function named seed_data to set seed for sample data\n",
      "------------------------------\n",
      "Seeded data.\n",
      "------------------------------\n",
      "Created sample dataframe with input seed and 13.0% of original data\n",
      "Resulting sample df has shape of (29285, 21)\n",
      "------------------------------\n"
     ]
    }
   ],
   "source": [
    "from test_folder import replicate\n",
    "\n",
    "sample_df = replicate.load_data(path, 1, percent=0.13);"
   ]
  },
  {
   "cell_type": "code",
   "execution_count": 6,
   "metadata": {},
   "outputs": [
    {
     "data": {
      "text/html": [
       "<div>\n",
       "<style scoped>\n",
       "    .dataframe tbody tr th:only-of-type {\n",
       "        vertical-align: middle;\n",
       "    }\n",
       "\n",
       "    .dataframe tbody tr th {\n",
       "        vertical-align: top;\n",
       "    }\n",
       "\n",
       "    .dataframe thead th {\n",
       "        text-align: right;\n",
       "    }\n",
       "</style>\n",
       "<table border=\"1\" class=\"dataframe\">\n",
       "  <thead>\n",
       "    <tr style=\"text-align: right;\">\n",
       "      <th></th>\n",
       "      <th>Path</th>\n",
       "      <th>Sex</th>\n",
       "      <th>Age</th>\n",
       "      <th>Frontal/Lateral</th>\n",
       "      <th>AP/PA</th>\n",
       "      <th>No Finding</th>\n",
       "      <th>Enlarged Cardiomediastinum</th>\n",
       "      <th>Cardiomegaly</th>\n",
       "      <th>Lung Opacity</th>\n",
       "      <th>Lung Lesion</th>\n",
       "      <th>Edema</th>\n",
       "      <th>Consolidation</th>\n",
       "      <th>Pneumonia</th>\n",
       "      <th>Atelectasis</th>\n",
       "      <th>Pneumothorax</th>\n",
       "      <th>Pleural Effusion</th>\n",
       "      <th>Pleural Other</th>\n",
       "      <th>Fracture</th>\n",
       "      <th>Support Devices</th>\n",
       "      <th>valid</th>\n",
       "      <th>Patient_id</th>\n",
       "    </tr>\n",
       "  </thead>\n",
       "  <tbody>\n",
       "    <tr>\n",
       "      <th>4</th>\n",
       "      <td>CheXpert-v1.0-small/train/patient00003/study1/...</td>\n",
       "      <td>Male</td>\n",
       "      <td>41</td>\n",
       "      <td>Frontal</td>\n",
       "      <td>AP</td>\n",
       "      <td>NaN</td>\n",
       "      <td>NaN</td>\n",
       "      <td>NaN</td>\n",
       "      <td>NaN</td>\n",
       "      <td>NaN</td>\n",
       "      <td>1.0</td>\n",
       "      <td>NaN</td>\n",
       "      <td>NaN</td>\n",
       "      <td>NaN</td>\n",
       "      <td>0.0</td>\n",
       "      <td>NaN</td>\n",
       "      <td>NaN</td>\n",
       "      <td>NaN</td>\n",
       "      <td>NaN</td>\n",
       "      <td>False</td>\n",
       "      <td>patient00003</td>\n",
       "    </tr>\n",
       "    <tr>\n",
       "      <th>11</th>\n",
       "      <td>CheXpert-v1.0-small/train/patient00006/study1/...</td>\n",
       "      <td>Female</td>\n",
       "      <td>42</td>\n",
       "      <td>Frontal</td>\n",
       "      <td>AP</td>\n",
       "      <td>1.0</td>\n",
       "      <td>0.0</td>\n",
       "      <td>NaN</td>\n",
       "      <td>NaN</td>\n",
       "      <td>NaN</td>\n",
       "      <td>NaN</td>\n",
       "      <td>NaN</td>\n",
       "      <td>NaN</td>\n",
       "      <td>NaN</td>\n",
       "      <td>NaN</td>\n",
       "      <td>0.0</td>\n",
       "      <td>NaN</td>\n",
       "      <td>NaN</td>\n",
       "      <td>NaN</td>\n",
       "      <td>False</td>\n",
       "      <td>patient00006</td>\n",
       "    </tr>\n",
       "    <tr>\n",
       "      <th>44</th>\n",
       "      <td>CheXpert-v1.0-small/train/patient00015/study1/...</td>\n",
       "      <td>Female</td>\n",
       "      <td>76</td>\n",
       "      <td>Frontal</td>\n",
       "      <td>AP</td>\n",
       "      <td>NaN</td>\n",
       "      <td>NaN</td>\n",
       "      <td>NaN</td>\n",
       "      <td>1.0</td>\n",
       "      <td>NaN</td>\n",
       "      <td>1.0</td>\n",
       "      <td>NaN</td>\n",
       "      <td>-1.0</td>\n",
       "      <td>NaN</td>\n",
       "      <td>NaN</td>\n",
       "      <td>NaN</td>\n",
       "      <td>NaN</td>\n",
       "      <td>NaN</td>\n",
       "      <td>NaN</td>\n",
       "      <td>False</td>\n",
       "      <td>patient00015</td>\n",
       "    </tr>\n",
       "    <tr>\n",
       "      <th>45</th>\n",
       "      <td>CheXpert-v1.0-small/train/patient00015/study2/...</td>\n",
       "      <td>Female</td>\n",
       "      <td>76</td>\n",
       "      <td>Frontal</td>\n",
       "      <td>AP</td>\n",
       "      <td>NaN</td>\n",
       "      <td>NaN</td>\n",
       "      <td>NaN</td>\n",
       "      <td>-1.0</td>\n",
       "      <td>NaN</td>\n",
       "      <td>1.0</td>\n",
       "      <td>-1.0</td>\n",
       "      <td>NaN</td>\n",
       "      <td>-1.0</td>\n",
       "      <td>NaN</td>\n",
       "      <td>NaN</td>\n",
       "      <td>NaN</td>\n",
       "      <td>NaN</td>\n",
       "      <td>NaN</td>\n",
       "      <td>False</td>\n",
       "      <td>patient00015</td>\n",
       "    </tr>\n",
       "    <tr>\n",
       "      <th>91</th>\n",
       "      <td>CheXpert-v1.0-small/train/patient00027/study1/...</td>\n",
       "      <td>Male</td>\n",
       "      <td>56</td>\n",
       "      <td>Frontal</td>\n",
       "      <td>PA</td>\n",
       "      <td>NaN</td>\n",
       "      <td>0.0</td>\n",
       "      <td>NaN</td>\n",
       "      <td>1.0</td>\n",
       "      <td>NaN</td>\n",
       "      <td>NaN</td>\n",
       "      <td>0.0</td>\n",
       "      <td>NaN</td>\n",
       "      <td>1.0</td>\n",
       "      <td>0.0</td>\n",
       "      <td>0.0</td>\n",
       "      <td>NaN</td>\n",
       "      <td>NaN</td>\n",
       "      <td>NaN</td>\n",
       "      <td>False</td>\n",
       "      <td>patient00027</td>\n",
       "    </tr>\n",
       "  </tbody>\n",
       "</table>\n",
       "</div>"
      ],
      "text/plain": [
       "                                                 Path     Sex  Age  \\\n",
       "4   CheXpert-v1.0-small/train/patient00003/study1/...    Male   41   \n",
       "11  CheXpert-v1.0-small/train/patient00006/study1/...  Female   42   \n",
       "44  CheXpert-v1.0-small/train/patient00015/study1/...  Female   76   \n",
       "45  CheXpert-v1.0-small/train/patient00015/study2/...  Female   76   \n",
       "91  CheXpert-v1.0-small/train/patient00027/study1/...    Male   56   \n",
       "\n",
       "   Frontal/Lateral AP/PA  No Finding  Enlarged Cardiomediastinum  \\\n",
       "4          Frontal    AP         NaN                         NaN   \n",
       "11         Frontal    AP         1.0                         0.0   \n",
       "44         Frontal    AP         NaN                         NaN   \n",
       "45         Frontal    AP         NaN                         NaN   \n",
       "91         Frontal    PA         NaN                         0.0   \n",
       "\n",
       "    Cardiomegaly  Lung Opacity  Lung Lesion  Edema  Consolidation  Pneumonia  \\\n",
       "4            NaN           NaN          NaN    1.0            NaN        NaN   \n",
       "11           NaN           NaN          NaN    NaN            NaN        NaN   \n",
       "44           NaN           1.0          NaN    1.0            NaN       -1.0   \n",
       "45           NaN          -1.0          NaN    1.0           -1.0        NaN   \n",
       "91           NaN           1.0          NaN    NaN            0.0        NaN   \n",
       "\n",
       "    Atelectasis  Pneumothorax  Pleural Effusion  Pleural Other  Fracture  \\\n",
       "4           NaN           0.0               NaN            NaN       NaN   \n",
       "11          NaN           NaN               0.0            NaN       NaN   \n",
       "44          NaN           NaN               NaN            NaN       NaN   \n",
       "45         -1.0           NaN               NaN            NaN       NaN   \n",
       "91          1.0           0.0               0.0            NaN       NaN   \n",
       "\n",
       "    Support Devices  valid    Patient_id  \n",
       "4               NaN  False  patient00003  \n",
       "11              NaN  False  patient00006  \n",
       "44              NaN  False  patient00015  \n",
       "45              NaN  False  patient00015  \n",
       "91              NaN  False  patient00027  "
      ]
     },
     "execution_count": 6,
     "metadata": {},
     "output_type": "execute_result"
    }
   ],
   "source": [
    "sample_df.head()"
   ]
  },
  {
   "cell_type": "code",
   "execution_count": 7,
   "metadata": {},
   "outputs": [
    {
     "name": "stdout",
     "output_type": "stream",
     "text": [
      "Created data set with expressed competition pathology, replacing NaN's with 0 and resetting the index\n",
      "------------------------------\n",
      "\n",
      "Cardiomegaly\n",
      "------------------------------\n",
      "Shape of sample_df: (29285, 3)\n"
     ]
    }
   ],
   "source": [
    "sample_df = replicate.dl_dataframe_setup(sample_df, 'Cardiomegaly');"
   ]
  },
  {
   "cell_type": "code",
   "execution_count": 8,
   "metadata": {},
   "outputs": [
    {
     "data": {
      "text/html": [
       "<div>\n",
       "<style scoped>\n",
       "    .dataframe tbody tr th:only-of-type {\n",
       "        vertical-align: middle;\n",
       "    }\n",
       "\n",
       "    .dataframe tbody tr th {\n",
       "        vertical-align: top;\n",
       "    }\n",
       "\n",
       "    .dataframe thead th {\n",
       "        text-align: right;\n",
       "    }\n",
       "</style>\n",
       "<table border=\"1\" class=\"dataframe\">\n",
       "  <thead>\n",
       "    <tr style=\"text-align: right;\">\n",
       "      <th></th>\n",
       "      <th>Path</th>\n",
       "      <th>valid</th>\n",
       "      <th>Cardiomegaly</th>\n",
       "    </tr>\n",
       "  </thead>\n",
       "  <tbody>\n",
       "    <tr>\n",
       "      <th>0</th>\n",
       "      <td>CheXpert-v1.0-small/train/patient00003/study1/...</td>\n",
       "      <td>False</td>\n",
       "      <td>0.0</td>\n",
       "    </tr>\n",
       "    <tr>\n",
       "      <th>1</th>\n",
       "      <td>CheXpert-v1.0-small/train/patient00006/study1/...</td>\n",
       "      <td>False</td>\n",
       "      <td>0.0</td>\n",
       "    </tr>\n",
       "    <tr>\n",
       "      <th>2</th>\n",
       "      <td>CheXpert-v1.0-small/train/patient00015/study1/...</td>\n",
       "      <td>False</td>\n",
       "      <td>0.0</td>\n",
       "    </tr>\n",
       "    <tr>\n",
       "      <th>3</th>\n",
       "      <td>CheXpert-v1.0-small/train/patient00015/study2/...</td>\n",
       "      <td>False</td>\n",
       "      <td>0.0</td>\n",
       "    </tr>\n",
       "    <tr>\n",
       "      <th>4</th>\n",
       "      <td>CheXpert-v1.0-small/train/patient00027/study1/...</td>\n",
       "      <td>False</td>\n",
       "      <td>0.0</td>\n",
       "    </tr>\n",
       "  </tbody>\n",
       "</table>\n",
       "</div>"
      ],
      "text/plain": [
       "                                                Path  valid  Cardiomegaly\n",
       "0  CheXpert-v1.0-small/train/patient00003/study1/...  False           0.0\n",
       "1  CheXpert-v1.0-small/train/patient00006/study1/...  False           0.0\n",
       "2  CheXpert-v1.0-small/train/patient00015/study1/...  False           0.0\n",
       "3  CheXpert-v1.0-small/train/patient00015/study2/...  False           0.0\n",
       "4  CheXpert-v1.0-small/train/patient00027/study1/...  False           0.0"
      ]
     },
     "execution_count": 8,
     "metadata": {},
     "output_type": "execute_result"
    }
   ],
   "source": [
    "sample_df.head()"
   ]
  },
  {
   "cell_type": "code",
   "execution_count": 9,
   "metadata": {},
   "outputs": [
    {
     "data": {
      "text/plain": [
       " 0.0    24787\n",
       " 1.0     3409\n",
       "-1.0     1089\n",
       "Name: Cardiomegaly, dtype: int64"
      ]
     },
     "execution_count": 9,
     "metadata": {},
     "output_type": "execute_result"
    }
   ],
   "source": [
    "sample_df['Cardiomegaly'].value_counts()"
   ]
  },
  {
   "cell_type": "code",
   "execution_count": 10,
   "metadata": {},
   "outputs": [
    {
     "name": "stdout",
     "output_type": "stream",
     "text": [
      "Dropped -1 observations.\n",
      "------------------------------\n",
      "Converted pathology column into integer type.\n",
      "------------------------------\n",
      "Shape of new dataframe: (28196, 3)\n"
     ]
    }
   ],
   "source": [
    "# drop uncertain observations\n",
    "sample_df = replicate.uignore(sample_df, 'Cardiomegaly');"
   ]
  },
  {
   "cell_type": "code",
   "execution_count": 11,
   "metadata": {},
   "outputs": [
    {
     "data": {
      "text/plain": [
       "0    24787\n",
       "1     3409\n",
       "Name: Cardiomegaly, dtype: int64"
      ]
     },
     "execution_count": 11,
     "metadata": {},
     "output_type": "execute_result"
    }
   ],
   "source": [
    "sample_df['Cardiomegaly'].value_counts()"
   ]
  },
  {
   "cell_type": "code",
   "execution_count": 12,
   "metadata": {},
   "outputs": [
    {
     "name": "stdout",
     "output_type": "stream",
     "text": [
      "The percentage of the data we dropped: 3.718627283592283%\n"
     ]
    }
   ],
   "source": [
    "print('The percentage of the data we dropped: {}%'.format(1089 / (24787 + 3409 + 1089) * 100))"
   ]
  },
  {
   "cell_type": "markdown",
   "metadata": {},
   "source": [
    "# _Set Up for Deep Learning_"
   ]
  },
  {
   "cell_type": "code",
   "execution_count": 13,
   "metadata": {},
   "outputs": [],
   "source": [
    "src = replicate.get_src(sample_df, path, 'Cardiomegaly');"
   ]
  },
  {
   "cell_type": "code",
   "execution_count": 14,
   "metadata": {},
   "outputs": [
    {
     "name": "stdout",
     "output_type": "stream",
     "text": [
      "using bs=16, have 7601MB of GPU RAM free.\n",
      "------------------------------\n",
      "Data ready.\n"
     ]
    }
   ],
   "source": [
    "# set image size to 320\n",
    "data = replicate.get_data(320, src)"
   ]
  },
  {
   "cell_type": "code",
   "execution_count": 15,
   "metadata": {},
   "outputs": [
    {
     "data": {
      "text/plain": [
       "ImageDataBunch;\n",
       "\n",
       "Train: LabelList (27962 items)\n",
       "x: ImageList\n",
       "Image (3, 320, 320),Image (3, 320, 320),Image (3, 320, 320),Image (3, 320, 320),Image (3, 320, 320)\n",
       "y: CategoryList\n",
       "0,0,0,0,0\n",
       "Path: /home/jupyter/springboard-capstone-2/data;\n",
       "\n",
       "Valid: LabelList (234 items)\n",
       "x: ImageList\n",
       "Image (3, 320, 320),Image (3, 320, 320),Image (3, 320, 320),Image (3, 320, 320),Image (3, 320, 320)\n",
       "y: CategoryList\n",
       "1,0,0,0,0\n",
       "Path: /home/jupyter/springboard-capstone-2/data;\n",
       "\n",
       "Test: None"
      ]
     },
     "execution_count": 15,
     "metadata": {},
     "output_type": "execute_result"
    }
   ],
   "source": [
    "data"
   ]
  },
  {
   "cell_type": "markdown",
   "metadata": {},
   "source": [
    "# _Set Up DL Model_"
   ]
  },
  {
   "cell_type": "code",
   "execution_count": 16,
   "metadata": {},
   "outputs": [],
   "source": [
    "# create a pretrained densenet121 cnn_learner with error rate and AUROC as the metrics with a ps of 0.5 (i.e. 50% of randomly selected neurons will be ignored from the n-1 layer) and batch normalization\n",
    "learn = cnn_learner(data=data, base_arch=models.densenet121, \n",
    "                    metrics=[error_rate, AUROC(), Precision(), Recall()], pretrained=True,\n",
    "                    ps=0.5, bn_final=True)"
   ]
  },
  {
   "cell_type": "code",
   "execution_count": 17,
   "metadata": {},
   "outputs": [
    {
     "data": {
      "text/html": [],
      "text/plain": [
       "<IPython.core.display.HTML object>"
      ]
     },
     "metadata": {},
     "output_type": "display_data"
    },
    {
     "name": "stdout",
     "output_type": "stream",
     "text": [
      "LR Finder is complete, type {learner_name}.recorder.plot() to see the graph.\n",
      "Min numerical gradient: 7.94E+00\n",
      "Min loss divided by 10: 2.00E+00\n"
     ]
    },
    {
     "data": {
      "image/png": "[encoded data removed]",
      "text/plain": [
       "<Figure size 432x288 with 1 Axes>"
      ]
     },
     "metadata": {
      "image/png": {
       "height": 266,
       "width": 396
      }
     },
     "output_type": "display_data"
    }
   ],
   "source": [
    "from test_folder import deeplearning\n",
    "\n",
    "deeplearning.lr_finder_plot(learn)"
   ]
  },
  {
   "cell_type": "code",
   "execution_count": 18,
   "metadata": {},
   "outputs": [],
   "source": [
    "# set learning rate\n",
    "lr = 0.2"
   ]
  },
  {
   "cell_type": "code",
   "execution_count": 19,
   "metadata": {},
   "outputs": [
    {
     "data": {
      "text/plain": [
       "FlattenedLoss of CrossEntropyLoss()"
      ]
     },
     "execution_count": 19,
     "metadata": {},
     "output_type": "execute_result"
    }
   ],
   "source": [
    "# check the loss function\n",
    "learn.loss_func"
   ]
  },
  {
   "cell_type": "markdown",
   "metadata": {},
   "source": [
    "# _First Round of Training_"
   ]
  },
  {
   "cell_type": "code",
   "execution_count": 20,
   "metadata": {},
   "outputs": [
    {
     "data": {
      "text/html": [
       "<table border=\"1\" class=\"dataframe\">\n",
       "  <thead>\n",
       "    <tr style=\"text-align: left;\">\n",
       "      <th>epoch</th>\n",
       "      <th>train_loss</th>\n",
       "      <th>valid_loss</th>\n",
       "      <th>error_rate</th>\n",
       "      <th>auroc</th>\n",
       "      <th>precision</th>\n",
       "      <th>recall</th>\n",
       "      <th>time</th>\n",
       "    </tr>\n",
       "  </thead>\n",
       "  <tbody>\n",
       "    <tr>\n",
       "      <td>0</td>\n",
       "      <td>0.377107</td>\n",
       "      <td>23.612673</td>\n",
       "      <td>0.307692</td>\n",
       "      <td>0.460135</td>\n",
       "      <td>0.166667</td>\n",
       "      <td>0.014706</td>\n",
       "      <td>10:09</td>\n",
       "    </tr>\n",
       "    <tr>\n",
       "      <td>1</td>\n",
       "      <td>0.390844</td>\n",
       "      <td>0.654632</td>\n",
       "      <td>0.290598</td>\n",
       "      <td>0.712527</td>\n",
       "      <td>nan</td>\n",
       "      <td>0.000000</td>\n",
       "      <td>10:01</td>\n",
       "    </tr>\n",
       "    <tr>\n",
       "      <td>2</td>\n",
       "      <td>0.316983</td>\n",
       "      <td>0.678712</td>\n",
       "      <td>0.290598</td>\n",
       "      <td>0.748583</td>\n",
       "      <td>nan</td>\n",
       "      <td>0.000000</td>\n",
       "      <td>10:00</td>\n",
       "    </tr>\n",
       "  </tbody>\n",
       "</table>"
      ],
      "text/plain": [
       "<IPython.core.display.HTML object>"
      ]
     },
     "metadata": {},
     "output_type": "display_data"
    }
   ],
   "source": [
    "learn.fit_one_cycle(3, lr, callbacks=[EarlyStoppingCallback(learn, monitor='auroc', min_delta=0.01, patience=2)])"
   ]
  },
  {
   "cell_type": "code",
   "execution_count": 23,
   "metadata": {},
   "outputs": [
    {
     "data": {
      "text/plain": [
       "[<function fastai.metrics.error_rate(input: torch.Tensor, targs: torch.Tensor) -> <function NewType.<locals>.new_type at 0x7fb65fe32268>>,\n",
       " AUROC()]"
      ]
     },
     "execution_count": 23,
     "metadata": {},
     "output_type": "execute_result"
    }
   ],
   "source": [
    "learn.metrics = [error_rate, AUROC()]\n",
    "learn.metrics"
   ]
  },
  {
   "cell_type": "code",
   "execution_count": 24,
   "metadata": {},
   "outputs": [],
   "source": [
    "learn.save('trial21-rd1')"
   ]
  },
  {
   "cell_type": "markdown",
   "metadata": {},
   "source": [
    "# _Second Round of Training_"
   ]
  },
  {
   "cell_type": "code",
   "execution_count": 25,
   "metadata": {},
   "outputs": [],
   "source": [
    "learn.load('trial21-rd1');"
   ]
  },
  {
   "cell_type": "code",
   "execution_count": 26,
   "metadata": {},
   "outputs": [
    {
     "data": {
      "text/html": [
       "<table border=\"1\" class=\"dataframe\">\n",
       "  <thead>\n",
       "    <tr style=\"text-align: left;\">\n",
       "      <th>epoch</th>\n",
       "      <th>train_loss</th>\n",
       "      <th>valid_loss</th>\n",
       "      <th>error_rate</th>\n",
       "      <th>auroc</th>\n",
       "      <th>time</th>\n",
       "    </tr>\n",
       "  </thead>\n",
       "  <tbody>\n",
       "    <tr>\n",
       "      <td>0</td>\n",
       "      <td>0.375435</td>\n",
       "      <td>3.977142</td>\n",
       "      <td>0.482906</td>\n",
       "      <td>0.511650</td>\n",
       "      <td>10:00</td>\n",
       "    </tr>\n",
       "    <tr>\n",
       "      <td>1</td>\n",
       "      <td>0.339444</td>\n",
       "      <td>0.895957</td>\n",
       "      <td>0.299145</td>\n",
       "      <td>0.687190</td>\n",
       "      <td>10:00</td>\n",
       "    </tr>\n",
       "    <tr>\n",
       "      <td>2</td>\n",
       "      <td>0.332724</td>\n",
       "      <td>0.697313</td>\n",
       "      <td>0.290598</td>\n",
       "      <td>0.758948</td>\n",
       "      <td>10:00</td>\n",
       "    </tr>\n",
       "  </tbody>\n",
       "</table>"
      ],
      "text/plain": [
       "<IPython.core.display.HTML object>"
      ]
     },
     "metadata": {},
     "output_type": "display_data"
    }
   ],
   "source": [
    "learn.fit_one_cycle(3, lr, callbacks=[EarlyStoppingCallback(learn, monitor='auroc', min_delta=0.01, patience=2)])"
   ]
  },
  {
   "cell_type": "code",
   "execution_count": 27,
   "metadata": {},
   "outputs": [],
   "source": [
    "learn.save('trial21-rd2');"
   ]
  },
  {
   "cell_type": "markdown",
   "metadata": {},
   "source": [
    "# _Third Round of Training_"
   ]
  },
  {
   "cell_type": "code",
   "execution_count": 31,
   "metadata": {},
   "outputs": [
    {
     "data": {
      "text/html": [],
      "text/plain": [
       "<IPython.core.display.HTML object>"
      ]
     },
     "metadata": {},
     "output_type": "display_data"
    },
    {
     "name": "stdout",
     "output_type": "stream",
     "text": [
      "LR Finder is complete, type {learner_name}.recorder.plot() to see the graph.\n",
      "Min numerical gradient: 3.16E-07\n",
      "Min loss divided by 10: 1.00E-04\n"
     ]
    },
    {
     "data": {
      "image/png": "[encoded data removed]",
      "text/plain": [
       "<Figure size 432x288 with 1 Axes>"
      ]
     },
     "metadata": {
      "image/png": {
       "height": 266,
       "width": 396
      }
     },
     "output_type": "display_data"
    }
   ],
   "source": [
    "from test_folder import deeplearning\n",
    "\n",
    "learn.unfreeze()\n",
    "deeplearning.lr_finder_plot(learn)"
   ]
  },
  {
   "cell_type": "code",
   "execution_count": 32,
   "metadata": {},
   "outputs": [],
   "source": [
    "learn.load('trial21-rd2');"
   ]
  },
  {
   "cell_type": "code",
   "execution_count": 33,
   "metadata": {},
   "outputs": [
    {
     "data": {
      "text/html": [
       "<table border=\"1\" class=\"dataframe\">\n",
       "  <thead>\n",
       "    <tr style=\"text-align: left;\">\n",
       "      <th>epoch</th>\n",
       "      <th>train_loss</th>\n",
       "      <th>valid_loss</th>\n",
       "      <th>error_rate</th>\n",
       "      <th>auroc</th>\n",
       "      <th>time</th>\n",
       "    </tr>\n",
       "  </thead>\n",
       "  <tbody>\n",
       "    <tr>\n",
       "      <td>0</td>\n",
       "      <td>0.344320</td>\n",
       "      <td>0.595331</td>\n",
       "      <td>0.273504</td>\n",
       "      <td>0.756290</td>\n",
       "      <td>13:26</td>\n",
       "    </tr>\n",
       "    <tr>\n",
       "      <td>1</td>\n",
       "      <td>0.317696</td>\n",
       "      <td>0.705195</td>\n",
       "      <td>0.286325</td>\n",
       "      <td>0.733788</td>\n",
       "      <td>13:27</td>\n",
       "    </tr>\n",
       "    <tr>\n",
       "      <td>2</td>\n",
       "      <td>0.288750</td>\n",
       "      <td>0.643171</td>\n",
       "      <td>0.277778</td>\n",
       "      <td>0.780120</td>\n",
       "      <td>13:27</td>\n",
       "    </tr>\n",
       "  </tbody>\n",
       "</table>"
      ],
      "text/plain": [
       "<IPython.core.display.HTML object>"
      ]
     },
     "metadata": {},
     "output_type": "display_data"
    }
   ],
   "source": [
    "# slice training, with slower lr for lower layers and higher lr for higher layers\n",
    "learn.fit_one_cycle(3, callbacks=[EarlyStoppingCallback(learn, monitor='auroc', min_delta=0.01, patience=2)])"
   ]
  },
  {
   "cell_type": "code",
   "execution_count": 34,
   "metadata": {},
   "outputs": [],
   "source": [
    "learn.save('trial21-rd3')"
   ]
  },
  {
   "cell_type": "markdown",
   "metadata": {},
   "source": [
    "# _New Sample Data Set_"
   ]
  },
  {
   "cell_type": "code",
   "execution_count": 35,
   "metadata": {},
   "outputs": [
    {
     "name": "stdout",
     "output_type": "stream",
     "text": [
      "Added valid column\n",
      "------------------------------\n",
      "Extracted Patient ID from Path column and created new column named Patient_id\n",
      "------------------------------\n",
      "Concatenated train_df and valid_df, resulting shape = (223648, 21)\n",
      "------------------------------\n",
      "Created function named seed_data to set seed for sample data\n",
      "------------------------------\n",
      "Seeded data.\n",
      "------------------------------\n",
      "Created sample dataframe with input seed and 13.0% of original data\n",
      "Resulting sample df has shape of (29113, 21)\n",
      "------------------------------\n"
     ]
    }
   ],
   "source": [
    "# new sample df\n",
    "sample_df2 = replicate.load_data(path, 25, percent=0.13);"
   ]
  },
  {
   "cell_type": "code",
   "execution_count": 36,
   "metadata": {},
   "outputs": [
    {
     "name": "stdout",
     "output_type": "stream",
     "text": [
      "Created data set with expressed competition pathology, replacing NaN's with 0 and resetting the index\n",
      "------------------------------\n",
      "\n",
      "Cardiomegaly\n",
      "------------------------------\n",
      "Shape of sample_df: (29113, 3)\n"
     ]
    }
   ],
   "source": [
    "sample_df2 = replicate.dl_dataframe_setup(sample_df2, 'Cardiomegaly');"
   ]
  },
  {
   "cell_type": "code",
   "execution_count": 37,
   "metadata": {},
   "outputs": [
    {
     "name": "stdout",
     "output_type": "stream",
     "text": [
      "Dropped -1 observations.\n",
      "------------------------------\n",
      "Converted pathology column into integer type.\n",
      "------------------------------\n",
      "Shape of new dataframe: (28042, 3)\n"
     ]
    }
   ],
   "source": [
    "# drop uncertain observations\n",
    "sample_df2 = replicate.uignore(sample_df2, 'Cardiomegaly');"
   ]
  },
  {
   "cell_type": "code",
   "execution_count": 38,
   "metadata": {},
   "outputs": [],
   "source": [
    "src2 = replicate.get_src(sample_df2, path, 'Cardiomegaly');"
   ]
  },
  {
   "cell_type": "code",
   "execution_count": 39,
   "metadata": {},
   "outputs": [
    {
     "name": "stdout",
     "output_type": "stream",
     "text": [
      "using bs=16, have 6948MB of GPU RAM free.\n",
      "------------------------------\n",
      "Data ready.\n"
     ]
    }
   ],
   "source": [
    "# set image size to 320\n",
    "data2 = replicate.get_data(320, src2)"
   ]
  },
  {
   "cell_type": "code",
   "execution_count": 40,
   "metadata": {},
   "outputs": [
    {
     "data": {
      "text/plain": [
       "ImageDataBunch;\n",
       "\n",
       "Train: LabelList (27808 items)\n",
       "x: ImageList\n",
       "Image (3, 320, 320),Image (3, 320, 320),Image (3, 320, 320),Image (3, 320, 320),Image (3, 320, 320)\n",
       "y: CategoryList\n",
       "0,0,0,0,0\n",
       "Path: /home/jupyter/springboard-capstone-2/data;\n",
       "\n",
       "Valid: LabelList (234 items)\n",
       "x: ImageList\n",
       "Image (3, 320, 320),Image (3, 320, 320),Image (3, 320, 320),Image (3, 320, 320),Image (3, 320, 320)\n",
       "y: CategoryList\n",
       "1,0,0,0,0\n",
       "Path: /home/jupyter/springboard-capstone-2/data;\n",
       "\n",
       "Test: None"
      ]
     },
     "execution_count": 40,
     "metadata": {},
     "output_type": "execute_result"
    }
   ],
   "source": [
    "data2"
   ]
  },
  {
   "cell_type": "code",
   "execution_count": 41,
   "metadata": {},
   "outputs": [],
   "source": [
    "# assign new data set to data being used by learner\n",
    "learn.data = data2"
   ]
  },
  {
   "cell_type": "markdown",
   "metadata": {},
   "source": [
    "# _Fourth Round of Training_"
   ]
  },
  {
   "cell_type": "code",
   "execution_count": 42,
   "metadata": {},
   "outputs": [],
   "source": [
    "learn.load('trial21-rd3');"
   ]
  },
  {
   "cell_type": "code",
   "execution_count": 43,
   "metadata": {},
   "outputs": [
    {
     "data": {
      "text/html": [
       "<table border=\"1\" class=\"dataframe\">\n",
       "  <thead>\n",
       "    <tr style=\"text-align: left;\">\n",
       "      <th>epoch</th>\n",
       "      <th>train_loss</th>\n",
       "      <th>valid_loss</th>\n",
       "      <th>error_rate</th>\n",
       "      <th>auroc</th>\n",
       "      <th>time</th>\n",
       "    </tr>\n",
       "  </thead>\n",
       "  <tbody>\n",
       "    <tr>\n",
       "      <td>0</td>\n",
       "      <td>0.327291</td>\n",
       "      <td>0.645733</td>\n",
       "      <td>0.286325</td>\n",
       "      <td>0.775780</td>\n",
       "      <td>13:33</td>\n",
       "    </tr>\n",
       "    <tr>\n",
       "      <td>1</td>\n",
       "      <td>0.319379</td>\n",
       "      <td>0.657440</td>\n",
       "      <td>0.277778</td>\n",
       "      <td>0.767629</td>\n",
       "      <td>13:23</td>\n",
       "    </tr>\n",
       "    <tr>\n",
       "      <td>2</td>\n",
       "      <td>0.328718</td>\n",
       "      <td>0.657985</td>\n",
       "      <td>0.277778</td>\n",
       "      <td>0.786676</td>\n",
       "      <td>13:23</td>\n",
       "    </tr>\n",
       "  </tbody>\n",
       "</table>"
      ],
      "text/plain": [
       "<IPython.core.display.HTML object>"
      ]
     },
     "metadata": {},
     "output_type": "display_data"
    }
   ],
   "source": [
    "# slice training, with slower lr for lower layers and higher lr for higher layers\n",
    "learn.fit_one_cycle(3, callbacks=[EarlyStoppingCallback(learn, monitor='auroc', min_delta=0.01, patience=2)])"
   ]
  },
  {
   "cell_type": "code",
   "execution_count": 44,
   "metadata": {},
   "outputs": [],
   "source": [
    "learn.save('trial21-rd4')"
   ]
  },
  {
   "cell_type": "markdown",
   "metadata": {},
   "source": [
    "# _Interpretation from Training So Far_"
   ]
  },
  {
   "cell_type": "code",
   "execution_count": 45,
   "metadata": {},
   "outputs": [],
   "source": [
    "interp = ClassificationInterpretation.from_learner(learn)"
   ]
  },
  {
   "cell_type": "code",
   "execution_count": 46,
   "metadata": {},
   "outputs": [
    {
     "data": {
      "image/png": "[encoded data removed]",
      "text/plain": [
       "<Figure size 432x288 with 1 Axes>"
      ]
     },
     "metadata": {
      "image/png": {
       "height": 296,
       "width": 281
      }
     },
     "output_type": "display_data"
    }
   ],
   "source": [
    "interp.plot_confusion_matrix()"
   ]
  }
 ],
 "metadata": {
  "kernelspec": {
   "display_name": "Python 3",
   "language": "python",
   "name": "python3"
  },
  "language_info": {
   "codemirror_mode": {
    "name": "ipython",
    "version": 3
   },
   "file_extension": ".py",
   "mimetype": "text/x-python",
   "name": "python",
   "nbconvert_exporter": "python",
   "pygments_lexer": "ipython3",
   "version": "3.6.8"
  }
 },
 "nbformat": 4,
 "nbformat_minor": 2
}
