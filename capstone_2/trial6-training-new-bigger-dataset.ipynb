{
 "cells": [
  {
   "cell_type": "markdown",
   "metadata": {},
   "source": [
    "# Set Up and Data Processing"
   ]
  },
  {
   "cell_type": "code",
   "execution_count": 27,
   "metadata": {},
   "outputs": [],
   "source": [
    "from capstone import data, uonesetup\n",
    "from fastai.vision import *\n",
    "from fastai.callbacks.hooks import *\n",
    "from fastai.utils.mem import *"
   ]
  },
  {
   "cell_type": "code",
   "execution_count": 5,
   "metadata": {},
   "outputs": [
    {
     "data": {
      "text/plain": [
       "PosixPath('/home/jupyter/springboard-capstone-2/data')"
      ]
     },
     "execution_count": 5,
     "metadata": {},
     "output_type": "execute_result"
    }
   ],
   "source": [
    "path = Config.data_path()\n",
    "# path.mkdir(parents=True, exist_ok=True)\n",
    "path"
   ]
  },
  {
   "cell_type": "code",
   "execution_count": 21,
   "metadata": {},
   "outputs": [
    {
     "name": "stdout",
     "output_type": "stream",
     "text": [
      "(223414, 19)\n",
      "(234, 19)\n",
      "Extracted Patient ID from Path column and created new column named Patient_id\n",
      "Created function named seed_data to set seed for sample data\n",
      "Seeded data.\n",
      "                                                 Path     Sex  Age  \\\n",
      "20  CheXpert-v1.0-small/train/patient00011/study13...  Female   22   \n",
      "21  CheXpert-v1.0-small/train/patient00011/study13...  Female   22   \n",
      "22  CheXpert-v1.0-small/train/patient00011/study1/...  Female   19   \n",
      "23  CheXpert-v1.0-small/train/patient00011/study5/...  Female   19   \n",
      "24  CheXpert-v1.0-small/train/patient00011/study7/...  Female   19   \n",
      "\n",
      "   Frontal/Lateral AP/PA  No Finding  Enlarged Cardiomediastinum  \\\n",
      "20         Frontal    PA         NaN                         0.0   \n",
      "21         Lateral   NaN         NaN                         0.0   \n",
      "22         Frontal    AP         NaN                         NaN   \n",
      "23         Frontal    AP         NaN                         NaN   \n",
      "24         Frontal    AP         NaN                         NaN   \n",
      "\n",
      "    Cardiomegaly  Lung Opacity  Lung Lesion  Edema  Consolidation  Pneumonia  \\\n",
      "20           NaN           NaN          NaN    NaN            0.0        NaN   \n",
      "21           NaN           NaN          NaN    NaN            0.0        NaN   \n",
      "22           NaN           1.0          NaN    NaN           -1.0        NaN   \n",
      "23           NaN           1.0          NaN    NaN            NaN        NaN   \n",
      "24           NaN           1.0          NaN    0.0            NaN        NaN   \n",
      "\n",
      "    Atelectasis  Pneumothorax  Pleural Effusion  Pleural Other  Fracture  \\\n",
      "20          0.0           0.0               0.0            NaN       NaN   \n",
      "21          0.0           0.0               0.0            NaN       NaN   \n",
      "22          NaN          -1.0              -1.0            NaN       NaN   \n",
      "23          NaN           1.0               NaN            NaN       NaN   \n",
      "24          NaN           NaN               NaN            NaN       NaN   \n",
      "\n",
      "    Support Devices    Patient_id  \n",
      "20              NaN  patient00011  \n",
      "21              NaN  patient00011  \n",
      "22              1.0  patient00011  \n",
      "23              NaN  patient00011  \n",
      "24              1.0  patient00011  \n"
     ]
    }
   ],
   "source": [
    "# take 10% of data with a different seed\n",
    "train_df, valid_df = data.data_processing(path, 'Atelectasis', 5, 0.10);"
   ]
  },
  {
   "cell_type": "code",
   "execution_count": 22,
   "metadata": {},
   "outputs": [
    {
     "data": {
      "text/html": [
       "<div>\n",
       "<style scoped>\n",
       "    .dataframe tbody tr th:only-of-type {\n",
       "        vertical-align: middle;\n",
       "    }\n",
       "\n",
       "    .dataframe tbody tr th {\n",
       "        vertical-align: top;\n",
       "    }\n",
       "\n",
       "    .dataframe thead th {\n",
       "        text-align: right;\n",
       "    }\n",
       "</style>\n",
       "<table border=\"1\" class=\"dataframe\">\n",
       "  <thead>\n",
       "    <tr style=\"text-align: right;\">\n",
       "      <th></th>\n",
       "      <th>Path</th>\n",
       "      <th>Atelectasis</th>\n",
       "    </tr>\n",
       "  </thead>\n",
       "  <tbody>\n",
       "    <tr>\n",
       "      <th>0</th>\n",
       "      <td>CheXpert-v1.0-small/train/patient00011/study13...</td>\n",
       "      <td>0.0</td>\n",
       "    </tr>\n",
       "    <tr>\n",
       "      <th>1</th>\n",
       "      <td>CheXpert-v1.0-small/train/patient00011/study13...</td>\n",
       "      <td>0.0</td>\n",
       "    </tr>\n",
       "    <tr>\n",
       "      <th>2</th>\n",
       "      <td>CheXpert-v1.0-small/train/patient00011/study1/...</td>\n",
       "      <td>0.0</td>\n",
       "    </tr>\n",
       "    <tr>\n",
       "      <th>3</th>\n",
       "      <td>CheXpert-v1.0-small/train/patient00011/study5/...</td>\n",
       "      <td>0.0</td>\n",
       "    </tr>\n",
       "    <tr>\n",
       "      <th>4</th>\n",
       "      <td>CheXpert-v1.0-small/train/patient00011/study7/...</td>\n",
       "      <td>0.0</td>\n",
       "    </tr>\n",
       "  </tbody>\n",
       "</table>\n",
       "</div>"
      ],
      "text/plain": [
       "                                                Path  Atelectasis\n",
       "0  CheXpert-v1.0-small/train/patient00011/study13...          0.0\n",
       "1  CheXpert-v1.0-small/train/patient00011/study13...          0.0\n",
       "2  CheXpert-v1.0-small/train/patient00011/study1/...          0.0\n",
       "3  CheXpert-v1.0-small/train/patient00011/study5/...          0.0\n",
       "4  CheXpert-v1.0-small/train/patient00011/study7/...          0.0"
      ]
     },
     "execution_count": 22,
     "metadata": {},
     "output_type": "execute_result"
    }
   ],
   "source": [
    "train_df.head()"
   ]
  },
  {
   "cell_type": "code",
   "execution_count": 23,
   "metadata": {},
   "outputs": [
    {
     "data": {
      "text/html": [
       "<div>\n",
       "<style scoped>\n",
       "    .dataframe tbody tr th:only-of-type {\n",
       "        vertical-align: middle;\n",
       "    }\n",
       "\n",
       "    .dataframe tbody tr th {\n",
       "        vertical-align: top;\n",
       "    }\n",
       "\n",
       "    .dataframe thead th {\n",
       "        text-align: right;\n",
       "    }\n",
       "</style>\n",
       "<table border=\"1\" class=\"dataframe\">\n",
       "  <thead>\n",
       "    <tr style=\"text-align: right;\">\n",
       "      <th></th>\n",
       "      <th>Path</th>\n",
       "      <th>Atelectasis</th>\n",
       "    </tr>\n",
       "  </thead>\n",
       "  <tbody>\n",
       "    <tr>\n",
       "      <th>0</th>\n",
       "      <td>CheXpert-v1.0-small/valid/patient64541/study1/...</td>\n",
       "      <td>0.0</td>\n",
       "    </tr>\n",
       "    <tr>\n",
       "      <th>1</th>\n",
       "      <td>CheXpert-v1.0-small/valid/patient64542/study1/...</td>\n",
       "      <td>0.0</td>\n",
       "    </tr>\n",
       "    <tr>\n",
       "      <th>2</th>\n",
       "      <td>CheXpert-v1.0-small/valid/patient64542/study1/...</td>\n",
       "      <td>0.0</td>\n",
       "    </tr>\n",
       "    <tr>\n",
       "      <th>3</th>\n",
       "      <td>CheXpert-v1.0-small/valid/patient64543/study1/...</td>\n",
       "      <td>0.0</td>\n",
       "    </tr>\n",
       "    <tr>\n",
       "      <th>4</th>\n",
       "      <td>CheXpert-v1.0-small/valid/patient64544/study1/...</td>\n",
       "      <td>0.0</td>\n",
       "    </tr>\n",
       "  </tbody>\n",
       "</table>\n",
       "</div>"
      ],
      "text/plain": [
       "                                                Path  Atelectasis\n",
       "0  CheXpert-v1.0-small/valid/patient64541/study1/...          0.0\n",
       "1  CheXpert-v1.0-small/valid/patient64542/study1/...          0.0\n",
       "2  CheXpert-v1.0-small/valid/patient64542/study1/...          0.0\n",
       "3  CheXpert-v1.0-small/valid/patient64543/study1/...          0.0\n",
       "4  CheXpert-v1.0-small/valid/patient64544/study1/...          0.0"
      ]
     },
     "execution_count": 23,
     "metadata": {},
     "output_type": "execute_result"
    }
   ],
   "source": [
    "valid_df.head()"
   ]
  },
  {
   "cell_type": "markdown",
   "metadata": {},
   "source": [
    "# Further Training of Atelectasis Model \n",
    "### Utilizing _U-Ones_ Uncertainty Model)"
   ]
  },
  {
   "cell_type": "code",
   "execution_count": 38,
   "metadata": {},
   "outputs": [
    {
     "data": {
      "text/plain": [
       " 0.0    0.699748\n",
       "-1.0    0.153407\n",
       " 1.0    0.146845\n",
       "Name: Atelectasis, dtype: float64"
      ]
     },
     "execution_count": 38,
     "metadata": {},
     "output_type": "execute_result"
    }
   ],
   "source": [
    "train_df['Atelectasis'].value_counts(normalize=True)"
   ]
  },
  {
   "cell_type": "code",
   "execution_count": 39,
   "metadata": {},
   "outputs": [
    {
     "data": {
      "text/plain": [
       "0.0    0.65812\n",
       "1.0    0.34188\n",
       "Name: Atelectasis, dtype: float64"
      ]
     },
     "execution_count": 39,
     "metadata": {},
     "output_type": "execute_result"
    }
   ],
   "source": [
    "valid_df['Atelectasis'].value_counts(normalize=True)"
   ]
  },
  {
   "cell_type": "code",
   "execution_count": 40,
   "metadata": {},
   "outputs": [],
   "source": [
    "# reassign -1 to 1 \n",
    "train_df = train_df.replace(to_replace=-1.0, value=1)\n",
    "train_df['Atelectasis'] = train_df['Atelectasis'].astype(int)"
   ]
  },
  {
   "cell_type": "code",
   "execution_count": 41,
   "metadata": {},
   "outputs": [
    {
     "data": {
      "text/plain": [
       "0    0.699748\n",
       "1    0.300252\n",
       "Name: Atelectasis, dtype: float64"
      ]
     },
     "execution_count": 41,
     "metadata": {},
     "output_type": "execute_result"
    }
   ],
   "source": [
    "train_df['Atelectasis'].value_counts(normalize=True)"
   ]
  },
  {
   "cell_type": "code",
   "execution_count": 42,
   "metadata": {},
   "outputs": [
    {
     "data": {
      "text/plain": [
       "(22248, 2)"
      ]
     },
     "execution_count": 42,
     "metadata": {},
     "output_type": "execute_result"
    }
   ],
   "source": [
    "train_df.shape"
   ]
  },
  {
   "cell_type": "markdown",
   "metadata": {},
   "source": [
    "## Training DL Model"
   ]
  },
  {
   "cell_type": "code",
   "execution_count": 43,
   "metadata": {},
   "outputs": [],
   "source": [
    "tfms = get_transforms(True, False, max_rotate=None, max_zoom=0., max_lighting=0.3,\n",
    "                      max_warp=0, p_affine=0.5, p_lighting=0.5, xtra_tfms=[])"
   ]
  },
  {
   "cell_type": "code",
   "execution_count": 44,
   "metadata": {},
   "outputs": [],
   "source": [
    "src = (ImageList.from_df(df=train_df, path=path, folder='.', suffix=''))"
   ]
  },
  {
   "cell_type": "code",
   "execution_count": 45,
   "metadata": {},
   "outputs": [],
   "source": [
    "src = src.split_by_rand_pct(0.2)"
   ]
  },
  {
   "cell_type": "code",
   "execution_count": 46,
   "metadata": {},
   "outputs": [
    {
     "name": "stdout",
     "output_type": "stream",
     "text": [
      "using bs=8, have 5958MB of GPU RAM free\n"
     ]
    }
   ],
   "source": [
    "free = gpu_mem_get_free_no_cache()\n",
    "# the max size of bs depends on the available GPU RAM\n",
    "if free > 8200: \n",
    "    bs=32\n",
    "else:           \n",
    "    bs=8\n",
    "print(f\"using bs={bs}, have {free}MB of GPU RAM free\")"
   ]
  },
  {
   "cell_type": "code",
   "execution_count": 47,
   "metadata": {},
   "outputs": [],
   "source": [
    "data = (src.label_from_df(cols='Atelectasis')\n",
    "        .transform(tfms, size=224)\n",
    "        .databunch(bs = bs)\n",
    "        .normalize(imagenet_stats))"
   ]
  },
  {
   "cell_type": "code",
   "execution_count": 48,
   "metadata": {},
   "outputs": [],
   "source": [
    "from sklearn.metrics import roc_auc_score\n",
    "\n",
    "class AUC(Callback):\n",
    "    \"AUC score\"\n",
    "    def __init__(self):\n",
    "        pass\n",
    "    \n",
    "    def on_epoch_begin(self, **kwargs): \n",
    "        self.outputs = []\n",
    "        self.targets = []\n",
    "\n",
    "    def on_batch_end(self, last_output, last_target, **kwargs):\n",
    "        \"expects binary output with data.c=2 \"\n",
    "        self.outputs += list(to_np(last_output)[:, 1])\n",
    "        self.targets += list(to_np(last_target))\n",
    "\n",
    "    def on_epoch_end(self, last_metrics, **kwargs): \n",
    "        return {'last_metrics': last_metrics + [roc_auc_score(self.targets, self.outputs)]}\n",
    "auc = AUC()"
   ]
  },
  {
   "cell_type": "code",
   "execution_count": 49,
   "metadata": {},
   "outputs": [],
   "source": [
    "learn = cnn_learner(data=data, base_arch=models.densenet121, metrics=[accuracy, auc])"
   ]
  },
  {
   "cell_type": "code",
   "execution_count": 50,
   "metadata": {},
   "outputs": [],
   "source": [
    "# load weights from previously trained model\n",
    "learn.load('atelectasis-stage-2-dn121');"
   ]
  },
  {
   "cell_type": "code",
   "execution_count": 51,
   "metadata": {},
   "outputs": [
    {
     "data": {
      "text/html": [],
      "text/plain": [
       "<IPython.core.display.HTML object>"
      ]
     },
     "metadata": {},
     "output_type": "display_data"
    },
    {
     "name": "stdout",
     "output_type": "stream",
     "text": [
      "LR Finder is complete, type {learner_name}.recorder.plot() to see the graph.\n",
      "Min numerical gradient: 6.31E-07\n"
     ]
    },
    {
     "data": {
      "image/png": "[encoded data removed]",
      "text/plain": [
       "<Figure size 432x288 with 1 Axes>"
      ]
     },
     "metadata": {
      "needs_background": "light"
     },
     "output_type": "display_data"
    }
   ],
   "source": [
    "learn.lr_find()\n",
    "learn.recorder.plot(suggestion = True)"
   ]
  },
  {
   "cell_type": "code",
   "execution_count": 52,
   "metadata": {},
   "outputs": [
    {
     "data": {
      "text/html": [
       "<table border=\"1\" class=\"dataframe\">\n",
       "  <thead>\n",
       "    <tr style=\"text-align: left;\">\n",
       "      <th>epoch</th>\n",
       "      <th>train_loss</th>\n",
       "      <th>valid_loss</th>\n",
       "      <th>accuracy</th>\n",
       "      <th>auc</th>\n",
       "      <th>time</th>\n",
       "    </tr>\n",
       "  </thead>\n",
       "  <tbody>\n",
       "    <tr>\n",
       "      <td>0</td>\n",
       "      <td>0.599487</td>\n",
       "      <td>0.591230</td>\n",
       "      <td>0.699483</td>\n",
       "      <td>0.624731</td>\n",
       "      <td>05:28</td>\n",
       "    </tr>\n",
       "    <tr>\n",
       "      <td>1</td>\n",
       "      <td>0.598795</td>\n",
       "      <td>0.589672</td>\n",
       "      <td>0.699483</td>\n",
       "      <td>0.627358</td>\n",
       "      <td>05:31</td>\n",
       "    </tr>\n",
       "    <tr>\n",
       "      <td>2</td>\n",
       "      <td>0.584177</td>\n",
       "      <td>0.590118</td>\n",
       "      <td>0.699483</td>\n",
       "      <td>0.628631</td>\n",
       "      <td>05:37</td>\n",
       "    </tr>\n",
       "    <tr>\n",
       "      <td>3</td>\n",
       "      <td>0.585264</td>\n",
       "      <td>0.588905</td>\n",
       "      <td>0.699258</td>\n",
       "      <td>0.630302</td>\n",
       "      <td>05:34</td>\n",
       "    </tr>\n",
       "    <tr>\n",
       "      <td>4</td>\n",
       "      <td>0.601263</td>\n",
       "      <td>0.592343</td>\n",
       "      <td>0.699033</td>\n",
       "      <td>0.628025</td>\n",
       "      <td>05:35</td>\n",
       "    </tr>\n",
       "  </tbody>\n",
       "</table>"
      ],
      "text/plain": [
       "<IPython.core.display.HTML object>"
      ]
     },
     "metadata": {},
     "output_type": "display_data"
    }
   ],
   "source": [
    "# training using default learning rate from CheXpert paper\n",
    "learn.fit(5, 1e-4)"
   ]
  },
  {
   "cell_type": "code",
   "execution_count": 53,
   "metadata": {},
   "outputs": [],
   "source": [
    "learn.save('atelectasis-stage-3-dn121')"
   ]
  },
  {
   "cell_type": "code",
   "execution_count": 54,
   "metadata": {},
   "outputs": [],
   "source": [
    "# fine tune model further\n",
    "learn.unfreeze()"
   ]
  },
  {
   "cell_type": "code",
   "execution_count": 55,
   "metadata": {},
   "outputs": [
    {
     "data": {
      "text/html": [],
      "text/plain": [
       "<IPython.core.display.HTML object>"
      ]
     },
     "metadata": {},
     "output_type": "display_data"
    },
    {
     "name": "stdout",
     "output_type": "stream",
     "text": [
      "LR Finder is complete, type {learner_name}.recorder.plot() to see the graph.\n",
      "Min numerical gradient: 2.75E-06\n"
     ]
    },
    {
     "data": {
      "image/png": "[encoded data removed]",
      "text/plain": [
       "<Figure size 432x288 with 1 Axes>"
      ]
     },
     "metadata": {
      "needs_background": "light"
     },
     "output_type": "display_data"
    }
   ],
   "source": [
    "learn.lr_find()\n",
    "learn.recorder.plot(suggestion=True)"
   ]
  },
  {
   "cell_type": "code",
   "execution_count": null,
   "metadata": {},
   "outputs": [],
   "source": []
  }
 ],
 "metadata": {
  "kernelspec": {
   "display_name": "Python 3",
   "language": "python",
   "name": "python3"
  },
  "language_info": {
   "codemirror_mode": {
    "name": "ipython",
    "version": 3
   },
   "file_extension": ".py",
   "mimetype": "text/x-python",
   "name": "python",
   "nbconvert_exporter": "python",
   "pygments_lexer": "ipython3",
   "version": "3.7.0"
  }
 },
 "nbformat": 4,
 "nbformat_minor": 2
}
