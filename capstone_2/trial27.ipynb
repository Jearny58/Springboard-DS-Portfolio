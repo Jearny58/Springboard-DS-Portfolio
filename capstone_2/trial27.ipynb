{
 "cells": [
  {
   "cell_type": "markdown",
   "metadata": {},
   "source": [
    "# _Trial 27_\n",
    "\n",
    "__July 10, 2019__"
   ]
  },
  {
   "cell_type": "code",
   "execution_count": 1,
   "metadata": {},
   "outputs": [],
   "source": [
    "%reload_ext autoreload\n",
    "%autoreload 2\n",
    "%matplotlib inline"
   ]
  },
  {
   "cell_type": "code",
   "execution_count": 2,
   "metadata": {},
   "outputs": [],
   "source": [
    "# fastai libraries\n",
    "from fastai.vision import *\n",
    "from fastai.callbacks.hooks import *\n",
    "from fastai.utils.mem import *\n",
    "from fastai.callbacks import EarlyStoppingCallback, SaveModelCallback"
   ]
  },
  {
   "cell_type": "code",
   "execution_count": 3,
   "metadata": {},
   "outputs": [],
   "source": [
    "# import libraries\n",
    "import pandas as pd\n",
    "pd.options.display.max_columns = None\n",
    "import numpy as np\n",
    "import random\n",
    "import os\n",
    "\n",
    "# Matplotlib\n",
    "%matplotlib inline\n",
    "%config InlineBackend.figure_format='retina'\n",
    "import matplotlib as mpl\n",
    "import matplotlib.pyplot as plt\n",
    "import seaborn as sns\n",
    "plt.style.use('ggplot')"
   ]
  },
  {
   "cell_type": "code",
   "execution_count": 4,
   "metadata": {},
   "outputs": [
    {
     "data": {
      "text/plain": [
       "PosixPath('/home/jupyter/springboard-capstone-2/data')"
      ]
     },
     "execution_count": 4,
     "metadata": {},
     "output_type": "execute_result"
    }
   ],
   "source": [
    "path = Config.data_path()\n",
    "path"
   ]
  },
  {
   "cell_type": "markdown",
   "metadata": {},
   "source": [
    "# _Load in Data_"
   ]
  },
  {
   "cell_type": "code",
   "execution_count": 5,
   "metadata": {},
   "outputs": [],
   "source": [
    "from test_folder import sample"
   ]
  },
  {
   "cell_type": "code",
   "execution_count": 6,
   "metadata": {},
   "outputs": [
    {
     "name": "stdout",
     "output_type": "stream",
     "text": [
      "Read in training and validation data sets\n",
      "------------------------------\n",
      "Added column to both data sets that indicates if observation is part of validation set or not.\n",
      "------------------------------\n",
      "Extracted patient ID and study number for each observation and assigned into new columns.\n",
      "------------------------------\n",
      "Filled in NaNs within pathology columns with 0 (see Stanford ML Github for further information on dealing with NaNs).\n",
      "------------------------------\n",
      "Converted pathology columns to integer type.\n",
      "------------------------------\n",
      "Pre-replacement Label Distribution: Label 0 = 188327, Label 1 = 27000, Label -1 = 8087\n",
      "------------------------------\n",
      "Replaced uncertain labels in Cardiomegaly column with 0 (i.e. negative)\n",
      "Post-replacement Label Distribution: Label 0 = 196414, Label 1 = 27000\n",
      "Does number of post-replacement 0 labels equal the sum of pre-replacement -1s and 0s? True\n",
      "Returned training and validation data sets as pandas dataframes.\n"
     ]
    }
   ],
   "source": [
    "train_df, valid_df = sample.prep_data(path);"
   ]
  },
  {
   "cell_type": "code",
   "execution_count": 7,
   "metadata": {},
   "outputs": [],
   "source": [
    "# set seed to help with reproducibility\n",
    "sample.set_seed(1)"
   ]
  },
  {
   "cell_type": "code",
   "execution_count": 8,
   "metadata": {},
   "outputs": [
    {
     "name": "stdout",
     "output_type": "stream",
     "text": [
      "Created two new data sets, one with positive observations and the other with the negatives.\n",
      "The shape of dataframe containing 0 (negative) labels: (196414, 22)\n",
      "The shape of dataframe containing 1 (positive) labels: (27000, 22)\n",
      "------------------------------\n",
      "Random under-sampling: \n",
      "1    27000\n",
      "0    27000\n",
      "Name: Cardiomegaly, dtype: int64\n",
      "------------------------------\n",
      "Reshuffled rows in new undersampled dataframe.\n",
      "------------------------------\n",
      "Concatenated undersampled training data set with validation data.\n",
      "Returning full data set.\n"
     ]
    }
   ],
   "source": [
    "full_df = sample.undersample_and_prep(train_df, valid_df);"
   ]
  },
  {
   "cell_type": "code",
   "execution_count": 9,
   "metadata": {},
   "outputs": [
    {
     "data": {
      "text/html": [
       "<div>\n",
       "<style scoped>\n",
       "    .dataframe tbody tr th:only-of-type {\n",
       "        vertical-align: middle;\n",
       "    }\n",
       "\n",
       "    .dataframe tbody tr th {\n",
       "        vertical-align: top;\n",
       "    }\n",
       "\n",
       "    .dataframe thead th {\n",
       "        text-align: right;\n",
       "    }\n",
       "</style>\n",
       "<table border=\"1\" class=\"dataframe\">\n",
       "  <thead>\n",
       "    <tr style=\"text-align: right;\">\n",
       "      <th></th>\n",
       "      <th>Path</th>\n",
       "      <th>Sex</th>\n",
       "      <th>Age</th>\n",
       "      <th>Frontal/Lateral</th>\n",
       "      <th>AP/PA</th>\n",
       "      <th>No Finding</th>\n",
       "      <th>Enlarged Cardiomediastinum</th>\n",
       "      <th>Cardiomegaly</th>\n",
       "      <th>Lung Opacity</th>\n",
       "      <th>Lung Lesion</th>\n",
       "      <th>Edema</th>\n",
       "      <th>Consolidation</th>\n",
       "      <th>Pneumonia</th>\n",
       "      <th>Atelectasis</th>\n",
       "      <th>Pneumothorax</th>\n",
       "      <th>Pleural Effusion</th>\n",
       "      <th>Pleural Other</th>\n",
       "      <th>Fracture</th>\n",
       "      <th>Support Devices</th>\n",
       "      <th>valid</th>\n",
       "      <th>patient</th>\n",
       "      <th>study</th>\n",
       "    </tr>\n",
       "  </thead>\n",
       "  <tbody>\n",
       "    <tr>\n",
       "      <th>0</th>\n",
       "      <td>CheXpert-v1.0-small/train/patient37703/study1/...</td>\n",
       "      <td>Female</td>\n",
       "      <td>57</td>\n",
       "      <td>Frontal</td>\n",
       "      <td>AP</td>\n",
       "      <td>0</td>\n",
       "      <td>0</td>\n",
       "      <td>0</td>\n",
       "      <td>1</td>\n",
       "      <td>1</td>\n",
       "      <td>0</td>\n",
       "      <td>1</td>\n",
       "      <td>0</td>\n",
       "      <td>0</td>\n",
       "      <td>0</td>\n",
       "      <td>0</td>\n",
       "      <td>0</td>\n",
       "      <td>0</td>\n",
       "      <td>0</td>\n",
       "      <td>False</td>\n",
       "      <td>patient37703</td>\n",
       "      <td>study1</td>\n",
       "    </tr>\n",
       "    <tr>\n",
       "      <th>1</th>\n",
       "      <td>CheXpert-v1.0-small/train/patient25282/study5/...</td>\n",
       "      <td>Female</td>\n",
       "      <td>90</td>\n",
       "      <td>Frontal</td>\n",
       "      <td>AP</td>\n",
       "      <td>0</td>\n",
       "      <td>0</td>\n",
       "      <td>1</td>\n",
       "      <td>0</td>\n",
       "      <td>0</td>\n",
       "      <td>1</td>\n",
       "      <td>0</td>\n",
       "      <td>0</td>\n",
       "      <td>0</td>\n",
       "      <td>0</td>\n",
       "      <td>0</td>\n",
       "      <td>0</td>\n",
       "      <td>0</td>\n",
       "      <td>1</td>\n",
       "      <td>False</td>\n",
       "      <td>patient25282</td>\n",
       "      <td>study5</td>\n",
       "    </tr>\n",
       "    <tr>\n",
       "      <th>2</th>\n",
       "      <td>CheXpert-v1.0-small/train/patient28261/study12...</td>\n",
       "      <td>Female</td>\n",
       "      <td>80</td>\n",
       "      <td>Frontal</td>\n",
       "      <td>AP</td>\n",
       "      <td>0</td>\n",
       "      <td>0</td>\n",
       "      <td>0</td>\n",
       "      <td>0</td>\n",
       "      <td>0</td>\n",
       "      <td>1</td>\n",
       "      <td>1</td>\n",
       "      <td>0</td>\n",
       "      <td>1</td>\n",
       "      <td>0</td>\n",
       "      <td>1</td>\n",
       "      <td>0</td>\n",
       "      <td>0</td>\n",
       "      <td>1</td>\n",
       "      <td>False</td>\n",
       "      <td>patient28261</td>\n",
       "      <td>study12</td>\n",
       "    </tr>\n",
       "    <tr>\n",
       "      <th>3</th>\n",
       "      <td>CheXpert-v1.0-small/train/patient26703/study3/...</td>\n",
       "      <td>Female</td>\n",
       "      <td>48</td>\n",
       "      <td>Frontal</td>\n",
       "      <td>AP</td>\n",
       "      <td>0</td>\n",
       "      <td>0</td>\n",
       "      <td>1</td>\n",
       "      <td>1</td>\n",
       "      <td>0</td>\n",
       "      <td>0</td>\n",
       "      <td>-1</td>\n",
       "      <td>0</td>\n",
       "      <td>0</td>\n",
       "      <td>0</td>\n",
       "      <td>0</td>\n",
       "      <td>0</td>\n",
       "      <td>0</td>\n",
       "      <td>0</td>\n",
       "      <td>False</td>\n",
       "      <td>patient26703</td>\n",
       "      <td>study3</td>\n",
       "    </tr>\n",
       "    <tr>\n",
       "      <th>4</th>\n",
       "      <td>CheXpert-v1.0-small/train/patient46830/study2/...</td>\n",
       "      <td>Male</td>\n",
       "      <td>63</td>\n",
       "      <td>Frontal</td>\n",
       "      <td>AP</td>\n",
       "      <td>0</td>\n",
       "      <td>0</td>\n",
       "      <td>1</td>\n",
       "      <td>0</td>\n",
       "      <td>0</td>\n",
       "      <td>1</td>\n",
       "      <td>0</td>\n",
       "      <td>0</td>\n",
       "      <td>0</td>\n",
       "      <td>0</td>\n",
       "      <td>0</td>\n",
       "      <td>0</td>\n",
       "      <td>0</td>\n",
       "      <td>1</td>\n",
       "      <td>False</td>\n",
       "      <td>patient46830</td>\n",
       "      <td>study2</td>\n",
       "    </tr>\n",
       "  </tbody>\n",
       "</table>\n",
       "</div>"
      ],
      "text/plain": [
       "                                                Path     Sex  Age  \\\n",
       "0  CheXpert-v1.0-small/train/patient37703/study1/...  Female   57   \n",
       "1  CheXpert-v1.0-small/train/patient25282/study5/...  Female   90   \n",
       "2  CheXpert-v1.0-small/train/patient28261/study12...  Female   80   \n",
       "3  CheXpert-v1.0-small/train/patient26703/study3/...  Female   48   \n",
       "4  CheXpert-v1.0-small/train/patient46830/study2/...    Male   63   \n",
       "\n",
       "  Frontal/Lateral AP/PA  No Finding  Enlarged Cardiomediastinum  Cardiomegaly  \\\n",
       "0         Frontal    AP           0                           0             0   \n",
       "1         Frontal    AP           0                           0             1   \n",
       "2         Frontal    AP           0                           0             0   \n",
       "3         Frontal    AP           0                           0             1   \n",
       "4         Frontal    AP           0                           0             1   \n",
       "\n",
       "   Lung Opacity  Lung Lesion  Edema  Consolidation  Pneumonia  Atelectasis  \\\n",
       "0             1            1      0              1          0            0   \n",
       "1             0            0      1              0          0            0   \n",
       "2             0            0      1              1          0            1   \n",
       "3             1            0      0             -1          0            0   \n",
       "4             0            0      1              0          0            0   \n",
       "\n",
       "   Pneumothorax  Pleural Effusion  Pleural Other  Fracture  Support Devices  \\\n",
       "0             0                 0              0         0                0   \n",
       "1             0                 0              0         0                1   \n",
       "2             0                 1              0         0                1   \n",
       "3             0                 0              0         0                0   \n",
       "4             0                 0              0         0                1   \n",
       "\n",
       "   valid       patient    study  \n",
       "0  False  patient37703   study1  \n",
       "1  False  patient25282   study5  \n",
       "2  False  patient28261  study12  \n",
       "3  False  patient26703   study3  \n",
       "4  False  patient46830   study2  "
      ]
     },
     "execution_count": 9,
     "metadata": {},
     "output_type": "execute_result"
    }
   ],
   "source": [
    "full_df.head()"
   ]
  },
  {
   "cell_type": "markdown",
   "metadata": {},
   "source": [
    "# _Deep Learning Fast.ai Set Up_"
   ]
  },
  {
   "cell_type": "code",
   "execution_count": 10,
   "metadata": {},
   "outputs": [],
   "source": [
    "from test_folder import replicate\n",
    "\n",
    "src = replicate.get_src(full_df, path, feature_col='Cardiomegaly')"
   ]
  },
  {
   "cell_type": "code",
   "execution_count": 11,
   "metadata": {},
   "outputs": [
    {
     "name": "stdout",
     "output_type": "stream",
     "text": [
      "using bs=16, have 7601MB of GPU RAM free.\n",
      "------------------------------\n",
      "Data ready.\n"
     ]
    }
   ],
   "source": [
    "# use image size of 64\n",
    "data = replicate.get_data(64, src)"
   ]
  },
  {
   "cell_type": "markdown",
   "metadata": {},
   "source": [
    "# _Create DenseNet Model_\n",
    "\n",
    "# _First Round of Training_"
   ]
  },
  {
   "cell_type": "code",
   "execution_count": 12,
   "metadata": {},
   "outputs": [],
   "source": [
    "learn = cnn_learner(data=data, base_arch=models.densenet121, metrics=[AUROC(), Precision(), Recall()],\n",
    "                    pretrained=True, ps=0.5, bn_final=True)"
   ]
  },
  {
   "cell_type": "code",
   "execution_count": 13,
   "metadata": {},
   "outputs": [
    {
     "data": {
      "text/html": [],
      "text/plain": [
       "<IPython.core.display.HTML object>"
      ]
     },
     "metadata": {},
     "output_type": "display_data"
    },
    {
     "name": "stdout",
     "output_type": "stream",
     "text": [
      "LR Finder is complete, type {learner_name}.recorder.plot() to see the graph.\n",
      "Min numerical gradient: 2.51E-07\n",
      "Min loss divided by 10: 2.51E-01\n"
     ]
    },
    {
     "data": {
      "image/png": "[encoded data removed]",
      "text/plain": [
       "<Figure size 432x288 with 1 Axes>"
      ]
     },
     "metadata": {
      "image/png": {
       "height": 266,
       "width": 396
      }
     },
     "output_type": "display_data"
    }
   ],
   "source": [
    "from test_folder import deeplearning\n",
    "\n",
    "deeplearning.lr_finder_plot(learn);"
   ]
  },
  {
   "cell_type": "code",
   "execution_count": 14,
   "metadata": {},
   "outputs": [
    {
     "data": {
      "text/html": [
       "<table border=\"1\" class=\"dataframe\">\n",
       "  <thead>\n",
       "    <tr style=\"text-align: left;\">\n",
       "      <th>epoch</th>\n",
       "      <th>train_loss</th>\n",
       "      <th>valid_loss</th>\n",
       "      <th>auroc</th>\n",
       "      <th>precision</th>\n",
       "      <th>recall</th>\n",
       "      <th>time</th>\n",
       "    </tr>\n",
       "  </thead>\n",
       "  <tbody>\n",
       "    <tr>\n",
       "      <td>0</td>\n",
       "      <td>0.629075</td>\n",
       "      <td>0.588281</td>\n",
       "      <td>0.769135</td>\n",
       "      <td>0.464912</td>\n",
       "      <td>0.779412</td>\n",
       "      <td>07:26</td>\n",
       "    </tr>\n",
       "    <tr>\n",
       "      <td>1</td>\n",
       "      <td>0.593486</td>\n",
       "      <td>0.621027</td>\n",
       "      <td>0.706414</td>\n",
       "      <td>0.460526</td>\n",
       "      <td>0.514706</td>\n",
       "      <td>06:49</td>\n",
       "    </tr>\n",
       "    <tr>\n",
       "      <td>2</td>\n",
       "      <td>0.539184</td>\n",
       "      <td>0.483165</td>\n",
       "      <td>0.807140</td>\n",
       "      <td>0.610169</td>\n",
       "      <td>0.529412</td>\n",
       "      <td>06:51</td>\n",
       "    </tr>\n",
       "  </tbody>\n",
       "</table>"
      ],
      "text/plain": [
       "<IPython.core.display.HTML object>"
      ]
     },
     "metadata": {},
     "output_type": "display_data"
    },
    {
     "name": "stdout",
     "output_type": "stream",
     "text": [
      "Better model found at epoch 0 with auroc value: 0.7691352963447571.\n",
      "Better model found at epoch 2 with auroc value: 0.8071403503417969.\n"
     ]
    }
   ],
   "source": [
    "learn.fit_one_cycle(3, 1e-1, callbacks=\n",
    "                    [SaveModelCallback(learn, every='improvement', monitor='auroc', name='best_densenet121_trial27-rd1')])"
   ]
  },
  {
   "cell_type": "code",
   "execution_count": null,
   "metadata": {},
   "outputs": [],
   "source": []
  }
 ],
 "metadata": {
  "kernelspec": {
   "display_name": "Python 3",
   "language": "python",
   "name": "python3"
  },
  "language_info": {
   "codemirror_mode": {
    "name": "ipython",
    "version": 3
   },
   "file_extension": ".py",
   "mimetype": "text/x-python",
   "name": "python",
   "nbconvert_exporter": "python",
   "pygments_lexer": "ipython3",
   "version": "3.7.3"
  }
 },
 "nbformat": 4,
 "nbformat_minor": 2
}
