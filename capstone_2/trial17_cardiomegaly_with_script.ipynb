{
 "cells": [
  {
   "cell_type": "markdown",
   "metadata": {},
   "source": [
    "# _Set Up_"
   ]
  },
  {
   "cell_type": "code",
   "execution_count": 1,
   "metadata": {},
   "outputs": [],
   "source": [
    "%reload_ext autoreload\n",
    "%autoreload 2\n",
    "%matplotlib inline"
   ]
  },
  {
   "cell_type": "code",
   "execution_count": 2,
   "metadata": {},
   "outputs": [],
   "source": [
    "# fastai libraries\n",
    "from fastai.vision import *\n",
    "from fastai.callbacks.hooks import *\n",
    "from fastai.utils.mem import *\n",
    "from fastai.callbacks import EarlyStoppingCallback"
   ]
  },
  {
   "cell_type": "code",
   "execution_count": 3,
   "metadata": {},
   "outputs": [],
   "source": [
    "# import libraries\n",
    "import pandas as pd\n",
    "pd.options.display.max_columns = None\n",
    "import numpy as np\n",
    "import random\n",
    "import os\n",
    "from pathlib import Path\n",
    "\n",
    "# Matplotlib\n",
    "%matplotlib inline\n",
    "%config InlineBackend.figure_format='retina'\n",
    "import matplotlib as mpl\n",
    "import matplotlib.pyplot as plt\n",
    "import seaborn as sns\n",
    "plt.style.use('ggplot')"
   ]
  },
  {
   "cell_type": "markdown",
   "metadata": {},
   "source": [
    "# _Load in Data_"
   ]
  },
  {
   "cell_type": "code",
   "execution_count": 4,
   "metadata": {},
   "outputs": [
    {
     "data": {
      "text/plain": [
       "PosixPath('/home/jupyter/springboard-capstone-2/data')"
      ]
     },
     "execution_count": 4,
     "metadata": {},
     "output_type": "execute_result"
    }
   ],
   "source": [
    "path = Config.data_path()\n",
    "path"
   ]
  },
  {
   "cell_type": "code",
   "execution_count": 5,
   "metadata": {},
   "outputs": [
    {
     "name": "stdout",
     "output_type": "stream",
     "text": [
      "\n",
      "(223414, 19)\n",
      "(234, 19)\n",
      "------------------------------\n",
      "Extracted Patient ID from Path column and created new column named Patient_id\n",
      "------------------------------\n",
      "Created function named seed_data to set seed for sample data\n",
      "------------------------------\n",
      "Seeded data.\n",
      "------------------------------\n",
      "Created sample dataframe with input seed and 0.05% of original data\n",
      "------------------------------\n",
      "Created training and validation dataframe with expressed competition pathology, replacing NaN's with 0 and resetting the index\n",
      "------------------------------\n",
      "\n",
      "Cardiomegaly\n",
      "------------------------------\n",
      "Training shape\n",
      "(11071, 2)\n",
      "\n",
      "Validation shape\n",
      "(234, 2)\n"
     ]
    }
   ],
   "source": [
    "# import data.py script to deal with data processing\n",
    "from test_folder import data\n",
    "\n",
    "# take 5% of data with seed of 8 and a single pathology, Cardiomegaly\n",
    "train_df, valid_df = data.data_processing(path, 'Cardiomegaly', 8, 0.05);"
   ]
  },
  {
   "cell_type": "code",
   "execution_count": 13,
   "metadata": {},
   "outputs": [
    {
     "data": {
      "text/html": [
       "<div>\n",
       "<style scoped>\n",
       "    .dataframe tbody tr th:only-of-type {\n",
       "        vertical-align: middle;\n",
       "    }\n",
       "\n",
       "    .dataframe tbody tr th {\n",
       "        vertical-align: top;\n",
       "    }\n",
       "\n",
       "    .dataframe thead th {\n",
       "        text-align: right;\n",
       "    }\n",
       "</style>\n",
       "<table border=\"1\" class=\"dataframe\">\n",
       "  <thead>\n",
       "    <tr style=\"text-align: right;\">\n",
       "      <th></th>\n",
       "      <th>Path</th>\n",
       "      <th>Cardiomegaly</th>\n",
       "    </tr>\n",
       "  </thead>\n",
       "  <tbody>\n",
       "    <tr>\n",
       "      <th>0</th>\n",
       "      <td>CheXpert-v1.0-small/train/patient00006/study1/...</td>\n",
       "      <td>0.0</td>\n",
       "    </tr>\n",
       "    <tr>\n",
       "      <th>1</th>\n",
       "      <td>CheXpert-v1.0-small/train/patient00031/study1/...</td>\n",
       "      <td>0.0</td>\n",
       "    </tr>\n",
       "    <tr>\n",
       "      <th>2</th>\n",
       "      <td>CheXpert-v1.0-small/train/patient00031/study3/...</td>\n",
       "      <td>0.0</td>\n",
       "    </tr>\n",
       "    <tr>\n",
       "      <th>3</th>\n",
       "      <td>CheXpert-v1.0-small/train/patient00031/study2/...</td>\n",
       "      <td>0.0</td>\n",
       "    </tr>\n",
       "    <tr>\n",
       "      <th>4</th>\n",
       "      <td>CheXpert-v1.0-small/train/patient00044/study7/...</td>\n",
       "      <td>1.0</td>\n",
       "    </tr>\n",
       "  </tbody>\n",
       "</table>\n",
       "</div>"
      ],
      "text/plain": [
       "                                                Path  Cardiomegaly\n",
       "0  CheXpert-v1.0-small/train/patient00006/study1/...           0.0\n",
       "1  CheXpert-v1.0-small/train/patient00031/study1/...           0.0\n",
       "2  CheXpert-v1.0-small/train/patient00031/study3/...           0.0\n",
       "3  CheXpert-v1.0-small/train/patient00031/study2/...           0.0\n",
       "4  CheXpert-v1.0-small/train/patient00044/study7/...           1.0"
      ]
     },
     "execution_count": 13,
     "metadata": {},
     "output_type": "execute_result"
    }
   ],
   "source": [
    "train_df.head()"
   ]
  },
  {
   "cell_type": "code",
   "execution_count": 14,
   "metadata": {},
   "outputs": [
    {
     "data": {
      "text/html": [
       "<div>\n",
       "<style scoped>\n",
       "    .dataframe tbody tr th:only-of-type {\n",
       "        vertical-align: middle;\n",
       "    }\n",
       "\n",
       "    .dataframe tbody tr th {\n",
       "        vertical-align: top;\n",
       "    }\n",
       "\n",
       "    .dataframe thead th {\n",
       "        text-align: right;\n",
       "    }\n",
       "</style>\n",
       "<table border=\"1\" class=\"dataframe\">\n",
       "  <thead>\n",
       "    <tr style=\"text-align: right;\">\n",
       "      <th></th>\n",
       "      <th>Path</th>\n",
       "      <th>Cardiomegaly</th>\n",
       "    </tr>\n",
       "  </thead>\n",
       "  <tbody>\n",
       "    <tr>\n",
       "      <th>0</th>\n",
       "      <td>CheXpert-v1.0-small/valid/patient64541/study1/...</td>\n",
       "      <td>1.0</td>\n",
       "    </tr>\n",
       "    <tr>\n",
       "      <th>1</th>\n",
       "      <td>CheXpert-v1.0-small/valid/patient64542/study1/...</td>\n",
       "      <td>0.0</td>\n",
       "    </tr>\n",
       "    <tr>\n",
       "      <th>2</th>\n",
       "      <td>CheXpert-v1.0-small/valid/patient64542/study1/...</td>\n",
       "      <td>0.0</td>\n",
       "    </tr>\n",
       "    <tr>\n",
       "      <th>3</th>\n",
       "      <td>CheXpert-v1.0-small/valid/patient64543/study1/...</td>\n",
       "      <td>0.0</td>\n",
       "    </tr>\n",
       "    <tr>\n",
       "      <th>4</th>\n",
       "      <td>CheXpert-v1.0-small/valid/patient64544/study1/...</td>\n",
       "      <td>0.0</td>\n",
       "    </tr>\n",
       "  </tbody>\n",
       "</table>\n",
       "</div>"
      ],
      "text/plain": [
       "                                                Path  Cardiomegaly\n",
       "0  CheXpert-v1.0-small/valid/patient64541/study1/...           1.0\n",
       "1  CheXpert-v1.0-small/valid/patient64542/study1/...           0.0\n",
       "2  CheXpert-v1.0-small/valid/patient64542/study1/...           0.0\n",
       "3  CheXpert-v1.0-small/valid/patient64543/study1/...           0.0\n",
       "4  CheXpert-v1.0-small/valid/patient64544/study1/...           0.0"
      ]
     },
     "execution_count": 14,
     "metadata": {},
     "output_type": "execute_result"
    }
   ],
   "source": [
    "valid_df.head()"
   ]
  },
  {
   "cell_type": "code",
   "execution_count": 15,
   "metadata": {},
   "outputs": [
    {
     "name": "stdout",
     "output_type": "stream",
     "text": [
      "<class 'pandas.core.frame.DataFrame'>\n",
      "RangeIndex: 11071 entries, 0 to 11070\n",
      "Data columns (total 2 columns):\n",
      "Path            11071 non-null object\n",
      "Cardiomegaly    11071 non-null float64\n",
      "dtypes: float64(1), object(1)\n",
      "memory usage: 173.1+ KB\n"
     ]
    }
   ],
   "source": [
    "train_df.info()"
   ]
  },
  {
   "cell_type": "code",
   "execution_count": 16,
   "metadata": {},
   "outputs": [
    {
     "name": "stdout",
     "output_type": "stream",
     "text": [
      "<class 'pandas.core.frame.DataFrame'>\n",
      "RangeIndex: 234 entries, 0 to 233\n",
      "Data columns (total 2 columns):\n",
      "Path            234 non-null object\n",
      "Cardiomegaly    234 non-null float64\n",
      "dtypes: float64(1), object(1)\n",
      "memory usage: 3.7+ KB\n"
     ]
    }
   ],
   "source": [
    "valid_df.info()"
   ]
  },
  {
   "cell_type": "markdown",
   "metadata": {},
   "source": [
    "# _Checkout Values in Cardiomegaly Column_"
   ]
  },
  {
   "cell_type": "code",
   "execution_count": 17,
   "metadata": {},
   "outputs": [
    {
     "data": {
      "text/plain": [
       " 0.0    9320\n",
       " 1.0    1344\n",
       "-1.0     407\n",
       "Name: Cardiomegaly, dtype: int64"
      ]
     },
     "execution_count": 17,
     "metadata": {},
     "output_type": "execute_result"
    }
   ],
   "source": [
    "train_df['Cardiomegaly'].value_counts()"
   ]
  },
  {
   "cell_type": "code",
   "execution_count": 18,
   "metadata": {},
   "outputs": [
    {
     "data": {
      "text/plain": [
       "0.0    166\n",
       "1.0     68\n",
       "Name: Cardiomegaly, dtype: int64"
      ]
     },
     "execution_count": 18,
     "metadata": {},
     "output_type": "execute_result"
    }
   ],
   "source": [
    "valid_df['Cardiomegaly'].value_counts()"
   ]
  },
  {
   "cell_type": "markdown",
   "metadata": {},
   "source": [
    "Looks like we're good to go with the validation data set in that there are no uncertain (`-1`) values. But we'll have to do something about the training data set, which has 407 `-1.0` values. Additionally, we want to work with integers (model can run into complications when trying to classify the labels if we don't have them as integer types) so we'll convert the values in the `Cardiomegaly` column for both the training and validation set into integers. "
   ]
  },
  {
   "cell_type": "code",
   "execution_count": 6,
   "metadata": {},
   "outputs": [],
   "source": [
    "# can use data module from test_folder to utilize uzero function, which converts uncertain labels to negative labels and turns column\n",
    "# integer type\n",
    "train_df, valid_df = data.uzero(train_df, valid_df, 'Cardiomegaly');"
   ]
  },
  {
   "cell_type": "code",
   "execution_count": 7,
   "metadata": {},
   "outputs": [
    {
     "data": {
      "text/html": [
       "<div>\n",
       "<style scoped>\n",
       "    .dataframe tbody tr th:only-of-type {\n",
       "        vertical-align: middle;\n",
       "    }\n",
       "\n",
       "    .dataframe tbody tr th {\n",
       "        vertical-align: top;\n",
       "    }\n",
       "\n",
       "    .dataframe thead th {\n",
       "        text-align: right;\n",
       "    }\n",
       "</style>\n",
       "<table border=\"1\" class=\"dataframe\">\n",
       "  <thead>\n",
       "    <tr style=\"text-align: right;\">\n",
       "      <th></th>\n",
       "      <th>Path</th>\n",
       "      <th>Cardiomegaly</th>\n",
       "    </tr>\n",
       "  </thead>\n",
       "  <tbody>\n",
       "    <tr>\n",
       "      <th>0</th>\n",
       "      <td>CheXpert-v1.0-small/train/patient00006/study1/...</td>\n",
       "      <td>0</td>\n",
       "    </tr>\n",
       "    <tr>\n",
       "      <th>1</th>\n",
       "      <td>CheXpert-v1.0-small/train/patient00031/study1/...</td>\n",
       "      <td>0</td>\n",
       "    </tr>\n",
       "    <tr>\n",
       "      <th>2</th>\n",
       "      <td>CheXpert-v1.0-small/train/patient00031/study3/...</td>\n",
       "      <td>0</td>\n",
       "    </tr>\n",
       "    <tr>\n",
       "      <th>3</th>\n",
       "      <td>CheXpert-v1.0-small/train/patient00031/study2/...</td>\n",
       "      <td>0</td>\n",
       "    </tr>\n",
       "    <tr>\n",
       "      <th>4</th>\n",
       "      <td>CheXpert-v1.0-small/train/patient00044/study7/...</td>\n",
       "      <td>1</td>\n",
       "    </tr>\n",
       "  </tbody>\n",
       "</table>\n",
       "</div>"
      ],
      "text/plain": [
       "                                                Path  Cardiomegaly\n",
       "0  CheXpert-v1.0-small/train/patient00006/study1/...             0\n",
       "1  CheXpert-v1.0-small/train/patient00031/study1/...             0\n",
       "2  CheXpert-v1.0-small/train/patient00031/study3/...             0\n",
       "3  CheXpert-v1.0-small/train/patient00031/study2/...             0\n",
       "4  CheXpert-v1.0-small/train/patient00044/study7/...             1"
      ]
     },
     "execution_count": 7,
     "metadata": {},
     "output_type": "execute_result"
    }
   ],
   "source": [
    "train_df.head()"
   ]
  },
  {
   "cell_type": "code",
   "execution_count": 8,
   "metadata": {},
   "outputs": [
    {
     "data": {
      "text/plain": [
       "0    9727\n",
       "1    1344\n",
       "Name: Cardiomegaly, dtype: int64"
      ]
     },
     "execution_count": 8,
     "metadata": {},
     "output_type": "execute_result"
    }
   ],
   "source": [
    "train_df['Cardiomegaly'].value_counts()"
   ]
  },
  {
   "cell_type": "code",
   "execution_count": 9,
   "metadata": {},
   "outputs": [
    {
     "data": {
      "text/plain": [
       "9727"
      ]
     },
     "execution_count": 9,
     "metadata": {},
     "output_type": "execute_result"
    }
   ],
   "source": [
    "9320 + 407"
   ]
  },
  {
   "cell_type": "code",
   "execution_count": 10,
   "metadata": {},
   "outputs": [
    {
     "data": {
      "text/plain": [
       "0    166\n",
       "1     68\n",
       "Name: Cardiomegaly, dtype: int64"
      ]
     },
     "execution_count": 10,
     "metadata": {},
     "output_type": "execute_result"
    }
   ],
   "source": [
    "valid_df['Cardiomegaly'].value_counts()"
   ]
  },
  {
   "cell_type": "markdown",
   "metadata": {},
   "source": [
    "As we can see `data.uzero` converted the uncertain (`-1`) labels in `train_df` to negative (`0`) labels, then converted them to integers. Also looks like it successfully converted the values to integer types in the same column for the validation set. With our data sets in hand, we're now able to move onto the deep learning phase!"
   ]
  },
  {
   "cell_type": "markdown",
   "metadata": {},
   "source": [
    "# _DL Set Up_"
   ]
  },
  {
   "cell_type": "code",
   "execution_count": 11,
   "metadata": {},
   "outputs": [
    {
     "name": "stdout",
     "output_type": "stream",
     "text": [
      "Created ImageList from train_df and randomly split 20% of data for validation set.\n",
      "------------------------------\n",
      "using bs=16, have 7601MB of GPU RAM free.\n",
      "------------------------------\n",
      "Created ImageDataBunch.\n",
      "------------------------------\n",
      "Created test set\n",
      "------------------------------\n",
      "The following print out contains information regarding training, validation and test data sets for ImageDataBunch.\n",
      "ImageDataBunch;\n",
      "\n",
      "Train: LabelList (8857 items)\n",
      "x: ImageList\n",
      "Image (3, 64, 64),Image (3, 64, 64),Image (3, 64, 64),Image (3, 64, 64),Image (3, 64, 64)\n",
      "y: CategoryList\n",
      "0,0,0,0,1\n",
      "Path: /home/jupyter/springboard-capstone-2/data;\n",
      "\n",
      "Valid: LabelList (2214 items)\n",
      "x: ImageList\n",
      "Image (3, 64, 64),Image (3, 64, 64),Image (3, 64, 64),Image (3, 64, 64),Image (3, 64, 64)\n",
      "y: CategoryList\n",
      "0,0,0,1,0\n",
      "Path: /home/jupyter/springboard-capstone-2/data;\n",
      "\n",
      "Test: LabelList (234 items)\n",
      "x: ImageList\n",
      "Image (3, 64, 64),Image (3, 64, 64),Image (3, 64, 64),Image (3, 64, 64),Image (3, 64, 64)\n",
      "y: EmptyLabelList\n",
      ",,,,\n",
      "Path: /home/jupyter/springboard-capstone-2/data\n"
     ]
    }
   ],
   "source": [
    "from test_folder import deeplearning\n",
    "\n",
    "data = deeplearning.baseline_setup(path, train_df, valid_df, 'Cardiomegaly')"
   ]
  },
  {
   "cell_type": "markdown",
   "metadata": {},
   "source": [
    "# _Set Up DL Model_"
   ]
  },
  {
   "cell_type": "code",
   "execution_count": 12,
   "metadata": {},
   "outputs": [],
   "source": [
    "# create a pretrained densenet121 cnn_learner with error rate and AUROC as the metrics with a ps of 0.5 (i.e. 50% of randomly selected neurons will be ignored from the n-1 layer) and batch normalization\n",
    "learn = cnn_learner(data=data, base_arch=models.densenet121, metrics=[error_rate, AUROC()], pretrained=True,\n",
    "                     ps=0.5, bn_final=True)"
   ]
  },
  {
   "cell_type": "code",
   "execution_count": 37,
   "metadata": {},
   "outputs": [
    {
     "data": {
      "text/html": [],
      "text/plain": [
       "<IPython.core.display.HTML object>"
      ]
     },
     "metadata": {},
     "output_type": "display_data"
    },
    {
     "name": "stdout",
     "output_type": "stream",
     "text": [
      "LR Finder is complete, type {learner_name}.recorder.plot() to see the graph.\n",
      "Min numerical gradient: 2.00E-01\n",
      "Min loss divided by 10: 7.94E-02\n"
     ]
    },
    {
     "data": {
      "image/png": "[encoded data removed]",
      "text/plain": [
       "<Figure size 432x288 with 1 Axes>"
      ]
     },
     "metadata": {
      "image/png": {
       "height": 266,
       "width": 396
      }
     },
     "output_type": "display_data"
    }
   ],
   "source": [
    "deeplearning.lr_finder_plot(learn)"
   ]
  },
  {
   "cell_type": "code",
   "execution_count": 40,
   "metadata": {},
   "outputs": [
    {
     "data": {
      "text/plain": [
       "0.1995262314968879"
      ]
     },
     "execution_count": 40,
     "metadata": {},
     "output_type": "execute_result"
    }
   ],
   "source": [
    "# were going to set the learning rate to the min numerical gradient (i.e. the red dot)\n",
    "lr = learn.recorder.min_grad_lr\n",
    "lr"
   ]
  },
  {
   "cell_type": "code",
   "execution_count": 41,
   "metadata": {},
   "outputs": [
    {
     "data": {
      "text/plain": [
       "FlattenedLoss of CrossEntropyLoss()"
      ]
     },
     "execution_count": 41,
     "metadata": {},
     "output_type": "execute_result"
    }
   ],
   "source": [
    "# check the loss function\n",
    "learn.loss_func"
   ]
  },
  {
   "cell_type": "markdown",
   "metadata": {},
   "source": [
    "# _First Round of Training_"
   ]
  },
  {
   "cell_type": "code",
   "execution_count": 42,
   "metadata": {},
   "outputs": [
    {
     "data": {
      "text/html": [
       "<table border=\"1\" class=\"dataframe\">\n",
       "  <thead>\n",
       "    <tr style=\"text-align: left;\">\n",
       "      <th>epoch</th>\n",
       "      <th>train_loss</th>\n",
       "      <th>valid_loss</th>\n",
       "      <th>error_rate</th>\n",
       "      <th>auroc</th>\n",
       "      <th>time</th>\n",
       "    </tr>\n",
       "  </thead>\n",
       "  <tbody>\n",
       "    <tr>\n",
       "      <td>0</td>\n",
       "      <td>0.371723</td>\n",
       "      <td>0.383378</td>\n",
       "      <td>0.122855</td>\n",
       "      <td>0.540379</td>\n",
       "      <td>01:25</td>\n",
       "    </tr>\n",
       "    <tr>\n",
       "      <td>1</td>\n",
       "      <td>0.391976</td>\n",
       "      <td>1.677399</td>\n",
       "      <td>0.123306</td>\n",
       "      <td>0.405521</td>\n",
       "      <td>01:13</td>\n",
       "    </tr>\n",
       "    <tr>\n",
       "      <td>2</td>\n",
       "      <td>0.367634</td>\n",
       "      <td>0.405528</td>\n",
       "      <td>0.122855</td>\n",
       "      <td>0.445617</td>\n",
       "      <td>01:14</td>\n",
       "    </tr>\n",
       "    <tr>\n",
       "      <td>3</td>\n",
       "      <td>0.355306</td>\n",
       "      <td>0.363742</td>\n",
       "      <td>0.122855</td>\n",
       "      <td>0.651718</td>\n",
       "      <td>01:14</td>\n",
       "    </tr>\n",
       "    <tr>\n",
       "      <td>4</td>\n",
       "      <td>0.340870</td>\n",
       "      <td>0.808825</td>\n",
       "      <td>0.124661</td>\n",
       "      <td>0.708233</td>\n",
       "      <td>01:14</td>\n",
       "    </tr>\n",
       "  </tbody>\n",
       "</table>"
      ],
      "text/plain": [
       "<IPython.core.display.HTML object>"
      ]
     },
     "metadata": {},
     "output_type": "display_data"
    }
   ],
   "source": [
    "learn.fit_one_cycle(5, lr, callbacks=[EarlyStoppingCallback(learn, monitor='auroc', min_delta=0.01, patience=2)])"
   ]
  },
  {
   "cell_type": "code",
   "execution_count": 43,
   "metadata": {},
   "outputs": [],
   "source": [
    "# save model weights so far\n",
    "learn.save('trial17-rd1')"
   ]
  },
  {
   "cell_type": "markdown",
   "metadata": {},
   "source": [
    "# _Second Round of Training_"
   ]
  },
  {
   "cell_type": "code",
   "execution_count": 46,
   "metadata": {},
   "outputs": [
    {
     "data": {
      "text/html": [],
      "text/plain": [
       "<IPython.core.display.HTML object>"
      ]
     },
     "metadata": {},
     "output_type": "display_data"
    },
    {
     "name": "stdout",
     "output_type": "stream",
     "text": [
      "LR Finder is complete, type {learner_name}.recorder.plot() to see the graph.\n",
      "Min numerical gradient: 1.00E-07\n",
      "Min loss divided by 10: 3.16E-05\n"
     ]
    },
    {
     "data": {
      "image/png": "[encoded data removed]",
      "text/plain": [
       "<Figure size 432x288 with 1 Axes>"
      ]
     },
     "metadata": {
      "image/png": {
       "height": 266,
       "width": 396
      }
     },
     "output_type": "display_data"
    }
   ],
   "source": [
    "# unfreeze all layers then find appropriate learning rate\n",
    "learn.unfreeze()\n",
    "\n",
    "deeplearning.lr_finder_plot(learn)"
   ]
  },
  {
   "cell_type": "code",
   "execution_count": 47,
   "metadata": {},
   "outputs": [
    {
     "data": {
      "text/plain": [
       "0.0001"
      ]
     },
     "execution_count": 47,
     "metadata": {},
     "output_type": "execute_result"
    }
   ],
   "source": [
    "lr = 1e-4\n",
    "lr"
   ]
  },
  {
   "cell_type": "code",
   "execution_count": 49,
   "metadata": {},
   "outputs": [],
   "source": [
    "# load the previous weights\n",
    "learn.load('trial17-rd1');"
   ]
  },
  {
   "cell_type": "code",
   "execution_count": 51,
   "metadata": {},
   "outputs": [
    {
     "data": {
      "text/html": [
       "<table border=\"1\" class=\"dataframe\">\n",
       "  <thead>\n",
       "    <tr style=\"text-align: left;\">\n",
       "      <th>epoch</th>\n",
       "      <th>train_loss</th>\n",
       "      <th>valid_loss</th>\n",
       "      <th>error_rate</th>\n",
       "      <th>auroc</th>\n",
       "      <th>time</th>\n",
       "    </tr>\n",
       "  </thead>\n",
       "  <tbody>\n",
       "    <tr>\n",
       "      <td>0</td>\n",
       "      <td>0.361547</td>\n",
       "      <td>0.348860</td>\n",
       "      <td>0.124210</td>\n",
       "      <td>0.714843</td>\n",
       "      <td>01:38</td>\n",
       "    </tr>\n",
       "    <tr>\n",
       "      <td>1</td>\n",
       "      <td>0.341186</td>\n",
       "      <td>0.348340</td>\n",
       "      <td>0.123758</td>\n",
       "      <td>0.703249</td>\n",
       "      <td>01:37</td>\n",
       "    </tr>\n",
       "    <tr>\n",
       "      <td>2</td>\n",
       "      <td>0.340362</td>\n",
       "      <td>1.328640</td>\n",
       "      <td>0.121951</td>\n",
       "      <td>0.722131</td>\n",
       "      <td>01:38</td>\n",
       "    </tr>\n",
       "    <tr>\n",
       "      <td>3</td>\n",
       "      <td>0.364975</td>\n",
       "      <td>0.335698</td>\n",
       "      <td>0.121951</td>\n",
       "      <td>0.735703</td>\n",
       "      <td>01:36</td>\n",
       "    </tr>\n",
       "    <tr>\n",
       "      <td>4</td>\n",
       "      <td>0.319833</td>\n",
       "      <td>0.375305</td>\n",
       "      <td>0.122403</td>\n",
       "      <td>0.741668</td>\n",
       "      <td>01:36</td>\n",
       "    </tr>\n",
       "  </tbody>\n",
       "</table>"
      ],
      "text/plain": [
       "<IPython.core.display.HTML object>"
      ]
     },
     "metadata": {},
     "output_type": "display_data"
    }
   ],
   "source": [
    "# train model\n",
    "learn.fit_one_cycle(5, lr, callbacks=[EarlyStoppingCallback(learn, monitor='auroc', min_delta=0.01, patience=2)])"
   ]
  },
  {
   "cell_type": "code",
   "execution_count": 52,
   "metadata": {},
   "outputs": [],
   "source": [
    "# save model weights for second round of training\n",
    "learn.save('trial17-rd2')"
   ]
  },
  {
   "cell_type": "markdown",
   "metadata": {},
   "source": [
    "# _Third Round of Training_"
   ]
  },
  {
   "cell_type": "code",
   "execution_count": 13,
   "metadata": {},
   "outputs": [],
   "source": [
    "# load the previous weights\n",
    "learn.load('trial17-rd2');"
   ]
  },
  {
   "cell_type": "code",
   "execution_count": 14,
   "metadata": {},
   "outputs": [
    {
     "data": {
      "text/html": [],
      "text/plain": [
       "<IPython.core.display.HTML object>"
      ]
     },
     "metadata": {},
     "output_type": "display_data"
    },
    {
     "name": "stdout",
     "output_type": "stream",
     "text": [
      "LR Finder is complete, type {learner_name}.recorder.plot() to see the graph.\n",
      "Min numerical gradient: 1.00E-07\n",
      "Min loss divided by 10: 3.98E-08\n"
     ]
    },
    {
     "data": {
      "image/png": "[encoded data removed]",
      "text/plain": [
       "<Figure size 432x288 with 1 Axes>"
      ]
     },
     "metadata": {
      "image/png": {
       "height": 266,
       "width": 396
      }
     },
     "output_type": "display_data"
    }
   ],
   "source": [
    "# find appropriate learning rate\n",
    "deeplearning.lr_finder_plot(learn)"
   ]
  },
  {
   "cell_type": "code",
   "execution_count": 15,
   "metadata": {},
   "outputs": [
    {
     "data": {
      "text/html": [
       "\n",
       "    <div>\n",
       "        <style>\n",
       "            /* Turns off some styling */\n",
       "            progress {\n",
       "                /* gets rid of default border in Firefox and Opera. */\n",
       "                border: none;\n",
       "                /* Needs to be in here for Safari polyfill so background images work as expected. */\n",
       "                background-size: auto;\n",
       "            }\n",
       "            .progress-bar-interrupted, .progress-bar-interrupted::-webkit-progress-bar {\n",
       "                background: #F44336;\n",
       "            }\n",
       "        </style>\n",
       "      <progress value='4' class='' max='5', style='width:300px; height:20px; vertical-align: middle;'></progress>\n",
       "      80.00% [4/5 05:05<01:16]\n",
       "    </div>\n",
       "    \n",
       "<table border=\"1\" class=\"dataframe\">\n",
       "  <thead>\n",
       "    <tr style=\"text-align: left;\">\n",
       "      <th>epoch</th>\n",
       "      <th>train_loss</th>\n",
       "      <th>valid_loss</th>\n",
       "      <th>error_rate</th>\n",
       "      <th>auroc</th>\n",
       "      <th>time</th>\n",
       "    </tr>\n",
       "  </thead>\n",
       "  <tbody>\n",
       "    <tr>\n",
       "      <td>0</td>\n",
       "      <td>0.396032</td>\n",
       "      <td>0.356146</td>\n",
       "      <td>0.123306</td>\n",
       "      <td>0.756748</td>\n",
       "      <td>01:24</td>\n",
       "    </tr>\n",
       "    <tr>\n",
       "      <td>1</td>\n",
       "      <td>0.396183</td>\n",
       "      <td>0.336324</td>\n",
       "      <td>0.127371</td>\n",
       "      <td>0.776364</td>\n",
       "      <td>01:12</td>\n",
       "    </tr>\n",
       "    <tr>\n",
       "      <td>2</td>\n",
       "      <td>0.397115</td>\n",
       "      <td>0.474822</td>\n",
       "      <td>0.150858</td>\n",
       "      <td>0.756043</td>\n",
       "      <td>01:15</td>\n",
       "    </tr>\n",
       "    <tr>\n",
       "      <td>3</td>\n",
       "      <td>0.317115</td>\n",
       "      <td>0.337016</td>\n",
       "      <td>0.123306</td>\n",
       "      <td>0.779359</td>\n",
       "      <td>01:13</td>\n",
       "    </tr>\n",
       "  </tbody>\n",
       "</table><p>\n",
       "\n",
       "    <div>\n",
       "        <style>\n",
       "            /* Turns off some styling */\n",
       "            progress {\n",
       "                /* gets rid of default border in Firefox and Opera. */\n",
       "                border: none;\n",
       "                /* Needs to be in here for Safari polyfill so background images work as expected. */\n",
       "                background-size: auto;\n",
       "            }\n",
       "            .progress-bar-interrupted, .progress-bar-interrupted::-webkit-progress-bar {\n",
       "                background: #F44336;\n",
       "            }\n",
       "        </style>\n",
       "      <progress value='139' class='' max='139', style='width:300px; height:20px; vertical-align: middle;'></progress>\n",
       "      100.00% [139/139 00:06<00:00]\n",
       "    </div>\n",
       "    "
      ],
      "text/plain": [
       "<IPython.core.display.HTML object>"
      ]
     },
     "metadata": {},
     "output_type": "display_data"
    },
    {
     "name": "stdout",
     "output_type": "stream",
     "text": [
      "Epoch 4: early stopping\n"
     ]
    }
   ],
   "source": [
    "# train model using slice, training lower layers at smaller learning rate than higher levels\n",
    "learn.fit_one_cycle(5, slice(1e-7, 0.9), callbacks=[EarlyStoppingCallback(learn, monitor='auroc', min_delta=0.01, patience=2)])"
   ]
  },
  {
   "cell_type": "code",
   "execution_count": 16,
   "metadata": {},
   "outputs": [],
   "source": [
    "# save the weights so far\n",
    "learn.save('trial17-rd3')"
   ]
  },
  {
   "cell_type": "markdown",
   "metadata": {},
   "source": [
    "# _Gather New Sample and Alter Image Size to 128_"
   ]
  },
  {
   "cell_type": "code",
   "execution_count": 42,
   "metadata": {},
   "outputs": [
    {
     "name": "stdout",
     "output_type": "stream",
     "text": [
      "\n",
      "(223414, 19)\n",
      "(234, 19)\n",
      "------------------------------\n",
      "Extracted Patient ID from Path column and created new column named Patient_id\n",
      "------------------------------\n",
      "Created function named seed_data to set seed for sample data\n",
      "------------------------------\n",
      "Seeded data.\n",
      "------------------------------\n",
      "Created sample dataframe with input seed and 0.05% of original data\n",
      "------------------------------\n",
      "Created training and validation dataframe with expressed competition pathology, replacing NaN's with 0 and resetting the index\n",
      "------------------------------\n",
      "\n",
      "Cardiomegaly\n",
      "------------------------------\n",
      "Training shape\n",
      "(11194, 2)\n",
      "\n",
      "Validation shape\n",
      "(234, 2)\n"
     ]
    }
   ],
   "source": [
    "# import data.py script to deal with data processing\n",
    "from test_folder import data\n",
    "\n",
    "# take 5% of data with seed of 50 and a single pathology, Cardiomegaly\n",
    "train_df, valid_df = data.data_processing(path, 'Cardiomegaly', 50, 0.05);"
   ]
  },
  {
   "cell_type": "code",
   "execution_count": 43,
   "metadata": {},
   "outputs": [],
   "source": [
    "# can use data module from test_folder to utilize uzero function, which converts uncertain labels to negative labels and turns column\n",
    "# integer type\n",
    "train_df, valid_df = data.uzero(train_df, valid_df, 'Cardiomegaly');"
   ]
  },
  {
   "cell_type": "code",
   "execution_count": 44,
   "metadata": {},
   "outputs": [
    {
     "name": "stdout",
     "output_type": "stream",
     "text": [
      "Created ImageList from train_df and randomly split 20% of data for validation set.\n",
      "------------------------------\n",
      "using bs=16, have 7016MB of GPU RAM free.\n",
      "------------------------------\n",
      "Created ImageDataBunch with size = 128\n",
      "------------------------------\n",
      "Created test set\n",
      "------------------------------\n",
      "The following print out contains information regarding training, validation and test data sets for ImageDataBunch.\n",
      "ImageDataBunch;\n",
      "\n",
      "Train: LabelList (8956 items)\n",
      "x: ImageList\n",
      "Image (3, 128, 128),Image (3, 128, 128),Image (3, 128, 128),Image (3, 128, 128),Image (3, 128, 128)\n",
      "y: CategoryList\n",
      "0,0,0,0,0\n",
      "Path: /home/jupyter/springboard-capstone-2/data;\n",
      "\n",
      "Valid: LabelList (2238 items)\n",
      "x: ImageList\n",
      "Image (3, 128, 128),Image (3, 128, 128),Image (3, 128, 128),Image (3, 128, 128),Image (3, 128, 128)\n",
      "y: CategoryList\n",
      "0,0,0,0,1\n",
      "Path: /home/jupyter/springboard-capstone-2/data;\n",
      "\n",
      "Test: LabelList (234 items)\n",
      "x: ImageList\n",
      "Image (3, 128, 128),Image (3, 128, 128),Image (3, 128, 128),Image (3, 128, 128),Image (3, 128, 128)\n",
      "y: EmptyLabelList\n",
      ",,,,\n",
      "Path: /home/jupyter/springboard-capstone-2/data\n"
     ]
    }
   ],
   "source": [
    "from test_folder import deeplearning\n",
    "\n",
    "data_128 = deeplearning.baseline_setup(path, train_df, valid_df, 'Cardiomegaly', image_size=128)"
   ]
  },
  {
   "cell_type": "code",
   "execution_count": 45,
   "metadata": {},
   "outputs": [],
   "source": [
    "# switch data to data_128\n",
    "learn.data = data_128"
   ]
  },
  {
   "cell_type": "markdown",
   "metadata": {},
   "source": [
    "# _Fourth Round of Training (w/ new data whose image size is 128)_"
   ]
  },
  {
   "cell_type": "code",
   "execution_count": 46,
   "metadata": {},
   "outputs": [],
   "source": [
    "# load the previous weights\n",
    "learn.load('trial17-rd3');"
   ]
  },
  {
   "cell_type": "code",
   "execution_count": 47,
   "metadata": {},
   "outputs": [],
   "source": [
    "# unfreeze all layers then find appropriate learning rate\n",
    "#learn.unfreeze()"
   ]
  },
  {
   "cell_type": "code",
   "execution_count": 48,
   "metadata": {},
   "outputs": [
    {
     "data": {
      "text/html": [],
      "text/plain": [
       "<IPython.core.display.HTML object>"
      ]
     },
     "metadata": {},
     "output_type": "display_data"
    },
    {
     "name": "stdout",
     "output_type": "stream",
     "text": [
      "LR Finder is complete, type {learner_name}.recorder.plot() to see the graph.\n",
      "Min numerical gradient: 7.94E-06\n",
      "Min loss divided by 10: 1.00E-04\n"
     ]
    },
    {
     "data": {
      "image/png": "[encoded data removed]",
      "text/plain": [
       "<Figure size 432x288 with 1 Axes>"
      ]
     },
     "metadata": {
      "image/png": {
       "height": 266,
       "width": 402
      }
     },
     "output_type": "display_data"
    }
   ],
   "source": [
    "# find appropriate learning rate\n",
    "deeplearning.lr_finder_plot(learn)"
   ]
  },
  {
   "cell_type": "code",
   "execution_count": 49,
   "metadata": {},
   "outputs": [
    {
     "data": {
      "text/plain": [
       "9e-05"
      ]
     },
     "execution_count": 49,
     "metadata": {},
     "output_type": "execute_result"
    }
   ],
   "source": [
    "lr = 9e-5\n",
    "lr"
   ]
  },
  {
   "cell_type": "code",
   "execution_count": 50,
   "metadata": {},
   "outputs": [
    {
     "data": {
      "text/html": [
       "<table border=\"1\" class=\"dataframe\">\n",
       "  <thead>\n",
       "    <tr style=\"text-align: left;\">\n",
       "      <th>epoch</th>\n",
       "      <th>train_loss</th>\n",
       "      <th>valid_loss</th>\n",
       "      <th>error_rate</th>\n",
       "      <th>auroc</th>\n",
       "      <th>time</th>\n",
       "    </tr>\n",
       "  </thead>\n",
       "  <tbody>\n",
       "    <tr>\n",
       "      <td>0</td>\n",
       "      <td>0.354514</td>\n",
       "      <td>0.385339</td>\n",
       "      <td>0.137623</td>\n",
       "      <td>0.755842</td>\n",
       "      <td>02:03</td>\n",
       "    </tr>\n",
       "    <tr>\n",
       "      <td>1</td>\n",
       "      <td>0.345235</td>\n",
       "      <td>0.352954</td>\n",
       "      <td>0.134942</td>\n",
       "      <td>0.776921</td>\n",
       "      <td>01:56</td>\n",
       "    </tr>\n",
       "    <tr>\n",
       "      <td>2</td>\n",
       "      <td>0.322662</td>\n",
       "      <td>0.395015</td>\n",
       "      <td>0.136282</td>\n",
       "      <td>0.769393</td>\n",
       "      <td>01:55</td>\n",
       "    </tr>\n",
       "    <tr>\n",
       "      <td>3</td>\n",
       "      <td>0.308488</td>\n",
       "      <td>0.336148</td>\n",
       "      <td>0.134495</td>\n",
       "      <td>0.792013</td>\n",
       "      <td>01:55</td>\n",
       "    </tr>\n",
       "    <tr>\n",
       "      <td>4</td>\n",
       "      <td>0.337320</td>\n",
       "      <td>0.334731</td>\n",
       "      <td>0.133601</td>\n",
       "      <td>0.793740</td>\n",
       "      <td>01:56</td>\n",
       "    </tr>\n",
       "  </tbody>\n",
       "</table>"
      ],
      "text/plain": [
       "<IPython.core.display.HTML object>"
      ]
     },
     "metadata": {},
     "output_type": "display_data"
    }
   ],
   "source": [
    "learn.fit_one_cycle(5, lr, callbacks=[EarlyStoppingCallback(learn, monitor='auroc', min_delta=0.01, patience=3)])"
   ]
  },
  {
   "cell_type": "code",
   "execution_count": 51,
   "metadata": {},
   "outputs": [],
   "source": [
    "learn.save('trial17-rd4')"
   ]
  },
  {
   "cell_type": "markdown",
   "metadata": {},
   "source": [
    "# _Fifth Round of Training_"
   ]
  },
  {
   "cell_type": "code",
   "execution_count": 52,
   "metadata": {},
   "outputs": [],
   "source": [
    "# load the previous weights\n",
    "learn.load('trial17-rd4');"
   ]
  },
  {
   "cell_type": "code",
   "execution_count": 53,
   "metadata": {},
   "outputs": [
    {
     "data": {
      "text/html": [],
      "text/plain": [
       "<IPython.core.display.HTML object>"
      ]
     },
     "metadata": {},
     "output_type": "display_data"
    },
    {
     "name": "stdout",
     "output_type": "stream",
     "text": [
      "LR Finder is complete, type {learner_name}.recorder.plot() to see the graph.\n",
      "Min numerical gradient: 1.58E-06\n",
      "Min loss divided by 10: 3.16E-07\n"
     ]
    },
    {
     "data": {
      "image/png": "[encoded data removed]",
      "text/plain": [
       "<Figure size 432x288 with 1 Axes>"
      ]
     },
     "metadata": {
      "image/png": {
       "height": 266,
       "width": 396
      }
     },
     "output_type": "display_data"
    }
   ],
   "source": [
    "# unfreeze all layers then find appropriate learning rate\n",
    "learn.unfreeze()\n",
    "\n",
    "# find appropriate learning rate\n",
    "deeplearning.lr_finder_plot(learn)"
   ]
  },
  {
   "cell_type": "code",
   "execution_count": 54,
   "metadata": {},
   "outputs": [
    {
     "data": {
      "text/plain": [
       "1e-06"
      ]
     },
     "execution_count": 54,
     "metadata": {},
     "output_type": "execute_result"
    }
   ],
   "source": [
    "lr = 1e-06\n",
    "lr"
   ]
  },
  {
   "cell_type": "code",
   "execution_count": 55,
   "metadata": {},
   "outputs": [
    {
     "data": {
      "text/html": [
       "\n",
       "    <div>\n",
       "        <style>\n",
       "            /* Turns off some styling */\n",
       "            progress {\n",
       "                /* gets rid of default border in Firefox and Opera. */\n",
       "                border: none;\n",
       "                /* Needs to be in here for Safari polyfill so background images work as expected. */\n",
       "                background-size: auto;\n",
       "            }\n",
       "            .progress-bar-interrupted, .progress-bar-interrupted::-webkit-progress-bar {\n",
       "                background: #F44336;\n",
       "            }\n",
       "        </style>\n",
       "      <progress value='3' class='' max='5', style='width:300px; height:20px; vertical-align: middle;'></progress>\n",
       "      60.00% [3/5 05:47<03:51]\n",
       "    </div>\n",
       "    \n",
       "<table border=\"1\" class=\"dataframe\">\n",
       "  <thead>\n",
       "    <tr style=\"text-align: left;\">\n",
       "      <th>epoch</th>\n",
       "      <th>train_loss</th>\n",
       "      <th>valid_loss</th>\n",
       "      <th>error_rate</th>\n",
       "      <th>auroc</th>\n",
       "      <th>time</th>\n",
       "    </tr>\n",
       "  </thead>\n",
       "  <tbody>\n",
       "    <tr>\n",
       "      <td>0</td>\n",
       "      <td>0.291797</td>\n",
       "      <td>0.332712</td>\n",
       "      <td>0.133155</td>\n",
       "      <td>0.794290</td>\n",
       "      <td>01:55</td>\n",
       "    </tr>\n",
       "    <tr>\n",
       "      <td>1</td>\n",
       "      <td>0.321161</td>\n",
       "      <td>0.336508</td>\n",
       "      <td>0.134495</td>\n",
       "      <td>0.797271</td>\n",
       "      <td>01:55</td>\n",
       "    </tr>\n",
       "    <tr>\n",
       "      <td>2</td>\n",
       "      <td>0.344049</td>\n",
       "      <td>0.334075</td>\n",
       "      <td>0.132708</td>\n",
       "      <td>0.796706</td>\n",
       "      <td>01:56</td>\n",
       "    </tr>\n",
       "  </tbody>\n",
       "</table><p>\n",
       "\n",
       "    <div>\n",
       "        <style>\n",
       "            /* Turns off some styling */\n",
       "            progress {\n",
       "                /* gets rid of default border in Firefox and Opera. */\n",
       "                border: none;\n",
       "                /* Needs to be in here for Safari polyfill so background images work as expected. */\n",
       "                background-size: auto;\n",
       "            }\n",
       "            .progress-bar-interrupted, .progress-bar-interrupted::-webkit-progress-bar {\n",
       "                background: #F44336;\n",
       "            }\n",
       "        </style>\n",
       "      <progress value='140' class='' max='140', style='width:300px; height:20px; vertical-align: middle;'></progress>\n",
       "      100.00% [140/140 00:08<00:00]\n",
       "    </div>\n",
       "    "
      ],
      "text/plain": [
       "<IPython.core.display.HTML object>"
      ]
     },
     "metadata": {},
     "output_type": "display_data"
    },
    {
     "name": "stdout",
     "output_type": "stream",
     "text": [
      "Epoch 3: early stopping\n"
     ]
    }
   ],
   "source": [
    "learn.fit_one_cycle(5, lr, callbacks=[EarlyStoppingCallback(learn, monitor='auroc', min_delta=0.01, patience=2)])"
   ]
  },
  {
   "cell_type": "code",
   "execution_count": 57,
   "metadata": {},
   "outputs": [],
   "source": [
    "# save weights so far\n",
    "learn.save('trial17-rd5')"
   ]
  },
  {
   "cell_type": "markdown",
   "metadata": {},
   "source": [
    "# _Gather New Sample and Alter Image Size to 256_"
   ]
  },
  {
   "cell_type": "code",
   "execution_count": 70,
   "metadata": {},
   "outputs": [
    {
     "name": "stdout",
     "output_type": "stream",
     "text": [
      "\n",
      "(223414, 19)\n",
      "(234, 19)\n",
      "------------------------------\n",
      "Extracted Patient ID from Path column and created new column named Patient_id\n",
      "------------------------------\n",
      "Created function named seed_data to set seed for sample data\n",
      "------------------------------\n",
      "Seeded data.\n",
      "------------------------------\n",
      "Created sample dataframe with input seed and 0.05% of original data\n",
      "------------------------------\n",
      "Created training and validation dataframe with expressed competition pathology, replacing NaN's with 0 and resetting the index\n",
      "------------------------------\n",
      "\n",
      "Cardiomegaly\n",
      "------------------------------\n",
      "Training shape\n",
      "(11389, 2)\n",
      "\n",
      "Validation shape\n",
      "(234, 2)\n"
     ]
    }
   ],
   "source": [
    "# import data.py script to deal with data processing\n",
    "from test_folder import data\n",
    "\n",
    "# take 5% of data with seed of 50 and a single pathology, Cardiomegaly\n",
    "train_df, valid_df = data.data_processing(path, 'Cardiomegaly', 175, 0.05);"
   ]
  },
  {
   "cell_type": "code",
   "execution_count": 71,
   "metadata": {},
   "outputs": [],
   "source": [
    "# can use data module from test_folder to utilize uzero function, which converts uncertain labels to negative labels and turns column\n",
    "# integer type\n",
    "train_df, valid_df = data.uzero(train_df, valid_df, 'Cardiomegaly');"
   ]
  },
  {
   "cell_type": "code",
   "execution_count": 72,
   "metadata": {},
   "outputs": [
    {
     "name": "stdout",
     "output_type": "stream",
     "text": [
      "Created ImageList from train_df and randomly split 20% of data for validation set.\n",
      "------------------------------\n",
      "using bs=16, have 7018MB of GPU RAM free.\n",
      "------------------------------\n",
      "Created ImageDataBunch with size = 256\n",
      "------------------------------\n",
      "Created test set\n",
      "------------------------------\n",
      "The following print out contains information regarding training, validation and test data sets for ImageDataBunch.\n",
      "ImageDataBunch;\n",
      "\n",
      "Train: LabelList (9112 items)\n",
      "x: ImageList\n",
      "Image (3, 256, 256),Image (3, 256, 256),Image (3, 256, 256),Image (3, 256, 256),Image (3, 256, 256)\n",
      "y: CategoryList\n",
      "0,0,0,0,0\n",
      "Path: /home/jupyter/springboard-capstone-2/data;\n",
      "\n",
      "Valid: LabelList (2277 items)\n",
      "x: ImageList\n",
      "Image (3, 256, 256),Image (3, 256, 256),Image (3, 256, 256),Image (3, 256, 256),Image (3, 256, 256)\n",
      "y: CategoryList\n",
      "0,0,0,0,0\n",
      "Path: /home/jupyter/springboard-capstone-2/data;\n",
      "\n",
      "Test: LabelList (234 items)\n",
      "x: ImageList\n",
      "Image (3, 256, 256),Image (3, 256, 256),Image (3, 256, 256),Image (3, 256, 256),Image (3, 256, 256)\n",
      "y: EmptyLabelList\n",
      ",,,,\n",
      "Path: /home/jupyter/springboard-capstone-2/data\n"
     ]
    }
   ],
   "source": [
    "from test_folder import deeplearning\n",
    "\n",
    "data_256 = deeplearning.baseline_setup(path, train_df, valid_df, 'Cardiomegaly', image_size=256)"
   ]
  },
  {
   "cell_type": "code",
   "execution_count": 73,
   "metadata": {},
   "outputs": [],
   "source": [
    "# switch data to data_256\n",
    "learn.data = data_256"
   ]
  },
  {
   "cell_type": "markdown",
   "metadata": {},
   "source": [
    "# _Sixth Round of Training_"
   ]
  },
  {
   "cell_type": "code",
   "execution_count": 74,
   "metadata": {},
   "outputs": [],
   "source": [
    "# load the previous weights\n",
    "learn.load('trial17-rd5');\n",
    "\n",
    "# freeze lower layers\n",
    "#learn.freeze()"
   ]
  },
  {
   "cell_type": "code",
   "execution_count": 75,
   "metadata": {},
   "outputs": [
    {
     "data": {
      "text/html": [],
      "text/plain": [
       "<IPython.core.display.HTML object>"
      ]
     },
     "metadata": {},
     "output_type": "display_data"
    },
    {
     "name": "stdout",
     "output_type": "stream",
     "text": [
      "LR Finder is complete, type {learner_name}.recorder.plot() to see the graph.\n",
      "Min numerical gradient: 1.00E-07\n",
      "Min loss divided by 10: 6.31E-03\n"
     ]
    },
    {
     "data": {
      "image/png": "[encoded data removed]",
      "text/plain": [
       "<Figure size 432x288 with 1 Axes>"
      ]
     },
     "metadata": {
      "image/png": {
       "height": 266,
       "width": 402
      }
     },
     "output_type": "display_data"
    }
   ],
   "source": [
    "# find appropriate learning rate\n",
    "deeplearning.lr_finder_plot(learn)"
   ]
  },
  {
   "cell_type": "code",
   "execution_count": 76,
   "metadata": {},
   "outputs": [
    {
     "data": {
      "text/plain": [
       "5e-05"
      ]
     },
     "execution_count": 76,
     "metadata": {},
     "output_type": "execute_result"
    }
   ],
   "source": [
    "lr = 5e-5\n",
    "lr"
   ]
  },
  {
   "cell_type": "code",
   "execution_count": 78,
   "metadata": {},
   "outputs": [
    {
     "data": {
      "text/html": [
       "<table border=\"1\" class=\"dataframe\">\n",
       "  <thead>\n",
       "    <tr style=\"text-align: left;\">\n",
       "      <th>epoch</th>\n",
       "      <th>train_loss</th>\n",
       "      <th>valid_loss</th>\n",
       "      <th>error_rate</th>\n",
       "      <th>auroc</th>\n",
       "      <th>time</th>\n",
       "    </tr>\n",
       "  </thead>\n",
       "  <tbody>\n",
       "    <tr>\n",
       "      <td>0</td>\n",
       "      <td>0.398669</td>\n",
       "      <td>0.367353</td>\n",
       "      <td>0.128678</td>\n",
       "      <td>0.680210</td>\n",
       "      <td>02:27</td>\n",
       "    </tr>\n",
       "    <tr>\n",
       "      <td>1</td>\n",
       "      <td>0.363418</td>\n",
       "      <td>0.371411</td>\n",
       "      <td>0.128239</td>\n",
       "      <td>0.708303</td>\n",
       "      <td>02:27</td>\n",
       "    </tr>\n",
       "    <tr>\n",
       "      <td>2</td>\n",
       "      <td>0.353196</td>\n",
       "      <td>0.347013</td>\n",
       "      <td>0.127800</td>\n",
       "      <td>0.724361</td>\n",
       "      <td>02:27</td>\n",
       "    </tr>\n",
       "    <tr>\n",
       "      <td>3</td>\n",
       "      <td>0.338649</td>\n",
       "      <td>0.346011</td>\n",
       "      <td>0.127361</td>\n",
       "      <td>0.726168</td>\n",
       "      <td>02:27</td>\n",
       "    </tr>\n",
       "    <tr>\n",
       "      <td>4</td>\n",
       "      <td>0.357701</td>\n",
       "      <td>0.345006</td>\n",
       "      <td>0.127361</td>\n",
       "      <td>0.730948</td>\n",
       "      <td>02:28</td>\n",
       "    </tr>\n",
       "  </tbody>\n",
       "</table>"
      ],
      "text/plain": [
       "<IPython.core.display.HTML object>"
      ]
     },
     "metadata": {},
     "output_type": "display_data"
    }
   ],
   "source": [
    "learn.fit_one_cycle(5, slice(1e-4, 1e-2), callbacks=[EarlyStoppingCallback(learn, monitor='auroc', min_delta=0.01, patience=2)])"
   ]
  },
  {
   "cell_type": "code",
   "execution_count": 79,
   "metadata": {},
   "outputs": [],
   "source": [
    "learn.save('trial17-rd6')"
   ]
  },
  {
   "cell_type": "code",
   "execution_count": null,
   "metadata": {},
   "outputs": [],
   "source": []
  }
 ],
 "metadata": {
  "kernelspec": {
   "display_name": "Python 3",
   "language": "python",
   "name": "python3"
  },
  "language_info": {
   "codemirror_mode": {
    "name": "ipython",
    "version": 3
   },
   "file_extension": ".py",
   "mimetype": "text/x-python",
   "name": "python",
   "nbconvert_exporter": "python",
   "pygments_lexer": "ipython3",
   "version": "3.7.0"
  }
 },
 "nbformat": 4,
 "nbformat_minor": 2
}
