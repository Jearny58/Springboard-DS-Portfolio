{
 "cells": [
  {
   "cell_type": "markdown",
   "metadata": {},
   "source": [
    "# _Trial 30_\n",
    "\n",
    "__July 19, 2019__"
   ]
  },
  {
   "cell_type": "code",
   "execution_count": 1,
   "metadata": {},
   "outputs": [],
   "source": [
    "%reload_ext autoreload\n",
    "%autoreload 2\n",
    "%matplotlib inline"
   ]
  },
  {
   "cell_type": "code",
   "execution_count": 2,
   "metadata": {},
   "outputs": [],
   "source": [
    "# fastai libraries\n",
    "from fastai.vision import *\n",
    "from fastai.callbacks.hooks import *\n",
    "from fastai.utils.mem import *\n",
    "from fastai.callbacks import EarlyStoppingCallback, SaveModelCallback"
   ]
  },
  {
   "cell_type": "code",
   "execution_count": 3,
   "metadata": {},
   "outputs": [],
   "source": [
    "# import libraries\n",
    "import pandas as pd\n",
    "pd.options.display.max_columns = None\n",
    "import numpy as np\n",
    "import random\n",
    "import os\n",
    "\n",
    "# Matplotlib\n",
    "%matplotlib inline\n",
    "%config InlineBackend.figure_format='retina'\n",
    "import matplotlib as mpl\n",
    "import matplotlib.pyplot as plt\n",
    "import seaborn as sns\n",
    "plt.style.use('ggplot')"
   ]
  },
  {
   "cell_type": "code",
   "execution_count": 4,
   "metadata": {},
   "outputs": [
    {
     "data": {
      "text/plain": [
       "PosixPath('/home/jupyter/springboard-capstone-2/data')"
      ]
     },
     "execution_count": 4,
     "metadata": {},
     "output_type": "execute_result"
    }
   ],
   "source": [
    "path = Config.data_path()\n",
    "path"
   ]
  },
  {
   "cell_type": "markdown",
   "metadata": {},
   "source": [
    "# _Load in Data_"
   ]
  },
  {
   "cell_type": "code",
   "execution_count": 5,
   "metadata": {},
   "outputs": [
    {
     "name": "stdout",
     "output_type": "stream",
     "text": [
      "Read in training and validation data sets\n",
      "------------------------------\n",
      "Added column to both data sets that indicates if observation is part of validation set or not.\n",
      "------------------------------\n",
      "Extracted patient ID and study number for each observation and assigned into new columns.\n",
      "------------------------------\n",
      "Filled in NaNs within pathology columns with 0 (see Stanford ML Github for further information on dealing with NaNs).\n",
      "------------------------------\n",
      "Converted pathology columns to integer type.\n",
      "------------------------------\n",
      "Pre-replacement Label Distribution: Label 0 = 188327, Label 1 = 27000, Label -1 = 8087\n",
      "------------------------------\n",
      "Replaced uncertain labels in Cardiomegaly column with 0 (i.e. negative)\n",
      "Post-replacement Label Distribution: Label 0 = 196414, Label 1 = 27000\n",
      "Does number of post-replacement 0 labels equal the sum of pre-replacement -1s and 0s? True\n",
      "Returned training and validation data sets as pandas dataframes.\n"
     ]
    }
   ],
   "source": [
    "from capstone import sample\n",
    "\n",
    "train_df, valid_df = sample.prep_data(path);"
   ]
  },
  {
   "cell_type": "code",
   "execution_count": 6,
   "metadata": {},
   "outputs": [],
   "source": [
    "# set seed to help with reproducibility\n",
    "sample.set_seed(58)"
   ]
  },
  {
   "cell_type": "code",
   "execution_count": 7,
   "metadata": {},
   "outputs": [
    {
     "name": "stdout",
     "output_type": "stream",
     "text": [
      "Created two new data sets, one with positive observations and the other with the negatives.\n",
      "The shape of dataframe containing 0 (negative) labels: (196414, 22)\n",
      "The shape of dataframe containing 1 (positive) labels: (27000, 22)\n",
      "------------------------------\n",
      "Random over-sampling: \n",
      "1    196414\n",
      "0    196414\n",
      "Name: Cardiomegaly, dtype: int64\n",
      "------------------------------\n",
      "Sampled from over-sampled dataframe.\n",
      "Value Counts for Cardiomegaly column in new dataframe: \n",
      "0    59075\n",
      "1    58773\n",
      "Name: Cardiomegaly, dtype: int64\n",
      "------------------------------\n",
      "Concatenated oversampled training data set with validation data.\n",
      "Returning full data set.\n"
     ]
    }
   ],
   "source": [
    "full_df = sample.oversample_and_prep(train_df, valid_df, 0.3);"
   ]
  },
  {
   "cell_type": "code",
   "execution_count": 8,
   "metadata": {},
   "outputs": [
    {
     "data": {
      "text/html": [
       "<div>\n",
       "<style scoped>\n",
       "    .dataframe tbody tr th:only-of-type {\n",
       "        vertical-align: middle;\n",
       "    }\n",
       "\n",
       "    .dataframe tbody tr th {\n",
       "        vertical-align: top;\n",
       "    }\n",
       "\n",
       "    .dataframe thead th {\n",
       "        text-align: right;\n",
       "    }\n",
       "</style>\n",
       "<table border=\"1\" class=\"dataframe\">\n",
       "  <thead>\n",
       "    <tr style=\"text-align: right;\">\n",
       "      <th></th>\n",
       "      <th>Path</th>\n",
       "      <th>Sex</th>\n",
       "      <th>Age</th>\n",
       "      <th>Frontal/Lateral</th>\n",
       "      <th>AP/PA</th>\n",
       "      <th>No Finding</th>\n",
       "      <th>Enlarged Cardiomediastinum</th>\n",
       "      <th>Cardiomegaly</th>\n",
       "      <th>Lung Opacity</th>\n",
       "      <th>Lung Lesion</th>\n",
       "      <th>Edema</th>\n",
       "      <th>Consolidation</th>\n",
       "      <th>Pneumonia</th>\n",
       "      <th>Atelectasis</th>\n",
       "      <th>Pneumothorax</th>\n",
       "      <th>Pleural Effusion</th>\n",
       "      <th>Pleural Other</th>\n",
       "      <th>Fracture</th>\n",
       "      <th>Support Devices</th>\n",
       "      <th>valid</th>\n",
       "      <th>patient</th>\n",
       "      <th>study</th>\n",
       "    </tr>\n",
       "  </thead>\n",
       "  <tbody>\n",
       "    <tr>\n",
       "      <th>0</th>\n",
       "      <td>CheXpert-v1.0-small/train/patient09559/study1/...</td>\n",
       "      <td>Female</td>\n",
       "      <td>27</td>\n",
       "      <td>Lateral</td>\n",
       "      <td>NaN</td>\n",
       "      <td>1</td>\n",
       "      <td>0</td>\n",
       "      <td>0</td>\n",
       "      <td>0</td>\n",
       "      <td>0</td>\n",
       "      <td>0</td>\n",
       "      <td>0</td>\n",
       "      <td>0</td>\n",
       "      <td>0</td>\n",
       "      <td>0</td>\n",
       "      <td>0</td>\n",
       "      <td>0</td>\n",
       "      <td>0</td>\n",
       "      <td>1</td>\n",
       "      <td>False</td>\n",
       "      <td>patient09559</td>\n",
       "      <td>study1</td>\n",
       "    </tr>\n",
       "    <tr>\n",
       "      <th>1</th>\n",
       "      <td>CheXpert-v1.0-small/train/patient28371/study11...</td>\n",
       "      <td>Male</td>\n",
       "      <td>32</td>\n",
       "      <td>Frontal</td>\n",
       "      <td>PA</td>\n",
       "      <td>0</td>\n",
       "      <td>0</td>\n",
       "      <td>0</td>\n",
       "      <td>0</td>\n",
       "      <td>0</td>\n",
       "      <td>0</td>\n",
       "      <td>1</td>\n",
       "      <td>0</td>\n",
       "      <td>0</td>\n",
       "      <td>0</td>\n",
       "      <td>0</td>\n",
       "      <td>1</td>\n",
       "      <td>0</td>\n",
       "      <td>0</td>\n",
       "      <td>False</td>\n",
       "      <td>patient28371</td>\n",
       "      <td>study11</td>\n",
       "    </tr>\n",
       "    <tr>\n",
       "      <th>2</th>\n",
       "      <td>CheXpert-v1.0-small/train/patient28414/study1/...</td>\n",
       "      <td>Male</td>\n",
       "      <td>51</td>\n",
       "      <td>Lateral</td>\n",
       "      <td>NaN</td>\n",
       "      <td>0</td>\n",
       "      <td>0</td>\n",
       "      <td>1</td>\n",
       "      <td>1</td>\n",
       "      <td>0</td>\n",
       "      <td>1</td>\n",
       "      <td>0</td>\n",
       "      <td>0</td>\n",
       "      <td>0</td>\n",
       "      <td>0</td>\n",
       "      <td>1</td>\n",
       "      <td>0</td>\n",
       "      <td>0</td>\n",
       "      <td>0</td>\n",
       "      <td>False</td>\n",
       "      <td>patient28414</td>\n",
       "      <td>study1</td>\n",
       "    </tr>\n",
       "    <tr>\n",
       "      <th>3</th>\n",
       "      <td>CheXpert-v1.0-small/train/patient13227/study17...</td>\n",
       "      <td>Male</td>\n",
       "      <td>67</td>\n",
       "      <td>Frontal</td>\n",
       "      <td>AP</td>\n",
       "      <td>0</td>\n",
       "      <td>0</td>\n",
       "      <td>1</td>\n",
       "      <td>0</td>\n",
       "      <td>0</td>\n",
       "      <td>0</td>\n",
       "      <td>0</td>\n",
       "      <td>0</td>\n",
       "      <td>0</td>\n",
       "      <td>0</td>\n",
       "      <td>1</td>\n",
       "      <td>0</td>\n",
       "      <td>0</td>\n",
       "      <td>1</td>\n",
       "      <td>False</td>\n",
       "      <td>patient13227</td>\n",
       "      <td>study17</td>\n",
       "    </tr>\n",
       "    <tr>\n",
       "      <th>4</th>\n",
       "      <td>CheXpert-v1.0-small/train/patient13487/study2/...</td>\n",
       "      <td>Male</td>\n",
       "      <td>86</td>\n",
       "      <td>Frontal</td>\n",
       "      <td>PA</td>\n",
       "      <td>0</td>\n",
       "      <td>0</td>\n",
       "      <td>0</td>\n",
       "      <td>1</td>\n",
       "      <td>-1</td>\n",
       "      <td>0</td>\n",
       "      <td>0</td>\n",
       "      <td>0</td>\n",
       "      <td>0</td>\n",
       "      <td>1</td>\n",
       "      <td>1</td>\n",
       "      <td>0</td>\n",
       "      <td>0</td>\n",
       "      <td>-1</td>\n",
       "      <td>False</td>\n",
       "      <td>patient13487</td>\n",
       "      <td>study2</td>\n",
       "    </tr>\n",
       "  </tbody>\n",
       "</table>\n",
       "</div>"
      ],
      "text/plain": [
       "                                                Path     Sex  Age  \\\n",
       "0  CheXpert-v1.0-small/train/patient09559/study1/...  Female   27   \n",
       "1  CheXpert-v1.0-small/train/patient28371/study11...    Male   32   \n",
       "2  CheXpert-v1.0-small/train/patient28414/study1/...    Male   51   \n",
       "3  CheXpert-v1.0-small/train/patient13227/study17...    Male   67   \n",
       "4  CheXpert-v1.0-small/train/patient13487/study2/...    Male   86   \n",
       "\n",
       "  Frontal/Lateral AP/PA  No Finding  Enlarged Cardiomediastinum  Cardiomegaly  \\\n",
       "0         Lateral   NaN           1                           0             0   \n",
       "1         Frontal    PA           0                           0             0   \n",
       "2         Lateral   NaN           0                           0             1   \n",
       "3         Frontal    AP           0                           0             1   \n",
       "4         Frontal    PA           0                           0             0   \n",
       "\n",
       "   Lung Opacity  Lung Lesion  Edema  Consolidation  Pneumonia  Atelectasis  \\\n",
       "0             0            0      0              0          0            0   \n",
       "1             0            0      0              1          0            0   \n",
       "2             1            0      1              0          0            0   \n",
       "3             0            0      0              0          0            0   \n",
       "4             1           -1      0              0          0            0   \n",
       "\n",
       "   Pneumothorax  Pleural Effusion  Pleural Other  Fracture  Support Devices  \\\n",
       "0             0                 0              0         0                1   \n",
       "1             0                 0              1         0                0   \n",
       "2             0                 1              0         0                0   \n",
       "3             0                 1              0         0                1   \n",
       "4             1                 1              0         0               -1   \n",
       "\n",
       "   valid       patient    study  \n",
       "0  False  patient09559   study1  \n",
       "1  False  patient28371  study11  \n",
       "2  False  patient28414   study1  \n",
       "3  False  patient13227  study17  \n",
       "4  False  patient13487   study2  "
      ]
     },
     "execution_count": 8,
     "metadata": {},
     "output_type": "execute_result"
    }
   ],
   "source": [
    "full_df.head()"
   ]
  },
  {
   "cell_type": "markdown",
   "metadata": {},
   "source": [
    "# _Deep Learning Fast.ai Set Up_"
   ]
  },
  {
   "cell_type": "code",
   "execution_count": 9,
   "metadata": {},
   "outputs": [],
   "source": [
    "from capstone import replicate\n",
    "\n",
    "src = replicate.get_src(full_df, path, feature_col='Cardiomegaly')"
   ]
  },
  {
   "cell_type": "code",
   "execution_count": 10,
   "metadata": {},
   "outputs": [
    {
     "name": "stdout",
     "output_type": "stream",
     "text": [
      "using bs=16, have 7601MB of GPU RAM free.\n",
      "------------------------------\n",
      "Data ready.\n"
     ]
    }
   ],
   "source": [
    "data = replicate.get_data(320, src, default_trans = False)"
   ]
  },
  {
   "cell_type": "code",
   "execution_count": 11,
   "metadata": {},
   "outputs": [
    {
     "data": {
      "text/plain": [
       "ImageDataBunch;\n",
       "\n",
       "Train: LabelList (117848 items)\n",
       "x: ImageList\n",
       "Image (3, 320, 320),Image (3, 320, 320),Image (3, 320, 320),Image (3, 320, 320),Image (3, 320, 320)\n",
       "y: CategoryList\n",
       "0,0,1,1,0\n",
       "Path: /home/jupyter/springboard-capstone-2/data;\n",
       "\n",
       "Valid: LabelList (234 items)\n",
       "x: ImageList\n",
       "Image (3, 320, 320),Image (3, 320, 320),Image (3, 320, 320),Image (3, 320, 320),Image (3, 320, 320)\n",
       "y: CategoryList\n",
       "1,0,0,0,0\n",
       "Path: /home/jupyter/springboard-capstone-2/data;\n",
       "\n",
       "Test: None"
      ]
     },
     "execution_count": 11,
     "metadata": {},
     "output_type": "execute_result"
    }
   ],
   "source": [
    "data"
   ]
  },
  {
   "cell_type": "markdown",
   "metadata": {},
   "source": [
    "# _Create DenseNet Model_\n",
    "\n",
    "__First Round of Training__"
   ]
  },
  {
   "cell_type": "code",
   "execution_count": 12,
   "metadata": {},
   "outputs": [],
   "source": [
    "learn = cnn_learner(data=data, base_arch=models.densenet121, \n",
    "                    metrics=[AUROC(), Recall(), Precision(), error_rate],\n",
    "                    pretrained=True, ps=0.5, bn_final=True)"
   ]
  },
  {
   "cell_type": "code",
   "execution_count": 13,
   "metadata": {},
   "outputs": [
    {
     "data": {
      "text/html": [],
      "text/plain": [
       "<IPython.core.display.HTML object>"
      ]
     },
     "metadata": {},
     "output_type": "display_data"
    },
    {
     "name": "stdout",
     "output_type": "stream",
     "text": [
      "LR Finder is complete, type {learner_name}.recorder.plot() to see the graph.\n",
      "Min numerical gradient: 2.24E-06\n",
      "Min loss divided by 10: 8.51E-02\n"
     ]
    },
    {
     "data": {
      "image/png": "[encoded data removed]",
      "text/plain": [
       "<Figure size 432x288 with 1 Axes>"
      ]
     },
     "metadata": {
      "image/png": {
       "height": 266,
       "width": 396
      }
     },
     "output_type": "display_data"
    }
   ],
   "source": [
    "from capstone import deeplearning\n",
    "\n",
    "deeplearning.lr_finder_plot(learn);"
   ]
  },
  {
   "cell_type": "code",
   "execution_count": 14,
   "metadata": {},
   "outputs": [
    {
     "data": {
      "text/html": [
       "<table border=\"1\" class=\"dataframe\">\n",
       "  <thead>\n",
       "    <tr style=\"text-align: left;\">\n",
       "      <th>epoch</th>\n",
       "      <th>train_loss</th>\n",
       "      <th>valid_loss</th>\n",
       "      <th>auroc</th>\n",
       "      <th>recall</th>\n",
       "      <th>precision</th>\n",
       "      <th>error_rate</th>\n",
       "      <th>time</th>\n",
       "    </tr>\n",
       "  </thead>\n",
       "  <tbody>\n",
       "    <tr>\n",
       "      <td>0</td>\n",
       "      <td>0.506237</td>\n",
       "      <td>0.421783</td>\n",
       "      <td>0.864103</td>\n",
       "      <td>0.647059</td>\n",
       "      <td>0.676923</td>\n",
       "      <td>0.192308</td>\n",
       "      <td>43:22</td>\n",
       "    </tr>\n",
       "    <tr>\n",
       "      <td>1</td>\n",
       "      <td>0.521744</td>\n",
       "      <td>0.473742</td>\n",
       "      <td>0.815291</td>\n",
       "      <td>0.367647</td>\n",
       "      <td>0.657895</td>\n",
       "      <td>0.239316</td>\n",
       "      <td>42:31</td>\n",
       "    </tr>\n",
       "    <tr>\n",
       "      <td>2</td>\n",
       "      <td>0.499431</td>\n",
       "      <td>0.435838</td>\n",
       "      <td>0.842576</td>\n",
       "      <td>0.529412</td>\n",
       "      <td>0.782609</td>\n",
       "      <td>0.179487</td>\n",
       "      <td>42:26</td>\n",
       "    </tr>\n",
       "    <tr>\n",
       "      <td>3</td>\n",
       "      <td>0.471259</td>\n",
       "      <td>0.460393</td>\n",
       "      <td>0.813076</td>\n",
       "      <td>0.514706</td>\n",
       "      <td>0.729167</td>\n",
       "      <td>0.196581</td>\n",
       "      <td>42:26</td>\n",
       "    </tr>\n",
       "    <tr>\n",
       "      <td>4</td>\n",
       "      <td>0.469090</td>\n",
       "      <td>0.447554</td>\n",
       "      <td>0.826541</td>\n",
       "      <td>0.397059</td>\n",
       "      <td>0.729730</td>\n",
       "      <td>0.217949</td>\n",
       "      <td>42:27</td>\n",
       "    </tr>\n",
       "  </tbody>\n",
       "</table>"
      ],
      "text/plain": [
       "<IPython.core.display.HTML object>"
      ]
     },
     "metadata": {},
     "output_type": "display_data"
    },
    {
     "name": "stdout",
     "output_type": "stream",
     "text": [
      "Better model found at epoch 0 with auroc value: 0.8641034960746765.\n"
     ]
    }
   ],
   "source": [
    "learn.fit_one_cycle(5, 9e-3, \n",
    "                    callbacks=[SaveModelCallback(learn, every='improvement', monitor='auroc', name='best-dn121-trial30-rd1')])\n"
   ]
  },
  {
   "cell_type": "code",
   "execution_count": 15,
   "metadata": {},
   "outputs": [],
   "source": [
    "learn.save('trial30-rd1')"
   ]
  },
  {
   "cell_type": "markdown",
   "metadata": {},
   "source": [
    "# Second Round of Training"
   ]
  },
  {
   "cell_type": "code",
   "execution_count": 17,
   "metadata": {},
   "outputs": [],
   "source": [
    "learn.load('trial30-rd1');"
   ]
  },
  {
   "cell_type": "code",
   "execution_count": 18,
   "metadata": {},
   "outputs": [],
   "source": [
    "learn.unfreeze()"
   ]
  },
  {
   "cell_type": "code",
   "execution_count": 19,
   "metadata": {},
   "outputs": [
    {
     "data": {
      "text/html": [],
      "text/plain": [
       "<IPython.core.display.HTML object>"
      ]
     },
     "metadata": {},
     "output_type": "display_data"
    },
    {
     "name": "stdout",
     "output_type": "stream",
     "text": [
      "LR Finder is complete, type {learner_name}.recorder.plot() to see the graph.\n",
      "Min numerical gradient: 6.31E-07\n",
      "Min loss divided by 10: 7.94E-08\n"
     ]
    },
    {
     "data": {
      "image/png": "[encoded data removed]",
      "text/plain": [
       "<Figure size 432x288 with 1 Axes>"
      ]
     },
     "metadata": {
      "image/png": {
       "height": 266,
       "width": 396
      }
     },
     "output_type": "display_data"
    }
   ],
   "source": [
    "from capstone import deeplearning\n",
    "deeplearning.lr_finder_plot(learn);"
   ]
  },
  {
   "cell_type": "code",
   "execution_count": 20,
   "metadata": {},
   "outputs": [
    {
     "data": {
      "text/plain": [
       "6.309573444801932e-07"
      ]
     },
     "execution_count": 20,
     "metadata": {},
     "output_type": "execute_result"
    }
   ],
   "source": [
    "lr = learn.recorder.min_grad_lr\n",
    "lr"
   ]
  },
  {
   "cell_type": "code",
   "execution_count": null,
   "metadata": {},
   "outputs": [
    {
     "data": {
      "text/html": [
       "\n",
       "    <div>\n",
       "        <style>\n",
       "            /* Turns off some styling */\n",
       "            progress {\n",
       "                /* gets rid of default border in Firefox and Opera. */\n",
       "                border: none;\n",
       "                /* Needs to be in here for Safari polyfill so background images work as expected. */\n",
       "                background-size: auto;\n",
       "            }\n",
       "            .progress-bar-interrupted, .progress-bar-interrupted::-webkit-progress-bar {\n",
       "                background: #F44336;\n",
       "            }\n",
       "        </style>\n",
       "      <progress value='2' class='' max='5', style='width:300px; height:20px; vertical-align: middle;'></progress>\n",
       "      40.00% [2/5 1:55:03<2:52:35]\n",
       "    </div>\n",
       "    \n",
       "<table border=\"1\" class=\"dataframe\">\n",
       "  <thead>\n",
       "    <tr style=\"text-align: left;\">\n",
       "      <th>epoch</th>\n",
       "      <th>train_loss</th>\n",
       "      <th>valid_loss</th>\n",
       "      <th>auroc</th>\n",
       "      <th>recall</th>\n",
       "      <th>precision</th>\n",
       "      <th>error_rate</th>\n",
       "      <th>time</th>\n",
       "    </tr>\n",
       "  </thead>\n",
       "  <tbody>\n",
       "    <tr>\n",
       "      <td>0</td>\n",
       "      <td>0.502819</td>\n",
       "      <td>0.453218</td>\n",
       "      <td>0.824593</td>\n",
       "      <td>0.441176</td>\n",
       "      <td>0.652174</td>\n",
       "      <td>0.230769</td>\n",
       "      <td>57:26</td>\n",
       "    </tr>\n",
       "    <tr>\n",
       "      <td>1</td>\n",
       "      <td>0.482595</td>\n",
       "      <td>0.458340</td>\n",
       "      <td>0.819189</td>\n",
       "      <td>0.500000</td>\n",
       "      <td>0.641509</td>\n",
       "      <td>0.226496</td>\n",
       "      <td>57:36</td>\n",
       "    </tr>\n",
       "  </tbody>\n",
       "</table><p>\n",
       "\n",
       "    <div>\n",
       "        <style>\n",
       "            /* Turns off some styling */\n",
       "            progress {\n",
       "                /* gets rid of default border in Firefox and Opera. */\n",
       "                border: none;\n",
       "                /* Needs to be in here for Safari polyfill so background images work as expected. */\n",
       "                background-size: auto;\n",
       "            }\n",
       "            .progress-bar-interrupted, .progress-bar-interrupted::-webkit-progress-bar {\n",
       "                background: #F44336;\n",
       "            }\n",
       "        </style>\n",
       "      <progress value='143' class='' max='7365', style='width:300px; height:20px; vertical-align: middle;'></progress>\n",
       "      1.94% [143/7365 01:07<56:56 0.4977]\n",
       "    </div>\n",
       "    "
      ],
      "text/plain": [
       "<IPython.core.display.HTML object>"
      ]
     },
     "metadata": {},
     "output_type": "display_data"
    },
    {
     "name": "stdout",
     "output_type": "stream",
     "text": [
      "Better model found at epoch 0 with auroc value: 0.8245925307273865.\n"
     ]
    }
   ],
   "source": [
    "learn.fit_one_cycle(5, slice(lr, lr/5), \n",
    "                    callbacks=[SaveModelCallback(learn, every='improvement', monitor='auroc', name='best-dn121-trial30-rd2')])\n"
   ]
  },
  {
   "cell_type": "markdown",
   "metadata": {},
   "source": [
    "# _Third Round w/ new data_"
   ]
  },
  {
   "cell_type": "code",
   "execution_count": 17,
   "metadata": {},
   "outputs": [],
   "source": [
    "# set seed to help with reproducibility\n",
    "sample.set_seed(85)"
   ]
  },
  {
   "cell_type": "code",
   "execution_count": 18,
   "metadata": {},
   "outputs": [
    {
     "name": "stdout",
     "output_type": "stream",
     "text": [
      "Created two new data sets, one with positive observations and the other with the negatives.\n",
      "The shape of dataframe containing 0 (negative) labels: (196414, 22)\n",
      "The shape of dataframe containing 1 (positive) labels: (27000, 22)\n",
      "------------------------------\n",
      "Random over-sampling: \n",
      "1    196414\n",
      "0    196414\n",
      "Name: Cardiomegaly, dtype: int64\n",
      "------------------------------\n",
      "Sampled from over-sampled dataframe.\n",
      "Value Counts for Cardiomegaly column in new dataframe: \n",
      "0    19720\n",
      "1    19563\n",
      "Name: Cardiomegaly, dtype: int64\n",
      "------------------------------\n",
      "Concatenated oversampled training data set with validation data.\n",
      "Returning full data set.\n"
     ]
    }
   ],
   "source": [
    "full_df_2 = sample.oversample_and_prep(train_df, valid_df, 0.1);"
   ]
  },
  {
   "cell_type": "code",
   "execution_count": 19,
   "metadata": {},
   "outputs": [
    {
     "data": {
      "text/html": [
       "<div>\n",
       "<style scoped>\n",
       "    .dataframe tbody tr th:only-of-type {\n",
       "        vertical-align: middle;\n",
       "    }\n",
       "\n",
       "    .dataframe tbody tr th {\n",
       "        vertical-align: top;\n",
       "    }\n",
       "\n",
       "    .dataframe thead th {\n",
       "        text-align: right;\n",
       "    }\n",
       "</style>\n",
       "<table border=\"1\" class=\"dataframe\">\n",
       "  <thead>\n",
       "    <tr style=\"text-align: right;\">\n",
       "      <th></th>\n",
       "      <th>Path</th>\n",
       "      <th>Sex</th>\n",
       "      <th>Age</th>\n",
       "      <th>Frontal/Lateral</th>\n",
       "      <th>AP/PA</th>\n",
       "      <th>No Finding</th>\n",
       "      <th>Enlarged Cardiomediastinum</th>\n",
       "      <th>Cardiomegaly</th>\n",
       "      <th>Lung Opacity</th>\n",
       "      <th>Lung Lesion</th>\n",
       "      <th>Edema</th>\n",
       "      <th>Consolidation</th>\n",
       "      <th>Pneumonia</th>\n",
       "      <th>Atelectasis</th>\n",
       "      <th>Pneumothorax</th>\n",
       "      <th>Pleural Effusion</th>\n",
       "      <th>Pleural Other</th>\n",
       "      <th>Fracture</th>\n",
       "      <th>Support Devices</th>\n",
       "      <th>valid</th>\n",
       "      <th>patient</th>\n",
       "      <th>study</th>\n",
       "    </tr>\n",
       "  </thead>\n",
       "  <tbody>\n",
       "    <tr>\n",
       "      <th>0</th>\n",
       "      <td>CheXpert-v1.0-small/train/patient41183/study1/...</td>\n",
       "      <td>Male</td>\n",
       "      <td>48</td>\n",
       "      <td>Frontal</td>\n",
       "      <td>AP</td>\n",
       "      <td>0</td>\n",
       "      <td>0</td>\n",
       "      <td>1</td>\n",
       "      <td>0</td>\n",
       "      <td>0</td>\n",
       "      <td>1</td>\n",
       "      <td>1</td>\n",
       "      <td>-1</td>\n",
       "      <td>0</td>\n",
       "      <td>0</td>\n",
       "      <td>1</td>\n",
       "      <td>0</td>\n",
       "      <td>0</td>\n",
       "      <td>1</td>\n",
       "      <td>False</td>\n",
       "      <td>patient41183</td>\n",
       "      <td>study1</td>\n",
       "    </tr>\n",
       "    <tr>\n",
       "      <th>1</th>\n",
       "      <td>CheXpert-v1.0-small/train/patient50337/study1/...</td>\n",
       "      <td>Female</td>\n",
       "      <td>79</td>\n",
       "      <td>Frontal</td>\n",
       "      <td>AP</td>\n",
       "      <td>0</td>\n",
       "      <td>0</td>\n",
       "      <td>0</td>\n",
       "      <td>0</td>\n",
       "      <td>0</td>\n",
       "      <td>0</td>\n",
       "      <td>0</td>\n",
       "      <td>0</td>\n",
       "      <td>0</td>\n",
       "      <td>0</td>\n",
       "      <td>0</td>\n",
       "      <td>0</td>\n",
       "      <td>0</td>\n",
       "      <td>1</td>\n",
       "      <td>False</td>\n",
       "      <td>patient50337</td>\n",
       "      <td>study1</td>\n",
       "    </tr>\n",
       "    <tr>\n",
       "      <th>2</th>\n",
       "      <td>CheXpert-v1.0-small/train/patient34101/study3/...</td>\n",
       "      <td>Male</td>\n",
       "      <td>80</td>\n",
       "      <td>Frontal</td>\n",
       "      <td>AP</td>\n",
       "      <td>0</td>\n",
       "      <td>1</td>\n",
       "      <td>1</td>\n",
       "      <td>1</td>\n",
       "      <td>0</td>\n",
       "      <td>1</td>\n",
       "      <td>0</td>\n",
       "      <td>0</td>\n",
       "      <td>0</td>\n",
       "      <td>0</td>\n",
       "      <td>0</td>\n",
       "      <td>0</td>\n",
       "      <td>0</td>\n",
       "      <td>1</td>\n",
       "      <td>False</td>\n",
       "      <td>patient34101</td>\n",
       "      <td>study3</td>\n",
       "    </tr>\n",
       "    <tr>\n",
       "      <th>3</th>\n",
       "      <td>CheXpert-v1.0-small/train/patient16719/study13...</td>\n",
       "      <td>Male</td>\n",
       "      <td>58</td>\n",
       "      <td>Lateral</td>\n",
       "      <td>NaN</td>\n",
       "      <td>0</td>\n",
       "      <td>0</td>\n",
       "      <td>1</td>\n",
       "      <td>1</td>\n",
       "      <td>0</td>\n",
       "      <td>1</td>\n",
       "      <td>0</td>\n",
       "      <td>0</td>\n",
       "      <td>0</td>\n",
       "      <td>0</td>\n",
       "      <td>1</td>\n",
       "      <td>0</td>\n",
       "      <td>0</td>\n",
       "      <td>1</td>\n",
       "      <td>False</td>\n",
       "      <td>patient16719</td>\n",
       "      <td>study13</td>\n",
       "    </tr>\n",
       "    <tr>\n",
       "      <th>4</th>\n",
       "      <td>CheXpert-v1.0-small/train/patient30643/study1/...</td>\n",
       "      <td>Female</td>\n",
       "      <td>60</td>\n",
       "      <td>Frontal</td>\n",
       "      <td>AP</td>\n",
       "      <td>0</td>\n",
       "      <td>0</td>\n",
       "      <td>0</td>\n",
       "      <td>0</td>\n",
       "      <td>0</td>\n",
       "      <td>0</td>\n",
       "      <td>0</td>\n",
       "      <td>1</td>\n",
       "      <td>1</td>\n",
       "      <td>0</td>\n",
       "      <td>0</td>\n",
       "      <td>0</td>\n",
       "      <td>0</td>\n",
       "      <td>1</td>\n",
       "      <td>False</td>\n",
       "      <td>patient30643</td>\n",
       "      <td>study1</td>\n",
       "    </tr>\n",
       "  </tbody>\n",
       "</table>\n",
       "</div>"
      ],
      "text/plain": [
       "                                                Path     Sex  Age  \\\n",
       "0  CheXpert-v1.0-small/train/patient41183/study1/...    Male   48   \n",
       "1  CheXpert-v1.0-small/train/patient50337/study1/...  Female   79   \n",
       "2  CheXpert-v1.0-small/train/patient34101/study3/...    Male   80   \n",
       "3  CheXpert-v1.0-small/train/patient16719/study13...    Male   58   \n",
       "4  CheXpert-v1.0-small/train/patient30643/study1/...  Female   60   \n",
       "\n",
       "  Frontal/Lateral AP/PA  No Finding  Enlarged Cardiomediastinum  Cardiomegaly  \\\n",
       "0         Frontal    AP           0                           0             1   \n",
       "1         Frontal    AP           0                           0             0   \n",
       "2         Frontal    AP           0                           1             1   \n",
       "3         Lateral   NaN           0                           0             1   \n",
       "4         Frontal    AP           0                           0             0   \n",
       "\n",
       "   Lung Opacity  Lung Lesion  Edema  Consolidation  Pneumonia  Atelectasis  \\\n",
       "0             0            0      1              1         -1            0   \n",
       "1             0            0      0              0          0            0   \n",
       "2             1            0      1              0          0            0   \n",
       "3             1            0      1              0          0            0   \n",
       "4             0            0      0              0          1            1   \n",
       "\n",
       "   Pneumothorax  Pleural Effusion  Pleural Other  Fracture  Support Devices  \\\n",
       "0             0                 1              0         0                1   \n",
       "1             0                 0              0         0                1   \n",
       "2             0                 0              0         0                1   \n",
       "3             0                 1              0         0                1   \n",
       "4             0                 0              0         0                1   \n",
       "\n",
       "   valid       patient    study  \n",
       "0  False  patient41183   study1  \n",
       "1  False  patient50337   study1  \n",
       "2  False  patient34101   study3  \n",
       "3  False  patient16719  study13  \n",
       "4  False  patient30643   study1  "
      ]
     },
     "execution_count": 19,
     "metadata": {},
     "output_type": "execute_result"
    }
   ],
   "source": [
    "full_df_2.head()"
   ]
  },
  {
   "cell_type": "code",
   "execution_count": 20,
   "metadata": {},
   "outputs": [],
   "source": [
    "src_2 = replicate.get_src(full_df_2, path, feature_col='Cardiomegaly')"
   ]
  },
  {
   "cell_type": "code",
   "execution_count": 21,
   "metadata": {},
   "outputs": [
    {
     "name": "stdout",
     "output_type": "stream",
     "text": [
      "using bs=16, have 7002MB of GPU RAM free.\n",
      "------------------------------\n",
      "Data ready.\n"
     ]
    }
   ],
   "source": [
    "data_2 = replicate.get_data(320, src_2, default_trans = False)"
   ]
  },
  {
   "cell_type": "code",
   "execution_count": 22,
   "metadata": {},
   "outputs": [
    {
     "data": {
      "text/plain": [
       "ImageDataBunch;\n",
       "\n",
       "Train: LabelList (39283 items)\n",
       "x: ImageList\n",
       "Image (3, 320, 320),Image (3, 320, 320),Image (3, 320, 320),Image (3, 320, 320),Image (3, 320, 320)\n",
       "y: CategoryList\n",
       "1,0,1,1,0\n",
       "Path: /home/jupyter/springboard-capstone-2/data;\n",
       "\n",
       "Valid: LabelList (234 items)\n",
       "x: ImageList\n",
       "Image (3, 320, 320),Image (3, 320, 320),Image (3, 320, 320),Image (3, 320, 320),Image (3, 320, 320)\n",
       "y: CategoryList\n",
       "1,0,0,0,0\n",
       "Path: /home/jupyter/springboard-capstone-2/data;\n",
       "\n",
       "Test: None"
      ]
     },
     "execution_count": 22,
     "metadata": {},
     "output_type": "execute_result"
    }
   ],
   "source": [
    "data_2"
   ]
  },
  {
   "cell_type": "code",
   "execution_count": 23,
   "metadata": {},
   "outputs": [],
   "source": [
    "learn.data = data_2"
   ]
  },
  {
   "cell_type": "code",
   "execution_count": 24,
   "metadata": {},
   "outputs": [],
   "source": [
    "learn.load('best-dn121-trial30-rd2');"
   ]
  },
  {
   "cell_type": "code",
   "execution_count": 25,
   "metadata": {},
   "outputs": [],
   "source": [
    "learn.unfreeze()"
   ]
  },
  {
   "cell_type": "code",
   "execution_count": 26,
   "metadata": {},
   "outputs": [
    {
     "data": {
      "text/html": [],
      "text/plain": [
       "<IPython.core.display.HTML object>"
      ]
     },
     "metadata": {},
     "output_type": "display_data"
    },
    {
     "name": "stdout",
     "output_type": "stream",
     "text": [
      "LR Finder is complete, type {learner_name}.recorder.plot() to see the graph.\n",
      "Min numerical gradient: 5.01E-07\n",
      "Min loss divided by 10: 6.31E-07\n"
     ]
    },
    {
     "data": {
      "image/png": "[encoded data removed]",
      "text/plain": [
       "<Figure size 432x288 with 1 Axes>"
      ]
     },
     "metadata": {
      "image/png": {
       "height": 266,
       "width": 389
      }
     },
     "output_type": "display_data"
    }
   ],
   "source": [
    "from capstone import deeplearning\n",
    "deeplearning.lr_finder_plot(learn);"
   ]
  },
  {
   "cell_type": "code",
   "execution_count": 27,
   "metadata": {},
   "outputs": [
    {
     "data": {
      "text/plain": [
       "5.011872336272725e-07"
      ]
     },
     "execution_count": 27,
     "metadata": {},
     "output_type": "execute_result"
    }
   ],
   "source": [
    "lr = learn.recorder.min_grad_lr\n",
    "lr"
   ]
  },
  {
   "cell_type": "code",
   "execution_count": 28,
   "metadata": {},
   "outputs": [
    {
     "data": {
      "text/html": [
       "<table border=\"1\" class=\"dataframe\">\n",
       "  <thead>\n",
       "    <tr style=\"text-align: left;\">\n",
       "      <th>epoch</th>\n",
       "      <th>train_loss</th>\n",
       "      <th>valid_loss</th>\n",
       "      <th>auroc</th>\n",
       "      <th>recall</th>\n",
       "      <th>precision</th>\n",
       "      <th>error_rate</th>\n",
       "      <th>time</th>\n",
       "    </tr>\n",
       "  </thead>\n",
       "  <tbody>\n",
       "    <tr>\n",
       "      <td>0</td>\n",
       "      <td>0.515906</td>\n",
       "      <td>0.456392</td>\n",
       "      <td>0.826099</td>\n",
       "      <td>0.529412</td>\n",
       "      <td>0.642857</td>\n",
       "      <td>0.222222</td>\n",
       "      <td>19:52</td>\n",
       "    </tr>\n",
       "    <tr>\n",
       "      <td>1</td>\n",
       "      <td>0.506160</td>\n",
       "      <td>0.456472</td>\n",
       "      <td>0.822378</td>\n",
       "      <td>0.544118</td>\n",
       "      <td>0.637931</td>\n",
       "      <td>0.222222</td>\n",
       "      <td>19:27</td>\n",
       "    </tr>\n",
       "    <tr>\n",
       "      <td>2</td>\n",
       "      <td>0.511294</td>\n",
       "      <td>0.461590</td>\n",
       "      <td>0.824504</td>\n",
       "      <td>0.573529</td>\n",
       "      <td>0.639344</td>\n",
       "      <td>0.217949</td>\n",
       "      <td>19:28</td>\n",
       "    </tr>\n",
       "    <tr>\n",
       "      <td>3</td>\n",
       "      <td>0.509234</td>\n",
       "      <td>0.457913</td>\n",
       "      <td>0.820517</td>\n",
       "      <td>0.529412</td>\n",
       "      <td>0.654545</td>\n",
       "      <td>0.217949</td>\n",
       "      <td>19:28</td>\n",
       "    </tr>\n",
       "    <tr>\n",
       "      <td>4</td>\n",
       "      <td>0.500605</td>\n",
       "      <td>0.461672</td>\n",
       "      <td>0.814670</td>\n",
       "      <td>0.485294</td>\n",
       "      <td>0.660000</td>\n",
       "      <td>0.222222</td>\n",
       "      <td>19:27</td>\n",
       "    </tr>\n",
       "  </tbody>\n",
       "</table>"
      ],
      "text/plain": [
       "<IPython.core.display.HTML object>"
      ]
     },
     "metadata": {},
     "output_type": "display_data"
    },
    {
     "name": "stdout",
     "output_type": "stream",
     "text": [
      "Better model found at epoch 0 with auroc value: 0.8260985612869263.\n"
     ]
    }
   ],
   "source": [
    "learn.fit_one_cycle(5, slice(lr, lr/5), \n",
    "                    callbacks=[SaveModelCallback(learn, every='improvement', monitor='auroc', name='best-dn121-trial30-rd3')])"
   ]
  },
  {
   "cell_type": "markdown",
   "metadata": {},
   "source": [
    "# _Fourth Round with new data_"
   ]
  },
  {
   "cell_type": "code",
   "execution_count": 30,
   "metadata": {},
   "outputs": [],
   "source": [
    "# set seed to help with reproducibility\n",
    "sample.set_seed(22)"
   ]
  },
  {
   "cell_type": "code",
   "execution_count": 31,
   "metadata": {},
   "outputs": [
    {
     "name": "stdout",
     "output_type": "stream",
     "text": [
      "Created two new data sets, one with positive observations and the other with the negatives.\n",
      "The shape of dataframe containing 0 (negative) labels: (196414, 22)\n",
      "The shape of dataframe containing 1 (positive) labels: (27000, 22)\n",
      "------------------------------\n",
      "Random over-sampling: \n",
      "1    196414\n",
      "0    196414\n",
      "Name: Cardiomegaly, dtype: int64\n",
      "------------------------------\n",
      "Sampled from over-sampled dataframe.\n",
      "Value Counts for Cardiomegaly column in new dataframe: \n",
      "0    19786\n",
      "1    19497\n",
      "Name: Cardiomegaly, dtype: int64\n",
      "------------------------------\n",
      "Concatenated oversampled training data set with validation data.\n",
      "Returning full data set.\n"
     ]
    }
   ],
   "source": [
    "full_df_3 = sample.oversample_and_prep(train_df, valid_df, 0.1);"
   ]
  },
  {
   "cell_type": "code",
   "execution_count": 32,
   "metadata": {},
   "outputs": [
    {
     "data": {
      "text/html": [
       "<div>\n",
       "<style scoped>\n",
       "    .dataframe tbody tr th:only-of-type {\n",
       "        vertical-align: middle;\n",
       "    }\n",
       "\n",
       "    .dataframe tbody tr th {\n",
       "        vertical-align: top;\n",
       "    }\n",
       "\n",
       "    .dataframe thead th {\n",
       "        text-align: right;\n",
       "    }\n",
       "</style>\n",
       "<table border=\"1\" class=\"dataframe\">\n",
       "  <thead>\n",
       "    <tr style=\"text-align: right;\">\n",
       "      <th></th>\n",
       "      <th>Path</th>\n",
       "      <th>Sex</th>\n",
       "      <th>Age</th>\n",
       "      <th>Frontal/Lateral</th>\n",
       "      <th>AP/PA</th>\n",
       "      <th>No Finding</th>\n",
       "      <th>Enlarged Cardiomediastinum</th>\n",
       "      <th>Cardiomegaly</th>\n",
       "      <th>Lung Opacity</th>\n",
       "      <th>Lung Lesion</th>\n",
       "      <th>Edema</th>\n",
       "      <th>Consolidation</th>\n",
       "      <th>Pneumonia</th>\n",
       "      <th>Atelectasis</th>\n",
       "      <th>Pneumothorax</th>\n",
       "      <th>Pleural Effusion</th>\n",
       "      <th>Pleural Other</th>\n",
       "      <th>Fracture</th>\n",
       "      <th>Support Devices</th>\n",
       "      <th>valid</th>\n",
       "      <th>patient</th>\n",
       "      <th>study</th>\n",
       "    </tr>\n",
       "  </thead>\n",
       "  <tbody>\n",
       "    <tr>\n",
       "      <th>0</th>\n",
       "      <td>CheXpert-v1.0-small/train/patient14886/study6/...</td>\n",
       "      <td>Male</td>\n",
       "      <td>23</td>\n",
       "      <td>Frontal</td>\n",
       "      <td>AP</td>\n",
       "      <td>0</td>\n",
       "      <td>0</td>\n",
       "      <td>0</td>\n",
       "      <td>0</td>\n",
       "      <td>0</td>\n",
       "      <td>1</td>\n",
       "      <td>0</td>\n",
       "      <td>0</td>\n",
       "      <td>0</td>\n",
       "      <td>0</td>\n",
       "      <td>1</td>\n",
       "      <td>0</td>\n",
       "      <td>0</td>\n",
       "      <td>0</td>\n",
       "      <td>False</td>\n",
       "      <td>patient14886</td>\n",
       "      <td>study6</td>\n",
       "    </tr>\n",
       "    <tr>\n",
       "      <th>1</th>\n",
       "      <td>CheXpert-v1.0-small/train/patient04024/study3/...</td>\n",
       "      <td>Male</td>\n",
       "      <td>64</td>\n",
       "      <td>Frontal</td>\n",
       "      <td>AP</td>\n",
       "      <td>0</td>\n",
       "      <td>1</td>\n",
       "      <td>0</td>\n",
       "      <td>1</td>\n",
       "      <td>0</td>\n",
       "      <td>0</td>\n",
       "      <td>-1</td>\n",
       "      <td>0</td>\n",
       "      <td>-1</td>\n",
       "      <td>0</td>\n",
       "      <td>1</td>\n",
       "      <td>0</td>\n",
       "      <td>0</td>\n",
       "      <td>1</td>\n",
       "      <td>False</td>\n",
       "      <td>patient04024</td>\n",
       "      <td>study3</td>\n",
       "    </tr>\n",
       "    <tr>\n",
       "      <th>2</th>\n",
       "      <td>CheXpert-v1.0-small/train/patient28913/study7/...</td>\n",
       "      <td>Female</td>\n",
       "      <td>90</td>\n",
       "      <td>Frontal</td>\n",
       "      <td>AP</td>\n",
       "      <td>0</td>\n",
       "      <td>0</td>\n",
       "      <td>0</td>\n",
       "      <td>0</td>\n",
       "      <td>0</td>\n",
       "      <td>1</td>\n",
       "      <td>1</td>\n",
       "      <td>0</td>\n",
       "      <td>0</td>\n",
       "      <td>0</td>\n",
       "      <td>1</td>\n",
       "      <td>0</td>\n",
       "      <td>0</td>\n",
       "      <td>0</td>\n",
       "      <td>False</td>\n",
       "      <td>patient28913</td>\n",
       "      <td>study7</td>\n",
       "    </tr>\n",
       "    <tr>\n",
       "      <th>3</th>\n",
       "      <td>CheXpert-v1.0-small/train/patient05979/study1/...</td>\n",
       "      <td>Male</td>\n",
       "      <td>41</td>\n",
       "      <td>Lateral</td>\n",
       "      <td>NaN</td>\n",
       "      <td>0</td>\n",
       "      <td>1</td>\n",
       "      <td>1</td>\n",
       "      <td>0</td>\n",
       "      <td>1</td>\n",
       "      <td>0</td>\n",
       "      <td>0</td>\n",
       "      <td>-1</td>\n",
       "      <td>0</td>\n",
       "      <td>0</td>\n",
       "      <td>0</td>\n",
       "      <td>0</td>\n",
       "      <td>0</td>\n",
       "      <td>0</td>\n",
       "      <td>False</td>\n",
       "      <td>patient05979</td>\n",
       "      <td>study1</td>\n",
       "    </tr>\n",
       "    <tr>\n",
       "      <th>4</th>\n",
       "      <td>CheXpert-v1.0-small/train/patient26848/study16...</td>\n",
       "      <td>Female</td>\n",
       "      <td>60</td>\n",
       "      <td>Frontal</td>\n",
       "      <td>AP</td>\n",
       "      <td>0</td>\n",
       "      <td>0</td>\n",
       "      <td>0</td>\n",
       "      <td>1</td>\n",
       "      <td>0</td>\n",
       "      <td>1</td>\n",
       "      <td>0</td>\n",
       "      <td>0</td>\n",
       "      <td>0</td>\n",
       "      <td>0</td>\n",
       "      <td>0</td>\n",
       "      <td>0</td>\n",
       "      <td>0</td>\n",
       "      <td>1</td>\n",
       "      <td>False</td>\n",
       "      <td>patient26848</td>\n",
       "      <td>study16</td>\n",
       "    </tr>\n",
       "  </tbody>\n",
       "</table>\n",
       "</div>"
      ],
      "text/plain": [
       "                                                Path     Sex  Age  \\\n",
       "0  CheXpert-v1.0-small/train/patient14886/study6/...    Male   23   \n",
       "1  CheXpert-v1.0-small/train/patient04024/study3/...    Male   64   \n",
       "2  CheXpert-v1.0-small/train/patient28913/study7/...  Female   90   \n",
       "3  CheXpert-v1.0-small/train/patient05979/study1/...    Male   41   \n",
       "4  CheXpert-v1.0-small/train/patient26848/study16...  Female   60   \n",
       "\n",
       "  Frontal/Lateral AP/PA  No Finding  Enlarged Cardiomediastinum  Cardiomegaly  \\\n",
       "0         Frontal    AP           0                           0             0   \n",
       "1         Frontal    AP           0                           1             0   \n",
       "2         Frontal    AP           0                           0             0   \n",
       "3         Lateral   NaN           0                           1             1   \n",
       "4         Frontal    AP           0                           0             0   \n",
       "\n",
       "   Lung Opacity  Lung Lesion  Edema  Consolidation  Pneumonia  Atelectasis  \\\n",
       "0             0            0      1              0          0            0   \n",
       "1             1            0      0             -1          0           -1   \n",
       "2             0            0      1              1          0            0   \n",
       "3             0            1      0              0         -1            0   \n",
       "4             1            0      1              0          0            0   \n",
       "\n",
       "   Pneumothorax  Pleural Effusion  Pleural Other  Fracture  Support Devices  \\\n",
       "0             0                 1              0         0                0   \n",
       "1             0                 1              0         0                1   \n",
       "2             0                 1              0         0                0   \n",
       "3             0                 0              0         0                0   \n",
       "4             0                 0              0         0                1   \n",
       "\n",
       "   valid       patient    study  \n",
       "0  False  patient14886   study6  \n",
       "1  False  patient04024   study3  \n",
       "2  False  patient28913   study7  \n",
       "3  False  patient05979   study1  \n",
       "4  False  patient26848  study16  "
      ]
     },
     "execution_count": 32,
     "metadata": {},
     "output_type": "execute_result"
    }
   ],
   "source": [
    "full_df_3.head()"
   ]
  },
  {
   "cell_type": "code",
   "execution_count": 33,
   "metadata": {},
   "outputs": [],
   "source": [
    "src_3 = replicate.get_src(full_df_3, path, feature_col='Cardiomegaly')"
   ]
  },
  {
   "cell_type": "code",
   "execution_count": 34,
   "metadata": {},
   "outputs": [
    {
     "name": "stdout",
     "output_type": "stream",
     "text": [
      "using bs=16, have 6902MB of GPU RAM free.\n",
      "------------------------------\n",
      "Data ready.\n"
     ]
    }
   ],
   "source": [
    "data_3 = replicate.get_data(320, src_3, default_trans = False)"
   ]
  },
  {
   "cell_type": "code",
   "execution_count": 35,
   "metadata": {},
   "outputs": [
    {
     "data": {
      "text/plain": [
       "ImageDataBunch;\n",
       "\n",
       "Train: LabelList (39283 items)\n",
       "x: ImageList\n",
       "Image (3, 320, 320),Image (3, 320, 320),Image (3, 320, 320),Image (3, 320, 320),Image (3, 320, 320)\n",
       "y: CategoryList\n",
       "0,0,0,1,0\n",
       "Path: /home/jupyter/springboard-capstone-2/data;\n",
       "\n",
       "Valid: LabelList (234 items)\n",
       "x: ImageList\n",
       "Image (3, 320, 320),Image (3, 320, 320),Image (3, 320, 320),Image (3, 320, 320),Image (3, 320, 320)\n",
       "y: CategoryList\n",
       "1,0,0,0,0\n",
       "Path: /home/jupyter/springboard-capstone-2/data;\n",
       "\n",
       "Test: None"
      ]
     },
     "execution_count": 35,
     "metadata": {},
     "output_type": "execute_result"
    }
   ],
   "source": [
    "data_3"
   ]
  },
  {
   "cell_type": "code",
   "execution_count": 36,
   "metadata": {},
   "outputs": [],
   "source": [
    "learn.data = data_3"
   ]
  },
  {
   "cell_type": "code",
   "execution_count": 37,
   "metadata": {},
   "outputs": [],
   "source": [
    "learn.load('best-dn121-trial30-rd3');"
   ]
  },
  {
   "cell_type": "code",
   "execution_count": 38,
   "metadata": {},
   "outputs": [],
   "source": [
    "learn.freeze()"
   ]
  },
  {
   "cell_type": "code",
   "execution_count": 39,
   "metadata": {},
   "outputs": [
    {
     "data": {
      "text/html": [],
      "text/plain": [
       "<IPython.core.display.HTML object>"
      ]
     },
     "metadata": {},
     "output_type": "display_data"
    },
    {
     "name": "stdout",
     "output_type": "stream",
     "text": [
      "LR Finder is complete, type {learner_name}.recorder.plot() to see the graph.\n",
      "Min numerical gradient: 1.26E-07\n",
      "Min loss divided by 10: 2.51E-07\n"
     ]
    },
    {
     "data": {
      "image/png": "[encoded data removed]",
      "text/plain": [
       "<Figure size 432x288 with 1 Axes>"
      ]
     },
     "metadata": {
      "image/png": {
       "height": 266,
       "width": 389
      }
     },
     "output_type": "display_data"
    }
   ],
   "source": [
    "deeplearning.lr_finder_plot(learn);"
   ]
  },
  {
   "cell_type": "code",
   "execution_count": 41,
   "metadata": {},
   "outputs": [
    {
     "data": {
      "text/plain": [
       "3e-06"
      ]
     },
     "execution_count": 41,
     "metadata": {},
     "output_type": "execute_result"
    }
   ],
   "source": [
    "lr = 3e-6\n",
    "lr"
   ]
  },
  {
   "cell_type": "code",
   "execution_count": 42,
   "metadata": {},
   "outputs": [
    {
     "data": {
      "text/html": [
       "<table border=\"1\" class=\"dataframe\">\n",
       "  <thead>\n",
       "    <tr style=\"text-align: left;\">\n",
       "      <th>epoch</th>\n",
       "      <th>train_loss</th>\n",
       "      <th>valid_loss</th>\n",
       "      <th>auroc</th>\n",
       "      <th>recall</th>\n",
       "      <th>precision</th>\n",
       "      <th>error_rate</th>\n",
       "      <th>time</th>\n",
       "    </tr>\n",
       "  </thead>\n",
       "  <tbody>\n",
       "    <tr>\n",
       "      <td>0</td>\n",
       "      <td>0.482031</td>\n",
       "      <td>0.460714</td>\n",
       "      <td>0.821846</td>\n",
       "      <td>0.544118</td>\n",
       "      <td>0.637931</td>\n",
       "      <td>0.222222</td>\n",
       "      <td>14:24</td>\n",
       "    </tr>\n",
       "    <tr>\n",
       "      <td>1</td>\n",
       "      <td>0.499229</td>\n",
       "      <td>0.455657</td>\n",
       "      <td>0.825478</td>\n",
       "      <td>0.529412</td>\n",
       "      <td>0.679245</td>\n",
       "      <td>0.209402</td>\n",
       "      <td>14:19</td>\n",
       "    </tr>\n",
       "    <tr>\n",
       "      <td>2</td>\n",
       "      <td>0.498444</td>\n",
       "      <td>0.454231</td>\n",
       "      <td>0.828490</td>\n",
       "      <td>0.558824</td>\n",
       "      <td>0.644068</td>\n",
       "      <td>0.217949</td>\n",
       "      <td>14:19</td>\n",
       "    </tr>\n",
       "  </tbody>\n",
       "</table>"
      ],
      "text/plain": [
       "<IPython.core.display.HTML object>"
      ]
     },
     "metadata": {},
     "output_type": "display_data"
    },
    {
     "name": "stdout",
     "output_type": "stream",
     "text": [
      "Better model found at epoch 0 with auroc value: 0.8218462467193604.\n",
      "Better model found at epoch 1 with auroc value: 0.8254783749580383.\n",
      "Better model found at epoch 2 with auroc value: 0.8284904360771179.\n"
     ]
    }
   ],
   "source": [
    "learn.fit_one_cycle(3, slice(lr, lr/5), \n",
    "                    callbacks=[SaveModelCallback(learn, every='improvement', monitor='auroc', name='best-dn121-trial30-rd4')])"
   ]
  },
  {
   "cell_type": "markdown",
   "metadata": {},
   "source": [
    "# _Interpret the results_"
   ]
  },
  {
   "cell_type": "code",
   "execution_count": 43,
   "metadata": {},
   "outputs": [
    {
     "data": {
      "text/plain": [
       "True"
      ]
     },
     "execution_count": 43,
     "metadata": {},
     "output_type": "execute_result"
    }
   ],
   "source": [
    "interp = ClassificationInterpretation.from_learner(learn)\n",
    "\n",
    "losses,idxs = interp.top_losses()\n",
    "\n",
    "len(data.valid_ds)==len(losses)==len(idxs)"
   ]
  },
  {
   "cell_type": "code",
   "execution_count": 44,
   "metadata": {},
   "outputs": [
    {
     "data": {
      "image/png": "[encoded data removed]",
      "text/plain": [
       "<Figure size 576x576 with 1 Axes>"
      ]
     },
     "metadata": {
      "image/png": {
       "height": 584,
       "width": 569
      }
     },
     "output_type": "display_data"
    }
   ],
   "source": [
    "interp.plot_confusion_matrix(figsize=(8,8))"
   ]
  },
  {
   "cell_type": "code",
   "execution_count": 45,
   "metadata": {},
   "outputs": [
    {
     "data": {
      "text/plain": [
       "[(1, 0, 30), (0, 1, 21)]"
      ]
     },
     "execution_count": 45,
     "metadata": {},
     "output_type": "execute_result"
    }
   ],
   "source": [
    "interp.most_confused()"
   ]
  },
  {
   "cell_type": "markdown",
   "metadata": {},
   "source": [
    "# _Fifth Round of Training_"
   ]
  },
  {
   "cell_type": "code",
   "execution_count": 46,
   "metadata": {},
   "outputs": [],
   "source": [
    "learn.load('best-dn121-trial30-rd4');"
   ]
  },
  {
   "cell_type": "code",
   "execution_count": 47,
   "metadata": {},
   "outputs": [],
   "source": [
    "learn.unfreeze()"
   ]
  },
  {
   "cell_type": "code",
   "execution_count": 48,
   "metadata": {},
   "outputs": [
    {
     "data": {
      "text/html": [],
      "text/plain": [
       "<IPython.core.display.HTML object>"
      ]
     },
     "metadata": {},
     "output_type": "display_data"
    },
    {
     "name": "stdout",
     "output_type": "stream",
     "text": [
      "LR Finder is complete, type {learner_name}.recorder.plot() to see the graph.\n",
      "Min numerical gradient: 2.51E-07\n",
      "Min loss divided by 10: 2.00E-07\n"
     ]
    },
    {
     "data": {
      "image/png": "[encoded data removed]",
      "text/plain": [
       "<Figure size 432x288 with 1 Axes>"
      ]
     },
     "metadata": {
      "image/png": {
       "height": 266,
       "width": 396
      }
     },
     "output_type": "display_data"
    }
   ],
   "source": [
    "deeplearning.lr_finder_plot(learn);"
   ]
  },
  {
   "cell_type": "code",
   "execution_count": 49,
   "metadata": {},
   "outputs": [
    {
     "data": {
      "text/plain": [
       "2.511886431509581e-07"
      ]
     },
     "execution_count": 49,
     "metadata": {},
     "output_type": "execute_result"
    }
   ],
   "source": [
    "lr = learn.recorder.min_grad_lr\n",
    "lr"
   ]
  },
  {
   "cell_type": "code",
   "execution_count": 50,
   "metadata": {},
   "outputs": [
    {
     "data": {
      "text/html": [
       "<table border=\"1\" class=\"dataframe\">\n",
       "  <thead>\n",
       "    <tr style=\"text-align: left;\">\n",
       "      <th>epoch</th>\n",
       "      <th>train_loss</th>\n",
       "      <th>valid_loss</th>\n",
       "      <th>auroc</th>\n",
       "      <th>recall</th>\n",
       "      <th>precision</th>\n",
       "      <th>error_rate</th>\n",
       "      <th>time</th>\n",
       "    </tr>\n",
       "  </thead>\n",
       "  <tbody>\n",
       "    <tr>\n",
       "      <td>0</td>\n",
       "      <td>0.515831</td>\n",
       "      <td>0.468307</td>\n",
       "      <td>0.819454</td>\n",
       "      <td>0.485294</td>\n",
       "      <td>0.600000</td>\n",
       "      <td>0.243590</td>\n",
       "      <td>19:29</td>\n",
       "    </tr>\n",
       "    <tr>\n",
       "      <td>1</td>\n",
       "      <td>0.493614</td>\n",
       "      <td>0.457376</td>\n",
       "      <td>0.827693</td>\n",
       "      <td>0.470588</td>\n",
       "      <td>0.695652</td>\n",
       "      <td>0.213675</td>\n",
       "      <td>19:30</td>\n",
       "    </tr>\n",
       "    <tr>\n",
       "      <td>2</td>\n",
       "      <td>0.482237</td>\n",
       "      <td>0.451895</td>\n",
       "      <td>0.832920</td>\n",
       "      <td>0.441176</td>\n",
       "      <td>0.681818</td>\n",
       "      <td>0.222222</td>\n",
       "      <td>19:31</td>\n",
       "    </tr>\n",
       "  </tbody>\n",
       "</table>"
      ],
      "text/plain": [
       "<IPython.core.display.HTML object>"
      ]
     },
     "metadata": {},
     "output_type": "display_data"
    },
    {
     "name": "stdout",
     "output_type": "stream",
     "text": [
      "Better model found at epoch 0 with auroc value: 0.8194541931152344.\n",
      "Better model found at epoch 1 with auroc value: 0.8276931047439575.\n",
      "Better model found at epoch 2 with auroc value: 0.8329199552536011.\n"
     ]
    }
   ],
   "source": [
    "learn.fit_one_cycle(3, slice(lr, 3e-4), \n",
    "                    callbacks=[SaveModelCallback(learn, every='improvement', monitor='auroc', name='best-dn121-trial30-rd5')])"
   ]
  },
  {
   "cell_type": "code",
   "execution_count": null,
   "metadata": {},
   "outputs": [],
   "source": []
  }
 ],
 "metadata": {
  "kernelspec": {
   "display_name": "Python 3",
   "language": "python",
   "name": "python3"
  },
  "language_info": {
   "codemirror_mode": {
    "name": "ipython",
    "version": 3
   },
   "file_extension": ".py",
   "mimetype": "text/x-python",
   "name": "python",
   "nbconvert_exporter": "python",
   "pygments_lexer": "ipython3",
   "version": "3.7.3"
  }
 },
 "nbformat": 4,
 "nbformat_minor": 2
}
