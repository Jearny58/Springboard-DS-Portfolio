{
 "cells": [
  {
   "cell_type": "markdown",
   "metadata": {},
   "source": [
    "# What is the True Normal Human Body Temperature? \n",
    "\n",
    "#### Background\n",
    "\n",
    "The mean normal body temperature was held to be 37$^{\\circ}$C or 98.6$^{\\circ}$F for more than 120 years since it was first conceptualized and reported by Carl Wunderlich in a famous 1868 book. But, is this value statistically correct?"
   ]
  },
  {
   "cell_type": "markdown",
   "metadata": {},
   "source": [
    "<h3>Exercises</h3>\n",
    "\n",
    "<p>In this exercise, you will analyze a dataset of human body temperatures and employ the concepts of hypothesis testing, confidence intervals, and statistical significance.</p>\n",
    "\n",
    "<p>Answer the following questions <b>in this notebook below and submit to your Github account</b>.</p> \n",
    "\n",
    "<ol>\n",
    "<li>  Is the distribution of body temperatures normal? \n",
    "    <ul>\n",
    "    <li> Although this is not a requirement for the Central Limit Theorem to hold (read the introduction on Wikipedia's page about the CLT carefully: https://en.wikipedia.org/wiki/Central_limit_theorem), it gives us some peace of mind that the population may also be normally distributed if we assume that this sample is representative of the population.\n",
    "    <li> Think about the way you're going to check for the normality of the distribution. Graphical methods are usually used first, but there are also other ways: https://en.wikipedia.org/wiki/Normality_test\n",
    "    </ul>\n",
    "<li>  Is the sample size large? Are the observations independent?\n",
    "    <ul>\n",
    "    <li> Remember that this is a condition for the Central Limit Theorem, and hence the statistical tests we are using, to apply.\n",
    "    </ul>\n",
    "<li>  Is the true population mean really 98.6 degrees F?\n",
    "    <ul>\n",
    "    <li> First, try a bootstrap hypothesis test.\n",
    "    <li> Now, let's try frequentist statistical testing. Would you use a one-sample or two-sample test? Why?\n",
    "    <li> In this situation, is it appropriate to use the $t$ or $z$ statistic? \n",
    "    <li> Now try using the other test. How is the result be different? Why?\n",
    "    </ul>\n",
    "<li>  Draw a small sample of size 10 from the data and repeat both frequentist tests. \n",
    "    <ul>\n",
    "    <li> Which one is the correct one to use? \n",
    "    <li> What do you notice? What does this tell you about the difference in application of the $t$ and $z$ statistic?\n",
    "    </ul>\n",
    "<li>  At what temperature should we consider someone's temperature to be \"abnormal\"?\n",
    "    <ul>\n",
    "    <li> As in the previous example, try calculating everything using the boostrap approach, as well as the frequentist approach.\n",
    "    <li> Start by computing the margin of error and confidence interval. When calculating the confidence interval, keep in mind that you should use the appropriate formula for one draw, and not N draws.\n",
    "    </ul>\n",
    "<li>  Is there a significant difference between males and females in normal temperature?\n",
    "    <ul>\n",
    "    <li> What testing approach did you use and why?\n",
    "    <li> Write a story with your conclusion in the context of the original problem.\n",
    "    </ul>\n",
    "</ol>\n",
    "\n",
    "You can include written notes in notebook cells using Markdown: \n",
    "   - In the control panel at the top, choose Cell > Cell Type > Markdown\n",
    "   - Markdown syntax: http://nestacms.com/docs/creating-content/markdown-cheat-sheet\n",
    "\n",
    "#### Resources\n",
    "\n",
    "+ Information and data sources: http://www.amstat.org/publications/jse/datasets/normtemp.txt, http://www.amstat.org/publications/jse/jse_data_archive.htm\n",
    "+ Markdown syntax: http://nestacms.com/docs/creating-content/markdown-cheat-sheet\n",
    "\n",
    "****"
   ]
  },
  {
   "cell_type": "code",
   "execution_count": 1,
   "metadata": {},
   "outputs": [],
   "source": [
    "import pandas as pd\n",
    "\n",
    "df = pd.read_csv('data/human_body_temperature.csv')"
   ]
  },
  {
   "cell_type": "code",
   "execution_count": 2,
   "metadata": {},
   "outputs": [],
   "source": [
    "# Your work here."
   ]
  },
  {
   "cell_type": "markdown",
   "metadata": {},
   "source": [
    "### #1 Is the distribution of body temperatures normal?"
   ]
  },
  {
   "cell_type": "code",
   "execution_count": 3,
   "metadata": {},
   "outputs": [
    {
     "data": {
      "text/html": [
       "<div>\n",
       "<style scoped>\n",
       "    .dataframe tbody tr th:only-of-type {\n",
       "        vertical-align: middle;\n",
       "    }\n",
       "\n",
       "    .dataframe tbody tr th {\n",
       "        vertical-align: top;\n",
       "    }\n",
       "\n",
       "    .dataframe thead th {\n",
       "        text-align: right;\n",
       "    }\n",
       "</style>\n",
       "<table border=\"1\" class=\"dataframe\">\n",
       "  <thead>\n",
       "    <tr style=\"text-align: right;\">\n",
       "      <th></th>\n",
       "      <th>temperature</th>\n",
       "      <th>gender</th>\n",
       "      <th>heart_rate</th>\n",
       "    </tr>\n",
       "  </thead>\n",
       "  <tbody>\n",
       "    <tr>\n",
       "      <th>0</th>\n",
       "      <td>99.3</td>\n",
       "      <td>F</td>\n",
       "      <td>68.0</td>\n",
       "    </tr>\n",
       "    <tr>\n",
       "      <th>1</th>\n",
       "      <td>98.4</td>\n",
       "      <td>F</td>\n",
       "      <td>81.0</td>\n",
       "    </tr>\n",
       "    <tr>\n",
       "      <th>2</th>\n",
       "      <td>97.8</td>\n",
       "      <td>M</td>\n",
       "      <td>73.0</td>\n",
       "    </tr>\n",
       "    <tr>\n",
       "      <th>3</th>\n",
       "      <td>99.2</td>\n",
       "      <td>F</td>\n",
       "      <td>66.0</td>\n",
       "    </tr>\n",
       "    <tr>\n",
       "      <th>4</th>\n",
       "      <td>98.0</td>\n",
       "      <td>F</td>\n",
       "      <td>73.0</td>\n",
       "    </tr>\n",
       "  </tbody>\n",
       "</table>\n",
       "</div>"
      ],
      "text/plain": [
       "   temperature gender  heart_rate\n",
       "0         99.3      F        68.0\n",
       "1         98.4      F        81.0\n",
       "2         97.8      M        73.0\n",
       "3         99.2      F        66.0\n",
       "4         98.0      F        73.0"
      ]
     },
     "execution_count": 3,
     "metadata": {},
     "output_type": "execute_result"
    }
   ],
   "source": [
    "df.head(5)"
   ]
  },
  {
   "cell_type": "code",
   "execution_count": 4,
   "metadata": {},
   "outputs": [
    {
     "data": {
      "text/plain": [
       "<Figure size 640x480 with 1 Axes>"
      ]
     },
     "metadata": {},
     "output_type": "display_data"
    }
   ],
   "source": [
    "# import plotting modules\n",
    "import matplotlib.pyplot as plt\n",
    "import seaborn as sns\n",
    "\n",
    "# set default Seaborn style\n",
    "sns.set()\n",
    "\n",
    "# plot histogram of temperature\n",
    "_ = plt.hist(df['temperature'], edgecolor='black')\n",
    "\n",
    "plt.show()"
   ]
  },
  {
   "cell_type": "code",
   "execution_count": 5,
   "metadata": {},
   "outputs": [
    {
     "name": "stderr",
     "output_type": "stream",
     "text": [
      "/Users/joeai/miniconda3/lib/python3.6/site-packages/scipy/stats/stats.py:1713: FutureWarning: Using a non-tuple sequence for multidimensional indexing is deprecated; use `arr[tuple(seq)]` instead of `arr[seq]`. In the future this will be interpreted as an array index, `arr[np.array(seq)]`, which will result either in an error or a different result.\n",
      "  return np.add.reduce(sorted[indexer] * weights, axis=axis) / sumval\n"
     ]
    },
    {
     "data": {
      "text/plain": [
       "<matplotlib.axes._subplots.AxesSubplot at 0x1a1631ee48>"
      ]
     },
     "execution_count": 5,
     "metadata": {},
     "output_type": "execute_result"
    },
    {
     "data": {
      "image/png": "[encoded data removed]",
      "text/plain": [
       "<Figure size 432x288 with 1 Axes>"
      ]
     },
     "metadata": {
      "needs_background": "light"
     },
     "output_type": "display_data"
    }
   ],
   "source": [
    "# seaborn histogram\n",
    "sns.distplot(df['temperature'], hist=True, kde=True, \n",
    "             hist_kws={'edgecolor':'black'},\n",
    "            kde_kws={'linewidth': 4})"
   ]
  },
  {
   "cell_type": "markdown",
   "metadata": {},
   "source": [
    "From the first histogram, it looks approximately normal but I decided to further test it with the Seaborn histogram plot (see above). \n",
    "\n",
    "With this distplot, we are able to create a both a histogram and a density plot, which is a smoothed, continuous version of the histogram estimated from the data. From the shape, we are able to comfirm that the curve appears to be approximately normal. \n",
    "\n",
    "To take it one step further, we will use an Cumulative Disribution Function to assess the temperatures "
   ]
  },
  {
   "cell_type": "code",
   "execution_count": 6,
   "metadata": {},
   "outputs": [],
   "source": [
    "import numpy as np\n",
    "def ecdf(data):\n",
    "    \"\"\"Compute ECDF for a one-dimensional array of measurements.\"\"\"\n",
    "    # Number of data points: n\n",
    "    n = len(data)\n",
    "\n",
    "    # x-data for the ECDF: x\n",
    "    x = np.sort(data)\n",
    "\n",
    "    # y-data for the ECDF: y\n",
    "    y = np.arange(1, n + 1) / n\n",
    "\n",
    "    return x, y"
   ]
  },
  {
   "cell_type": "code",
   "execution_count": 7,
   "metadata": {},
   "outputs": [],
   "source": [
    "mean_temp = np.mean(df['temperature'])\n",
    "std_temp = np.std(df['temperature'])\n",
    "\n",
    "# Sample out of a normal distribution with mean and std\n",
    "temp_samples = np.random.normal(mean_temp, std_temp, 10000)"
   ]
  },
  {
   "cell_type": "code",
   "execution_count": 8,
   "metadata": {},
   "outputs": [
    {
     "data": {
      "image/png": "[encoded data removed]",
      "text/plain": [
       "<Figure size 432x288 with 1 Axes>"
      ]
     },
     "metadata": {
      "needs_background": "light"
     },
     "output_type": "display_data"
    }
   ],
   "source": [
    "x_theor, y_theor = ecdf(temp_samples)\n",
    "x, y = ecdf(df['temperature'])\n",
    "\n",
    "plt.plot(x_theor, y_theor, color='red')\n",
    "plt.plot(x, y, marker='.', linestyle='none')\n",
    "\n",
    "_ = plt.xlabel('Temperature')\n",
    "_ = plt.ylabel('ECDF')\n",
    "\n",
    "plt.show()"
   ]
  },
  {
   "cell_type": "markdown",
   "metadata": {},
   "source": [
    "So what did we just do? \n",
    "\n",
    "First, we took the mean and standard deviation of the temperature data and then created a theoretical distribution from 10,000 samples. \n",
    "\n",
    "Next, we plotted a theoretical CDF (cumulative distribution function) and an ECDF of the data. From the figure above, the data points fall in line nicely with the theoretical CDF, suggesting that temperature is indeed normally distributed.  "
   ]
  },
  {
   "cell_type": "markdown",
   "metadata": {},
   "source": [
    "## #2 Is the sample size large? Are the observations independent?"
   ]
  },
  {
   "cell_type": "code",
   "execution_count": 9,
   "metadata": {},
   "outputs": [
    {
     "data": {
      "text/plain": [
       "130"
      ]
     },
     "execution_count": 9,
     "metadata": {},
     "output_type": "execute_result"
    }
   ],
   "source": [
    "# call shape, which returns total number of rows and columns\n",
    "df.shape[0]"
   ]
  },
  {
   "cell_type": "markdown",
   "metadata": {},
   "source": [
    "There are 130 samples in this dataset.\n",
    "\n",
    "The Central Limit Theorem states the following:\n",
    "- the sample mean follows approximately the normal distribution with mean µ and standard deviation √σ/n, where µ and σ are the mean and standard deviation of the population from where the sample was selected.\n",
    "-  The sample size n has to be large (usually n ≥ 30) if the population from where the sample is taken is nonnormal. If the population follows the normal distribution then the sample size n can be either small or large.\n",
    "(http://www.stat.ucla.edu/~nchristo/introeconometrics/introecon_central_limit_theorem.pdf)\n",
    "\n",
    "Since our sample size is greater than 30, we can assume that the sample size is large enough. \n",
    "\n",
    "With the assumption that this data set was the result of a reasonably random selection process, and that 130 is less than 10% of the population, it can be said that the observations are independent of each other. "
   ]
  },
  {
   "cell_type": "markdown",
   "metadata": {},
   "source": [
    "## #3 Is the true population mean really 98.6 degrees F?"
   ]
  },
  {
   "cell_type": "code",
   "execution_count": 10,
   "metadata": {},
   "outputs": [],
   "source": [
    "# First, try a bootstrap hypothesis test"
   ]
  },
  {
   "cell_type": "markdown",
   "metadata": {},
   "source": [
    "#### Step 1: State null and alternative hypotheses\n",
    "- Null Hypothesis: The true mean temperature for the population is 98.6 degrees fahrenheit\n",
    "- Alternative Hypothesis: The true mean temperature for the population is LESS THAN 98.6 degrees fahrenheit"
   ]
  },
  {
   "cell_type": "markdown",
   "metadata": {},
   "source": [
    "#### Step 2: Set the significance level\n",
    "- alpha or α = 5% (0.05) \n",
    "- will be a 95% confidence interval"
   ]
  },
  {
   "cell_type": "markdown",
   "metadata": {},
   "source": [
    "#### Step 3: Choose test statistic\n",
    "- mean temperature"
   ]
  },
  {
   "cell_type": "code",
   "execution_count": 11,
   "metadata": {},
   "outputs": [
    {
     "name": "stdout",
     "output_type": "stream",
     "text": [
      "The mean temperature of the original sample is 98.24923076923078\n"
     ]
    }
   ],
   "source": [
    "# Step 4: Find the observed value of the test statistic (i.e. mean temperature from the original data)\n",
    "mean_temp = np.mean(df['temperature'])\n",
    "print('The mean temperature of the original sample is', mean_temp)"
   ]
  },
  {
   "cell_type": "markdown",
   "metadata": {},
   "source": [
    "#### The p-value\n",
    "\n",
    "- Now we need the p-value, but to do this we need to know the sampling distribution of our test statstic when the null hypothesis (i.e. the true mean temperature for the population is 98.6 degrees fahrenheit) is true. \n",
    "- From the previous questions, we know the distribution is approximately normal so the approach will be to perform a simulation under conditions in which we know the null hypothesis to be true\n",
    "- We'll use our data to represent the population, but first we need to shift it over so the mean is really 98.6 degrees Fahrenheit"
   ]
  },
  {
   "cell_type": "code",
   "execution_count": 12,
   "metadata": {},
   "outputs": [],
   "source": [
    "# translate the observed temperature to 98.6 degrees Fahrenheit \n",
    "translated_temp = df['temperature'] - np.mean(df['temperature']) + 98.60"
   ]
  },
  {
   "cell_type": "markdown",
   "metadata": {},
   "source": [
    "Now we're going to take 130 observations at random (because that's the size of the original sample). We calculate the mean of that random sample (which should be close to 98.6). We'll then save the mean and repeat this process 10,000 more times. \n",
    "\n",
    "After this, it'll give a good idea of what sort of sample averages we should expect when the true mean is 98.6."
   ]
  },
  {
   "cell_type": "code",
   "execution_count": 13,
   "metadata": {},
   "outputs": [],
   "source": [
    "# function to draw random sample, of size that is equal to the length of the data (which is 130 in this case)\n",
    "def bootstrap_replicate_1d(data, func):\n",
    "    return func(np.random.choice(data, size=len(data)))\n",
    "\n",
    "# function to store means of the bootstrap replicates, with default size of 1 (in our case this will be 130)\n",
    "def draw_bs_reps(data, func, size=1):\n",
    "    \"\"\"Draw bootstrap replicates.\"\"\"\n",
    "\n",
    "    # Initialize array of replicates: bs_replicates\n",
    "    bs_replicates = np.empty(size)\n",
    "\n",
    "    # Generate replicates\n",
    "    for i in range(size):\n",
    "        bs_replicates[i] = bootstrap_replicate_1d(data, func)\n",
    "\n",
    "    return bs_replicates"
   ]
  },
  {
   "cell_type": "code",
   "execution_count": 14,
   "metadata": {},
   "outputs": [
    {
     "data": {
      "text/plain": [
       "98.60071169230768"
      ]
     },
     "execution_count": 14,
     "metadata": {},
     "output_type": "execute_result"
    }
   ],
   "source": [
    "# store bootstrap replicates in variable bs_translate_replicates\n",
    "bs_translate_replicates = draw_bs_reps(translated_temp, np.mean, 10000)\n",
    "np.mean(bs_translate_replicates)"
   ]
  },
  {
   "cell_type": "code",
   "execution_count": 15,
   "metadata": {},
   "outputs": [
    {
     "data": {
      "image/png": "[encoded data removed]",
      "text/plain": [
       "<Figure size 432x288 with 1 Axes>"
      ]
     },
     "metadata": {
      "needs_background": "light"
     },
     "output_type": "display_data"
    }
   ],
   "source": [
    "# plot replicates to show that it's distribution is approximately normal\n",
    "_ = plt.hist(bs_translate_replicates, density=True, color='steelblue', edgecolor='black')\n",
    "_ = plt.xlabel('Mean Body Temp. (Fahrenheit)')\n",
    "_ = plt.ylabel('PDF')\n",
    "plt.show()"
   ]
  },
  {
   "cell_type": "markdown",
   "metadata": {},
   "source": [
    "As you can see, the histogram of the bootstrap replicates is approximately normal, the only difference being that it is shifted over so that it is centered at 98.6 instead of 98.24."
   ]
  },
  {
   "cell_type": "markdown",
   "metadata": {},
   "source": [
    "In this situation, is it appropriate to use the 𝑡 or 𝑧 statistic? \n",
    "Answer: The general rule of thumb for when to use a t-score is when your sample (1) has a sample size below 30 and (2) has an unknown population standard deviation. \n",
    "\n",
    "While our sample size is greater than 30, we unfortunately do not know the standard deviation of the population...\n",
    "\n",
    "<img src='t-z-score.png'>\n",
    "\n",
    "The above graph continues with that general rule of thumn, which in this case will lead us to use the t-score. Also, in real life it is more common to use the t-dsitribution because we usually don't know sigma.\n",
    "\n",
    "However...there is small caveat. Remember how our sample was greater than 30?\n",
    "\n",
    "\"When a sample has more than 30 observations, the normal distribution can be used in place of the t-distribution.\" (Meier et.al, p. 191)\n",
    "\n",
    "This is because if you have a larger sample (n >= 30) the t and z-distribution look pretty much the same, which is why they are virtually identical in this case and you'll get the same result. "
   ]
  },
  {
   "cell_type": "markdown",
   "metadata": {},
   "source": [
    "#### T-Score\n",
    "\n",
    "t = (X – μ) / [ s/√(n) ]\n",
    "\n",
    "- where s is the standard deviation of the sample\n",
    "\n",
    "In our case...\n",
    "- X ≈ 98.24 (mean from the original example)\n",
    "- μ = 98.6\n",
    "\n",
    "But we still need to determine the standard deviation of the (translated) sample"
   ]
  },
  {
   "cell_type": "code",
   "execution_count": 16,
   "metadata": {},
   "outputs": [
    {
     "name": "stdout",
     "output_type": "stream",
     "text": [
      "The standard deviation of the translated bootstrap replicates is 0.06477366879076231\n"
     ]
    }
   ],
   "source": [
    "std_translated_temperature = np.std(bs_translate_replicates)\n",
    "print('The standard deviation of the translated bootstrap replicates is', std_translated_temperature)"
   ]
  },
  {
   "cell_type": "code",
   "execution_count": 17,
   "metadata": {},
   "outputs": [
    {
     "name": "stdout",
     "output_type": "stream",
     "text": [
      "The t-value (or score) for the bootstrap sample is -61.869262366160996\n"
     ]
    }
   ],
   "source": [
    "bs_t_value = ((np.mean(df['temperature']) - np.mean(bs_translate_replicates)) / \n",
    "              (std_translated_temperature / np.sqrt(130)))\n",
    "print('The t-value (or score) for the bootstrap sample is', bs_t_value)"
   ]
  },
  {
   "cell_type": "markdown",
   "metadata": {},
   "source": [
    "From the t-score, things aren't looking too good. To confirm, we'll calculate the p-value and compare that to the significane level of 5% (i.e. 0.05). If the p-value is lower than the signficance level, than we can reject the null hypthesis that the true mean temperature is 98.6 degrees. "
   ]
  },
  {
   "cell_type": "code",
   "execution_count": 18,
   "metadata": {},
   "outputs": [
    {
     "name": "stdout",
     "output_type": "stream",
     "text": [
      "p =  0.0\n"
     ]
    }
   ],
   "source": [
    "# Compute fraction of replicates that are less than observered body temperature\n",
    "p = np.sum(bs_translate_replicates <= np.mean(df['temperature'])) / 10000\n",
    "print('p = ', p)"
   ]
  },
  {
   "cell_type": "markdown",
   "metadata": {},
   "source": [
    "As we can see our p-value is so low that it is essentially 0. Since 0 < 0.05 (i.e. our p-value < significance level) we can reject the null hypothesis that the mean temperature is 98.6 in favor of the alternative, which is that the mean temperature is less than 98.6. "
   ]
  },
  {
   "cell_type": "code",
   "execution_count": 19,
   "metadata": {},
   "outputs": [
    {
     "data": {
      "text/plain": [
       "98.4953846153846"
      ]
     },
     "execution_count": 19,
     "metadata": {},
     "output_type": "execute_result"
    }
   ],
   "source": [
    "# confidence interval of a statistic for lowerbound one-tail 95% CI\n",
    "ci_temp = np.percentile(bs_translate_replicates, 5.0)\n",
    "ci_temp"
   ]
  },
  {
   "cell_type": "code",
   "execution_count": 20,
   "metadata": {},
   "outputs": [
    {
     "data": {
      "text/plain": [
       "True"
      ]
     },
     "execution_count": 20,
     "metadata": {},
     "output_type": "execute_result"
    }
   ],
   "source": [
    "np.mean(df['temperature']) < ci_temp"
   ]
  },
  {
   "cell_type": "markdown",
   "metadata": {},
   "source": [
    "### Now, let's try frequentist statistical testing. Would you use a one-sample or two-sample test? Why?\n",
    "\n",
    "I'll begin by stating that a two-sample t-test is used when you want to compare two independent groups to see if their means are different. Since we have only one group of observations, the appropriate test to use is the one-sample t-test.\n",
    "\n",
    "Now what is a one-sample t-test?\n",
    "\n",
    "Glad you asked! By definition, it is a statistical procedure used to determine whether a sample of observations could have been generated by a process with a specific mean. (https://www.statisticssolutions.com/manova-analysis-one-sample-t-test/)\n",
    "\n",
    "An example would be to test whether an assembly line produces a TV that weighs 25 pounds.  To test this you would collect a random sample of TV's from the assembly line, record their weights, and then compare the sample to the value 25 using a one-sample t-test.\n",
    "\n",
    "In our case, we're focusing on body temperature. We've taken a sample with a size of 130 observations, and included in the data for each observation is a value for their body temperatures (among other biomarkers). The assumption here is that the 'normal' (i.e. mean) body temperature is 98.6. So our null hypothesis will be that the mean body temperature is equal to 98.6. \n",
    "\n",
    "Now our goal is to measure the assumed mean against the sample mean, and see if there is any difference in body temperature, regardless if it is higher or lower. This means we will be using a two-tailed hypothesis\n",
    "\n",
    "Below are the mathmatical representations of the null and alternative hypotheses:\n",
    "    - H0: μ = 98.6\n",
    "    - H1: μ ≠ 98.6 (two-tailed)\n",
    "\n",
    "We'll again set the significance level, or alpha, at α = 5% (0.05) \n",
    "\n",
    "Below is an example of a two-tailed hypothesis test with α = 5%:\n",
    "\n",
    "<img src='two-tailed-test.png'>\n",
    "\n",
    "Essentially, if the observed value is in either of the blue regions (i.e. 'critical region'), than we reject the null hypothesis. So let's get started! "
   ]
  },
  {
   "cell_type": "code",
   "execution_count": 21,
   "metadata": {},
   "outputs": [],
   "source": [
    "from scipy import stats\n",
    "%matplotlib inline"
   ]
  },
  {
   "cell_type": "code",
   "execution_count": 22,
   "metadata": {},
   "outputs": [],
   "source": [
    "one_sample_ttest_result = stats.ttest_1samp(df['temperature'], 98.6)"
   ]
  },
  {
   "cell_type": "code",
   "execution_count": 23,
   "metadata": {},
   "outputs": [
    {
     "name": "stdout",
     "output_type": "stream",
     "text": [
      "Our t-statistic is:  -5.4548232923645195 With a p-value of:  2.4106320415561276e-07\n"
     ]
    }
   ],
   "source": [
    "print('Our t-statistic is: ', one_sample_ttest_result[0], 'With a p-value of: ', one_sample_ttest_result[1])"
   ]
  },
  {
   "cell_type": "markdown",
   "metadata": {},
   "source": [
    "<img src='one-sample-example.gif'>"
   ]
  },
  {
   "cell_type": "markdown",
   "metadata": {},
   "source": [
    "For our specific example, our t-statistic is equal to approximately -5.45. Because we are conducting a two-tailed hypothesis test, we're testing to see if we get a value at least as extreme as this which means that given the null hypothesis that the mean is 98.6, how likely are we to get a value at least as far away as -5.45 or 5.45. \n",
    "\n",
    "As you can see above, anything past 1.97 (and -1.97) is in the critical region. Our t-statistic is out past the 5's which means that the likelihood of encountering a difference this large is virtually zero. Additionally, our p-value is equal to approximately 2.41e-07, or 0.000000241, which is WAY less than 0.05."
   ]
  },
  {
   "cell_type": "markdown",
   "metadata": {},
   "source": [
    "<img src='t-normal.png'>\n",
    "\n",
    "Above you can see the different t-distributions based on the number of samples. The reason that the t-distribution has fatter tails with the lower sample sizes is due to the increased liklihood of variance from the mean. \n",
    "\n",
    "Yet as the sample size increases to 30, the t-distribution gets closer and closer to the normal distritbution. In fact, for any sample size over 30 the t-distribution and normal distribution (t vs. z) is essentially the same and either can be used, it just depends on if you have the population standard deviation or not. "
   ]
  },
  {
   "cell_type": "markdown",
   "metadata": {},
   "source": [
    "# 4. Draw a small sample of size 10 from the data and repeat both frequentist tests."
   ]
  },
  {
   "cell_type": "code",
   "execution_count": 24,
   "metadata": {},
   "outputs": [
    {
     "data": {
      "text/plain": [
       "108    98.7\n",
       "105    96.7\n",
       "35     99.5\n",
       "124    97.5\n",
       "53     98.6\n",
       "69     98.9\n",
       "93     97.1\n",
       "46     97.4\n",
       "54     98.2\n",
       "121    97.9\n",
       "Name: temperature, dtype: float64"
      ]
     },
     "execution_count": 24,
     "metadata": {},
     "output_type": "execute_result"
    }
   ],
   "source": [
    "# draw a sample size of 10 from the data\n",
    "sample_10 = df['temperature'].sample(n=10, random_state=1)\n",
    "sample_10"
   ]
  },
  {
   "cell_type": "code",
   "execution_count": 25,
   "metadata": {},
   "outputs": [],
   "source": [
    "from scipy import stats\n",
    "%matplotlib inline"
   ]
  },
  {
   "cell_type": "code",
   "execution_count": 26,
   "metadata": {},
   "outputs": [
    {
     "data": {
      "text/plain": [
       "Ttest_1sampResult(statistic=-1.9658186252250536, pvalue=0.08088423631974037)"
      ]
     },
     "execution_count": 26,
     "metadata": {},
     "output_type": "execute_result"
    }
   ],
   "source": [
    "sample_10_ttest = stats.ttest_1samp(sample_10, 98.6)\n",
    "sample_10_ttest"
   ]
  },
  {
   "cell_type": "code",
   "execution_count": 27,
   "metadata": {},
   "outputs": [
    {
     "name": "stdout",
     "output_type": "stream",
     "text": [
      "Our t-statistic is:  -1.9658186252250536 With a p-value of:  0.08088423631974037\n"
     ]
    }
   ],
   "source": [
    "print('Our t-statistic is: ', sample_10_ttest[0], 'With a p-value of: ', sample_10_ttest[1])"
   ]
  },
  {
   "cell_type": "code",
   "execution_count": 28,
   "metadata": {},
   "outputs": [
    {
     "name": "stdout",
     "output_type": "stream",
     "text": [
      "Sample of n=10: Mean =  98.05 Standard Deviation =  0.8393449827097319\n"
     ]
    }
   ],
   "source": [
    "print('Sample of n=10: Mean = ', np.mean(sample_10), 'Standard Deviation = ', np.std(sample_10))"
   ]
  },
  {
   "cell_type": "markdown",
   "metadata": {},
   "source": [
    "As we can see, taking a sample of size n = 10 changes things quite a bit. The mean is actually below that of the original observations (which was 98.24). However, take a look at the standard deviation; it is significantly larger than that of the original observations (which was approximately 0.06). This means that the data covers a greater range (i.e. has a higher variance) of numbers. \n",
    "\n",
    "Based off of our original significance level of 0.05, we would not be able to reject the null hypothesis that the mean temperature is equal to 98.6 with this sample."
   ]
  },
  {
   "cell_type": "markdown",
   "metadata": {},
   "source": [
    "# 5. At what temperature should we consider someone's temperature to be \"abnormal\"?"
   ]
  },
  {
   "cell_type": "markdown",
   "metadata": {},
   "source": [
    "Since we've rejected the null hypothesis that the mean body temperature is 98.6, we'll move forward using the original data set (versus the translated data set that had a mean of 98.6). \n",
    "\n",
    "Just as a quick reminder, our original data set had an approximately normal distribution. What this means is that 95% of all the observations lie within 2 standard deviations of the mean. As a rule of thumb, 'unsual/abnormal values' are those that are more than 2 standard deviations away from the mean. So we'll look for the values that are greater that 2 standard deviations away from the mean (which is 98.24)."
   ]
  },
  {
   "cell_type": "code",
   "execution_count": 29,
   "metadata": {},
   "outputs": [
    {
     "data": {
      "image/png": "[encoded data removed]",
      "text/plain": [
       "<Figure size 432x288 with 1 Axes>"
      ]
     },
     "metadata": {
      "needs_background": "light"
     },
     "output_type": "display_data"
    }
   ],
   "source": [
    "np.random.seed(5)\n",
    "\n",
    "sample_size_5 = 130\n",
    "sample_5 = np.random.choice(a = df['temperature'], size = sample_size_5)\n",
    "sample_5_mean = sample_5.mean()\n",
    "\n",
    "# plot replicates to show that it's distribution is approximately normal\n",
    "_ = plt.hist(sample_5, density=True, color='steelblue', edgecolor='black')\n",
    "_ = plt.xlabel('Mean Body Temp. (Fahrenheit)')\n",
    "_ = plt.ylabel('PDF')\n",
    "plt.show()"
   ]
  },
  {
   "cell_type": "code",
   "execution_count": 30,
   "metadata": {},
   "outputs": [
    {
     "data": {
      "text/plain": [
       "98.35153846153847"
      ]
     },
     "execution_count": 30,
     "metadata": {},
     "output_type": "execute_result"
    }
   ],
   "source": [
    "sample_5_mean"
   ]
  },
  {
   "cell_type": "code",
   "execution_count": 31,
   "metadata": {},
   "outputs": [
    {
     "name": "stdout",
     "output_type": "stream",
     "text": [
      "z-critical value:  1.959963984540054\n"
     ]
    }
   ],
   "source": [
    "sample_5_z_critical = stats.norm.ppf(q = 0.975)\n",
    "print('z-critical value: ', sample_5_z_critical)"
   ]
  },
  {
   "cell_type": "code",
   "execution_count": 32,
   "metadata": {},
   "outputs": [],
   "source": [
    "sample_5_margin_of_error = sample_5_z_critical * (np.std(df['temperature']) / np.sqrt(sample_size_5))"
   ]
  },
  {
   "cell_type": "code",
   "execution_count": 33,
   "metadata": {},
   "outputs": [
    {
     "name": "stdout",
     "output_type": "stream",
     "text": [
      "The 95% confidence interval is  (98.22598980376434, 98.4770871193126)\n"
     ]
    }
   ],
   "source": [
    "confidence_interval = (sample_5_mean - sample_5_margin_of_error,\n",
    "                       sample_5_mean + sample_5_margin_of_error)\n",
    "\n",
    "print('The 95% confidence interval is ', confidence_interval)"
   ]
  },
  {
   "cell_type": "markdown",
   "metadata": {},
   "source": [
    "# 6. Is there a significant difference between males and females in normal temperature?"
   ]
  },
  {
   "cell_type": "code",
   "execution_count": 34,
   "metadata": {},
   "outputs": [],
   "source": [
    "female_df = df[df['gender'] == 'F']\n",
    "male_df = df[df['gender'] == 'M']"
   ]
  },
  {
   "cell_type": "code",
   "execution_count": 35,
   "metadata": {},
   "outputs": [
    {
     "name": "stdout",
     "output_type": "stream",
     "text": [
      "The mean female body temperature is  98.39384615384613\n",
      "The mean male body temperature is  98.1046153846154\n"
     ]
    }
   ],
   "source": [
    "print('The mean female body temperature is ', np.mean(female_df['temperature']))\n",
    "print('The mean male body temperature is ', np.mean(male_df['temperature']))"
   ]
  },
  {
   "cell_type": "code",
   "execution_count": 39,
   "metadata": {},
   "outputs": [],
   "source": [
    "from scipy import stats\n",
    "np.random.seed(1)"
   ]
  },
  {
   "cell_type": "markdown",
   "metadata": {},
   "source": [
    "### Quick Note: our significance level is 0.05\n",
    "\n",
    "- If p-value is less than our significane level (i.e. 0.05) than we can reject the null hypothesis that men and women have equal body temperatures. "
   ]
  },
  {
   "cell_type": "code",
   "execution_count": 41,
   "metadata": {},
   "outputs": [
    {
     "data": {
      "text/plain": [
       "Ttest_indResult(statistic=2.285434538165611, pvalue=0.023938264182934196)"
      ]
     },
     "execution_count": 41,
     "metadata": {},
     "output_type": "execute_result"
    }
   ],
   "source": [
    "stats.ttest_ind(female_df['temperature'], male_df['temperature'], equal_var = False)"
   ]
  },
  {
   "cell_type": "markdown",
   "metadata": {},
   "source": [
    "### What testing approach did you use and why? Write a story with your conclusion in the context of the original problem.\n",
    "The above function calculates the T-test for the means of two independent samples of scores. In other words, this is a two-sided test for the null hypothesis that 2 independent samples have identical average (expected) values. \n",
    "\n",
    "We can use this test if we observe two independent samples from the same or different population, which in this case is body temperature for men and women. The test measures whether the average (expected) value differs signficantly across samples. If we observe a large p-value, for example larger than 0.05, then we cannot reject the null hypothesis of identical average scores. If the p-value is smaller than the 0.05 threshold, then we reject the null hypothesis of equal averages. (*https://docs.scipy.org/doc/scipy/reference/generated/scipy.stats.ttest_ind.html)\n",
    "\n",
    "In our specific instance we get a p-value of ~0.0239. What does this mean? Since our 0.0239 < 0.05 (i.e. our significance level) than we can reject our null hypothesis that men and women have equal body temperatures in favor of the alternative hypothesis that men and women do not have equal average body temperatures. "
   ]
  }
 ],
 "metadata": {
  "kernelspec": {
   "display_name": "Python 3",
   "language": "python",
   "name": "python3"
  },
  "language_info": {
   "codemirror_mode": {
    "name": "ipython",
    "version": 3
   },
   "file_extension": ".py",
   "mimetype": "text/x-python",
   "name": "python",
   "nbconvert_exporter": "python",
   "pygments_lexer": "ipython3",
   "version": "3.6.7"
  }
 },
 "nbformat": 4,
 "nbformat_minor": 1
}
